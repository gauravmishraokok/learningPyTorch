{
 "cells": [
  {
   "cell_type": "markdown",
   "metadata": {},
   "source": [
    "# **Vision Transformer ->**"
   ]
  },
  {
   "cell_type": "markdown",
   "metadata": {},
   "source": [
    "![](https://raw.githubusercontent.com/uygarkurt/ViT-PyTorch/main/assets/arc.png)"
   ]
  },
  {
   "cell_type": "markdown",
   "metadata": {},
   "source": [
    "### **1. Defining the Config File / Hyperparameters ->** "
   ]
  },
  {
   "cell_type": "code",
   "execution_count": 2,
   "metadata": {},
   "outputs": [],
   "source": [
    "# %%writefile Modules/_01_config.py\n",
    "import torch\n",
    "LEARNING_RATE = 0.01\n",
    "BATCH_SIZE = 16\n",
    "EPOCHS = 5\n",
    "NUM_CLASSES = 26\n",
    "PATCH_SIZE = 4\n",
    "IMG_SIZE = 28\n",
    "IN_CHANNELS = 1\n",
    "NUM_HEADS = 4\n",
    "HIDDEN_DIMENSION = 128\n",
    "DROPOUT = 0.1\n",
    "ADAM_WEIGHT_DECAY = 0.01\n",
    "ADAM_BETAS = (0.9, 0.999)\n",
    "ACTIVATION = \"gelu\"\n",
    "NUM_ENCODERS = 2\n",
    "EMBED_DIM = (PATCH_SIZE**2)*IN_CHANNELS \n",
    "NUM_PATCHES = (IMG_SIZE//PATCH_SIZE)**2 \n",
    "\n",
    "device = \"cuda\" if torch.cuda.is_available() else \"cpu\"\n"
   ]
  },
  {
   "cell_type": "markdown",
   "metadata": {},
   "source": [
    "### **2. Patch Embedding ->** "
   ]
  },
  {
   "cell_type": "code",
   "execution_count": 3,
   "metadata": {},
   "outputs": [],
   "source": [
    "# %%writefile Modules/_02_patchEmbedding.py\n",
    "import torch\n",
    "import torch.nn as nn\n",
    "from Modules._01_config import * \n",
    "\n",
    "class PatchEmbedding(nn.Module):\n",
    "    \n",
    "    def __init__(self,\n",
    "                 in_channels:int = IN_CHANNELS,\n",
    "                 embed_dim:int = EMBED_DIM,\n",
    "                 patch_size:int = PATCH_SIZE,\n",
    "                 num_patches = NUM_PATCHES,\n",
    "                 dropout = DROPOUT):\n",
    "        super().__init__()\n",
    "        \n",
    "        self.patcher = nn.Sequential(\n",
    "            nn.Conv2d(in_channels=in_channels, out_channels=embed_dim, kernel_size=patch_size, stride=patch_size), \n",
    "            nn.Flatten(2)\n",
    "        ) #This moves over the image exactly the number of times patches are and in the shape of patches.\n",
    "        \n",
    "        self.cls_token = nn.Parameter(torch.randn(size=(1,in_channels,embed_dim)),requires_grad=True) #Shape -> [1,3,48]\n",
    "        \n",
    "        self.positional_embeddings = nn.Parameter(torch.randn(size=(1, num_patches+1, embed_dim)),requires_grad=True) #+1 for CLS Token\n",
    "        \n",
    "        self.dropout = nn.Dropout(p=dropout)\n",
    "        \n",
    "        \n",
    "        \n",
    "    def forward(self, x):\n",
    "        cls_token = self.cls_token.expand(x.shape[0],-1,-1) #Shape -> [1,3,48] -> [Input_shape,3,48]\n",
    "        \n",
    "        x= self.patcher(x).permute(0,2,1) #Shape Change -> [Input_shape,3,48] -> [Input_shape,48,3]\n",
    "        \n",
    "        x = torch.cat([cls_token, x], dim = 1) \n",
    "\n",
    "        x += self.positional_embeddings \n",
    "        \n",
    "        x=self.dropout(x)\n",
    "        \n",
    "        return x\n",
    "        \n"
   ]
  },
  {
   "cell_type": "markdown",
   "metadata": {},
   "source": [
    "### **2. ViT Implementation ->**"
   ]
  },
  {
   "cell_type": "code",
   "execution_count": 4,
   "metadata": {},
   "outputs": [],
   "source": [
    "# %%writefile Modules/_03_ViT.py\n",
    "import torch\n",
    "import torch.nn as nn\n",
    "from Modules._01_config import *\n",
    "from Modules._02_patchEmbedding import PatchEmbedding\n",
    "\n",
    "class ViT(nn.Module):\n",
    "    def __init__(self,\n",
    "                 num_classes=NUM_CLASSES,\n",
    "                 patch_size=PATCH_SIZE,\n",
    "                 num_patches=NUM_PATCHES,\n",
    "                 in_channels=IN_CHANNELS,\n",
    "                 embed_dim=EMBED_DIM,\n",
    "                 num_heads=NUM_HEADS,\n",
    "                 hidden_dim=HIDDEN_DIMENSION,\n",
    "                 num_encoders=NUM_ENCODERS,\n",
    "                 activation=ACTIVATION,\n",
    "                 dropout=DROPOUT):\n",
    "        \n",
    "        super().__init__()\n",
    "        \n",
    "        # Embedding Block\n",
    "        self.embedding_block = PatchEmbedding(in_channels=in_channels, embed_dim=embed_dim, patch_size=patch_size, num_patches=num_patches, dropout=dropout)\n",
    "        \n",
    "        # Encoder Layer and Encoder Block\n",
    "        self.encoder_layer = nn.TransformerEncoderLayer(d_model=embed_dim, nhead=num_heads, dropout=dropout, activation=activation, batch_first=True, norm_first=False)\n",
    "        self.encoder_blocks = nn.TransformerEncoder(encoder_layer=self.encoder_layer, num_layers=num_encoders, enable_nested_tensor=False)\n",
    "        \n",
    "        # MLP (Multi Layer Perceptron) Head\n",
    "        self.mlp_head = nn.Sequential(\n",
    "            nn.LayerNorm(normalized_shape=embed_dim),\n",
    "            nn.Linear(in_features=embed_dim, out_features=num_classes)\n",
    "        )\n",
    "\n",
    "    def forward(self, x):\n",
    "        x = self.embedding_block(x)\n",
    "        x = self.encoder_blocks(x)\n",
    "        x = self.mlp_head(x[:, 0, :])  # Taking the CLS Token only\n",
    "        \n",
    "        return x\n"
   ]
  },
  {
   "cell_type": "markdown",
   "metadata": {},
   "source": [
    "### **3. Dataset Preparation ->**"
   ]
  },
  {
   "cell_type": "markdown",
   "metadata": {},
   "source": [
    "Dataset -> A-Z Handwritten Digits"
   ]
  },
  {
   "cell_type": "code",
   "execution_count": 5,
   "metadata": {},
   "outputs": [],
   "source": [
    "# %%writefile Modules/_04_dataset.py\n",
    "import pandas as pd\n",
    "import numpy as np\n",
    "import matplotlib.pyplot as plt\n",
    "import torch\n",
    "from pathlib import Path\n",
    "from sklearn.model_selection import train_test_split\n",
    "from torch.utils.data import DataLoader, Dataset\n",
    "from torchvision import transforms\n",
    "from Modules._01_config import *\n",
    "\n",
    "# Define the path and read the data\n",
    "data_path = Path(\"data\")\n",
    "df = pd.read_csv(data_path / \"A_Z Handwritten Data.csv\").astype(\"float32\")\n",
    "\n",
    "# Extract features and labels\n",
    "X_values = df.iloc[:, 1:].values\n",
    "y_values = df.iloc[:, 0].values\n",
    "\n",
    "# Convert to appropriate numpy types\n",
    "X_values = X_values.astype(np.float32)\n",
    "y_values = y_values.astype(np.float32)\n",
    "\n",
    "# Convert to tensors\n",
    "X_tensor = torch.tensor(X_values, dtype=torch.float32)\n",
    "y_tensor = torch.tensor(y_values, dtype=torch.int64)\n",
    "\n",
    "# Define the transformation\n",
    "transformation = transforms.Compose([\n",
    "    transforms.ToPILImage(),  \n",
    "    transforms.Resize((28, 28)), \n",
    "    transforms.ToTensor(),\n",
    "    transforms.Normalize(mean=[0.5], std=[0.5])\n",
    "])\n",
    "\n",
    "# Custom dataset class\n",
    "class HandwrittenDataset(Dataset):\n",
    "    def __init__(self, images, labels, transform=None):\n",
    "        self.images = images\n",
    "        self.labels = labels\n",
    "        self.transform = transform\n",
    "\n",
    "    def __len__(self):\n",
    "        return len(self.images)\n",
    "\n",
    "    def __getitem__(self, idx):\n",
    "        image = self.images[idx]\n",
    "        label = self.labels[idx]\n",
    "\n",
    "        # Reshape image to (1, 28, 28) from (784,)\n",
    "        image = image.reshape(1, 28, 28)\n",
    "\n",
    "        if self.transform:\n",
    "            image = self.transform(image)\n",
    "\n",
    "        return image, label\n",
    "\n",
    "# Define class names\n",
    "class_names = ['A', 'B', 'C', 'D', 'E', 'F', 'G', 'H', 'I', 'J', 'K', 'L', 'M', 'N', 'O', 'P', 'Q', 'R', 'S', 'T', 'U', 'V', 'W', 'X', 'Y', 'Z'] \n",
    "\n",
    "# Split the data\n",
    "X_train, X_test, y_train, y_test = train_test_split(X_tensor, y_tensor, test_size=0.2, random_state=8888)\n",
    "\n",
    "# Create dataset objects\n",
    "train_dataset = HandwrittenDataset(X_train, y_train, transform=transformation)\n",
    "test_dataset = HandwrittenDataset(X_test, y_test, transform=transformation)\n",
    "\n",
    "BATCH_SIZE=16\n",
    "# Create dataloaders\n",
    "train_dataloader = DataLoader(dataset=train_dataset, batch_size=BATCH_SIZE, shuffle=True)\n",
    "test_dataloader = DataLoader(dataset=test_dataset, batch_size=BATCH_SIZE, shuffle=False)\n"
   ]
  },
  {
   "cell_type": "markdown",
   "metadata": {},
   "source": [
    "### **4. Model Training ->**"
   ]
  },
  {
   "cell_type": "code",
   "execution_count": 6,
   "metadata": {},
   "outputs": [
    {
     "name": "stdout",
     "output_type": "stream",
     "text": [
      "Intiailized model & Set Weights using Xavier Normal.\n"
     ]
    },
    {
     "name": "stderr",
     "output_type": "stream",
     "text": [
      "  0%|          | 0/18623 [00:00<?, ?it/s]c:\\Users\\gaura\\AppData\\Local\\Programs\\Python\\Python312\\Lib\\site-packages\\torch\\nn\\functional.py:5560: UserWarning: 1Torch was not compiled with flash attention. (Triggered internally at C:\\actions-runner\\_work\\pytorch\\pytorch\\builder\\windows\\pytorch\\aten\\src\\ATen\\native\\transformers\\cuda\\sdp_utils.cpp:555.)\n",
      "  attn_output = scaled_dot_product_attention(q, k, v, attn_mask, dropout_p, is_causal)\n",
      "100%|██████████| 18623/18623 [03:22<00:00, 91.87it/s] \n",
      "100%|██████████| 4656/4656 [00:23<00:00, 195.48it/s]\n"
     ]
    },
    {
     "name": "stdout",
     "output_type": "stream",
     "text": [
      "------------------------------\n",
      "Train Loss EPOCH 1: 2.9416\n",
      "Test  Loss EPOCH 1: 2.9361\n",
      "Train Accuracy EPOCH 1: 0.1507\n",
      "Test Accuracy EPOCH 1: 0.1576\n",
      "------------------------------\n"
     ]
    },
    {
     "name": "stderr",
     "output_type": "stream",
     "text": [
      "100%|██████████| 18623/18623 [03:21<00:00, 92.27it/s] \n",
      "100%|██████████| 4656/4656 [00:23<00:00, 195.71it/s]\n"
     ]
    },
    {
     "name": "stdout",
     "output_type": "stream",
     "text": [
      "------------------------------\n",
      "Train Loss EPOCH 2: 2.9410\n",
      "Test  Loss EPOCH 2: 2.9364\n",
      "Train Accuracy EPOCH 2: 0.1511\n"
     ]
    },
    {
     "name": "stderr",
     "output_type": "stream",
     "text": [
      " 40%|████      | 2/5 [07:34<11:21, 227.27s/it]"
     ]
    },
    {
     "name": "stdout",
     "output_type": "stream",
     "text": [
      "Test Accuracy EPOCH 2: 0.1576\n",
      "------------------------------\n"
     ]
    },
    {
     "name": "stderr",
     "output_type": "stream",
     "text": [
      "100%|██████████| 18623/18623 [03:24<00:00, 91.04it/s]\n",
      "100%|██████████| 4656/4656 [00:24<00:00, 188.63it/s]\n"
     ]
    },
    {
     "name": "stdout",
     "output_type": "stream",
     "text": [
      "------------------------------\n",
      "Train Loss EPOCH 3: 2.9408\n",
      "Test  Loss EPOCH 3: 2.9404\n",
      "Train Accuracy EPOCH 3: 0.1509\n",
      "Test Accuracy EPOCH 3: 0.1576\n",
      "------------------------------\n"
     ]
    },
    {
     "name": "stderr",
     "output_type": "stream",
     "text": [
      "100%|██████████| 18623/18623 [03:16<00:00, 95.01it/s] \n",
      "100%|██████████| 4656/4656 [00:24<00:00, 193.00it/s]\n"
     ]
    },
    {
     "name": "stdout",
     "output_type": "stream",
     "text": [
      "------------------------------\n",
      "Train Loss EPOCH 4: 2.9411\n",
      "Test  Loss EPOCH 4: 2.9404\n",
      "Train Accuracy EPOCH 4: 0.1510\n",
      "Test Accuracy EPOCH 4: 0.1576\n",
      "------------------------------\n"
     ]
    },
    {
     "name": "stderr",
     "output_type": "stream",
     "text": [
      "100%|██████████| 18623/18623 [03:18<00:00, 93.68it/s] \n",
      "100%|██████████| 4656/4656 [00:24<00:00, 187.31it/s]\n"
     ]
    },
    {
     "name": "stdout",
     "output_type": "stream",
     "text": [
      "------------------------------\n",
      "Train Loss EPOCH 5: 2.9415\n",
      "Test  Loss EPOCH 5: 2.9427\n"
     ]
    },
    {
     "name": "stderr",
     "output_type": "stream",
     "text": [
      "100%|██████████| 5/5 [18:51<00:00, 225.64s/it]"
     ]
    },
    {
     "name": "stdout",
     "output_type": "stream",
     "text": [
      "Train Accuracy EPOCH 5: 0.1508\n",
      "Test Accuracy EPOCH 5: 0.1576\n",
      "------------------------------\n"
     ]
    },
    {
     "name": "stderr",
     "output_type": "stream",
     "text": [
      "100%|██████████| 5/5 [18:51<00:00, 226.39s/it]\n"
     ]
    }
   ],
   "source": [
    "# %%writefile Modules/_05_training.py\n",
    "import os\n",
    "import torch\n",
    "import torch.nn as nn\n",
    "import tqdm\n",
    "from timeit import default_timer as timer\n",
    "from Modules._01_config import *\n",
    "from Modules._02_patchEmbedding import PatchEmbedding\n",
    "from Modules._03_ViT import ViT\n",
    "from Modules._04_dataset import train_dataloader, test_dataloader, class_names\n",
    "from torch.optim.lr_scheduler import StepLR\n",
    "from pathlib import Path\n",
    "\n",
    "model_folder = Path(\"weights\")\n",
    "model_folder.mkdir(parents=True, exist_ok=True)\n",
    "model_path = model_folder/f\"ViT_{EPOCHS}_epochs.pth\"\n",
    "\n",
    "if os.path.exists(model_path):\n",
    "    model = torch.load(model_path).to(device)\n",
    "    print(\"Loaded existing model.\")\n",
    "    \n",
    "else:\n",
    "    visionTransformerModel = ViT(num_classes=NUM_CLASSES, embed_dim=EMBED_DIM, num_heads=NUM_HEADS, num_encoders=NUM_ENCODERS, patch_size=PATCH_SIZE, num_patches=NUM_PATCHES, hidden_dim=HIDDEN_DIMENSION, dropout=DROPOUT).to(device=device)\n",
    "    \n",
    "    for p in visionTransformerModel.parameters():\n",
    "        if p.dim()>1:\n",
    "            p=nn.init.xavier_uniform_(p)\n",
    "\n",
    "    \n",
    "    print(\"Intiailized model & Set Weights using Xavier Normal.\")\n",
    "\n",
    "\n",
    "\n",
    "loss_fn = nn.CrossEntropyLoss()\n",
    "optimizer = torch.optim.Adam(visionTransformerModel.parameters(), lr=LEARNING_RATE, betas=ADAM_BETAS, weight_decay=ADAM_WEIGHT_DECAY)\n",
    "scheduler = StepLR(optimizer, step_size=20, gamma=0.1)\n",
    "\n",
    "\n",
    "\n",
    "startTime = timer()\n",
    "\n",
    "for epoch in tqdm.tqdm(range(EPOCHS), position=0, leave=True):\n",
    "    \n",
    "    visionTransformerModel.train()\n",
    "    train_labels = []\n",
    "    train_preds = []\n",
    "    \n",
    "    train_loss = 0\n",
    "    \n",
    "    for batch, (X, y) in enumerate(tqdm.tqdm(train_dataloader, position=0, leave=True)):\n",
    "        X = X.to(device)\n",
    "        y = y.to(device)\n",
    "        \n",
    "        y_pred = visionTransformerModel(X)\n",
    "        y_pred_label = y_pred.argmax(dim=1)\n",
    "        \n",
    "        train_labels.extend(y.cpu().detach())\n",
    "        train_preds.extend(y_pred_label.cpu().detach())\n",
    "        \n",
    "        loss = loss_fn(y_pred, y)\n",
    "        \n",
    "        optimizer.zero_grad()\n",
    "        loss.backward()\n",
    "        optimizer.step()\n",
    "        \n",
    "        train_loss += loss.item()\n",
    "    \n",
    "    train_loss = train_loss / len(train_dataloader)\n",
    "    \n",
    "    visionTransformerModel.eval()\n",
    "    val_labels = []\n",
    "    val_preds = []\n",
    "    \n",
    "    val_loss = 0\n",
    "    \n",
    "    with torch.inference_mode():\n",
    "        for batch, (X, y) in enumerate(tqdm.tqdm(test_dataloader, position=0, leave=True)):\n",
    "            X = X.to(device)\n",
    "            y = y.to(device)\n",
    "            \n",
    "            y_pred = visionTransformerModel(X)\n",
    "            y_pred_label = y_pred.argmax(dim=1)\n",
    "            \n",
    "            val_labels.extend(y.cpu().detach())\n",
    "            val_preds.extend(y_pred_label.cpu().detach())\n",
    "            \n",
    "            loss = loss_fn(y_pred, y)\n",
    "            \n",
    "            val_loss += loss.item()\n",
    "            \n",
    "        val_loss = val_loss / len(test_dataloader)\n",
    "    \n",
    "    print(\"-\"*30)\n",
    "    print(f\"Train Loss EPOCH {epoch+1}: {train_loss:.4f}\")\n",
    "    print(f\"Test  Loss EPOCH {epoch+1}: {val_loss:.4f}\")\n",
    "    print(f\"Train Accuracy EPOCH {epoch+1}: {sum(1 for x, y in zip(train_preds, train_labels) if x == y) / len(train_labels):.4f}\")\n",
    "    print(f\"Test Accuracy EPOCH {epoch+1}: {sum(1 for x, y in zip(val_preds, val_labels) if x == y) / len(val_labels):.4f}\")\n",
    "    print(\"-\"*30)\n",
    "    \n",
    "    scheduler.step()\n",
    "\n",
    "    # Save the model after each epoch\n",
    "    torch.save(visionTransformerModel, model_folder/f\"ViT_{epoch+1}_epochs.pth\")\n",
    "    \n",
    "\n"
   ]
  },
  {
   "cell_type": "markdown",
   "metadata": {},
   "source": [
    "Testing -> "
   ]
  },
  {
   "cell_type": "code",
   "execution_count": 7,
   "metadata": {},
   "outputs": [
    {
     "name": "stderr",
     "output_type": "stream",
     "text": [
      "C:\\Users\\gaura\\AppData\\Local\\Temp\\ipykernel_7880\\604394317.py:25: FutureWarning: You are using `torch.load` with `weights_only=False` (the current default value), which uses the default pickle module implicitly. It is possible to construct malicious pickle data which will execute arbitrary code during unpickling (See https://github.com/pytorch/pytorch/blob/main/SECURITY.md#untrusted-models for more details). In a future release, the default value for `weights_only` will be flipped to `True`. This limits the functions that could be executed during unpickling. Arbitrary objects will no longer be allowed to be loaded via this mode unless they are explicitly allowlisted by the user via `torch.serialization.add_safe_globals`. We recommend you start setting `weights_only=True` for any use case where you don't have full control of the loaded file. Please open an issue on GitHub for any issues related to this experimental feature.\n",
      "  model = torch.load(model_path)\n",
      "  0%|          | 0/4656 [00:00<?, ?it/s]"
     ]
    },
    {
     "name": "stderr",
     "output_type": "stream",
     "text": [
      "100%|██████████| 4656/4656 [00:26<00:00, 177.92it/s]\n"
     ]
    },
    {
     "data": {
      "text/plain": [
       "<Figure size 640x480 with 0 Axes>"
      ]
     },
     "metadata": {},
     "output_type": "display_data"
    },
    {
     "data": {
      "image/png": "[encoded data removed]",
      "text/plain": [
       "<Figure size 640x480 with 12 Axes>"
      ]
     },
     "metadata": {},
     "output_type": "display_data"
    }
   ],
   "source": [
    "# %%writefile Modules/_06_testing_and_plotting.py\n",
    "import torch\n",
    "import torch.nn as nn\n",
    "import tqdm as tqdm\n",
    "import matplotlib.pyplot as plt\n",
    "import pandas as pd\n",
    "import numpy as np\n",
    "from Modules._01_config import *\n",
    "from Modules._02_patchEmbedding import PatchEmbedding\n",
    "from Modules._03_ViT import ViT\n",
    "from Modules._04_dataset import train_dataloader, test_dataloader, class_names\n",
    "from pathlib import Path\n",
    "\n",
    "labels = []\n",
    "ids = []\n",
    "imgs = []\n",
    "\n",
    "# Load the trained model\n",
    "model_folder = Path(\"weights\")\n",
    "model_path = model_folder / f\"ViT_{EPOCHS-4}_epochs.pth\"\n",
    "\n",
    "if not model_path.exists():\n",
    "    raise FileNotFoundError(f\"Model file not found: {model_path}\")\n",
    "\n",
    "model = torch.load(model_path)\n",
    "model = model.to(device)\n",
    "\n",
    "model.eval()\n",
    "\n",
    "with torch.inference_mode():\n",
    "    for batch, (X,y) in enumerate(tqdm.tqdm(test_dataloader, position=0, leave=True)):\n",
    "        X=X.to(device)\n",
    "        y=y.to(device)\n",
    "\n",
    "        # ids.extend([int(i)+1 for i in y])\n",
    "        \n",
    "        y_pred_test = model(X)\n",
    "        y_pred_test_label = y_pred_test.argmax(dim=1)\n",
    "        \n",
    "        imgs.extend(X.detach().cpu())\n",
    "        labels.extend([int(i) for i in y_pred_test_label])\n",
    "plt.figure()\n",
    "f, axarr = plt.subplots(3, 4)\n",
    "counter = 0\n",
    "for i in range(3):\n",
    "    for j in range(4):\n",
    "        if counter < len(imgs):  # Check if the counter is within the range of available images\n",
    "\n",
    "            axarr[i][j].imshow(imgs[counter].squeeze(), cmap=\"gray\")  # Use imgs[counter] to access individual images\n",
    "            axarr[i][j].set_title(f\"Predicted : {class_names[labels[counter]]}\")\n",
    "            axarr[i][j].axis(\"off\")\n",
    "\n",
    "            counter += 1"
   ]
  },
  {
   "cell_type": "markdown",
   "metadata": {},
   "source": [
    "### **Model can be trained for more better performance.**"
   ]
  },
  {
   "cell_type": "code",
   "execution_count": null,
   "metadata": {},
   "outputs": [],
   "source": []
  }
 ],
 "metadata": {
  "kernelspec": {
   "display_name": "Python 3",
   "language": "python",
   "name": "python3"
  },
  "language_info": {
   "codemirror_mode": {
    "name": "ipython",
    "version": 3
   },
   "file_extension": ".py",
   "mimetype": "text/x-python",
   "name": "python",
   "nbconvert_exporter": "python",
   "pygments_lexer": "ipython3",
   "version": "3.12.5"
  }
 },
 "nbformat": 4,
 "nbformat_minor": 2
}
