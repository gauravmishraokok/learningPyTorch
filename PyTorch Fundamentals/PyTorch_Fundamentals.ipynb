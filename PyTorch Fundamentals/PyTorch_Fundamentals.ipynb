{
 "cells": [
  {
   "cell_type": "code",
   "execution_count": 225,
   "metadata": {},
   "outputs": [
    {
     "name": "stdout",
     "output_type": "stream",
     "text": [
      "All modules imported!\n"
     ]
    }
   ],
   "source": [
    "try:\n",
    "    import torch\n",
    "    import matplotlib.pyplot as plt\n",
    "    import numpy as np\n",
    "    import pandas\n",
    "    print(\"All modules imported!\")\n",
    "\n",
    "except:\n",
    "    print(\"Error in Importing :(\")"
   ]
  },
  {
   "cell_type": "markdown",
   "metadata": {},
   "source": [
    "Tensors Introduction -> "
   ]
  },
  {
   "cell_type": "code",
   "execution_count": 226,
   "metadata": {},
   "outputs": [
    {
     "name": "stdout",
     "output_type": "stream",
     "text": [
      "tensor(1000)\n",
      "0\n",
      "1000\n"
     ]
    }
   ],
   "source": [
    "scalar=torch.tensor(1000)\n",
    "print(scalar)\n",
    "print(scalar.ndim)\n",
    "print(scalar.item())"
   ]
  },
  {
   "cell_type": "code",
   "execution_count": 227,
   "metadata": {},
   "outputs": [
    {
     "name": "stdout",
     "output_type": "stream",
     "text": [
      "tensor([1000, 2000])\n",
      "1\n",
      "torch.Size([2])\n"
     ]
    }
   ],
   "source": [
    "vector = torch.tensor([1000,2000])\n",
    "print(vector)\n",
    "print(vector.ndim)\n",
    "print(vector.shape)\n"
   ]
  },
  {
   "cell_type": "code",
   "execution_count": 228,
   "metadata": {},
   "outputs": [
    {
     "name": "stdout",
     "output_type": "stream",
     "text": [
      "tensor([[1, 2, 3],\n",
      "        [4, 5, 6],\n",
      "        [7, 8, 9]])\n",
      "tensor(5)\n",
      "2\n",
      "torch.Size([3, 3])\n"
     ]
    }
   ],
   "source": [
    "MATRIX = torch.tensor([\n",
    "    [1,2,3],\n",
    "    [4,5,6],\n",
    "    [7,8,9]\n",
    "])\n",
    "print(MATRIX)\n",
    "print(MATRIX[1][1])\n",
    "print(MATRIX.ndim)\n",
    "print(MATRIX.shape)"
   ]
  },
  {
   "cell_type": "code",
   "execution_count": 229,
   "metadata": {},
   "outputs": [
    {
     "name": "stdout",
     "output_type": "stream",
     "text": [
      "tensor([[[ 1,  2,  3],\n",
      "         [ 2,  4,  6]],\n",
      "\n",
      "        [[ 7,  8,  9],\n",
      "         [10, 11, 12]]])\n",
      "3\n",
      "torch.Size([2, 2, 3])\n"
     ]
    }
   ],
   "source": [
    "TENSOR = torch.tensor([\n",
    "    [\n",
    "        [1,2,3],\n",
    "        [2,4,6]\n",
    "    ],\n",
    "    [\n",
    "        [7,8,9],\n",
    "        [10,11,12]\n",
    "    ]\n",
    "])\n",
    "print(TENSOR)\n",
    "print(TENSOR.ndim)\n",
    "print(TENSOR.shape)"
   ]
  },
  {
   "cell_type": "markdown",
   "metadata": {},
   "source": [
    "Random Tensors -> Most NN start with RT and then update their values(by Learning)"
   ]
  },
  {
   "cell_type": "code",
   "execution_count": 230,
   "metadata": {},
   "outputs": [
    {
     "name": "stdout",
     "output_type": "stream",
     "text": [
      "tensor([[[[0.8860, 0.5832, 0.3376, 0.8090, 0.5779],\n",
      "          [0.9040, 0.5547, 0.3423, 0.6343, 0.3644],\n",
      "          [0.7104, 0.9464, 0.7890, 0.2814, 0.7886],\n",
      "          [0.5895, 0.7539, 0.1952, 0.0050, 0.3068]],\n",
      "\n",
      "         [[0.1165, 0.9103, 0.6440, 0.7071, 0.6581],\n",
      "          [0.4913, 0.8913, 0.1447, 0.5315, 0.1587],\n",
      "          [0.6542, 0.3278, 0.6532, 0.3958, 0.9147],\n",
      "          [0.2036, 0.2018, 0.2018, 0.9497, 0.6666]],\n",
      "\n",
      "         [[0.9811, 0.0874, 0.0041, 0.1088, 0.1637],\n",
      "          [0.7025, 0.6790, 0.9155, 0.2418, 0.1591],\n",
      "          [0.7653, 0.2979, 0.8035, 0.3813, 0.7860],\n",
      "          [0.1115, 0.2477, 0.6524, 0.6057, 0.3725]]],\n",
      "\n",
      "\n",
      "        [[[0.7980, 0.8399, 0.1374, 0.2331, 0.9578],\n",
      "          [0.3313, 0.3227, 0.0162, 0.2137, 0.6249],\n",
      "          [0.4340, 0.1371, 0.5117, 0.1585, 0.0758],\n",
      "          [0.2247, 0.0624, 0.1816, 0.9998, 0.5944]],\n",
      "\n",
      "         [[0.6541, 0.0337, 0.1716, 0.3336, 0.5782],\n",
      "          [0.0600, 0.2846, 0.2007, 0.5014, 0.3139],\n",
      "          [0.4654, 0.1612, 0.1568, 0.2083, 0.3289],\n",
      "          [0.1054, 0.9192, 0.4008, 0.9302, 0.6558]],\n",
      "\n",
      "         [[0.0766, 0.8460, 0.3624, 0.3083, 0.0850],\n",
      "          [0.0029, 0.6431, 0.3908, 0.6947, 0.0897],\n",
      "          [0.8712, 0.1330, 0.4137, 0.6044, 0.7581],\n",
      "          [0.9037, 0.9555, 0.1035, 0.6258, 0.2849]]]])\n",
      "4\n",
      "torch.Size([2, 3, 4, 5])\n"
     ]
    }
   ],
   "source": [
    "t2=torch.rand(2,3,4,5)\n",
    "print(t2)\n",
    "print(t2.ndim)\n",
    "print(t2.shape)"
   ]
  },
  {
   "cell_type": "code",
   "execution_count": 231,
   "metadata": {},
   "outputs": [
    {
     "data": {
      "image/png": "[encoded data removed]",
      "text/plain": [
       "<Figure size 640x480 with 1 Axes>"
      ]
     },
     "metadata": {},
     "output_type": "display_data"
    },
    {
     "name": "stdout",
     "output_type": "stream",
     "text": [
      "[[[0.4452076  0.6114744  0.76097107]\n",
      "  [0.12575495 0.22336179 0.7627566 ]\n",
      "  [0.9554293  0.24693054 0.6869636 ]\n",
      "  [0.13302475 0.47612214 0.4121393 ]]\n",
      "\n",
      " [[0.7672256  0.77918065 0.36759937]\n",
      "  [0.6757198  0.3722331  0.55349046]\n",
      "  [0.66247797 0.21471256 0.41167295]\n",
      "  [0.2296769  0.32877856 0.35099947]]\n",
      "\n",
      " [[0.95447576 0.12646258 0.81960344]\n",
      "  [0.6098752  0.67831624 0.9296998 ]\n",
      "  [0.56432    0.8870201  0.45050132]\n",
      "  [0.0593726  0.02927983 0.38805157]]\n",
      "\n",
      " [[0.70989424 0.61612535 0.50729614]\n",
      "  [0.4249897  0.7582959  0.47014588]\n",
      "  [0.27093786 0.5906647  0.62020564]\n",
      "  [0.9294733  0.32193768 0.6401168 ]]]\n"
     ]
    }
   ],
   "source": [
    "#Random Image Tensor -> \n",
    "#256,256,3 -> H,W, Colour Channels -> RGB\n",
    "import torchvision\n",
    "t3=torch.rand(size=(3,4,4))\n",
    "t3=torchvision.utils.make_grid(t3)\n",
    "t3=t3.permute(1,2,0).numpy()\n",
    "plt.imshow(t3)\n",
    "plt.show()\n",
    "print(t3)"
   ]
  },
  {
   "cell_type": "code",
   "execution_count": 232,
   "metadata": {},
   "outputs": [
    {
     "name": "stdout",
     "output_type": "stream",
     "text": [
      "tensor([[0., 0.],\n",
      "        [0., 0.]])\n",
      "tensor([[1., 1., 1.],\n",
      "        [1., 1., 1.],\n",
      "        [1., 1., 1.]])\n",
      "torch.float32\n"
     ]
    }
   ],
   "source": [
    "#Tensor zeroes -> \n",
    "t4=torch.zeros(2,2)\n",
    "print(t4)\n",
    "\n",
    "#Tensor ones -> \n",
    "t5=torch.ones(3,3)\n",
    "print(t5)\n",
    "print(t5.dtype)\n"
   ]
  },
  {
   "cell_type": "markdown",
   "metadata": {},
   "source": [
    "Range of Tensors  &  Torch like"
   ]
  },
  {
   "cell_type": "code",
   "execution_count": 233,
   "metadata": {},
   "outputs": [
    {
     "name": "stdout",
     "output_type": "stream",
     "text": [
      "tensor([ 1,  2,  3,  4,  5,  6,  7,  8,  9, 10])\n",
      "tensor([  0,  25,  50,  75, 100])\n",
      "tensor([0, 0, 0, 0, 0])\n"
     ]
    }
   ],
   "source": [
    "t6=torch.arange(1,11)\n",
    "print(t6)\n",
    "t6=torch.arange(0,101,25)\n",
    "print(t6)\n",
    "\n",
    "t7=torch.zeros_like(t6)\n",
    "print(t7)"
   ]
  },
  {
   "cell_type": "code",
   "execution_count": 234,
   "metadata": {},
   "outputs": [
    {
     "name": "stdout",
     "output_type": "stream",
     "text": [
      "cpu\n",
      "cuda:0\n"
     ]
    }
   ],
   "source": [
    "#Some parameters for tensor creation\n",
    "t8 = torch.tensor([1,2,3],dtype=None,device=None,requires_grad=False)\n",
    "print(t8.device)\n",
    "t8 = torch.tensor([1,2,3],dtype=torch.float32,device=\"cuda\",requires_grad=False)\n",
    "print(t8.device)"
   ]
  },
  {
   "cell_type": "code",
   "execution_count": 235,
   "metadata": {},
   "outputs": [
    {
     "name": "stdout",
     "output_type": "stream",
     "text": [
      "tensor([1., 2., 3.], device='cuda:0')\n",
      "Shape of tensor: torch.Size([3])\n",
      "Datatype of tensor: torch.float32\n",
      "Device tensor is stored on: cuda:0\n"
     ]
    }
   ],
   "source": [
    "#Getting information from Tensors -> \n",
    "\n",
    "print(t8)\n",
    "print(f\"Shape of tensor: {t8.shape}\")\n",
    "print(f\"Datatype of tensor: {t8.dtype}\")\n",
    "print(f\"Device tensor is stored on: {t8.device}\") "
   ]
  },
  {
   "cell_type": "markdown",
   "metadata": {},
   "source": [
    "### Tensor Operations -> \n",
    "* Addition \n",
    "* Subtraction\n",
    "* Multiplication ( Element-wise )\n",
    "* Division \n",
    "* Matrix Multiplication\n"
   ]
  },
  {
   "cell_type": "code",
   "execution_count": 236,
   "metadata": {},
   "outputs": [
    {
     "name": "stdout",
     "output_type": "stream",
     "text": [
      "tensor([[1., 1., 1.],\n",
      "        [1., 1., 1.],\n",
      "        [1., 1., 1.]]) \n",
      "\n",
      "tensor([[0.0459, 0.3155, 0.9211],\n",
      "        [0.6948, 0.4751, 0.1985],\n",
      "        [0.1941, 0.0521, 0.3370]]) \n",
      "\n",
      "tensor([[1.0459, 1.3155, 1.9211],\n",
      "        [1.6948, 1.4751, 1.1985],\n",
      "        [1.1941, 1.0521, 1.3370]]) \n",
      "\n",
      "tensor([[0.9541, 0.6845, 0.0789],\n",
      "        [0.3052, 0.5249, 0.8015],\n",
      "        [0.8059, 0.9479, 0.6630]]) \n",
      "\n",
      "tensor([[0.0459, 0.3155, 0.9211],\n",
      "        [0.6948, 0.4751, 0.1985],\n",
      "        [0.1941, 0.0521, 0.3370]]) \n",
      "\n",
      "tensor([[21.8000,  3.1698,  1.0857],\n",
      "        [ 1.4393,  2.1047,  5.0366],\n",
      "        [ 5.1521, 19.1878,  2.9672]]) \n",
      "\n"
     ]
    }
   ],
   "source": [
    "t1=torch.ones(3,3)\n",
    "print(t1,\"\\n\")\n",
    "t2=torch.rand(3,3)\n",
    "print(t2,\"\\n\")\n",
    "print(t1+t2,\"\\n\")\n",
    "print(t1-t2,\"\\n\")\n",
    "print(t1*t2,\"\\n\")\n",
    "print(t1/t2,\"\\n\")"
   ]
  },
  {
   "cell_type": "code",
   "execution_count": 237,
   "metadata": {},
   "outputs": [
    {
     "data": {
      "text/plain": [
       "tensor([[11., 11., 11.],\n",
       "        [11., 11., 11.],\n",
       "        [11., 11., 11.]])"
      ]
     },
     "execution_count": 237,
     "metadata": {},
     "output_type": "execute_result"
    }
   ],
   "source": [
    "t1+10"
   ]
  },
  {
   "cell_type": "code",
   "execution_count": 238,
   "metadata": {},
   "outputs": [
    {
     "name": "stdout",
     "output_type": "stream",
     "text": [
      "tensor(55)\n"
     ]
    }
   ],
   "source": [
    "#Matrix Multiplication -> \n",
    "t1=torch.tensor([1,2,3,4,5])\n",
    "t2=torch.matmul(t1,t1)\n",
    "print(t2)"
   ]
  },
  {
   "cell_type": "code",
   "execution_count": 239,
   "metadata": {},
   "outputs": [
    {
     "name": "stdout",
     "output_type": "stream",
     "text": [
      "tensor([[55, 56],\n",
      "        [56, 58]])\n"
     ]
    }
   ],
   "source": [
    "#Most common error in Deep Learning -> Shape Errors\n",
    "\n",
    "\n",
    "t1=torch.tensor([[1,2,3,4,5],[2,2,3,4,5]])\n",
    "t2=torch.matmul(t1,t1.T)\n",
    "print(t2)"
   ]
  },
  {
   "cell_type": "markdown",
   "metadata": {},
   "source": [
    "##### Tensor Aggregation -> \n",
    "- Min \n",
    "- Max\n",
    "- Mean\n",
    "- Sum"
   ]
  },
  {
   "cell_type": "code",
   "execution_count": 240,
   "metadata": {},
   "outputs": [
    {
     "name": "stdout",
     "output_type": "stream",
     "text": [
      "tensor([100., 110., 120., 130., 140., 150., 160., 170., 180., 190., 200.])\n",
      "tensor(100.)\n",
      "tensor(0)\n",
      "tensor(10)\n",
      "tensor(200.)\n",
      "tensor(150.)\n",
      "tensor(1650.)\n"
     ]
    }
   ],
   "source": [
    "t1=torch.arange(100.,201,10)\n",
    "print(t1)\n",
    "print(t1.min())\n",
    "print(t1.argmin())\n",
    "print(t1.argmax())\n",
    "print(t1.max())\n",
    "print(t1.mean())\n",
    "print(t1.sum())\n",
    "\n"
   ]
  },
  {
   "cell_type": "markdown",
   "metadata": {},
   "source": [
    "##### Reshaping, Stacking, Squeezing and Unsqueezing\n",
    "- Reshape -> Change of Shape\n",
    "- View -> Returns a view of a tensor without changing it\n",
    "- Stacking -> Combine multiple tensors either vertically(*vstack*) or horizontally(*hstack*)\n",
    "- Squeezing -> Removes all `1` dimensions from the tensor\n",
    "- Unsqueezing -> Adds a `1` dimension to the tensor\n",
    "- Permute -> Returns view of a tensor's view permuted(*swapped*)"
   ]
  },
  {
   "cell_type": "code",
   "execution_count": 241,
   "metadata": {},
   "outputs": [
    {
     "name": "stdout",
     "output_type": "stream",
     "text": [
      "torch.Size([4, 3])\n",
      "tensor([[ 1,  2,  3,  4,  5,  6,  7,  8,  9, 10, 11, 12]])\n",
      "tensor([[ 1,  2,  3,  4,  5,  6],\n",
      "        [ 7,  8,  9, 10, 11, 12]])\n",
      "tensor([[ 1,  2,  3,  4],\n",
      "        [ 5,  6,  7,  8],\n",
      "        [ 9, 10, 11, 12]])\n",
      "tensor([[ 1,  2,  3],\n",
      "        [ 4,  5,  6],\n",
      "        [ 7,  8,  9],\n",
      "        [10, 11, 12]])\n",
      "tensor([[ 1,  2],\n",
      "        [ 3,  4],\n",
      "        [ 5,  6],\n",
      "        [ 7,  8],\n",
      "        [ 9, 10],\n",
      "        [11, 12]])\n",
      "tensor([[ 1],\n",
      "        [ 2],\n",
      "        [ 3],\n",
      "        [ 4],\n",
      "        [ 5],\n",
      "        [ 6],\n",
      "        [ 7],\n",
      "        [ 8],\n",
      "        [ 9],\n",
      "        [10],\n",
      "        [11],\n",
      "        [12]])\n"
     ]
    }
   ],
   "source": [
    "#Reshaping\n",
    "t1=torch.tensor([[1,2,3],[4,5,6],[7,8,9],[10,11,12]])\n",
    "print(t1.size())\n",
    "print(t1.reshape(1,12))\n",
    "print(t1.reshape(2,6))\n",
    "print(t1.reshape(3,4))\n",
    "print(t1.reshape(4,3))\n",
    "print(t1.reshape(6,2))\n",
    "print(t1.reshape(12,1))"
   ]
  },
  {
   "cell_type": "code",
   "execution_count": 242,
   "metadata": {},
   "outputs": [
    {
     "name": "stdout",
     "output_type": "stream",
     "text": [
      "tensor([[ 1,  2,  3],\n",
      "        [ 4,  5,  6],\n",
      "        [ 7,  8,  9],\n",
      "        [10, 11, 12]])\n",
      "tensor([[ 1,  2,  3,  4,  5,  6],\n",
      "        [ 7,  8,  9, 10, 11, 12]])\n",
      "\n",
      "\n",
      "tensor([[11, 12, 13],\n",
      "        [14, 15, 16],\n",
      "        [17, 18, 19],\n",
      "        [20, 21, 22]])\n",
      "tensor([[11, 12, 13, 14, 15, 16],\n",
      "        [17, 18, 19, 20, 21, 22]])\n"
     ]
    }
   ],
   "source": [
    "#Viewing\n",
    "t2=t1.view(2,6)\n",
    "print(t1)\n",
    "print(t2)\n",
    "t2+=10\n",
    "print(\"\\n\")\n",
    "print(t1)\n",
    "print(t2)"
   ]
  },
  {
   "cell_type": "code",
   "execution_count": 243,
   "metadata": {},
   "outputs": [
    {
     "name": "stdout",
     "output_type": "stream",
     "text": [
      "tensor([1, 2, 3, 4, 5]) \n",
      "\n",
      "tensor([[1, 2, 3, 4, 5],\n",
      "        [1, 2, 3, 4, 5],\n",
      "        [1, 2, 3, 4, 5],\n",
      "        [1, 2, 3, 4, 5]]) \n",
      "\n",
      "tensor([[1, 1, 1, 1],\n",
      "        [2, 2, 2, 2],\n",
      "        [3, 3, 3, 3],\n",
      "        [4, 4, 4, 4],\n",
      "        [5, 5, 5, 5]])\n"
     ]
    }
   ],
   "source": [
    "#Stacking\n",
    "t1=torch.arange(1,6)\n",
    "print(t1,\"\\n\")\n",
    "t2=torch.stack([t1,t1,t1,t1],dim=0) #vstack\n",
    "print(t2,\"\\n\")\n",
    "t2=torch.stack([t1,t1,t1,t1],dim=1) #hstack\n",
    "print(t2)"
   ]
  },
  {
   "cell_type": "code",
   "execution_count": 263,
   "metadata": {},
   "outputs": [
    {
     "name": "stdout",
     "output_type": "stream",
     "text": [
      "tensor([[[0.6542, 0.3278, 0.6532, 0.3958, 0.9147]]])\n",
      "torch.Size([1, 1, 5]) \n",
      "\n",
      "tensor([0.6542, 0.3278, 0.6532, 0.3958, 0.9147])\n",
      "torch.Size([5]) \n",
      "\n",
      "\n",
      "tensor([[0.6542, 0.3278, 0.6532, 0.3958, 0.9147]])\n",
      "torch.Size([1, 5])\n"
     ]
    }
   ],
   "source": [
    "#Squeeze, Unsqueeze\n",
    "t3=torch.rand(1,1,5)\n",
    "print(t3)\n",
    "print(t3.size(),\"\\n\")\n",
    "t3=torch.squeeze(t3)\n",
    "print(t3)\n",
    "print(t3.size(),\"\\n\\n\")\n",
    "\n",
    "t3=torch.unsqueeze(t3,dim=0)\n",
    "print(t3)\n",
    "print(t3.size())"
   ]
  },
  {
   "cell_type": "code",
   "execution_count": 264,
   "metadata": {},
   "outputs": [
    {
     "name": "stdout",
     "output_type": "stream",
     "text": [
      "torch.Size([2, 3, 4]) \n",
      "\n",
      "torch.Size([4, 2, 3])\n"
     ]
    }
   ],
   "source": [
    "#Permute\n",
    "t1=torch.randn(2,3,4)\n",
    "print(t1.size(),\"\\n\")\n",
    "\n",
    "t2=torch.permute(t1,(2,0,1))\n",
    "print(t2.size())"
   ]
  },
  {
   "cell_type": "code",
   "execution_count": 265,
   "metadata": {},
   "outputs": [
    {
     "name": "stdout",
     "output_type": "stream",
     "text": [
      "tensor([[[[ 1,  2,  3,  4,  5,  6,  7,  8,  9, 10, 11],\n",
      "          [12, 13, 14, 15, 16, 17, 18, 19, 20, 21, 22],\n",
      "          [23, 24, 25, 26, 27, 28, 29, 30, 31, 32, 33]],\n",
      "\n",
      "         [[34, 35, 36, 37, 38, 39, 40, 41, 42, 43, 44],\n",
      "          [45, 46, 47, 48, 49, 50, 51, 52, 53, 54, 55],\n",
      "          [56, 57, 58, 59, 60, 61, 62, 63, 64, 65, 66]],\n",
      "\n",
      "         [[67, 68, 69, 70, 71, 72, 73, 74, 75, 76, 77],\n",
      "          [78, 79, 80, 81, 82, 83, 84, 85, 86, 87, 88],\n",
      "          [89, 90, 91, 92, 93, 94, 95, 96, 97, 98, 99]]]]) \n",
      "\n",
      "\n",
      "tensor(63)\n",
      "\n",
      "\n",
      "tensor([[[ 1, 12, 23],\n",
      "         [34, 45, 56],\n",
      "         [67, 78, 89]]])\n"
     ]
    }
   ],
   "source": [
    "#Indexing -> Exactly same as python or numpy.\n",
    "t1=torch.arange(1,100).reshape(1,3,3,11)\n",
    "print(t1,\"\\n\\n\")\n",
    "#Printing 63 for example: \n",
    "print(t1[0][1][-1][-4])\n",
    "print(\"\\n\")\n",
    "print(t1[:,:,:,0])"
   ]
  },
  {
   "cell_type": "markdown",
   "metadata": {},
   "source": [
    "#### PyTorch and Numpy -> \n",
    "- Data in NumPy to PyTorch Tensor -> torch.from_numpy(ndarray)\n",
    "- PyTorch Tensor to Data in Numpy -> torch.tensor.numpy()"
   ]
  },
  {
   "cell_type": "code",
   "execution_count": 270,
   "metadata": {},
   "outputs": [
    {
     "data": {
      "text/plain": [
       "(array([1., 2., 3., 4., 5., 6., 7., 8., 9.]),\n",
       " tensor([1., 2., 3., 4., 5., 6., 7., 8., 9.], dtype=torch.float64))"
      ]
     },
     "execution_count": 270,
     "metadata": {},
     "output_type": "execute_result"
    }
   ],
   "source": [
    "#NumPy to Tensor\n",
    "numpyArr=np.arange(1.,10)\n",
    "convertedTensor = torch.from_numpy(numpyArr)\n",
    "numpyArr,convertedTensor\n",
    "#When converting from numpy, The datatype is default NumPy datatype,\n",
    "#i.e. float64. Thus some type conversion might be needed here.\n",
    "\n",
    "#Changes brought to numpyArr wouldnt be reflected in convertedTensor"
   ]
  },
  {
   "cell_type": "code",
   "execution_count": 273,
   "metadata": {},
   "outputs": [
    {
     "data": {
      "text/plain": [
       "(tensor([[1., 1.],\n",
       "         [1., 1.]]),\n",
       " array([[1., 1.],\n",
       "        [1., 1.]], dtype=float32))"
      ]
     },
     "execution_count": 273,
     "metadata": {},
     "output_type": "execute_result"
    }
   ],
   "source": [
    "#Tensor to NumPy \n",
    "ogTensor = torch.ones(2,2)\n",
    "convertedArr=ogTensor.numpy()\n",
    "ogTensor,convertedArr\n",
    "#Same datatype conversion concept here too.\n",
    "#Same change to original concept here too."
   ]
  },
  {
   "cell_type": "markdown",
   "metadata": {},
   "source": [
    "#### PyTorch Reproducibility -> \n",
    "* Taking the random out of the random\n",
    "\n",
    "` NN learn by taking initial random numbers -> Operations -> Updation -> O | U iteratively`\n",
    "The concept of ****Random Seed**** comes to \"reduce\" the randomness.\n",
    "\n",
    "This when used at different places where random is being used gives the same results."
   ]
  },
  {
   "cell_type": "code",
   "execution_count": 381,
   "metadata": {},
   "outputs": [
    {
     "name": "stdout",
     "output_type": "stream",
     "text": [
      "tensor([[0.4636, 0.4828, 0.1103, 0.8470],\n",
      "        [0.1160, 0.9668, 0.1558, 0.4315],\n",
      "        [0.5935, 0.2778, 0.9598, 0.1553]])\n",
      "tensor([[0.4723, 0.1329, 0.6388, 0.9263],\n",
      "        [0.9638, 0.5594, 0.2497, 0.9859],\n",
      "        [0.5373, 0.8383, 0.2403, 0.2680]])\n",
      "tensor([[False, False, False, False],\n",
      "        [False, False, False, False],\n",
      "        [False, False, False, False]])\n"
     ]
    }
   ],
   "source": [
    "t1=torch.rand(3,4)\n",
    "t2=torch.rand(3,4)\n",
    "print(t1)\n",
    "print(t2)\n",
    "print(t1==t2)\n",
    "#Random around 150 times, Never got true in even 1 entry."
   ]
  },
  {
   "cell_type": "code",
   "execution_count": 386,
   "metadata": {},
   "outputs": [
    {
     "name": "stdout",
     "output_type": "stream",
     "text": [
      "tensor([[0.8823, 0.9150, 0.3829, 0.9593],\n",
      "        [0.3904, 0.6009, 0.2566, 0.7936],\n",
      "        [0.9408, 0.1332, 0.9346, 0.5936]]) \n",
      " tensor([[0.8823, 0.9150, 0.3829, 0.9593],\n",
      "        [0.3904, 0.6009, 0.2566, 0.7936],\n",
      "        [0.9408, 0.1332, 0.9346, 0.5936]]) \n",
      " tensor([[True, True, True, True],\n",
      "        [True, True, True, True],\n",
      "        [True, True, True, True]])\n"
     ]
    }
   ],
   "source": [
    "#Setting up Manual Seed\n",
    "RANDOM_SEED=42\n",
    "torch.manual_seed(RANDOM_SEED)\n",
    "t1=torch.rand(3,4)\n",
    "torch.manual_seed(RANDOM_SEED)\n",
    "t2=torch.rand(3,4)\n",
    "print(t1,\"\\n\",t2,\"\\n\",t1==t2)\n"
   ]
  },
  {
   "cell_type": "markdown",
   "metadata": {},
   "source": [
    "#### Running Tensors and PyTorch objects on GPU →\n"
   ]
  },
  {
   "cell_type": "code",
   "execution_count": 387,
   "metadata": {},
   "outputs": [
    {
     "name": "stdout",
     "output_type": "stream",
     "text": [
      "Mon Aug 26 18:47:52 2024       \n",
      "+-----------------------------------------------------------------------------------------+\n",
      "| NVIDIA-SMI 551.61                 Driver Version: 551.61         CUDA Version: 12.4     |\n",
      "|-----------------------------------------+------------------------+----------------------+\n",
      "| GPU  Name                     TCC/WDDM  | Bus-Id          Disp.A | Volatile Uncorr. ECC |\n",
      "| Fan  Temp   Perf          Pwr:Usage/Cap |           Memory-Usage | GPU-Util  Compute M. |\n",
      "|                                         |                        |               MIG M. |\n",
      "|=========================================+========================+======================|\n",
      "|   0  NVIDIA GeForce RTX 3050 ...  WDDM  |   00000000:01:00.0  On |                  N/A |\n",
      "| N/A   57C    P8              4W /   90W |     967MiB /   4096MiB |     10%      Default |\n",
      "|                                         |                        |                  N/A |\n",
      "+-----------------------------------------+------------------------+----------------------+\n",
      "                                                                                         \n",
      "+-----------------------------------------------------------------------------------------+\n",
      "| Processes:                                                                              |\n",
      "|  GPU   GI   CI        PID   Type   Process name                              GPU Memory |\n",
      "|        ID   ID                                                               Usage      |\n",
      "|=========================================================================================|\n",
      "|    0   N/A  N/A      1008    C+G   ...siveControlPanel\\SystemSettings.exe      N/A      |\n",
      "|    0   N/A  N/A      2528    C+G   ...Programs\\Microsoft VS Code\\Code.exe      N/A      |\n",
      "|    0   N/A  N/A      3780    C+G   ...Brave-Browser\\Application\\brave.exe      N/A      |\n",
      "|    0   N/A  N/A      5776    C+G   C:\\Windows\\explorer.exe                     N/A      |\n",
      "|    0   N/A  N/A     10448    C+G   ...nt.CBS_cw5n1h2txyewy\\SearchHost.exe      N/A      |\n",
      "|    0   N/A  N/A     10476    C+G   ...CBS_cw5n1h2txyewy\\TextInputHost.exe      N/A      |\n",
      "|    0   N/A  N/A     10484    C+G   ...2txyewy\\StartMenuExperienceHost.exe      N/A      |\n",
      "|    0   N/A  N/A     11640    C+G   ...n\\127.0.2651.105\\msedgewebview2.exe      N/A      |\n",
      "|    0   N/A  N/A     13464    C+G   ...t.LockApp_cw5n1h2txyewy\\LockApp.exe      N/A      |\n",
      "|    0   N/A  N/A     13800    C+G   ...5n1h2txyewy\\ShellExperienceHost.exe      N/A      |\n",
      "|    0   N/A  N/A     16016    C+G   ...ta\\Local\\Programs\\Notion\\Notion.exe      N/A      |\n",
      "|    0   N/A  N/A     24180    C+G   ...US\\ArmouryDevice\\asus_framework.exe      N/A      |\n",
      "|    0   N/A  N/A     24592      C   ...rograms\\Python\\Python312\\python.exe      N/A      |\n",
      "|    0   N/A  N/A     25784    C+G   ...m\\radeonsoftware\\RadeonSoftware.exe      N/A      |\n",
      "+-----------------------------------------------------------------------------------------+\n"
     ]
    }
   ],
   "source": [
    "!nvidia-smi"
   ]
  },
  {
   "cell_type": "code",
   "execution_count": 388,
   "metadata": {},
   "outputs": [
    {
     "data": {
      "text/plain": [
       "True"
      ]
     },
     "execution_count": 388,
     "metadata": {},
     "output_type": "execute_result"
    }
   ],
   "source": [
    "torch.cuda.is_available()"
   ]
  },
  {
   "cell_type": "code",
   "execution_count": 389,
   "metadata": {},
   "outputs": [
    {
     "name": "stdout",
     "output_type": "stream",
     "text": [
      "cuda\n"
     ]
    }
   ],
   "source": [
    "device = \"cuda\" if torch.cuda.is_available() else \"cpu\"\n",
    "print(device)"
   ]
  },
  {
   "cell_type": "code",
   "execution_count": 391,
   "metadata": {},
   "outputs": [
    {
     "data": {
      "text/plain": [
       "1"
      ]
     },
     "execution_count": 391,
     "metadata": {},
     "output_type": "execute_result"
    }
   ],
   "source": [
    "torch.cuda.device_count()"
   ]
  },
  {
   "cell_type": "markdown",
   "metadata": {},
   "source": [
    "- Putting our Tensors and Models on GPU -> "
   ]
  },
  {
   "cell_type": "code",
   "execution_count": 392,
   "metadata": {},
   "outputs": [
    {
     "name": "stdout",
     "output_type": "stream",
     "text": [
      "cpu\n",
      "cuda:0\n"
     ]
    }
   ],
   "source": [
    "t1=torch.randn(3,3)\n",
    "print(t1.device)\n",
    "\n",
    "t2=t1.to(device)\n",
    "print(t2.device)"
   ]
  },
  {
   "cell_type": "code",
   "execution_count": 393,
   "metadata": {},
   "outputs": [
    {
     "name": "stdout",
     "output_type": "stream",
     "text": [
      "cpu\n"
     ]
    }
   ],
   "source": [
    "#Classic error -> \n",
    "#If a tensor is on GPU we can't do NumPy transformation.\n",
    "\n",
    "#Moving tensors back to CPU -> \n",
    "t3=t2.cpu()\n",
    "print(t3.device)"
   ]
  },
  {
   "cell_type": "markdown",
   "metadata": {},
   "source": [
    "# End of PyTorch Fundamentals."
   ]
  }
 ],
 "metadata": {
  "kernelspec": {
   "display_name": "Python 3",
   "language": "python",
   "name": "python3"
  },
  "language_info": {
   "codemirror_mode": {
    "name": "ipython",
    "version": 3
   },
   "file_extension": ".py",
   "mimetype": "text/x-python",
   "name": "python",
   "nbconvert_exporter": "python",
   "pygments_lexer": "ipython3",
   "version": "3.12.5"
  }
 },
 "nbformat": 4,
 "nbformat_minor": 2
}
