{
 "cells": [
  {
   "cell_type": "markdown",
   "metadata": {},
   "source": [
    "# PyTorch Fundamentals -> "
   ]
  },
  {
   "cell_type": "code",
   "execution_count": 2,
   "metadata": {},
   "outputs": [
    {
     "name": "stdout",
     "output_type": "stream",
     "text": [
      "All modules imported!\n"
     ]
    }
   ],
   "source": [
    "try:\n",
    "    import torch\n",
    "    import matplotlib.pyplot as plt\n",
    "    import numpy as np\n",
    "    import pandas\n",
    "    print(\"All modules imported!\")\n",
    "\n",
    "except:\n",
    "    print(\"Error in Importing :(\")"
   ]
  },
  {
   "cell_type": "markdown",
   "metadata": {},
   "source": [
    "#### Tensors Introduction -> "
   ]
  },
  {
   "cell_type": "code",
   "execution_count": 3,
   "metadata": {},
   "outputs": [
    {
     "name": "stdout",
     "output_type": "stream",
     "text": [
      "tensor(1000)\n",
      "0\n",
      "1000\n"
     ]
    }
   ],
   "source": [
    "scalar=torch.tensor(1000)\n",
    "print(scalar)\n",
    "print(scalar.ndim)\n",
    "print(scalar.item())"
   ]
  },
  {
   "cell_type": "code",
   "execution_count": 4,
   "metadata": {},
   "outputs": [
    {
     "name": "stdout",
     "output_type": "stream",
     "text": [
      "tensor([1000, 2000])\n",
      "1\n",
      "torch.Size([2])\n"
     ]
    }
   ],
   "source": [
    "vector = torch.tensor([1000,2000])\n",
    "print(vector)\n",
    "print(vector.ndim)\n",
    "print(vector.shape)\n"
   ]
  },
  {
   "cell_type": "code",
   "execution_count": 5,
   "metadata": {},
   "outputs": [
    {
     "name": "stdout",
     "output_type": "stream",
     "text": [
      "tensor([[1, 2, 3],\n",
      "        [4, 5, 6],\n",
      "        [7, 8, 9]])\n",
      "tensor(5)\n",
      "2\n",
      "torch.Size([3, 3])\n"
     ]
    }
   ],
   "source": [
    "MATRIX = torch.tensor([\n",
    "    [1,2,3],\n",
    "    [4,5,6],\n",
    "    [7,8,9]\n",
    "])\n",
    "print(MATRIX)\n",
    "print(MATRIX[1][1])\n",
    "print(MATRIX.ndim)\n",
    "print(MATRIX.shape)"
   ]
  },
  {
   "cell_type": "code",
   "execution_count": 6,
   "metadata": {},
   "outputs": [
    {
     "name": "stdout",
     "output_type": "stream",
     "text": [
      "tensor([[[ 1,  2,  3],\n",
      "         [ 2,  4,  6]],\n",
      "\n",
      "        [[ 7,  8,  9],\n",
      "         [10, 11, 12]]])\n",
      "3\n",
      "torch.Size([2, 2, 3])\n"
     ]
    }
   ],
   "source": [
    "TENSOR = torch.tensor([\n",
    "    [\n",
    "        [1,2,3],\n",
    "        [2,4,6]\n",
    "    ],\n",
    "    [\n",
    "        [7,8,9],\n",
    "        [10,11,12]\n",
    "    ]\n",
    "])\n",
    "print(TENSOR)\n",
    "print(TENSOR.ndim)\n",
    "print(TENSOR.shape)"
   ]
  },
  {
   "cell_type": "markdown",
   "metadata": {},
   "source": [
    "#### Random Tensors -> Most NN start with RT and then update their values(by Learning)"
   ]
  },
  {
   "cell_type": "code",
   "execution_count": 7,
   "metadata": {},
   "outputs": [
    {
     "name": "stdout",
     "output_type": "stream",
     "text": [
      "tensor([[[[0.4737, 0.8748, 0.9354, 0.8568, 0.6768],\n",
      "          [0.8128, 0.2678, 0.6984, 0.1247, 0.9350],\n",
      "          [0.7807, 0.3678, 0.6605, 0.3574, 0.5379],\n",
      "          [0.8614, 0.4428, 0.2454, 0.1243, 0.9648]],\n",
      "\n",
      "         [[0.6029, 0.7116, 0.1096, 0.2806, 0.1820],\n",
      "          [0.4426, 0.3570, 0.7796, 0.8094, 0.1512],\n",
      "          [0.4941, 0.3590, 0.9176, 0.6668, 0.7477],\n",
      "          [0.8526, 0.3325, 0.9638, 0.1258, 0.1260]],\n",
      "\n",
      "         [[0.4273, 0.4287, 0.0385, 0.6241, 0.5887],\n",
      "          [0.3181, 0.6030, 0.1607, 0.3911, 0.3640],\n",
      "          [0.1356, 0.1684, 0.2114, 0.0589, 0.3678],\n",
      "          [0.7806, 0.8669, 0.1609, 0.4902, 0.3434]]],\n",
      "\n",
      "\n",
      "        [[[0.8266, 0.2857, 0.5882, 0.6328, 0.4350],\n",
      "          [0.5436, 0.7131, 0.1004, 0.9051, 0.7628],\n",
      "          [0.7128, 0.8881, 0.5045, 0.6988, 0.8534],\n",
      "          [0.4476, 0.6820, 0.8915, 0.8904, 0.2367]],\n",
      "\n",
      "         [[0.2032, 0.5498, 0.6267, 0.6447, 0.2315],\n",
      "          [0.7675, 0.8979, 0.1545, 0.8518, 0.0110],\n",
      "          [0.7755, 0.9713, 0.0644, 0.1328, 0.7850],\n",
      "          [0.1101, 0.6237, 0.5937, 0.7605, 0.6611]],\n",
      "\n",
      "         [[0.1720, 0.0747, 0.8633, 0.2480, 0.8881],\n",
      "          [0.3069, 0.7251, 0.3055, 0.9114, 0.7649],\n",
      "          [0.1033, 0.7380, 0.1731, 0.1881, 0.2264],\n",
      "          [0.1710, 0.9813, 0.8709, 0.6508, 0.6441]]]])\n",
      "4\n",
      "torch.Size([2, 3, 4, 5])\n"
     ]
    }
   ],
   "source": [
    "t2=torch.rand(2,3,4,5)\n",
    "print(t2)\n",
    "print(t2.ndim)\n",
    "print(t2.shape)"
   ]
  },
  {
   "cell_type": "markdown",
   "metadata": {},
   "source": [
    "#### Visual Representation of torch.rand"
   ]
  },
  {
   "cell_type": "code",
   "execution_count": 34,
   "metadata": {},
   "outputs": [
    {
     "data": {
      "image/png": "[encoded data removed]",
      "text/plain": [
       "<Figure size 640x480 with 1 Axes>"
      ]
     },
     "metadata": {},
     "output_type": "display_data"
    },
    {
     "name": "stdout",
     "output_type": "stream",
     "text": [
      "[[[0.8860137  0.7539175  0.65320814]\n",
      "  [0.5832096  0.19524747 0.39582926]\n",
      "  [0.33764774 0.00504577 0.9146959 ]\n",
      "  [0.808975   0.30681974 0.20364904]]\n",
      "\n",
      " [[0.5779254  0.11648858 0.201801  ]\n",
      "  [0.9039817  0.91026944 0.201783  ]\n",
      "  [0.55465984 0.64401567 0.9497214 ]\n",
      "  [0.3423134  0.70710677 0.66662556]]\n",
      "\n",
      " [[0.63434184 0.6581306  0.98112535]\n",
      "  [0.36441028 0.491302   0.08736187]\n",
      "  [0.7104288  0.89130414 0.00406194]\n",
      "  [0.9464111  0.1447432  0.10881811]]\n",
      "\n",
      " [[0.7890298  0.53148186 0.16365546]\n",
      "  [0.28141373 0.15872991 0.7025201 ]\n",
      "  [0.78863233 0.654176   0.6790379 ]\n",
      "  [0.5894631  0.32780886 0.9154622 ]]]\n"
     ]
    }
   ],
   "source": [
    "#Random Image Tensor -> \n",
    "#256,256,3 -> H,W, Colour Channels -> RGB\n",
    "import torchvision\n",
    "t3=torch.rand(size=(3,4,4))\n",
    "t3=torchvision.utils.make_grid(t3)\n",
    "t3=t3.permute(1,2,0).numpy()\n",
    "plt.imshow(t3)\n",
    "plt.show()\n",
    "print(t3)"
   ]
  },
  {
   "cell_type": "code",
   "execution_count": 9,
   "metadata": {},
   "outputs": [
    {
     "name": "stdout",
     "output_type": "stream",
     "text": [
      "tensor([[0., 0.],\n",
      "        [0., 0.]])\n",
      "tensor([[1., 1., 1.],\n",
      "        [1., 1., 1.],\n",
      "        [1., 1., 1.]])\n",
      "torch.float32\n"
     ]
    }
   ],
   "source": [
    "#Tensor zeroes -> \n",
    "t4=torch.zeros(2,2)\n",
    "print(t4)\n",
    "\n",
    "#Tensor ones -> \n",
    "t5=torch.ones(3,3)\n",
    "print(t5)\n",
    "print(t5.dtype)\n"
   ]
  },
  {
   "cell_type": "markdown",
   "metadata": {},
   "source": [
    "#### Range of Tensors  &  Torch like"
   ]
  },
  {
   "cell_type": "code",
   "execution_count": 10,
   "metadata": {},
   "outputs": [
    {
     "name": "stdout",
     "output_type": "stream",
     "text": [
      "tensor([ 1,  2,  3,  4,  5,  6,  7,  8,  9, 10])\n",
      "tensor([  0,  25,  50,  75, 100])\n",
      "tensor([0, 0, 0, 0, 0])\n"
     ]
    }
   ],
   "source": [
    "t6=torch.arange(1,11)\n",
    "print(t6)\n",
    "t6=torch.arange(0,101,25)\n",
    "print(t6)\n",
    "\n",
    "t7=torch.zeros_like(t6)\n",
    "print(t7)"
   ]
  },
  {
   "cell_type": "code",
   "execution_count": 11,
   "metadata": {},
   "outputs": [
    {
     "name": "stdout",
     "output_type": "stream",
     "text": [
      "cpu\n",
      "cuda:0\n"
     ]
    }
   ],
   "source": [
    "#Some parameters for tensor creation\n",
    "t8 = torch.tensor([1,2,3],dtype=None,device=None,requires_grad=False)\n",
    "print(t8.device)\n",
    "t8 = torch.tensor([1,2,3],dtype=torch.float32,device=\"cuda\",requires_grad=False)\n",
    "print(t8.device)"
   ]
  },
  {
   "cell_type": "markdown",
   "metadata": {},
   "source": [
    "#### Information Extraction from Tensor Datatype ->"
   ]
  },
  {
   "cell_type": "code",
   "execution_count": 12,
   "metadata": {},
   "outputs": [
    {
     "name": "stdout",
     "output_type": "stream",
     "text": [
      "tensor([1., 2., 3.], device='cuda:0')\n",
      "Shape of tensor: torch.Size([3])\n",
      "Datatype of tensor: torch.float32\n",
      "Device tensor is stored on: cuda:0\n"
     ]
    }
   ],
   "source": [
    "#Getting information from Tensors -> \n",
    "\n",
    "print(t8)\n",
    "print(f\"Shape of tensor: {t8.shape}\")\n",
    "print(f\"Datatype of tensor: {t8.dtype}\")\n",
    "print(f\"Device tensor is stored on: {t8.device}\") "
   ]
  },
  {
   "cell_type": "markdown",
   "metadata": {},
   "source": [
    "### Tensor Operations -> \n",
    "* Addition \n",
    "* Subtraction\n",
    "* Multiplication ( Element-wise )\n",
    "* Division \n",
    "* Matrix Multiplication\n"
   ]
  },
  {
   "cell_type": "code",
   "execution_count": 13,
   "metadata": {},
   "outputs": [
    {
     "name": "stdout",
     "output_type": "stream",
     "text": [
      "tensor([[1., 1., 1.],\n",
      "        [1., 1., 1.],\n",
      "        [1., 1., 1.]]) \n",
      "\n",
      "tensor([[0.8792, 0.6483, 0.3386],\n",
      "        [0.4280, 0.6770, 0.4806],\n",
      "        [0.1694, 0.6212, 0.9727]]) \n",
      "\n",
      "tensor([[1.8792, 1.6483, 1.3386],\n",
      "        [1.4280, 1.6770, 1.4806],\n",
      "        [1.1694, 1.6212, 1.9727]]) \n",
      "\n",
      "tensor([[0.1208, 0.3517, 0.6614],\n",
      "        [0.5720, 0.3230, 0.5194],\n",
      "        [0.8306, 0.3788, 0.0273]]) \n",
      "\n",
      "tensor([[0.8792, 0.6483, 0.3386],\n",
      "        [0.4280, 0.6770, 0.4806],\n",
      "        [0.1694, 0.6212, 0.9727]]) \n",
      "\n",
      "tensor([[1.1374, 1.5424, 2.9530],\n",
      "        [2.3363, 1.4771, 2.0805],\n",
      "        [5.9018, 1.6098, 1.0281]]) \n",
      "\n"
     ]
    }
   ],
   "source": [
    "t1=torch.ones(3,3)\n",
    "print(t1,\"\\n\")\n",
    "t2=torch.rand(3,3)\n",
    "print(t2,\"\\n\")\n",
    "print(t1+t2,\"\\n\")\n",
    "print(t1-t2,\"\\n\")\n",
    "print(t1*t2,\"\\n\")\n",
    "print(t1/t2,\"\\n\")"
   ]
  },
  {
   "cell_type": "code",
   "execution_count": 14,
   "metadata": {},
   "outputs": [
    {
     "data": {
      "text/plain": [
       "tensor([[11., 11., 11.],\n",
       "        [11., 11., 11.],\n",
       "        [11., 11., 11.]])"
      ]
     },
     "execution_count": 14,
     "metadata": {},
     "output_type": "execute_result"
    }
   ],
   "source": [
    "t1+10"
   ]
  },
  {
   "cell_type": "code",
   "execution_count": 15,
   "metadata": {},
   "outputs": [
    {
     "name": "stdout",
     "output_type": "stream",
     "text": [
      "tensor(55)\n"
     ]
    }
   ],
   "source": [
    "#Matrix Multiplication -> \n",
    "t1=torch.tensor([1,2,3,4,5])\n",
    "t2=torch.matmul(t1,t1)\n",
    "print(t2)"
   ]
  },
  {
   "cell_type": "code",
   "execution_count": 16,
   "metadata": {},
   "outputs": [
    {
     "name": "stdout",
     "output_type": "stream",
     "text": [
      "tensor([[55, 56],\n",
      "        [56, 58]])\n"
     ]
    }
   ],
   "source": [
    "#Most common error in Deep Learning -> Shape Errors\n",
    "\n",
    "\n",
    "t1=torch.tensor([[1,2,3,4,5],[2,2,3,4,5]])\n",
    "t2=torch.matmul(t1,t1.T)\n",
    "print(t2)"
   ]
  },
  {
   "cell_type": "markdown",
   "metadata": {},
   "source": [
    "#### Tensor Aggregation -> \n",
    "- Min \n",
    "- Max\n",
    "- Mean\n",
    "- Sum"
   ]
  },
  {
   "cell_type": "code",
   "execution_count": 17,
   "metadata": {},
   "outputs": [
    {
     "name": "stdout",
     "output_type": "stream",
     "text": [
      "tensor([100., 110., 120., 130., 140., 150., 160., 170., 180., 190., 200.])\n",
      "tensor(100.)\n",
      "tensor(0)\n",
      "tensor(10)\n",
      "tensor(200.)\n",
      "tensor(150.)\n",
      "tensor(1650.)\n"
     ]
    }
   ],
   "source": [
    "t1=torch.arange(100.,201,10)\n",
    "print(t1)\n",
    "print(t1.min())\n",
    "print(t1.argmin())\n",
    "print(t1.argmax())\n",
    "print(t1.max())\n",
    "print(t1.mean())\n",
    "print(t1.sum())\n",
    "\n"
   ]
  },
  {
   "cell_type": "markdown",
   "metadata": {},
   "source": [
    "#### Reshaping, Stacking, Squeezing and Unsqueezing\n",
    "- Reshape -> Change of Shape\n",
    "- View -> Returns a view of a tensor without changing it\n",
    "- Stacking -> Combine multiple tensors either vertically(*vstack*) or horizontally(*hstack*)\n",
    "- Squeezing -> Removes all `1` dimensions from the tensor\n",
    "- Unsqueezing -> Adds a `1` dimension to the tensor\n",
    "- Permute -> Returns view of a tensor's view permuted(*swapped*)"
   ]
  },
  {
   "cell_type": "code",
   "execution_count": 18,
   "metadata": {},
   "outputs": [
    {
     "name": "stdout",
     "output_type": "stream",
     "text": [
      "torch.Size([4, 3])\n",
      "tensor([[ 1,  2,  3,  4,  5,  6,  7,  8,  9, 10, 11, 12]])\n",
      "tensor([[ 1,  2,  3,  4,  5,  6],\n",
      "        [ 7,  8,  9, 10, 11, 12]])\n",
      "tensor([[ 1,  2,  3,  4],\n",
      "        [ 5,  6,  7,  8],\n",
      "        [ 9, 10, 11, 12]])\n",
      "tensor([[ 1,  2,  3],\n",
      "        [ 4,  5,  6],\n",
      "        [ 7,  8,  9],\n",
      "        [10, 11, 12]])\n",
      "tensor([[ 1,  2],\n",
      "        [ 3,  4],\n",
      "        [ 5,  6],\n",
      "        [ 7,  8],\n",
      "        [ 9, 10],\n",
      "        [11, 12]])\n",
      "tensor([[ 1],\n",
      "        [ 2],\n",
      "        [ 3],\n",
      "        [ 4],\n",
      "        [ 5],\n",
      "        [ 6],\n",
      "        [ 7],\n",
      "        [ 8],\n",
      "        [ 9],\n",
      "        [10],\n",
      "        [11],\n",
      "        [12]])\n"
     ]
    }
   ],
   "source": [
    "#Reshaping\n",
    "t1=torch.tensor([[1,2,3],[4,5,6],[7,8,9],[10,11,12]])\n",
    "print(t1.size())\n",
    "print(t1.reshape(1,12))\n",
    "print(t1.reshape(2,6))\n",
    "print(t1.reshape(3,4))\n",
    "print(t1.reshape(4,3))\n",
    "print(t1.reshape(6,2))\n",
    "print(t1.reshape(12,1))"
   ]
  },
  {
   "cell_type": "code",
   "execution_count": 19,
   "metadata": {},
   "outputs": [
    {
     "name": "stdout",
     "output_type": "stream",
     "text": [
      "tensor([[ 1,  2,  3],\n",
      "        [ 4,  5,  6],\n",
      "        [ 7,  8,  9],\n",
      "        [10, 11, 12]])\n",
      "tensor([[ 1,  2,  3,  4,  5,  6],\n",
      "        [ 7,  8,  9, 10, 11, 12]])\n",
      "\n",
      "\n",
      "tensor([[11, 12, 13],\n",
      "        [14, 15, 16],\n",
      "        [17, 18, 19],\n",
      "        [20, 21, 22]])\n",
      "tensor([[11, 12, 13, 14, 15, 16],\n",
      "        [17, 18, 19, 20, 21, 22]])\n"
     ]
    }
   ],
   "source": [
    "#Viewing\n",
    "t2=t1.view(2,6)\n",
    "print(t1)\n",
    "print(t2)\n",
    "t2+=10\n",
    "print(\"\\n\")\n",
    "print(t1)\n",
    "print(t2)"
   ]
  },
  {
   "cell_type": "code",
   "execution_count": 20,
   "metadata": {},
   "outputs": [
    {
     "name": "stdout",
     "output_type": "stream",
     "text": [
      "tensor([1, 2, 3, 4, 5]) \n",
      "\n",
      "tensor([[1, 2, 3, 4, 5],\n",
      "        [1, 2, 3, 4, 5],\n",
      "        [1, 2, 3, 4, 5],\n",
      "        [1, 2, 3, 4, 5]]) \n",
      "\n",
      "tensor([[1, 1, 1, 1],\n",
      "        [2, 2, 2, 2],\n",
      "        [3, 3, 3, 3],\n",
      "        [4, 4, 4, 4],\n",
      "        [5, 5, 5, 5]])\n"
     ]
    }
   ],
   "source": [
    "#Stacking\n",
    "t1=torch.arange(1,6)\n",
    "print(t1,\"\\n\")\n",
    "t2=torch.stack([t1,t1,t1,t1],dim=0) #vstack\n",
    "print(t2,\"\\n\")\n",
    "t2=torch.stack([t1,t1,t1,t1],dim=1) #hstack\n",
    "print(t2)"
   ]
  },
  {
   "cell_type": "code",
   "execution_count": 21,
   "metadata": {},
   "outputs": [
    {
     "name": "stdout",
     "output_type": "stream",
     "text": [
      "tensor([[[0.0245, 0.0341, 0.1060, 0.9849, 0.0937]]])\n",
      "torch.Size([1, 1, 5]) \n",
      "\n",
      "tensor([0.0245, 0.0341, 0.1060, 0.9849, 0.0937])\n",
      "torch.Size([5]) \n",
      "\n",
      "\n",
      "tensor([[0.0245, 0.0341, 0.1060, 0.9849, 0.0937]])\n",
      "torch.Size([1, 5])\n"
     ]
    }
   ],
   "source": [
    "#Squeeze, Unsqueeze\n",
    "t3=torch.rand(1,1,5)\n",
    "print(t3)\n",
    "print(t3.size(),\"\\n\")\n",
    "t3=torch.squeeze(t3)\n",
    "print(t3)\n",
    "print(t3.size(),\"\\n\\n\")\n",
    "\n",
    "t3=torch.unsqueeze(t3,dim=0)\n",
    "print(t3)\n",
    "print(t3.size())"
   ]
  },
  {
   "cell_type": "code",
   "execution_count": 22,
   "metadata": {},
   "outputs": [
    {
     "name": "stdout",
     "output_type": "stream",
     "text": [
      "torch.Size([2, 3, 4]) \n",
      "\n",
      "torch.Size([4, 2, 3])\n"
     ]
    }
   ],
   "source": [
    "#Permute\n",
    "t1=torch.randn(2,3,4)\n",
    "print(t1.size(),\"\\n\")\n",
    "\n",
    "t2=torch.permute(t1,(2,0,1))\n",
    "print(t2.size())"
   ]
  },
  {
   "cell_type": "code",
   "execution_count": 23,
   "metadata": {},
   "outputs": [
    {
     "name": "stdout",
     "output_type": "stream",
     "text": [
      "tensor([[[[ 1,  2,  3,  4,  5,  6,  7,  8,  9, 10, 11],\n",
      "          [12, 13, 14, 15, 16, 17, 18, 19, 20, 21, 22],\n",
      "          [23, 24, 25, 26, 27, 28, 29, 30, 31, 32, 33]],\n",
      "\n",
      "         [[34, 35, 36, 37, 38, 39, 40, 41, 42, 43, 44],\n",
      "          [45, 46, 47, 48, 49, 50, 51, 52, 53, 54, 55],\n",
      "          [56, 57, 58, 59, 60, 61, 62, 63, 64, 65, 66]],\n",
      "\n",
      "         [[67, 68, 69, 70, 71, 72, 73, 74, 75, 76, 77],\n",
      "          [78, 79, 80, 81, 82, 83, 84, 85, 86, 87, 88],\n",
      "          [89, 90, 91, 92, 93, 94, 95, 96, 97, 98, 99]]]]) \n",
      "\n",
      "\n",
      "tensor(63)\n",
      "\n",
      "\n",
      "tensor([[[ 1, 12, 23],\n",
      "         [34, 45, 56],\n",
      "         [67, 78, 89]]])\n"
     ]
    }
   ],
   "source": [
    "#Indexing -> Exactly same as python or numpy.\n",
    "t1=torch.arange(1,100).reshape(1,3,3,11)\n",
    "print(t1,\"\\n\\n\")\n",
    "#Printing 63 for example: \n",
    "print(t1[0][1][-1][-4])\n",
    "print(\"\\n\")\n",
    "print(t1[:,:,:,0])"
   ]
  },
  {
   "cell_type": "markdown",
   "metadata": {},
   "source": [
    "#### PyTorch and Numpy -> \n",
    "- Data in NumPy to PyTorch Tensor -> torch.from_numpy(ndarray)\n",
    "- PyTorch Tensor to Data in Numpy -> torch.tensor.numpy()"
   ]
  },
  {
   "cell_type": "code",
   "execution_count": 24,
   "metadata": {},
   "outputs": [
    {
     "data": {
      "text/plain": [
       "(array([1., 2., 3., 4., 5., 6., 7., 8., 9.]),\n",
       " tensor([1., 2., 3., 4., 5., 6., 7., 8., 9.], dtype=torch.float64))"
      ]
     },
     "execution_count": 24,
     "metadata": {},
     "output_type": "execute_result"
    }
   ],
   "source": [
    "#NumPy to Tensor\n",
    "numpyArr=np.arange(1.,10)\n",
    "convertedTensor = torch.from_numpy(numpyArr)\n",
    "numpyArr,convertedTensor\n",
    "#When converting from numpy, The datatype is default NumPy datatype,\n",
    "#i.e. float64. Thus some type conversion might be needed here.\n",
    "\n",
    "#Changes brought to numpyArr wouldnt be reflected in convertedTensor"
   ]
  },
  {
   "cell_type": "code",
   "execution_count": 25,
   "metadata": {},
   "outputs": [
    {
     "data": {
      "text/plain": [
       "(tensor([[1., 1.],\n",
       "         [1., 1.]]),\n",
       " array([[1., 1.],\n",
       "        [1., 1.]], dtype=float32))"
      ]
     },
     "execution_count": 25,
     "metadata": {},
     "output_type": "execute_result"
    }
   ],
   "source": [
    "#Tensor to NumPy \n",
    "ogTensor = torch.ones(2,2)\n",
    "convertedArr=ogTensor.numpy()\n",
    "ogTensor,convertedArr\n",
    "#Same datatype conversion concept here too.\n",
    "#Same change to original concept here too."
   ]
  },
  {
   "cell_type": "markdown",
   "metadata": {},
   "source": [
    "#### PyTorch Reproducibility -> \n",
    "* Taking the random out of the random\n",
    "\n",
    "` NN learn by taking initial random numbers -> Operations -> Updation -> O | U iteratively`\n",
    "The concept of ****Random Seed**** comes to \"reduce\" the randomness.\n",
    "\n",
    "This when used at different places where random is being used gives the same results."
   ]
  },
  {
   "cell_type": "code",
   "execution_count": 26,
   "metadata": {},
   "outputs": [
    {
     "name": "stdout",
     "output_type": "stream",
     "text": [
      "tensor([[0.2709, 0.3166, 0.3861, 0.7869],\n",
      "        [0.8560, 0.4529, 0.4841, 0.6163],\n",
      "        [0.5187, 0.9874, 0.0980, 0.0720]])\n",
      "tensor([[0.4257, 0.4177, 0.7336, 0.4794],\n",
      "        [0.1044, 0.0723, 0.2838, 0.0487],\n",
      "        [0.2118, 0.3031, 0.7764, 0.6283]])\n",
      "tensor([[False, False, False, False],\n",
      "        [False, False, False, False],\n",
      "        [False, False, False, False]])\n"
     ]
    }
   ],
   "source": [
    "t1=torch.rand(3,4)\n",
    "t2=torch.rand(3,4)\n",
    "print(t1)\n",
    "print(t2)\n",
    "print(t1==t2)\n",
    "#Random around 150 times, Never got true in even 1 entry."
   ]
  },
  {
   "cell_type": "code",
   "execution_count": 27,
   "metadata": {},
   "outputs": [
    {
     "name": "stdout",
     "output_type": "stream",
     "text": [
      "tensor([[0.8823, 0.9150, 0.3829, 0.9593],\n",
      "        [0.3904, 0.6009, 0.2566, 0.7936],\n",
      "        [0.9408, 0.1332, 0.9346, 0.5936]]) \n",
      " tensor([[0.8823, 0.9150, 0.3829, 0.9593],\n",
      "        [0.3904, 0.6009, 0.2566, 0.7936],\n",
      "        [0.9408, 0.1332, 0.9346, 0.5936]]) \n",
      " tensor([[True, True, True, True],\n",
      "        [True, True, True, True],\n",
      "        [True, True, True, True]])\n"
     ]
    }
   ],
   "source": [
    "#Setting up Manual Seed\n",
    "RANDOM_SEED=42\n",
    "torch.manual_seed(RANDOM_SEED)\n",
    "t1=torch.rand(3,4)\n",
    "torch.manual_seed(RANDOM_SEED)\n",
    "t2=torch.rand(3,4)\n",
    "print(t1,\"\\n\",t2,\"\\n\",t1==t2)\n"
   ]
  },
  {
   "cell_type": "markdown",
   "metadata": {},
   "source": [
    "#### Running Tensors and PyTorch objects on GPU →\n"
   ]
  },
  {
   "cell_type": "code",
   "execution_count": 28,
   "metadata": {},
   "outputs": [
    {
     "name": "stdout",
     "output_type": "stream",
     "text": [
      "Mon Aug 26 19:00:35 2024       \n",
      "+-----------------------------------------------------------------------------------------+\n",
      "| NVIDIA-SMI 551.61                 Driver Version: 551.61         CUDA Version: 12.4     |\n",
      "|-----------------------------------------+------------------------+----------------------+\n",
      "| GPU  Name                     TCC/WDDM  | Bus-Id          Disp.A | Volatile Uncorr. ECC |\n",
      "| Fan  Temp   Perf          Pwr:Usage/Cap |           Memory-Usage | GPU-Util  Compute M. |\n",
      "|                                         |                        |               MIG M. |\n",
      "|=========================================+========================+======================|\n",
      "|   0  NVIDIA GeForce RTX 3050 ...  WDDM  |   00000000:01:00.0  On |                  N/A |\n",
      "| N/A   59C    P3              8W /   82W |     998MiB /   4096MiB |     16%      Default |\n",
      "|                                         |                        |                  N/A |\n",
      "+-----------------------------------------+------------------------+----------------------+\n",
      "                                                                                         \n",
      "+-----------------------------------------------------------------------------------------+\n",
      "| Processes:                                                                              |\n",
      "|  GPU   GI   CI        PID   Type   Process name                              GPU Memory |\n",
      "|        ID   ID                                                               Usage      |\n",
      "|=========================================================================================|\n",
      "|    0   N/A  N/A      1008    C+G   ...siveControlPanel\\SystemSettings.exe      N/A      |\n",
      "|    0   N/A  N/A      3780    C+G   ...Brave-Browser\\Application\\brave.exe      N/A      |\n",
      "|    0   N/A  N/A      5776    C+G   C:\\Windows\\explorer.exe                     N/A      |\n",
      "|    0   N/A  N/A     10448    C+G   ...nt.CBS_cw5n1h2txyewy\\SearchHost.exe      N/A      |\n",
      "|    0   N/A  N/A     10476    C+G   ...CBS_cw5n1h2txyewy\\TextInputHost.exe      N/A      |\n",
      "|    0   N/A  N/A     10484    C+G   ...2txyewy\\StartMenuExperienceHost.exe      N/A      |\n",
      "|    0   N/A  N/A     11640    C+G   ...n\\127.0.2651.105\\msedgewebview2.exe      N/A      |\n",
      "|    0   N/A  N/A     13464    C+G   ...t.LockApp_cw5n1h2txyewy\\LockApp.exe      N/A      |\n",
      "|    0   N/A  N/A     13800    C+G   ...5n1h2txyewy\\ShellExperienceHost.exe      N/A      |\n",
      "|    0   N/A  N/A     16016    C+G   ...ta\\Local\\Programs\\Notion\\Notion.exe      N/A      |\n",
      "|    0   N/A  N/A     17984      C   ...rograms\\Python\\Python312\\python.exe      N/A      |\n",
      "|    0   N/A  N/A     22036    C+G   ...Programs\\Microsoft VS Code\\Code.exe      N/A      |\n",
      "|    0   N/A  N/A     24180    C+G   ...US\\ArmouryDevice\\asus_framework.exe      N/A      |\n",
      "|    0   N/A  N/A     25784    C+G   ...m\\radeonsoftware\\RadeonSoftware.exe      N/A      |\n",
      "+-----------------------------------------------------------------------------------------+\n"
     ]
    }
   ],
   "source": [
    "!nvidia-smi"
   ]
  },
  {
   "cell_type": "code",
   "execution_count": 29,
   "metadata": {},
   "outputs": [
    {
     "data": {
      "text/plain": [
       "True"
      ]
     },
     "execution_count": 29,
     "metadata": {},
     "output_type": "execute_result"
    }
   ],
   "source": [
    "torch.cuda.is_available()"
   ]
  },
  {
   "cell_type": "code",
   "execution_count": 30,
   "metadata": {},
   "outputs": [
    {
     "name": "stdout",
     "output_type": "stream",
     "text": [
      "cuda\n"
     ]
    }
   ],
   "source": [
    "device = \"cuda\" if torch.cuda.is_available() else \"cpu\"\n",
    "print(device)"
   ]
  },
  {
   "cell_type": "code",
   "execution_count": 31,
   "metadata": {},
   "outputs": [
    {
     "data": {
      "text/plain": [
       "1"
      ]
     },
     "execution_count": 31,
     "metadata": {},
     "output_type": "execute_result"
    }
   ],
   "source": [
    "torch.cuda.device_count()"
   ]
  },
  {
   "cell_type": "markdown",
   "metadata": {},
   "source": [
    "- Putting our Tensors and Models on GPU -> "
   ]
  },
  {
   "cell_type": "code",
   "execution_count": 32,
   "metadata": {},
   "outputs": [
    {
     "name": "stdout",
     "output_type": "stream",
     "text": [
      "cpu\n",
      "cuda:0\n"
     ]
    }
   ],
   "source": [
    "t1=torch.randn(3,3)\n",
    "print(t1.device)\n",
    "\n",
    "t2=t1.to(device)\n",
    "print(t2.device)"
   ]
  },
  {
   "cell_type": "code",
   "execution_count": 33,
   "metadata": {},
   "outputs": [
    {
     "name": "stdout",
     "output_type": "stream",
     "text": [
      "cpu\n"
     ]
    }
   ],
   "source": [
    "#Classic error -> \n",
    "#If a tensor is on GPU we can't do NumPy transformation.\n",
    "\n",
    "#Moving tensors back to CPU -> \n",
    "t3=t2.cpu()\n",
    "print(t3.device)"
   ]
  },
  {
   "cell_type": "markdown",
   "metadata": {},
   "source": [
    "### End of PyTorch Fundamentals."
   ]
  }
 ],
 "metadata": {
  "kernelspec": {
   "display_name": "Python 3",
   "language": "python",
   "name": "python3"
  },
  "language_info": {
   "codemirror_mode": {
    "name": "ipython",
    "version": 3
   },
   "file_extension": ".py",
   "mimetype": "text/x-python",
   "name": "python",
   "nbconvert_exporter": "python",
   "pygments_lexer": "ipython3",
   "version": "3.12.5"
  }
 },
 "nbformat": 4,
 "nbformat_minor": 2
}
