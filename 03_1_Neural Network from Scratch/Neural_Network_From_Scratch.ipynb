{
 "cells": [
  {
   "cell_type": "markdown",
   "metadata": {},
   "source": [
    "# Importing and Creating Data \n"
   ]
  },
  {
   "cell_type": "code",
   "execution_count": 462,
   "metadata": {},
   "outputs": [],
   "source": [
    "import numpy as np\n",
    "import pandas as pd\n",
    "import matplotlib.pyplot as plt\n",
    "\n",
    "training_data = np.array(pd.read_csv('../03_1_Neural Network from Scratch/train.csv')) # 42000,785\n",
    "testing_data = np.array(pd.read_csv('../03_1_Neural Network from Scratch/test.csv'))   # 28000,784\n",
    "\n",
    "np.random.shuffle(training_data)\n",
    "np.random.shuffle(testing_data)"
   ]
  },
  {
   "cell_type": "code",
   "execution_count": 463,
   "metadata": {},
   "outputs": [
    {
     "data": {
      "text/plain": [
       "((785, 42000), (28000, 784), 42000, 785, 28000, 784)"
      ]
     },
     "execution_count": 463,
     "metadata": {},
     "output_type": "execute_result"
    }
   ],
   "source": [
    "m, n = training_data.shape\n",
    "a, b = testing_data.shape\n",
    "training_data = training_data.T\n",
    "training_data.shape , testing_data.shape, m , n , a, b"
   ]
  },
  {
   "cell_type": "code",
   "execution_count": 464,
   "metadata": {},
   "outputs": [
    {
     "name": "stdout",
     "output_type": "stream",
     "text": [
      "[[1 7 3 ... 9 6 1]\n",
      " [0 0 0 ... 0 0 0]\n",
      " [0 0 0 ... 0 0 0]\n",
      " ...\n",
      " [0 0 0 ... 0 0 0]\n",
      " [0 0 0 ... 0 0 0]\n",
      " [0 0 0 ... 0 0 0]]\n",
      "\n",
      "\n",
      " [1 7 3 ... 9 6 1]\n"
     ]
    }
   ],
   "source": [
    "print(training_data)\n",
    "y_train = training_data[0]\n",
    "print(\"\\n\\n\",y_train)"
   ]
  },
  {
   "cell_type": "code",
   "execution_count": 465,
   "metadata": {},
   "outputs": [
    {
     "name": "stdout",
     "output_type": "stream",
     "text": [
      "[[0. 0. 0. ... 0. 0. 0.]\n",
      " [0. 0. 0. ... 0. 0. 0.]\n",
      " [0. 0. 0. ... 0. 0. 0.]\n",
      " ...\n",
      " [0. 0. 0. ... 0. 0. 0.]\n",
      " [0. 0. 0. ... 0. 0. 0.]\n",
      " [0. 0. 0. ... 0. 0. 0.]]\n",
      "\n",
      "\n",
      "\n",
      "[0. 0. 0. ... 0. 0. 0.]  ->  0\n"
     ]
    }
   ],
   "source": [
    "X_train = training_data[1:]/255.0\n",
    "print(X_train)\n",
    "print(\"\\n\\n\")\n",
    "print(X_train[33], \" -> \", y_train[33])\n"
   ]
  },
  {
   "cell_type": "code",
   "execution_count": 466,
   "metadata": {},
   "outputs": [],
   "source": [
    "testing_data = testing_data.T\n",
    "y_test = testing_data[0]\n",
    "X_test = testing_data[1:]/255.0"
   ]
  },
  {
   "cell_type": "code",
   "execution_count": 467,
   "metadata": {},
   "outputs": [
    {
     "data": {
      "text/plain": [
       "(28000,)"
      ]
     },
     "execution_count": 467,
     "metadata": {},
     "output_type": "execute_result"
    }
   ],
   "source": [
    "X_test[0].shape"
   ]
  },
  {
   "cell_type": "markdown",
   "metadata": {},
   "source": [
    "# Defining functions ->"
   ]
  },
  {
   "cell_type": "code",
   "execution_count": 468,
   "metadata": {},
   "outputs": [],
   "source": [
    "def initialize_parameters():\n",
    "    W1 = np.random.randn(10, 784) * 0.01\n",
    "    b1 = np.random.randn(10, 1) * 0.01\n",
    "    W2 = np.random.randn(10, 10) * 0.01\n",
    "    b2 = np.random.randn(10, 1) * 0.01\n",
    "    \n",
    "    return W1,b1,W2,b2\n"
   ]
  },
  {
   "cell_type": "code",
   "execution_count": 469,
   "metadata": {},
   "outputs": [],
   "source": [
    "def normalize(x):\n",
    "    mean = np.mean(x)\n",
    "    std = np.std(x)\n",
    "    return (x - mean) / std"
   ]
  },
  {
   "cell_type": "code",
   "execution_count": 470,
   "metadata": {},
   "outputs": [],
   "source": [
    "def relu(x):\n",
    "    return np.maximum(0,x)\n",
    "    "
   ]
  },
  {
   "cell_type": "code",
   "execution_count": 471,
   "metadata": {},
   "outputs": [],
   "source": [
    "def ReLU_deriv(x):\n",
    "    return x>0"
   ]
  },
  {
   "cell_type": "code",
   "execution_count": 472,
   "metadata": {},
   "outputs": [],
   "source": [
    "def softmax(Z):\n",
    "\n",
    "    Z -= np.max(Z, axis=0)  # Subtract max value for numerical stability\n",
    "    A = np.exp(Z) / np.sum(np.exp(Z), axis=0)\n",
    "    return A\n",
    "\n",
    "    \n"
   ]
  },
  {
   "cell_type": "code",
   "execution_count": 473,
   "metadata": {},
   "outputs": [],
   "source": [
    "def one_hot_encoder(Y):\n",
    "    one_hot_Y = np.zeros((Y.size, Y.max() + 1))\n",
    "    one_hot_Y[np.arange(Y.size), Y] = 1\n",
    "    one_hot_Y = one_hot_Y.T\n",
    "    return one_hot_Y"
   ]
  },
  {
   "cell_type": "code",
   "execution_count": 474,
   "metadata": {},
   "outputs": [],
   "source": [
    "def forward_propagation(w1,b1,w2,b2,X):\n",
    "    Z1= w1.dot(X) + b1\n",
    "    A1=relu(Z1)\n",
    "    \n",
    "    Z2 = w2.dot(A1) + b2\n",
    "    A2=softmax(Z2)\n",
    "    \n",
    "    return Z1,A1,Z2,A2"
   ]
  },
  {
   "cell_type": "code",
   "execution_count": 475,
   "metadata": {},
   "outputs": [],
   "source": [
    "def backward_propagation(Z1, A1, Z2, A2, w1, w2, X, Y):\n",
    "    one_hot_Y = one_hot_encoder(Y)\n",
    "    dZ2 = A2 - one_hot_Y\n",
    "    dW2 = 1 / m * dZ2.dot(A1.T)\n",
    "    db2 = 1 / m * np.sum(dZ2,1).reshape(-1,1)\n",
    "    dZ1 = w2.T.dot(dZ2) * ReLU_deriv(Z1)\n",
    "    dW1 = 1 / m * dZ1.dot(X.T)\n",
    "    db1 = 1 / m * np.sum(dZ1,1).reshape(-1,1)\n",
    "    \n",
    "    return dW1, db1, dW2, db2\n"
   ]
  },
  {
   "cell_type": "code",
   "execution_count": 476,
   "metadata": {},
   "outputs": [],
   "source": [
    "def update_paramameters(W1, b1, W2, b2, dW1, db1, dW2, db2, alpha):\n",
    "  \n",
    "    W1 -= alpha * dW1\n",
    "    b1 -= alpha * np.reshape(db1, (10,1))\n",
    "    W2 -= alpha * dW2\n",
    "    b2 -= alpha * np.reshape(db2, (10,1))   \n",
    "    return W1, b1, W2, b2"
   ]
  },
  {
   "cell_type": "code",
   "execution_count": 477,
   "metadata": {},
   "outputs": [],
   "source": [
    "def get_predictions(A2):\n",
    "    return np.argmax(A2, 0)"
   ]
  },
  {
   "cell_type": "code",
   "execution_count": 478,
   "metadata": {},
   "outputs": [],
   "source": [
    "def get_accuracy(predictions, Y):\n",
    "    print(predictions, Y)\n",
    "    return np.sum(predictions == Y) / Y.size"
   ]
  },
  {
   "cell_type": "code",
   "execution_count": 479,
   "metadata": {},
   "outputs": [],
   "source": [
    "def gradient_descent(X, Y, alpha, iterations):\n",
    "    W1, b1, W2, b2 = initialize_parameters()\n",
    "    for i in range(iterations):\n",
    "        Z1, A1, Z2, A2 = forward_propagation(W1, b1, W2, b2, X)\n",
    "        dW1, db1, dW2, db2 = backward_propagation(Z1, A1, Z2, A2, W1, W2, X, Y)\n",
    "        W1, b1, W2, b2 = update_paramameters(W1, b1, W2, b2, dW1, db1, dW2, db2, alpha)\n",
    "        if i % 100 == 0:\n",
    "            print(\"Epoch: \", i)\n",
    "            predictions = get_predictions(A2)\n",
    "            print(get_accuracy(predictions, Y))\n",
    "    return W1, b1, W2, b2"
   ]
  },
  {
   "cell_type": "markdown",
   "metadata": {},
   "source": [
    "# Testing -> "
   ]
  },
  {
   "cell_type": "code",
   "execution_count": 480,
   "metadata": {},
   "outputs": [
    {
     "name": "stdout",
     "output_type": "stream",
     "text": [
      "Epoch:  0\n",
      "[0 0 9 ... 9 9 0] [1 7 3 ... 9 6 1]\n",
      "0.05042857142857143\n",
      "Epoch:  100\n",
      "[1 7 0 ... 9 2 1] [1 7 3 ... 9 6 1]\n",
      "0.5414523809523809\n",
      "Epoch:  200\n",
      "[1 7 3 ... 9 6 1] [1 7 3 ... 9 6 1]\n",
      "0.8111428571428572\n",
      "Epoch:  300\n",
      "[1 7 3 ... 9 6 1] [1 7 3 ... 9 6 1]\n",
      "0.8618333333333333\n",
      "Epoch:  400\n",
      "[1 7 3 ... 9 6 1] [1 7 3 ... 9 6 1]\n",
      "0.8843571428571428\n",
      "Epoch:  500\n",
      "[1 7 3 ... 9 6 1] [1 7 3 ... 9 6 1]\n",
      "0.8942857142857142\n",
      "Epoch:  600\n",
      "[1 7 3 ... 9 6 1] [1 7 3 ... 9 6 1]\n",
      "0.8990714285714285\n",
      "Epoch:  700\n",
      "[1 7 3 ... 9 6 1] [1 7 3 ... 9 6 1]\n",
      "0.9032380952380953\n",
      "Epoch:  800\n",
      "[1 7 3 ... 9 6 1] [1 7 3 ... 9 6 1]\n",
      "0.906547619047619\n",
      "Epoch:  900\n",
      "[1 7 3 ... 9 6 1] [1 7 3 ... 9 6 1]\n",
      "0.9094047619047619\n"
     ]
    }
   ],
   "source": [
    "W1,b1,W2,b2 = gradient_descent(X_train,y_train,0.1,1000)"
   ]
  }
 ],
 "metadata": {
  "kernelspec": {
   "display_name": "Python 3",
   "language": "python",
   "name": "python3"
  },
  "language_info": {
   "codemirror_mode": {
    "name": "ipython",
    "version": 3
   },
   "file_extension": ".py",
   "mimetype": "text/x-python",
   "name": "python",
   "nbconvert_exporter": "python",
   "pygments_lexer": "ipython3",
   "version": "3.12.5"
  }
 },
 "nbformat": 4,
 "nbformat_minor": 2
}
