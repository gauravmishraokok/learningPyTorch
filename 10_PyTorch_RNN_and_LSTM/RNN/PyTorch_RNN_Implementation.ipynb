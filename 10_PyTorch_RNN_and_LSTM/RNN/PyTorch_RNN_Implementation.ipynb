{
 "cells": [
  {
   "cell_type": "markdown",
   "metadata": {},
   "source": [
    "# **Recurrent Neural Networks || RNNs**"
   ]
  },
  {
   "cell_type": "markdown",
   "metadata": {},
   "source": [
    "<!-- HTML block in markdown -->\n",
    "<div class=\"container\">\n",
    "    <div class=\"title\">RNN Flow Diagram</div>\n",
    "    <img class=\"image\" src=\"https://miro.medium.com/v2/resize:fit:1200/1*ccHxugJhQo7VH4GAAZt3Sg.png\" alt=\"RNN Flow Diagram\">\n",
    "</div>\n",
    "\n",
    "<style>\n",
    "    .container {\n",
    "        text-align: center;\n",
    "    }\n",
    "    .image {\n",
    "        width: 80%;\n",
    "        margin: 0 auto;\n",
    "    }\n",
    "    .title {\n",
    "        text-align: center;\n",
    "        font-size: 24px;\n",
    "        font-weight: bold;\n",
    "        margin-top: 20px;\n",
    "    }\n",
    "</style>\n"
   ]
  },
  {
   "cell_type": "markdown",
   "metadata": {},
   "source": [
    "**RNNs are usually used in NLP, Image Classification and Speech Recognition**"
   ]
  },
  {
   "cell_type": "markdown",
   "metadata": {},
   "source": [
    "### **1. Utility File -> utils.py => UnicodeToAscii, Loading Data, Indexing Data, Conversion into Tensor**"
   ]
  },
  {
   "cell_type": "code",
   "execution_count": 24,
   "metadata": {},
   "outputs": [
    {
     "name": "stdout",
     "output_type": "stream",
     "text": [
      "Overwriting modules/_01_utils.py\n"
     ]
    }
   ],
   "source": [
    "# %%writefile modules/_01_utils.py\n",
    "import io\n",
    "import os\n",
    "import unicodedata\n",
    "import string\n",
    "import glob\n",
    "\n",
    "import torch\n",
    "import random\n",
    "\n",
    "ALL_LETTERS = string.ascii_letters + \" .,;'\"  #Small + Capital + ,;.\n",
    "N_LETTERS = len(ALL_LETTERS)\n",
    "\n",
    "# Turn a Unicode string to plain ASCII, We can use unidecode\n",
    "def unicode_to_ascii(s):\n",
    "    return ''.join(\n",
    "        c for c in unicodedata.normalize('NFD', s)\n",
    "        if unicodedata.category(c) != 'Mn'\n",
    "        and c in ALL_LETTERS\n",
    "    )\n",
    "\n",
    "def load_data():\n",
    "    # Build the category_lines dictionary, a list of names per language\n",
    "    category_lines = {}\n",
    "    all_categories = []\n",
    "    \n",
    "    def find_files(path):\n",
    "        return glob.glob(path)\n",
    "    \n",
    "    # Read a file and split into lines\n",
    "    def read_lines(filename):\n",
    "        lines = io.open(filename, encoding='utf-8').read().strip().split('\\n')\n",
    "        return [unicode_to_ascii(line) for line in lines]\n",
    "    \n",
    "    for filename in find_files('data/names/*.txt'):\n",
    "        category = os.path.splitext(os.path.basename(filename))[0]\n",
    "        all_categories.append(category)\n",
    "        \n",
    "        lines = read_lines(filename)\n",
    "        category_lines[category] = lines\n",
    "        \n",
    "    return category_lines, all_categories\n",
    "\n",
    "\n",
    "# Find letter index from all_letters, e.g. \"a\" = 0\n",
    "def letter_to_index(letter):\n",
    "    return ALL_LETTERS.find(letter)\n",
    "\n",
    "# Just for demonstration, turn a letter into a <1 x n_letters> Tensor\n",
    "def letter_to_tensor(letter):\n",
    "    tensor = torch.zeros(1, N_LETTERS)\n",
    "    tensor[0][letter_to_index(letter)] = 1\n",
    "    return tensor\n",
    "\n",
    "# Turn a line into a <line_length x 1 x n_letters>,\n",
    "# or an array of one-hot letter vectors\n",
    "def line_to_tensor(line):\n",
    "    tensor = torch.zeros(len(line), 1, N_LETTERS)\n",
    "    for i, letter in enumerate(line):\n",
    "        tensor[i][0][letter_to_index(letter)] = 1\n",
    "    return tensor\n",
    "\n",
    "\n",
    "def random_training_example(category_lines, all_categories):\n",
    "    \n",
    "    def random_choice(a):\n",
    "        random_idx = random.randint(0, len(a) - 1)\n",
    "        return a[random_idx]\n",
    "    \n",
    "    category = random_choice(all_categories)\n",
    "    line = random_choice(category_lines[category])\n",
    "    category_tensor = torch.tensor([all_categories.index(category)], dtype=torch.long)\n",
    "    line_tensor = line_to_tensor(line)\n",
    "    return category, line, category_tensor, line_tensor\n",
    "\n",
    "\n",
    "\n",
    "if __name__ == '__main__':\n",
    "    print(ALL_LETTERS)\n",
    "    # print(unicode_to_ascii('Ślusàrski'))\n",
    "    \n",
    "    # category_lines, all_categories = load_data()\n",
    "    # print(category_lines['Italian'][:5])\n",
    "    \n",
    "    # print(letter_to_tensor('J')) # [1, 57]\n",
    "    # print(line_to_tensor('Jones').size()) # [5, 1, 57]\n"
   ]
  },
  {
   "cell_type": "markdown",
   "metadata": {},
   "source": [
    "### **2. RNN ->**"
   ]
  },
  {
   "cell_type": "markdown",
   "metadata": {},
   "source": [
    "<!DOCTYPE html>\n",
    "<html lang=\"en\">\n",
    "<head>\n",
    "    <meta charset=\"UTF-8\">\n",
    "    <meta name=\"viewport\" content=\"width=device-width, initial-scale=1.0\">\n",
    "    <title>RNN Architecture</title>\n",
    "    <style>\n",
    "        .container {\n",
    "            text-align: center;\n",
    "        }\n",
    "        .image {\n",
    "            width: 80%;\n",
    "            margin: 0 auto;\n",
    "        }\n",
    "        .title {\n",
    "            text-align: center;\n",
    "            font-size: 24px;\n",
    "            font-weight: bold;\n",
    "            margin-top: 20px;\n",
    "        }\n",
    "    </style>\n",
    "</head>\n",
    "<body>\n",
    "    <div class=\"container\">\n",
    "        <div class=\"title\">RNN Architecture</div>\n",
    "        <img class=\"image\" src=\"https://ml-cheatsheet.readthedocs.io/en/latest/_images/rnn.png\" alt=\"RNN Architecture\">\n",
    "    </div>\n",
    "</body>\n",
    "</html>\n"
   ]
  },
  {
   "cell_type": "markdown",
   "metadata": {},
   "source": [
    "#### **``02_rnn.py`` -> Builds the RNN Model Architecture, Initiates the Model Instance, Trains the Model, Plots the Loss Curve & Predicts on Custom Input Data**"
   ]
  },
  {
   "cell_type": "code",
   "execution_count": 31,
   "metadata": {},
   "outputs": [
    {
     "name": "stderr",
     "output_type": "stream",
     "text": [
      " 10%|█         | 10145/100000 [00:09<01:28, 1018.16it/s]"
     ]
    },
    {
     "name": "stdout",
     "output_type": "stream",
     "text": [
      "10000 10.0 1.2783 Fiscella / Italian CORRECT\n"
     ]
    },
    {
     "name": "stderr",
     "output_type": "stream",
     "text": [
      " 20%|██        | 20234/100000 [00:18<01:10, 1131.72it/s]"
     ]
    },
    {
     "name": "stdout",
     "output_type": "stream",
     "text": [
      "20000 20.0 2.0601 Hopes / Dutch WRONG (English)\n"
     ]
    },
    {
     "name": "stderr",
     "output_type": "stream",
     "text": [
      " 30%|███       | 30233/100000 [00:27<01:04, 1077.30it/s]"
     ]
    },
    {
     "name": "stdout",
     "output_type": "stream",
     "text": [
      "30000 30.0 1.1497 D'cruz / Spanish WRONG (Portuguese)\n"
     ]
    },
    {
     "name": "stderr",
     "output_type": "stream",
     "text": [
      " 40%|████      | 40165/100000 [00:36<00:54, 1105.08it/s]"
     ]
    },
    {
     "name": "stdout",
     "output_type": "stream",
     "text": [
      "40000 40.0 1.7507 Li / Vietnamese WRONG (Korean)\n"
     ]
    },
    {
     "name": "stderr",
     "output_type": "stream",
     "text": [
      " 50%|█████     | 50147/100000 [00:46<00:43, 1156.12it/s]"
     ]
    },
    {
     "name": "stdout",
     "output_type": "stream",
     "text": [
      "50000 50.0 0.1654 Thean / Chinese CORRECT\n"
     ]
    },
    {
     "name": "stderr",
     "output_type": "stream",
     "text": [
      " 60%|██████    | 60151/100000 [00:55<00:37, 1072.54it/s]"
     ]
    },
    {
     "name": "stdout",
     "output_type": "stream",
     "text": [
      "60000 60.0 0.4239 Chan / Chinese CORRECT\n"
     ]
    },
    {
     "name": "stderr",
     "output_type": "stream",
     "text": [
      " 70%|███████   | 70129/100000 [01:04<00:26, 1143.63it/s]"
     ]
    },
    {
     "name": "stdout",
     "output_type": "stream",
     "text": [
      "70000 70.0 0.0262 Mcintyre / Scottish CORRECT\n"
     ]
    },
    {
     "name": "stderr",
     "output_type": "stream",
     "text": [
      " 80%|████████  | 80113/100000 [01:13<00:17, 1150.13it/s]"
     ]
    },
    {
     "name": "stdout",
     "output_type": "stream",
     "text": [
      "80000 80.0 0.2302 De santigo / Portuguese CORRECT\n"
     ]
    },
    {
     "name": "stderr",
     "output_type": "stream",
     "text": [
      " 90%|█████████ | 90140/100000 [01:22<00:08, 1153.06it/s]"
     ]
    },
    {
     "name": "stdout",
     "output_type": "stream",
     "text": [
      "90000 90.0 2.5875 Potenza / Portuguese WRONG (Italian)\n"
     ]
    },
    {
     "name": "stderr",
     "output_type": "stream",
     "text": [
      "100%|██████████| 100000/100000 [01:31<00:00, 1096.21it/s]"
     ]
    },
    {
     "name": "stdout",
     "output_type": "stream",
     "text": [
      "100000 100.0 0.0611 You / Korean CORRECT\n"
     ]
    },
    {
     "name": "stderr",
     "output_type": "stream",
     "text": [
      "\n"
     ]
    },
    {
     "data": {
      "image/png": "[encoded data removed]",
      "text/plain": [
       "<Figure size 640x480 with 1 Axes>"
      ]
     },
     "metadata": {},
     "output_type": "display_data"
    },
    {
     "name": "stdout",
     "output_type": "stream",
     "text": [
      "\n",
      "> Putin\n",
      "Russian\n",
      "\n",
      "> Yamaha\n",
      "Japanese\n",
      "\n",
      "> Rodriguez\n",
      "Spanish\n",
      "\n",
      "> Panini\n",
      "Italian\n"
     ]
    }
   ],
   "source": [
    "# %%writefile modules/_02_rnn.py\n",
    "import torch\n",
    "import torch.nn as nn\n",
    "import matplotlib.pyplot as plt\n",
    "from tqdm import tqdm as tqdm\n",
    "from modules._01_utils import *\n",
    "\n",
    "class RNN(nn.Module):\n",
    "    \n",
    "    def __init__(self,\n",
    "                 input_size,\n",
    "                 hidden_size,\n",
    "                 output_size) -> None:\n",
    "        super(RNN,self).__init__()\n",
    "        \n",
    "        self.hidden_size = hidden_size \n",
    "        self.i2h = nn.Linear(input_size + hidden_size , hidden_size)\n",
    "        self.i2o = nn.Linear(input_size + hidden_size , output_size)\n",
    "        \n",
    "        self.softmax = nn.LogSoftmax(dim = 1)\n",
    "        \n",
    "    \n",
    "    def forward(self, input_tensor, hidden_tensor):\n",
    "        combined_tensor = torch.cat((input_tensor, hidden_tensor),1)\n",
    "        \n",
    "        hidden = self.i2h(combined_tensor)\n",
    "        output = self.i2o(combined_tensor)\n",
    "         \n",
    "        output = self.softmax(output)\n",
    "        return output, hidden\n",
    "    \n",
    "    \n",
    "    def init_hidden(self):\n",
    "        return torch.zeros(1, self.hidden_size)\n",
    "    \n",
    "category_lines, all_categories = load_data()\n",
    "num_categories = len(all_categories)\n",
    "\n",
    "rnn_model = RNN(input_size=N_LETTERS, hidden_size=128, output_size=num_categories)\n",
    "\n",
    "\n",
    "def category_from_output(output):\n",
    "    \n",
    "    cat = output.argmax(dim=1).item()\n",
    "    return all_categories[cat]\n",
    "\n",
    "\n",
    "#Training part -> \n",
    "\n",
    "loss_fn = torch.nn.NLLLoss()\n",
    "\n",
    "# Create the Adam optimizer\n",
    "optimizer = torch.optim.RMSprop(rnn_model.parameters(), 0.0005 )\n",
    "\n",
    "\n",
    "\n",
    "def train(line_tensor, category_tensor):\n",
    "    hidden = rnn_model.init_hidden()\n",
    "    \n",
    "    for i in range(line_tensor.size()[0]):\n",
    "        output,hidden = rnn_model(line_tensor[i], hidden)\n",
    "        \n",
    "    train_loss = loss_fn(output, category_tensor)\n",
    "    optimizer.zero_grad()\n",
    "    train_loss.backward()\n",
    "    optimizer.step()\n",
    "    \n",
    "    return output, train_loss.item()\n",
    "\n",
    "current_loss = 0\n",
    "all_loss_values = []\n",
    "plot_steps , print_steps = 1000 , 10000 \n",
    "n_iterations = 100000\n",
    "\n",
    "\n",
    "for i in tqdm(range(n_iterations)):\n",
    "    category , line , category_tensor, line_tensor = random_training_example(category_lines=category_lines, all_categories=all_categories)\n",
    "    \n",
    "    output , loss = train(line_tensor=line_tensor, category_tensor=category_tensor)\n",
    "    \n",
    "    current_loss+= loss\n",
    "    \n",
    "    if (i+1) % plot_steps == 0:\n",
    "        all_loss_values.append(current_loss / plot_steps)\n",
    "        current_loss = 0\n",
    "        \n",
    "    if (i+1) % print_steps == 0:\n",
    "        guess = category_from_output(output)\n",
    "        correct = \"CORRECT\" if guess == category else f\"WRONG ({category})\"\n",
    "        print(f\"{i+1} {(i+1)/n_iterations*100} {loss:.4f} {line} / {guess} {correct}\")\n",
    "    \n",
    "\n",
    "\n",
    "#Plotting the loss values\n",
    "plt.figure()\n",
    "plt.plot(all_loss_values)\n",
    "plt.show()\n",
    "\n",
    "\n",
    "#Predicting on Custom Input Data\n",
    "def predict(input_line):\n",
    "    print(f\"\\n> {input_line}\")\n",
    "    with torch.no_grad():\n",
    "        line_tensor = line_to_tensor(input_line)\n",
    "        \n",
    "        hidden = rnn_model.init_hidden()\n",
    "    \n",
    "        for i in range(line_tensor.size()[0]):\n",
    "            output, hidden = rnn_model(line_tensor[i], hidden)\n",
    "        \n",
    "        guess = category_from_output(output)\n",
    "        print(guess)\n",
    "\n",
    "\n",
    "while True:\n",
    "    sentence = input(\"Type 'quit' to stop. Enter Input -> \")\n",
    "    if sentence == \"quit\":\n",
    "        break\n",
    "    \n",
    "    predict(sentence)\n"
   ]
  }
 ],
 "metadata": {
  "kernelspec": {
   "display_name": "Python 3",
   "language": "python",
   "name": "python3"
  },
  "language_info": {
   "codemirror_mode": {
    "name": "ipython",
    "version": 3
   },
   "file_extension": ".py",
   "mimetype": "text/x-python",
   "name": "python",
   "nbconvert_exporter": "python",
   "pygments_lexer": "ipython3",
   "version": "3.12.5"
  }
 },
 "nbformat": 4,
 "nbformat_minor": 2
}
