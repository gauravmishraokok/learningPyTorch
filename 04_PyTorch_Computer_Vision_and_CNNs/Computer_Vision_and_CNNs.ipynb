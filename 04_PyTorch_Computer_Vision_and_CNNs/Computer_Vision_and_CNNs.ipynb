{
 "cells": [
  {
   "cell_type": "markdown",
   "metadata": {},
   "source": [
    "# Computer Vision --> \n",
    "\n",
    "| Topic | Contents |\n",
    "|---|---|\n",
    "| 0. Computer vision libraries in PyTorch | PyTorch has a bunch of built-in helpful computer vision libraries, let's check them out. |\n",
    "| 1. Load data | To practice computer vision, we'll start with some images of different pieces of clothing from FashionMNIST. |\n",
    "| 2. Prepare data | We've got some images, let's load them in with a PyTorch DataLoader so we can use them with our training loop. |\n",
    "| 3. Model 0: Building a baseline model | Here we'll create a multi-class classification model to learn patterns in the data, we'll also choose a loss function, optimizer and build a training loop. |\n",
    "| 4. Making predictions and evaluting model 0 | Let's make some predictions with our baseline model and evaluate them. |\n",
    "| 5. Setup device agnostic code for future models | It's best practice to write device-agnostic code, so let's set it up. |\n",
    "| 6. Model 1: Adding non-linearity | Experimenting is a large part of machine learning, let's try and improve upon our baseline model by adding non-linear layers. |\n",
    "| 7. Model 2: Convolutional Neural Network (CNN) | Time to get computer vision specific and introduce the powerful convolutional neural network architecture. |\n",
    "| 8. Comparing our models | We've built three different models, let's compare them. |\n",
    "| 9. Evaluating our best model | Let's make some predictons on random images and evaluate our best model. |\n",
    "| 10. Making a confusion matrix | A confusion matrix is a great way to evaluate a classification model, let's see how we can make one. |\n",
    "| 11. Saving and loading the best performing model | Since we might want to use our model for later, let's save it and make sure it loads back in correctly. |"
   ]
  },
  {
   "cell_type": "markdown",
   "metadata": {},
   "source": [
    "### Input and Output shapes -> "
   ]
  },
  {
   "cell_type": "markdown",
   "metadata": {},
   "source": [
    "Images -> Tensors \n",
    "\n",
    "These tensors have 2 types of shapes -> \n",
    "- Shape = [ Batch_Size , Height , Width, Colour Channels] -> NHWC\n",
    "    - Ex -> Shape = [None , 28 , 28 , 1]\n",
    "- Shape = [ Batch_Size , Colour Channels ,Height , Width] -> NCHW\n",
    "    - Ex -> Shape = [ 32  , 1 , 28 , 28]\n",
    "\n",
    "\n",
    "PyTorch expects Colour Channels first."
   ]
  },
  {
   "cell_type": "markdown",
   "metadata": {},
   "source": [
    "# Convulational Neural Networks -> "
   ]
  },
  {
   "cell_type": "markdown",
   "metadata": {},
   "source": [
    "The base libraries for Computer Vision problems -> \n",
    "- `TorchVision`\n",
    "- `Torchvision.datasets` -> Has data + functions.\n",
    "- `Torchvision.models` -> Has pretrained models.\n",
    "- `Torchvision.transforms` -> Has functions for manipulating your image to be suitable with ML model. \n",
    "- `Torchvision.utils.data.Dataset` -> Base dataset for PyTorch. \n",
    "- `Torchvision.utils.data.Dataloader` -> Creates a python iterable over a dataset.\n"
   ]
  },
  {
   "cell_type": "code",
   "execution_count": 96,
   "metadata": {},
   "outputs": [
    {
     "data": {
      "text/plain": [
       "('2.4.0+cu124', '0.19.0+cu124')"
      ]
     },
     "execution_count": 96,
     "metadata": {},
     "output_type": "execute_result"
    }
   ],
   "source": [
    "import torch\n",
    "from torch import nn\n",
    "\n",
    "import torchvision\n",
    "from torchvision import datasets\n",
    "from torchvision import transforms\n",
    "from torchvision.transforms import ToTensor\n",
    "\n",
    "import matplotlib.pyplot as plt\n",
    "import numpy as np\n",
    "\n",
    "torch.__version__ , torchvision.__version__"
   ]
  },
  {
   "cell_type": "markdown",
   "metadata": {},
   "source": [
    "#### Getting a Dataset ->\n",
    "\n",
    "- FashionMNIST"
   ]
  },
  {
   "cell_type": "code",
   "execution_count": 97,
   "metadata": {},
   "outputs": [],
   "source": [
    "train_data = datasets.FashionMNIST(\n",
    "    root=\"data\",\n",
    "    train = True,\n",
    "    download=True,\n",
    "    transform=ToTensor(),\n",
    "    target_transform=None,\n",
    "    )\n",
    "\n",
    "test_data = datasets.FashionMNIST(\n",
    "    root=\"data\",\n",
    "    train=False,\n",
    "    download=True,\n",
    "    transform=ToTensor(),\n",
    "    target_transform=None)"
   ]
  },
  {
   "cell_type": "code",
   "execution_count": 98,
   "metadata": {},
   "outputs": [
    {
     "data": {
      "text/plain": [
       "(60000, 10000)"
      ]
     },
     "execution_count": 98,
     "metadata": {},
     "output_type": "execute_result"
    }
   ],
   "source": [
    "\n",
    "len(train_data) , len(test_data)"
   ]
  },
  {
   "cell_type": "code",
   "execution_count": 99,
   "metadata": {},
   "outputs": [
    {
     "data": {
      "text/plain": [
       "(tensor([[[0.0000, 0.0000, 0.0000, 0.0000, 0.0000, 0.0000, 0.0000, 0.0000,\n",
       "           0.0000, 0.0039, 0.0000, 0.0314, 0.8824, 0.7686, 0.7843, 0.9490,\n",
       "           0.5176, 0.0000, 0.0000, 0.0039, 0.0000, 0.0000, 0.0000, 0.0000,\n",
       "           0.0000, 0.0000, 0.0000, 0.0000],\n",
       "          [0.0000, 0.0000, 0.0000, 0.0000, 0.0000, 0.0000, 0.0000, 0.0000,\n",
       "           0.0000, 0.0000, 0.0000, 0.0824, 0.8784, 0.8000, 0.8118, 0.6392,\n",
       "           0.4510, 0.0000, 0.0000, 0.0000, 0.0000, 0.0000, 0.0000, 0.0000,\n",
       "           0.0000, 0.0000, 0.0000, 0.0000],\n",
       "          [0.0000, 0.0000, 0.0000, 0.0000, 0.0000, 0.0000, 0.0000, 0.0000,\n",
       "           0.0549, 0.1216, 0.1569, 0.0000, 0.5255, 0.9961, 0.9804, 0.8471,\n",
       "           0.0902, 0.0235, 0.1373, 0.0745, 0.0157, 0.0000, 0.0000, 0.0000,\n",
       "           0.0000, 0.0000, 0.0000, 0.0000],\n",
       "          [0.0000, 0.0000, 0.0000, 0.0000, 0.0000, 0.0000, 0.0549, 0.1490,\n",
       "           0.1059, 0.1059, 0.0824, 0.0000, 0.2902, 0.7843, 0.6118, 0.6431,\n",
       "           0.3176, 0.0392, 0.1059, 0.1176, 0.1490, 0.0980, 0.0000, 0.0000,\n",
       "           0.0000, 0.0000, 0.0000, 0.0000],\n",
       "          [0.0000, 0.0000, 0.0000, 0.0000, 0.0000, 0.0000, 0.1216, 0.0784,\n",
       "           0.0510, 0.0667, 0.0667, 0.1020, 0.1020, 0.0118, 0.0000, 0.0000,\n",
       "           0.1255, 0.0784, 0.0627, 0.0824, 0.0824, 0.1451, 0.0588, 0.0000,\n",
       "           0.0000, 0.0000, 0.0000, 0.0000],\n",
       "          [0.0000, 0.0000, 0.0000, 0.0000, 0.0000, 0.0588, 0.1098, 0.0784,\n",
       "           0.0824, 0.0706, 0.0824, 0.0627, 0.0235, 0.1020, 0.1373, 0.0745,\n",
       "           0.0471, 0.0588, 0.0824, 0.0902, 0.0824, 0.0902, 0.1137, 0.0000,\n",
       "           0.0000, 0.0000, 0.0000, 0.0000],\n",
       "          [0.0000, 0.0000, 0.0000, 0.0000, 0.0000, 0.0745, 0.1137, 0.1137,\n",
       "           0.0784, 0.0667, 0.0824, 0.0745, 0.0824, 0.1137, 0.0941, 0.0902,\n",
       "           0.0706, 0.0745, 0.0745, 0.0824, 0.0784, 0.0980, 0.1176, 0.0000,\n",
       "           0.0000, 0.0000, 0.0000, 0.0000],\n",
       "          [0.0000, 0.0000, 0.0000, 0.0000, 0.0000, 0.0627, 0.0902, 0.1412,\n",
       "           0.0824, 0.0745, 0.0667, 0.0784, 0.0706, 0.1137, 0.0667, 0.0902,\n",
       "           0.0745, 0.0745, 0.0784, 0.0627, 0.1529, 0.1216, 0.1137, 0.0000,\n",
       "           0.0000, 0.0000, 0.0000, 0.0000],\n",
       "          [0.0000, 0.0000, 0.0000, 0.0000, 0.0000, 0.0784, 0.0667, 0.1804,\n",
       "           0.1333, 0.0588, 0.0941, 0.0941, 0.0667, 0.1333, 0.1216, 0.0902,\n",
       "           0.0824, 0.0745, 0.0745, 0.0745, 0.1961, 0.1020, 0.1098, 0.0000,\n",
       "           0.0000, 0.0000, 0.0000, 0.0000],\n",
       "          [0.0000, 0.0000, 0.0000, 0.0000, 0.0000, 0.1020, 0.0588, 0.1804,\n",
       "           0.1529, 0.0627, 0.1059, 0.0980, 0.0824, 0.1216, 0.1255, 0.0980,\n",
       "           0.1020, 0.0824, 0.1098, 0.0784, 0.2510, 0.1176, 0.0902, 0.0196,\n",
       "           0.0000, 0.0000, 0.0000, 0.0000],\n",
       "          [0.0000, 0.0000, 0.0000, 0.0000, 0.0000, 0.0980, 0.0706, 0.1961,\n",
       "           0.1686, 0.0824, 0.1020, 0.0824, 0.0902, 0.1098, 0.0902, 0.0824,\n",
       "           0.0706, 0.0784, 0.0745, 0.1216, 0.2784, 0.1098, 0.0941, 0.0549,\n",
       "           0.0000, 0.0000, 0.0000, 0.0000],\n",
       "          [0.0000, 0.0000, 0.0000, 0.0000, 0.0000, 0.0941, 0.0902, 0.1804,\n",
       "           0.1686, 0.0627, 0.0745, 0.0745, 0.0784, 0.1059, 0.1059, 0.0941,\n",
       "           0.0824, 0.0941, 0.0510, 0.0824, 0.2941, 0.0941, 0.0902, 0.0588,\n",
       "           0.0000, 0.0000, 0.0000, 0.0000],\n",
       "          [0.0000, 0.0000, 0.0000, 0.0000, 0.0000, 0.0902, 0.0784, 0.1569,\n",
       "           0.2275, 0.0275, 0.0902, 0.0941, 0.0824, 0.1137, 0.1412, 0.0824,\n",
       "           0.0824, 0.1020, 0.0784, 0.0941, 0.3176, 0.0902, 0.0667, 0.0627,\n",
       "           0.0000, 0.0000, 0.0000, 0.0000],\n",
       "          [0.0000, 0.0000, 0.0000, 0.0000, 0.0078, 0.0941, 0.0706, 0.1686,\n",
       "           0.3098, 0.0353, 0.0784, 0.0824, 0.0824, 0.1098, 0.1098, 0.0980,\n",
       "           0.0941, 0.0902, 0.0706, 0.1176, 0.3529, 0.0784, 0.0627, 0.0824,\n",
       "           0.0000, 0.0000, 0.0000, 0.0000],\n",
       "          [0.0000, 0.0000, 0.0000, 0.0000, 0.0235, 0.1059, 0.0588, 0.1647,\n",
       "           0.2196, 0.0667, 0.0784, 0.0745, 0.0902, 0.1098, 0.0941, 0.0980,\n",
       "           0.0706, 0.0745, 0.0588, 0.1333, 0.3922, 0.0706, 0.0588, 0.0980,\n",
       "           0.0000, 0.0000, 0.0000, 0.0000],\n",
       "          [0.0000, 0.0000, 0.0000, 0.0000, 0.0275, 0.1020, 0.0510, 0.2353,\n",
       "           0.1922, 0.0392, 0.0667, 0.0824, 0.0784, 0.1412, 0.1373, 0.0784,\n",
       "           0.0667, 0.0902, 0.0588, 0.0510, 0.4000, 0.0824, 0.0549, 0.0980,\n",
       "           0.0000, 0.0000, 0.0000, 0.0000],\n",
       "          [0.0000, 0.0000, 0.0000, 0.0000, 0.0275, 0.0784, 0.0392, 0.2706,\n",
       "           0.1255, 0.0549, 0.0824, 0.0824, 0.0784, 0.1059, 0.0941, 0.0902,\n",
       "           0.0941, 0.0745, 0.0784, 0.0118, 0.3216, 0.1373, 0.0471, 0.0784,\n",
       "           0.0000, 0.0000, 0.0000, 0.0000],\n",
       "          [0.0000, 0.0000, 0.0000, 0.0000, 0.0471, 0.0902, 0.0667, 0.2275,\n",
       "           0.0667, 0.0471, 0.0824, 0.0745, 0.0824, 0.1020, 0.0980, 0.0902,\n",
       "           0.0980, 0.0824, 0.0902, 0.0353, 0.2078, 0.1804, 0.0471, 0.0745,\n",
       "           0.0000, 0.0000, 0.0000, 0.0000],\n",
       "          [0.0000, 0.0000, 0.0000, 0.0000, 0.0549, 0.0784, 0.1176, 0.1882,\n",
       "           0.0314, 0.0706, 0.0941, 0.0745, 0.0667, 0.1216, 0.1490, 0.0902,\n",
       "           0.0667, 0.0902, 0.0980, 0.0196, 0.1098, 0.2353, 0.0549, 0.0706,\n",
       "           0.0000, 0.0000, 0.0000, 0.0000],\n",
       "          [0.0000, 0.0000, 0.0000, 0.0000, 0.0471, 0.0588, 0.1608, 0.1569,\n",
       "           0.0000, 0.0745, 0.0745, 0.0745, 0.0667, 0.1098, 0.1176, 0.0784,\n",
       "           0.0706, 0.0706, 0.0745, 0.0392, 0.0745, 0.2824, 0.0510, 0.0667,\n",
       "           0.0000, 0.0000, 0.0000, 0.0000],\n",
       "          [0.0000, 0.0000, 0.0000, 0.0000, 0.0353, 0.0353, 0.2039, 0.2000,\n",
       "           0.0039, 0.0745, 0.0627, 0.0706, 0.0941, 0.1059, 0.0902, 0.0824,\n",
       "           0.0667, 0.0706, 0.0784, 0.0549, 0.0314, 0.3137, 0.0549, 0.0549,\n",
       "           0.0000, 0.0000, 0.0000, 0.0000],\n",
       "          [0.0000, 0.0000, 0.0000, 0.0000, 0.0510, 0.0275, 0.2235, 0.1961,\n",
       "           0.0000, 0.0784, 0.0745, 0.0784, 0.0824, 0.1137, 0.1059, 0.0784,\n",
       "           0.0745, 0.0745, 0.0745, 0.0745, 0.0000, 0.3294, 0.0824, 0.0353,\n",
       "           0.0000, 0.0000, 0.0000, 0.0000],\n",
       "          [0.0000, 0.0000, 0.0000, 0.0000, 0.0627, 0.0235, 0.2471, 0.0980,\n",
       "           0.0078, 0.0745, 0.0706, 0.0627, 0.0667, 0.1529, 0.1412, 0.0824,\n",
       "           0.0745, 0.0627, 0.0824, 0.0392, 0.0000, 0.3333, 0.1216, 0.0196,\n",
       "           0.0000, 0.0000, 0.0000, 0.0000],\n",
       "          [0.0000, 0.0000, 0.0000, 0.0000, 0.0667, 0.0275, 0.2745, 0.1020,\n",
       "           0.0000, 0.0745, 0.0667, 0.0627, 0.0980, 0.1255, 0.0706, 0.0706,\n",
       "           0.0549, 0.0667, 0.0392, 0.1373, 0.0235, 0.2627, 0.1451, 0.0314,\n",
       "           0.0000, 0.0000, 0.0000, 0.0000],\n",
       "          [0.0000, 0.0000, 0.0000, 0.0000, 0.0471, 0.0314, 0.2431, 0.0706,\n",
       "           0.0039, 0.0667, 0.0588, 0.0588, 0.0824, 0.1098, 0.0784, 0.0745,\n",
       "           0.0784, 0.0706, 0.0235, 0.1922, 0.0627, 0.2902, 0.1255, 0.0353,\n",
       "           0.0000, 0.0000, 0.0000, 0.0000],\n",
       "          [0.0000, 0.0000, 0.0000, 0.0000, 0.0706, 0.0000, 0.3373, 0.1569,\n",
       "           0.0000, 0.0784, 0.0824, 0.0745, 0.0784, 0.1137, 0.0745, 0.0745,\n",
       "           0.0706, 0.0824, 0.0667, 0.0627, 0.0000, 0.3569, 0.1137, 0.0196,\n",
       "           0.0000, 0.0000, 0.0000, 0.0000],\n",
       "          [0.0000, 0.0000, 0.0000, 0.0000, 0.0784, 0.0000, 0.3843, 0.2078,\n",
       "           0.0078, 0.1098, 0.0980, 0.0745, 0.1373, 0.1529, 0.1059, 0.1020,\n",
       "           0.0745, 0.0824, 0.1059, 0.0588, 0.0000, 0.4667, 0.1529, 0.0157,\n",
       "           0.0000, 0.0000, 0.0000, 0.0000],\n",
       "          [0.0000, 0.0000, 0.0000, 0.0000, 0.0000, 0.0000, 0.0157, 0.0000,\n",
       "           0.0000, 0.0235, 0.0392, 0.0471, 0.0980, 0.1176, 0.0627, 0.0824,\n",
       "           0.0667, 0.0353, 0.0118, 0.0000, 0.0000, 0.0667, 0.0039, 0.0000,\n",
       "           0.0000, 0.0000, 0.0000, 0.0000]]]),\n",
       " 6)"
      ]
     },
     "execution_count": 99,
     "metadata": {},
     "output_type": "execute_result"
    }
   ],
   "source": [
    "#First training example -> \n",
    "\n",
    "imageToTensor, label = train_data[33]\n",
    "imageToTensor, label"
   ]
  },
  {
   "cell_type": "code",
   "execution_count": 100,
   "metadata": {},
   "outputs": [
    {
     "name": "stdout",
     "output_type": "stream",
     "text": [
      "['T-shirt/top', 'Trouser', 'Pullover', 'Dress', 'Coat', 'Sandal', 'Shirt', 'Sneaker', 'Bag', 'Ankle boot']\n",
      "{'T-shirt/top': 0, 'Trouser': 1, 'Pullover': 2, 'Dress': 3, 'Coat': 4, 'Sandal': 5, 'Shirt': 6, 'Sneaker': 7, 'Bag': 8, 'Ankle boot': 9}\n"
     ]
    }
   ],
   "source": [
    "classes = train_data.classes\n",
    "classids=train_data.class_to_idx\n",
    "\n",
    "print(train_data.classes)\n",
    "print(train_data.class_to_idx)"
   ]
  },
  {
   "cell_type": "code",
   "execution_count": 101,
   "metadata": {},
   "outputs": [
    {
     "name": "stdout",
     "output_type": "stream",
     "text": [
      "Shape = torch.Size([1, 28, 28]) = [Colour Channels, Height, Width]\n"
     ]
    }
   ],
   "source": [
    "print(f\"Shape = {imageToTensor.shape} = [Colour Channels, Height, Width]\")\n",
    "\n",
    "#1 Colour Channel, 28x28 H,W picture."
   ]
  },
  {
   "cell_type": "markdown",
   "metadata": {},
   "source": [
    "### Plotting our data for visualisation -> "
   ]
  },
  {
   "cell_type": "code",
   "execution_count": 102,
   "metadata": {},
   "outputs": [
    {
     "name": "stdout",
     "output_type": "stream",
     "text": [
      "torch.Size([1, 28, 28])\n"
     ]
    }
   ],
   "source": [
    "image, label = train_data[2500]\n",
    "print(image.shape)"
   ]
  },
  {
   "cell_type": "code",
   "execution_count": 103,
   "metadata": {},
   "outputs": [
    {
     "data": {
      "text/plain": [
       "torch.Size([28, 28, 1])"
      ]
     },
     "execution_count": 103,
     "metadata": {},
     "output_type": "execute_result"
    }
   ],
   "source": [
    "image = image.permute(1,2,0)  # This is needed as CC,H,W gives a shape issue.\n",
    "image.shape"
   ]
  },
  {
   "cell_type": "code",
   "execution_count": 104,
   "metadata": {},
   "outputs": [
    {
     "data": {
      "text/plain": [
       "Text(0.5, 1.0, 'Dress')"
      ]
     },
     "execution_count": 104,
     "metadata": {},
     "output_type": "execute_result"
    },
    {
     "data": {
      "image/png": "[encoded data removed]",
      "text/plain": [
       "<Figure size 640x480 with 1 Axes>"
      ]
     },
     "metadata": {},
     "output_type": "display_data"
    }
   ],
   "source": [
    "plt.imshow(image, cmap=\"gray\")\n",
    "plt.title(classes[label])"
   ]
  },
  {
   "cell_type": "code",
   "execution_count": 105,
   "metadata": {},
   "outputs": [
    {
     "data": {
      "image/png": "[encoded data removed]",
      "text/plain": [
       "<Figure size 900x900 with 25 Axes>"
      ]
     },
     "metadata": {},
     "output_type": "display_data"
    }
   ],
   "source": [
    "torch.manual_seed(33)\n",
    "fig = plt.figure(figsize=(9,9))\n",
    "rows,columns = 5,5\n",
    "\n",
    "for i in range(1, rows*columns+1):\n",
    "    random_idx = torch.randint(0,len(train_data)+1, size =[1]).item()\n",
    "    img,label = train_data[random_idx]\n",
    "    fig.add_subplot(rows,columns,i)\n",
    "    plt.imshow(img.permute(1,2,0), cmap = \"gray\")\n",
    "    plt.title(classes[label])\n",
    "    plt.axis(False)"
   ]
  },
  {
   "cell_type": "code",
   "execution_count": null,
   "metadata": {},
   "outputs": [],
   "source": []
  },
  {
   "cell_type": "markdown",
   "metadata": {},
   "source": [
    "#### Prepare a Dataloader -> \n",
    "\n",
    "A dataloader converts our data into a **Python iterable**\n",
    "\n",
    "- Moreover, We do this to create **batches/mini-batches** out of our data. We do this because -> \n",
    "    - More computationally efficient, as in, computer hardware might not be able to look(store in memory) 60000 images in one hit, So we break it down into batches of 32.\n",
    "    - Gives our Neural Network more chances to update its parameter gradients per epoch"
   ]
  },
  {
   "cell_type": "code",
   "execution_count": 106,
   "metadata": {},
   "outputs": [],
   "source": [
    "from torch.utils.data import DataLoader\n",
    "BATCH_SIZE=32\n",
    "\n",
    "train_dataloader = DataLoader(train_data, batch_size=BATCH_SIZE,shuffle=0.3 )\n",
    "test_dataloader = DataLoader(test_data, batch_size=BATCH_SIZE )\n"
   ]
  },
  {
   "cell_type": "code",
   "execution_count": 107,
   "metadata": {},
   "outputs": [
    {
     "name": "stdout",
     "output_type": "stream",
     "text": [
      "Dataloaders: (<torch.utils.data.dataloader.DataLoader object at 0x0000020DE73CD940>, <torch.utils.data.dataloader.DataLoader object at 0x0000020DCEE9F7D0>)\n",
      "Length of train dataloader: 1875 batches of 32\n",
      "Length of test dataloader: 313 batches of 32\n"
     ]
    }
   ],
   "source": [
    "print(f\"Dataloaders: {train_dataloader, test_dataloader}\") \n",
    "print(f\"Length of train dataloader: {len(train_dataloader)} batches of {BATCH_SIZE}\")\n",
    "print(f\"Length of test dataloader: {len(test_dataloader)} batches of {BATCH_SIZE}\")"
   ]
  },
  {
   "cell_type": "code",
   "execution_count": 108,
   "metadata": {},
   "outputs": [
    {
     "data": {
      "text/plain": [
       "(torch.Size([32, 1, 28, 28]),\n",
       " torch.Size([32]),\n",
       " torch.Size([32, 1, 28, 28]),\n",
       " torch.Size([32]))"
      ]
     },
     "execution_count": 108,
     "metadata": {},
     "output_type": "execute_result"
    }
   ],
   "source": [
    "#Checking out whats inside the dataloader -> \n",
    "\n",
    "train_features_batch, train_labels_batch = next(iter(train_dataloader))\n",
    "test_features_batch, test_labels_batch = next(iter(test_dataloader))\n",
    "train_features_batch.shape, train_labels_batch.shape, test_features_batch.shape, test_labels_batch.shape"
   ]
  },
  {
   "cell_type": "code",
   "execution_count": 109,
   "metadata": {},
   "outputs": [
    {
     "name": "stdout",
     "output_type": "stream",
     "text": [
      "torch.Size([1, 28, 28])\n",
      "tensor(7)\n"
     ]
    },
    {
     "data": {
      "image/png": "[encoded data removed]",
      "text/plain": [
       "<Figure size 640x480 with 1 Axes>"
      ]
     },
     "metadata": {},
     "output_type": "display_data"
    }
   ],
   "source": [
    "random_idx=torch.randint(0,len(train_features_batch),size=[1]).item()\n",
    "img,label = train_features_batch[random_idx],train_labels_batch[random_idx]\n",
    "plt.imshow(img.squeeze(),cmap=\"gray\")\n",
    "plt.title(classes[label])\n",
    "print(img.size())\n",
    "print(label)"
   ]
  },
  {
   "cell_type": "markdown",
   "metadata": {},
   "source": [
    "## Building the Model ->"
   ]
  },
  {
   "cell_type": "markdown",
   "metadata": {},
   "source": [
    "First we will build a base model, Then we will improve through experimentation."
   ]
  },
  {
   "cell_type": "code",
   "execution_count": 110,
   "metadata": {},
   "outputs": [
    {
     "name": "stdout",
     "output_type": "stream",
     "text": [
      "Shape before flattening: torch.Size([1, 28, 28]) -> [color_channels, height, width]\n",
      "Shape after flattening: torch.Size([1, 784]) -> [color_channels, height*width]\n"
     ]
    }
   ],
   "source": [
    "# Create a flatten layer\n",
    "flatten_model = nn.Flatten() # all nn modules function as a model (can do a forward pass)\n",
    "\n",
    "# Get a single sample\n",
    "x = train_features_batch[0]\n",
    "\n",
    "# Flatten the sample\n",
    "output = flatten_model(x) # perform forward pass\n",
    "\n",
    "# Print out what happened\n",
    "print(f\"Shape before flattening: {x.shape} -> [color_channels, height, width]\")\n",
    "print(f\"Shape after flattening: {output.shape} -> [color_channels, height*width]\")\n"
   ]
  },
  {
   "cell_type": "code",
   "execution_count": 111,
   "metadata": {},
   "outputs": [],
   "source": [
    "from torch import nn\n",
    "\n",
    "class FashionMNISTModelV1(nn.Module):\n",
    "    \n",
    "    def __init__(self,\n",
    "                 input_shape:int,\n",
    "                 hidden_units:int, \n",
    "                 output_shape:int):\n",
    "        super().__init__()\n",
    "        \n",
    "        self.layer_stack  = nn.Sequential(\n",
    "            \n",
    "            nn.Flatten(),\n",
    "            nn.Linear(in_features=input_shape,out_features=hidden_units),\n",
    "            nn.Linear(in_features=hidden_units,out_features=output_shape)\n",
    "            \n",
    "        )\n",
    "        \n",
    "    def forward(self,x):\n",
    "        return self.layer_stack(x)"
   ]
  },
  {
   "cell_type": "code",
   "execution_count": 112,
   "metadata": {},
   "outputs": [],
   "source": [
    "model_1=FashionMNISTModelV1(input_shape=784,hidden_units=8,output_shape=len(classes)).to(\"cpu\")"
   ]
  },
  {
   "cell_type": "code",
   "execution_count": 113,
   "metadata": {},
   "outputs": [
    {
     "name": "stdout",
     "output_type": "stream",
     "text": [
      "tensor([[-0.0937,  0.0064,  0.2994, -0.1454, -0.1907, -0.2728,  0.1421, -0.0125,\n",
      "          0.1929,  0.3708]], grad_fn=<AddmmBackward0>)\n",
      "\n",
      "\n",
      "OrderedDict({'layer_stack.1.weight': tensor([[-0.0042, -0.0270, -0.0014,  ..., -0.0146, -0.0038,  0.0296],\n",
      "        [-0.0009, -0.0100, -0.0245,  ..., -0.0100,  0.0129,  0.0138],\n",
      "        [ 0.0333,  0.0327,  0.0254,  ...,  0.0032,  0.0176,  0.0133],\n",
      "        ...,\n",
      "        [-0.0283, -0.0134, -0.0307,  ...,  0.0287, -0.0190,  0.0111],\n",
      "        [-0.0091,  0.0060, -0.0075,  ..., -0.0351,  0.0126, -0.0351],\n",
      "        [-0.0256,  0.0234,  0.0286,  ..., -0.0329,  0.0002, -0.0313]]), 'layer_stack.1.bias': tensor([ 0.0077, -0.0168,  0.0250,  0.0091,  0.0055, -0.0219,  0.0357,  0.0341]), 'layer_stack.2.weight': tensor([[-0.1318, -0.1503, -0.2508,  0.3113, -0.3382,  0.3129,  0.2877, -0.1574],\n",
      "        [ 0.1703,  0.1100,  0.1795,  0.3219, -0.2020,  0.2292,  0.0198,  0.1457],\n",
      "        [-0.2661,  0.2335, -0.1219, -0.1736,  0.2082, -0.3071,  0.2983,  0.0194],\n",
      "        [ 0.0947,  0.0805, -0.0688,  0.2238,  0.1049, -0.1623,  0.0450, -0.2099],\n",
      "        [-0.1732, -0.2229,  0.1710, -0.0087, -0.1340,  0.1669, -0.2182, -0.0474],\n",
      "        [-0.1169, -0.2553, -0.3481,  0.1613,  0.0905, -0.2340,  0.1171, -0.1723],\n",
      "        [-0.1862, -0.0994, -0.1685,  0.1569, -0.0749, -0.0012,  0.0147, -0.1805],\n",
      "        [ 0.2620,  0.0008,  0.1825, -0.2895, -0.2743, -0.2185,  0.2955, -0.0581],\n",
      "        [ 0.3240, -0.3031, -0.2316, -0.2893, -0.0815, -0.2522,  0.0607, -0.2423],\n",
      "        [ 0.2781,  0.1085,  0.2046,  0.2257,  0.0714,  0.0737, -0.2799,  0.2988]]), 'layer_stack.2.bias': tensor([ 0.0544, -0.0205,  0.2654, -0.1923,  0.0111, -0.2467,  0.2842, -0.2801,\n",
      "        -0.0362,  0.2735])})\n"
     ]
    }
   ],
   "source": [
    "#Getting an idea how the result looks\n",
    "dummy_x= torch.rand([1,1,28,28])\n",
    "print(model_1(dummy_x))\n",
    "print(\"\\n\")\n",
    "print(model_1.state_dict())"
   ]
  },
  {
   "cell_type": "markdown",
   "metadata": {},
   "source": [
    "### Training the model -> "
   ]
  },
  {
   "cell_type": "code",
   "execution_count": 114,
   "metadata": {},
   "outputs": [],
   "source": [
    "#Importing accuracy function and defining Loss & Optimizer functions\n",
    "from helper_functions import accuracy_fn\n",
    "\n",
    "loss_fn  = torch.nn.CrossEntropyLoss()\n",
    "optimizer = torch.optim.SGD(params=model_1.parameters(), lr=0.05)\n",
    "\n"
   ]
  },
  {
   "cell_type": "markdown",
   "metadata": {},
   "source": [
    "Creating a function to time our experiments. \n",
    "\n",
    "As Machine Learning is very experimental. We usually only track -> \n",
    "\n",
    "-   Performance Metrics like Accuracy\n",
    "-   How fast it runs "
   ]
  },
  {
   "cell_type": "code",
   "execution_count": 115,
   "metadata": {},
   "outputs": [],
   "source": [
    "#Creating a function to time our experiments -> \n",
    "\n",
    "from timeit import default_timer as timer \n",
    "def print_train_time(start: float, end: float, device: torch.device = None):\n",
    "    \n",
    "    total_time = end - start\n",
    "    print(f\"Train time on {device}: {total_time:.3f} seconds\")\n",
    "    return total_time"
   ]
  },
  {
   "cell_type": "code",
   "execution_count": 116,
   "metadata": {},
   "outputs": [
    {
     "name": "stdout",
     "output_type": "stream",
     "text": [
      "Train time on cpu: 7.127 seconds\n"
     ]
    },
    {
     "data": {
      "text/plain": [
       "7.127450700000736"
      ]
     },
     "execution_count": 116,
     "metadata": {},
     "output_type": "execute_result"
    }
   ],
   "source": [
    "#Testing -> \n",
    "start_timer=timer()\n",
    "a=1\n",
    "for i in range(100000000): \n",
    "    a=a+1\n",
    "end_timer=timer()\n",
    "\n",
    "print_train_time(start=start_timer,end=end_timer,device=\"cpu\")"
   ]
  },
  {
   "cell_type": "markdown",
   "metadata": {},
   "source": [
    "Side note -> As we create batches, The weights and biases are updated every batch rather than every epoch"
   ]
  },
  {
   "cell_type": "markdown",
   "metadata": {},
   "source": [
    "## Creating a training and testing loop -> \n",
    "1. Loop through epochs\n",
    "2. Loop through training batches, perform training steps, calculate training loss **per batch**\n",
    "3. Loop through testing batches, perform testing steps, calculate the testing loss **per batch**\n",
    "4. Print and Time it"
   ]
  },
  {
   "cell_type": "code",
   "execution_count": 117,
   "metadata": {},
   "outputs": [
    {
     "name": "stderr",
     "output_type": "stream",
     "text": [
      "  0%|          | 0/5 [00:00<?, ?it/s]"
     ]
    },
    {
     "name": "stdout",
     "output_type": "stream",
     "text": [
      "Epoch: 0\n",
      "-------\n",
      "Looked at 0/60000 samples\n",
      "Looked at 8000/60000 samples\n",
      "Looked at 16000/60000 samples\n",
      "Looked at 24000/60000 samples\n",
      "Looked at 32000/60000 samples\n",
      "Looked at 40000/60000 samples\n",
      "Looked at 48000/60000 samples\n",
      "Looked at 56000/60000 samples\n"
     ]
    },
    {
     "name": "stderr",
     "output_type": "stream",
     "text": [
      " 20%|██        | 1/5 [00:10<00:41, 10.38s/it]"
     ]
    },
    {
     "name": "stdout",
     "output_type": "stream",
     "text": [
      "\n",
      "Train loss: 0.62830 | Test loss: 0.50948, Test acc: 81.91%\n",
      "\n",
      "Epoch: 1\n",
      "-------\n",
      "Looked at 0/60000 samples\n",
      "Looked at 8000/60000 samples\n",
      "Looked at 16000/60000 samples\n",
      "Looked at 24000/60000 samples\n",
      "Looked at 32000/60000 samples\n",
      "Looked at 40000/60000 samples\n",
      "Looked at 48000/60000 samples\n",
      "Looked at 56000/60000 samples\n"
     ]
    },
    {
     "name": "stderr",
     "output_type": "stream",
     "text": [
      " 40%|████      | 2/5 [00:20<00:31, 10.40s/it]"
     ]
    },
    {
     "name": "stdout",
     "output_type": "stream",
     "text": [
      "\n",
      "Train loss: 0.48109 | Test loss: 0.48215, Test acc: 83.14%\n",
      "\n",
      "Epoch: 2\n",
      "-------\n",
      "Looked at 0/60000 samples\n",
      "Looked at 8000/60000 samples\n",
      "Looked at 16000/60000 samples\n",
      "Looked at 24000/60000 samples\n",
      "Looked at 32000/60000 samples\n",
      "Looked at 40000/60000 samples\n",
      "Looked at 48000/60000 samples\n",
      "Looked at 56000/60000 samples\n"
     ]
    },
    {
     "name": "stderr",
     "output_type": "stream",
     "text": [
      " 60%|██████    | 3/5 [00:31<00:20, 10.31s/it]"
     ]
    },
    {
     "name": "stdout",
     "output_type": "stream",
     "text": [
      "\n",
      "Train loss: 0.45578 | Test loss: 0.47482, Test acc: 83.30%\n",
      "\n",
      "Epoch: 3\n",
      "-------\n",
      "Looked at 0/60000 samples\n",
      "Looked at 8000/60000 samples\n",
      "Looked at 16000/60000 samples\n",
      "Looked at 24000/60000 samples\n",
      "Looked at 32000/60000 samples\n",
      "Looked at 40000/60000 samples\n",
      "Looked at 48000/60000 samples\n",
      "Looked at 56000/60000 samples\n"
     ]
    },
    {
     "name": "stderr",
     "output_type": "stream",
     "text": [
      " 80%|████████  | 4/5 [00:39<00:09,  9.53s/it]"
     ]
    },
    {
     "name": "stdout",
     "output_type": "stream",
     "text": [
      "\n",
      "Train loss: 0.44219 | Test loss: 0.46229, Test acc: 83.71%\n",
      "\n",
      "Epoch: 4\n",
      "-------\n",
      "Looked at 0/60000 samples\n",
      "Looked at 8000/60000 samples\n",
      "Looked at 16000/60000 samples\n",
      "Looked at 24000/60000 samples\n",
      "Looked at 32000/60000 samples\n",
      "Looked at 40000/60000 samples\n",
      "Looked at 48000/60000 samples\n",
      "Looked at 56000/60000 samples\n"
     ]
    },
    {
     "name": "stderr",
     "output_type": "stream",
     "text": [
      "100%|██████████| 5/5 [00:46<00:00,  9.28s/it]"
     ]
    },
    {
     "name": "stdout",
     "output_type": "stream",
     "text": [
      "\n",
      "Train loss: 0.43377 | Test loss: 0.46765, Test acc: 83.55%\n",
      "\n",
      "Train time on cpu: 46.415 seconds\n"
     ]
    },
    {
     "name": "stderr",
     "output_type": "stream",
     "text": [
      "\n"
     ]
    }
   ],
   "source": [
    "#Importing progress bar -> \n",
    "from tqdm.auto import tqdm\n",
    "\n",
    "torch.manual_seed(42)\n",
    "#Starting the timer \n",
    "trainTimeStartOnCPU=timer()\n",
    "\n",
    "#Setting up Epochs ( Small for faster training )    \n",
    "epochs = 5\n",
    "\n",
    "for epoch in tqdm(range(epochs)):\n",
    "    print(f\"Epoch: {epoch}\\n-------\")\n",
    "    \n",
    "    #Training -> \n",
    "    training_loss = 0\n",
    "    training_accuracy=0\n",
    "    \n",
    "    #Looping through the training batches -> \n",
    "    for batch,(X,y) in enumerate(train_dataloader):\n",
    "        model_1.train()\n",
    "        \n",
    "        #Forward pass\n",
    "        y_pred=model_1(X)\n",
    "        \n",
    "        #Loss per batch \n",
    "        loss = loss_fn(y_pred, y)\n",
    "        training_loss = training_loss + loss\n",
    "        \n",
    "        optimizer.zero_grad()\n",
    "        \n",
    "        loss.backward()\n",
    "        \n",
    "        optimizer.step() # This optimizer step updates parameters at every batch, rather than every epoch.\n",
    "        \n",
    "    \n",
    "        if batch%250==0 or batch==1875:\n",
    "            print(f\"Looked at {batch * len(X)}/{len(train_dataloader.dataset)} samples\")\n",
    "    \n",
    "\n",
    "    training_loss /= len(train_dataloader)\n",
    "    \n",
    "    \n",
    "    #Testing -> \n",
    "    testing_loss = testing_accuracy = 0\n",
    "    model_1.eval()\n",
    "    \n",
    "    with torch.inference_mode():\n",
    "        for X,y in test_dataloader:\n",
    "            \n",
    "            y_pred_test = model_1(X)\n",
    "            \n",
    "            test_loss=loss_fn(y_pred_test, y)\n",
    "            testing_loss+=test_loss\n",
    "            \n",
    "            testing_acc=accuracy_fn(y_true=y,y_pred=y_pred_test.argmax(dim=1))\n",
    "            testing_accuracy+=testing_acc\n",
    "            \n",
    "        \n",
    "        testing_loss /= len(test_dataloader)\n",
    "        testing_accuracy /= len(test_dataloader)\n",
    "        \n",
    "    print(f\"\\nTrain loss: {training_loss:.5f} | Test loss: {testing_loss:.5f}, Test acc: {testing_accuracy:.2f}%\\n\")\n",
    "    \n",
    "    \n",
    "\n",
    "#End the timer -> \n",
    "trainTimeEndOnCPU = timer()\n",
    "#Calculating the time -> \n",
    "totalTrainingTimeOnCPU_model1= print_train_time(start=trainTimeStartOnCPU,\n",
    "                                                end=trainTimeEndOnCPU,\n",
    "                                                device = str(next(model_1.parameters()).device))\n",
    "            \n",
    "\n"
   ]
  },
  {
   "cell_type": "code",
   "execution_count": 140,
   "metadata": {},
   "outputs": [],
   "source": [
    "torch.manual_seed(42)\n",
    "device = \"cuda\" if torch.cuda.is_available() else \"cpu\"\n",
    "#Defining a evaluation model to be used again and again :)\n",
    "def evaluate_model(model:torch.nn.Module,\n",
    "                   data_loader:torch.utils.data.DataLoader,\n",
    "                   loss_fn:torch.nn.Module,\n",
    "                   accuracy_fn):\n",
    "     \n",
    "     #Returns a dictionary containing the results of model predicting on the dataloader.\n",
    "    loss,acc=0,0\n",
    "    \n",
    "    model.eval()\n",
    "    with torch.inference_mode():\n",
    "        for X,y in data_loader:\n",
    "            \n",
    "            #Device agnostic -> \n",
    "            X=X.to(device)\n",
    "            y=y.to(device)\n",
    "            \n",
    "            y_pred= model(X)\n",
    "             \n",
    "            loss+=loss_fn(y_pred,y)\n",
    "            acc+=accuracy_fn(y_true=y, y_pred=y_pred.argmax(dim=1))\n",
    "             \n",
    "\n",
    "        loss/=len(data_loader)\n",
    "        acc/=len(data_loader)\n",
    "        \n",
    "    return {\"Model Name\":model.__class__.__name__ ,\n",
    "            \"Model Loss\":loss.item(),\n",
    "            \"Model Accuracy\":acc}\n",
    "    "
   ]
  },
  {
   "cell_type": "code",
   "execution_count": 119,
   "metadata": {},
   "outputs": [
    {
     "name": "stdout",
     "output_type": "stream",
     "text": [
      "{'Model Name': 'FashionMNISTModelV1', 'Model Loss': 0.4676506221294403, 'Model Accuracy': 83.54632587859425}\n"
     ]
    }
   ],
   "source": [
    "model_1_results=evaluate_model(model=model_1, data_loader=test_dataloader,loss_fn=loss_fn,accuracy_fn=accuracy_fn)\n",
    "\n",
    "print(model_1_results)"
   ]
  },
  {
   "cell_type": "markdown",
   "metadata": {},
   "source": [
    "### Setting up device agnostic code -> "
   ]
  },
  {
   "cell_type": "code",
   "execution_count": 120,
   "metadata": {},
   "outputs": [
    {
     "data": {
      "text/plain": [
       "(True, 'cuda')"
      ]
     },
     "execution_count": 120,
     "metadata": {},
     "output_type": "execute_result"
    }
   ],
   "source": [
    "device = \"cuda\" if torch.cuda.is_available else \"cpu\"\n",
    "torch.cuda.is_available() , device"
   ]
  },
  {
   "cell_type": "code",
   "execution_count": 134,
   "metadata": {},
   "outputs": [
    {
     "name": "stdout",
     "output_type": "stream",
     "text": [
      "\n",
      "Epoch0 :Train loss: 2.3291330337524414 | Test loss: 2.327760696411133\n",
      "\n",
      "Epoch1 :Train loss: 2.329134941101074 | Test loss: 2.327760696411133\n",
      "\n",
      "Epoch2 :Train loss: 2.329132318496704 | Test loss: 2.327760696411133\n",
      "\n",
      "Epoch3 :Train loss: 2.3291356563568115 | Test loss: 2.327760696411133\n",
      "\n",
      "Epoch4 :Train loss: 2.3291356563568115 | Test loss: 2.327760696411133\n"
     ]
    }
   ],
   "source": [
    "# # Trying to implement on my own for practicing newer syntax\n",
    "# import torch.nn as nn\n",
    "# class PracticeModel(nn.Module):\n",
    "    \n",
    "#     def __init__(self,input_layers,hidden_layers,output_layers):\n",
    "#         super().__init__()\n",
    "        \n",
    "#         self.layers=nn.Sequential(\n",
    "#             nn.Flatten(),\n",
    "#             nn.Linear(in_features=input_layers,out_features=hidden_layers),\n",
    "#             nn.Linear(in_features=hidden_layers,out_features=output_layers)\n",
    "#         )\n",
    "        \n",
    "#     def forward(self,x):\n",
    "#         return self.layers(x)\n",
    "    \n",
    "    \n",
    "# # print(loss_fn , optimizer)\n",
    "# torch.manual_seed(42)  # Ensures reproducibility\n",
    "# mymodel=PracticeModel(input_layers=784,hidden_layers=8,output_layers=len(classes))\n",
    "# # dummy_x=dummy_x.to(device)\n",
    "# # testprediction=mymodel(dummy_x).squeeze()\n",
    "# # torch.argmax(torch.softmax(testprediction,dim=0),dim=0)\n",
    "\n",
    "# #Training and Testing loops -> \n",
    "\n",
    "\n",
    "# epochs = 5\n",
    "\n",
    "# for epoch in range(epochs):\n",
    "#     mymodel.train()\n",
    "#     trainloss=0\n",
    "#     for batch,(X,y) in enumerate(train_dataloader):\n",
    "        \n",
    "#         y_pred=mymodel(X)\n",
    "        \n",
    "#         lossperbatch=loss_fn(y_pred,y)\n",
    "        \n",
    "#         trainloss +=loss_fn(y_pred,y)\n",
    "        \n",
    "#         optimizer.zero_grad()\n",
    "        \n",
    "#         lossperbatch.backward()\n",
    "      \n",
    "#         optimizer.step()\n",
    "        \n",
    "#     trainloss/=len(train_dataloader)\n",
    "    \n",
    "    \n",
    "#     #Testing -> \n",
    "#     testloss, testaccuracy=0,0\n",
    "#     mymodel.eval()\n",
    "    \n",
    "#     with torch.inference_mode():\n",
    "#         for X,y in test_dataloader:\n",
    "#             test_pred = mymodel(X)\n",
    "            \n",
    "#             testloss+=loss_fn(test_pred,y)\n",
    "#             # testaccuracy= testaccuracy+accuracy_fn(y_true=y,y_pred=test_pred)\n",
    "            \n",
    "#         testloss/=len(test_dataloader)\n",
    "#         # testaccuracy/=len(test_dataloader)\n",
    "        \n",
    "#     print(f\"\\nEpoch{epoch} :Train loss: {trainloss} | Test loss: {testloss}\")"
   ]
  },
  {
   "cell_type": "markdown",
   "metadata": {},
   "source": [
    "## Building a better model with Non-Linearity"
   ]
  },
  {
   "cell_type": "markdown",
   "metadata": {},
   "source": [
    "#### Defining & Initialising the Model, Loss Function and Optimizer ->  "
   ]
  },
  {
   "cell_type": "code",
   "execution_count": 135,
   "metadata": {},
   "outputs": [],
   "source": [
    "class FashionMNISTModelV2(nn.Module):\n",
    "    \n",
    "    def __init__(self,input_features,output_features,hidden_features):\n",
    "        super().__init__()\n",
    "        self.layers=nn.Sequential(\n",
    "            nn.Flatten(),\n",
    "            nn.Linear(in_features=input_features,out_features=hidden_features),\n",
    "            nn.ReLU(),\n",
    "            nn.Linear(in_features=hidden_features,out_features=output_features),\n",
    "            nn.ReLU()\n",
    "        )\n",
    "        \n",
    "    def forward(self,x):\n",
    "        return self.layers(x)"
   ]
  },
  {
   "cell_type": "code",
   "execution_count": 136,
   "metadata": {},
   "outputs": [],
   "source": [
    "torch.manual_seed(42)\n",
    "\n",
    "model_2=FashionMNISTModelV2(input_features=784,output_features=len(classes),hidden_features=8).to(device)\n",
    "\n",
    "from helper_functions import accuracy_fn\n",
    "loss_fn = torch.nn.CrossEntropyLoss()\n",
    "optimizer= torch.optim.SGD(params=model_2.parameters(),lr=0.05)\n"
   ]
  },
  {
   "cell_type": "markdown",
   "metadata": {},
   "source": [
    "#### Functionizing the Training and Testing part -> \n",
    "\n",
    "This function will \n",
    "- Carry out the training loop -> `train_step()` \n",
    "- Carry out the testing loop -> `test_step()` "
   ]
  },
  {
   "cell_type": "code",
   "execution_count": 137,
   "metadata": {},
   "outputs": [],
   "source": [
    "import torch.utils\n",
    "import torch.utils.data\n",
    "\n",
    "\n",
    "def train_step(model:torch.nn.Module,\n",
    "               data_loader:torch.utils.data.DataLoader,\n",
    "               loss_fn:torch.nn.Module,\n",
    "               optimizer=torch.optim.Optimizer, \n",
    "               accuracy_fn=accuracy_fn,\n",
    "               device = device):\n",
    "    \n",
    "    model.train()\n",
    "    training_loss=0\n",
    "    training_accuracy=0\n",
    "    \n",
    "    for batch, (X,y) in enumerate(data_loader):\n",
    "        \n",
    "        X=X.to(device)\n",
    "        y=y.to(device)\n",
    "        \n",
    "        y_pred = model(X)\n",
    "        \n",
    "        loss_per_batch=loss_fn(y_pred,y)\n",
    "        training_loss+=loss_per_batch\n",
    "        training_accuracy+=accuracy_fn(y_true=y,y_pred=y_pred.argmax(dim=1))\n",
    "        \n",
    "        optimizer.zero_grad()\n",
    "        \n",
    "        loss_per_batch.backward()\n",
    "        \n",
    "        optimizer.step()\n",
    "    \n",
    "    training_loss/=len(data_loader)\n",
    "    training_accuracy/=len(data_loader)\n",
    "    \n",
    "    print(f\"Train loss: {training_loss:.5f} | Train accuracy: {training_accuracy:.2f}%\")\n",
    "        "
   ]
  },
  {
   "cell_type": "code",
   "execution_count": 138,
   "metadata": {},
   "outputs": [],
   "source": [
    "def test_step(model:torch.nn.Module,\n",
    "              data_loader:torch.utils.data.DataLoader,\n",
    "              loss_fn:torch.nn.Module,\n",
    "              accuracy_fn=accuracy_fn,\n",
    "              device=device):\n",
    "    \n",
    "    model.eval()\n",
    "    \n",
    "    testing_loss =0\n",
    "    testing_accuracy=0\n",
    "    with torch.inference_mode():\n",
    "        for X,y in data_loader:\n",
    "            X=X.to(device)                  #Missed device agnostic once\n",
    "            y=y.to(device)\n",
    "            y_pred_test = model(X)\n",
    "            \n",
    "            testing_loss+= loss_fn(y_pred_test,y)\n",
    "            testing_accuracy+=accuracy_fn(y_true=y,y_pred=y_pred_test.argmax(dim=1)) #Missed argmax twice\n",
    "            \n",
    "            \n",
    "        testing_loss/=len(data_loader)\n",
    "        testing_accuracy/=len(data_loader)\n",
    "    \n",
    "        print(f\"Test loss: {testing_loss:.5f} | Test accuracy: {testing_accuracy:.2f}%\\n\")\n",
    "\n",
    "        "
   ]
  },
  {
   "cell_type": "code",
   "execution_count": 139,
   "metadata": {},
   "outputs": [
    {
     "name": "stderr",
     "output_type": "stream",
     "text": [
      "  0%|          | 0/5 [00:00<?, ?it/s]"
     ]
    },
    {
     "name": "stdout",
     "output_type": "stream",
     "text": [
      "Epoch: 0\n",
      "---------\n",
      "Train loss: 1.08888 | Train accuracy: 59.72%\n"
     ]
    },
    {
     "name": "stderr",
     "output_type": "stream",
     "text": [
      " 20%|██        | 1/5 [00:10<00:42, 10.53s/it]"
     ]
    },
    {
     "name": "stdout",
     "output_type": "stream",
     "text": [
      "Test loss: 0.78419 | Test accuracy: 71.27%\n",
      "\n",
      "Epoch: 1\n",
      "---------\n",
      "Train loss: 0.74502 | Train accuracy: 72.44%\n"
     ]
    },
    {
     "name": "stderr",
     "output_type": "stream",
     "text": [
      " 40%|████      | 2/5 [00:24<00:37, 12.39s/it]"
     ]
    },
    {
     "name": "stdout",
     "output_type": "stream",
     "text": [
      "Test loss: 0.72406 | Test accuracy: 73.16%\n",
      "\n",
      "Epoch: 2\n",
      "---------\n",
      "Train loss: 0.58810 | Train accuracy: 78.73%\n"
     ]
    },
    {
     "name": "stderr",
     "output_type": "stream",
     "text": [
      " 60%|██████    | 3/5 [00:39<00:27, 13.59s/it]"
     ]
    },
    {
     "name": "stdout",
     "output_type": "stream",
     "text": [
      "Test loss: 0.49213 | Test accuracy: 83.05%\n",
      "\n",
      "Epoch: 3\n",
      "---------\n",
      "Train loss: 0.45946 | Train accuracy: 83.81%\n"
     ]
    },
    {
     "name": "stderr",
     "output_type": "stream",
     "text": [
      " 80%|████████  | 4/5 [00:53<00:14, 14.00s/it]"
     ]
    },
    {
     "name": "stdout",
     "output_type": "stream",
     "text": [
      "Test loss: 0.47315 | Test accuracy: 83.44%\n",
      "\n",
      "Epoch: 4\n",
      "---------\n",
      "Train loss: 0.44507 | Train accuracy: 84.29%\n"
     ]
    },
    {
     "name": "stderr",
     "output_type": "stream",
     "text": [
      "100%|██████████| 5/5 [01:08<00:00, 13.77s/it]"
     ]
    },
    {
     "name": "stdout",
     "output_type": "stream",
     "text": [
      "Test loss: 0.47775 | Test accuracy: 83.16%\n",
      "\n",
      "Train time on cuda: 68.836 seconds\n"
     ]
    },
    {
     "name": "stderr",
     "output_type": "stream",
     "text": [
      "\n"
     ]
    }
   ],
   "source": [
    "torch.manual_seed(42)\n",
    "\n",
    "from timeit import default_timer as timer #For timing the operation\n",
    "\n",
    "trainTimeStartonGPU=timer()\n",
    "\n",
    "epochs=5\n",
    "\n",
    "for epoch in tqdm(range(epochs)):\n",
    "    print(f\"Epoch: {epoch}\\n---------\")\n",
    "    train_step(model=model_2,\n",
    "               data_loader=train_dataloader,\n",
    "               loss_fn=loss_fn,\n",
    "               optimizer=optimizer,\n",
    "               accuracy_fn=accuracy_fn,\n",
    "               device=\"cuda\")\n",
    "    \n",
    "    test_step(model=model_2,\n",
    "               data_loader=test_dataloader,\n",
    "               loss_fn=loss_fn,\n",
    "               accuracy_fn=accuracy_fn,\n",
    "               device=\"cuda\")\n",
    "    \n",
    "    \n",
    "trainTimeEndOnGPU=timer()\n",
    "\n",
    "totalTrainingTimeOnGPU_model2=print_train_time(start=trainTimeStartonGPU,\n",
    "                                               end=trainTimeEndOnGPU,\n",
    "                                               device=device)"
   ]
  },
  {
   "cell_type": "code",
   "execution_count": 144,
   "metadata": {},
   "outputs": [
    {
     "name": "stdout",
     "output_type": "stream",
     "text": [
      "{'Model Name': 'FashionMNISTModelV1', 'Model Loss': 0.4676506221294403, 'Model Accuracy': 83.54632587859425}\n"
     ]
    }
   ],
   "source": [
    "print(model_1_results)"
   ]
  },
  {
   "cell_type": "code",
   "execution_count": 145,
   "metadata": {},
   "outputs": [
    {
     "name": "stdout",
     "output_type": "stream",
     "text": [
      "{'Model Name': 'FashionMNISTModelV2', 'Model Loss': 0.47775229811668396, 'Model Accuracy': 83.15694888178913}\n"
     ]
    }
   ],
   "source": [
    "model_2_results=evaluate_model(model_2,test_dataloader,loss_fn,accuracy_fn)\n",
    "print(model_2_results)"
   ]
  },
  {
   "cell_type": "markdown",
   "metadata": {},
   "source": [
    "#### Note :\n",
    "Sometimes the compute time on CPU is lesser than on the GPU. This might be because -> \n",
    "- Overhead for the copying data and model to and from the GPU outweights the benefits by GPU\n",
    "- The hardware I am using might have a better processor than a graphics card. "
   ]
  },
  {
   "cell_type": "markdown",
   "metadata": {},
   "source": [
    "### Which model to use when?\n",
    "| Problem type | Model to use (generally) | Code example |\n",
    "|---|---|---|\n",
    "| Structured data (Excel spreadsheets, row and column data) | Gradient boosted models, Random Forests, XGBoost | sklearn.ensemble, XGBoost library |\n",
    "| Unstructured data (images, audio, language) | Convolutional Neural Networks, Transformers | torchvision.models, HuggingFace Transformers |"
   ]
  },
  {
   "cell_type": "code",
   "execution_count": 146,
   "metadata": {},
   "outputs": [],
   "source": [
    "#As Convolutional Neural Networks are great for images, We will try using them on the same dataset."
   ]
  },
  {
   "cell_type": "markdown",
   "metadata": {},
   "source": [
    "# Convolutional Neural Networks ➠\n",
    "\n",
    "CNN's are known for their capabilities to find patterns in visual data.\n",
    "\n",
    "It follows the typical structure of a convolutional neural network:\n",
    "\n",
    "``Input layer -> [Convolutional layer -> activation layer -> pooling layer] -> Output layer``\n",
    "\n",
    "Where the contents of [Convolutional layer -> activation layer -> pooling layer] can be upscaled and repeated multiple times, depending on requirements.\n",
    "\n",
    "Great Resource to visualise CNNs -> https://poloclub.github.io/cnn-explainer/"
   ]
  },
  {
   "cell_type": "code",
   "execution_count": 320,
   "metadata": {},
   "outputs": [],
   "source": [
    "class FashionMNISTModelV3(nn.Module):\n",
    "    \n",
    "    #The model of this model replicated the TinyVGG model i.e. the cnn-explainer site model.\n",
    "    def __init__(self, input_shape, hidden_features, output_shape):\n",
    "        \n",
    "        super().__init__()\n",
    "        \n",
    "        self.conv_block1 = nn.Sequential(\n",
    "            nn.Conv2d(in_channels=input_shape,\n",
    "                      out_channels=hidden_features,\n",
    "                      kernel_size=3,\n",
    "                      stride=1,\n",
    "                      padding=1),\n",
    "            \n",
    "            nn.ReLU(),\n",
    "            \n",
    "            nn.Conv2d(in_channels=hidden_features,\n",
    "                      out_channels=hidden_features,\n",
    "                      kernel_size=3, \n",
    "                      stride=1,\n",
    "                      padding=1),\n",
    "            \n",
    "            nn.ReLU(),\n",
    "            \n",
    "            nn.MaxPool2d(kernel_size=2),\n",
    "        )\n",
    "        \n",
    "        self.conv_block2=nn.Sequential(\n",
    "            nn.Conv2d(in_channels=hidden_features,\n",
    "                      out_channels=hidden_features,\n",
    "                      kernel_size=3,\n",
    "                      stride=1,\n",
    "                      padding=1),\n",
    "            nn.ReLU(),\n",
    "            nn.Conv2d(in_channels=hidden_features,\n",
    "                      out_channels=hidden_features,\n",
    "                      kernel_size=3,\n",
    "                      stride=1,\n",
    "                      padding=1),\n",
    "            nn.ReLU(),\n",
    "            nn.MaxPool2d(kernel_size=2)\n",
    "        )\n",
    "        \n",
    "        self.classifier=nn.Sequential(\n",
    "            nn.Flatten(),\n",
    "            nn.Linear(in_features=hidden_features*7*7, #CATCH #Printing helps me see the dimensions after each layer and then when theres a mismatch, I can multiply by the output shown. \n",
    "                      out_features=output_shape)\n",
    "        )\n",
    "        \n",
    "    def forward(self,x):\n",
    "        x=self.conv_block1(x)\n",
    "        # print(f\"Output Shape of Convolutional Layer 1 : {x.shape}\")\n",
    "        x=self.conv_block2(x)\n",
    "        # print(f\"Output Shape of Convolutional Layer 2 : {x.shape}\")\n",
    "        \n",
    "        x=self.classifier(x)\n",
    "        # print(f\"Output Shape of Classifier : {x.shape}\") #As code worked , Commented it\n",
    "        return x\n",
    "    "
   ]
  },
  {
   "cell_type": "code",
   "execution_count": 321,
   "metadata": {},
   "outputs": [
    {
     "data": {
      "text/plain": [
       "FashionMNISTModelV3(\n",
       "  (conv_block1): Sequential(\n",
       "    (0): Conv2d(1, 10, kernel_size=(3, 3), stride=(1, 1), padding=(1, 1))\n",
       "    (1): ReLU()\n",
       "    (2): Conv2d(10, 10, kernel_size=(3, 3), stride=(1, 1), padding=(1, 1))\n",
       "    (3): ReLU()\n",
       "    (4): MaxPool2d(kernel_size=2, stride=2, padding=0, dilation=1, ceil_mode=False)\n",
       "  )\n",
       "  (conv_block2): Sequential(\n",
       "    (0): Conv2d(10, 10, kernel_size=(3, 3), stride=(1, 1), padding=(1, 1))\n",
       "    (1): ReLU()\n",
       "    (2): Conv2d(10, 10, kernel_size=(3, 3), stride=(1, 1), padding=(1, 1))\n",
       "    (3): ReLU()\n",
       "    (4): MaxPool2d(kernel_size=2, stride=2, padding=0, dilation=1, ceil_mode=False)\n",
       "  )\n",
       "  (classifier): Sequential(\n",
       "    (0): Flatten(start_dim=1, end_dim=-1)\n",
       "    (1): Linear(in_features=490, out_features=10, bias=True)\n",
       "  )\n",
       ")"
      ]
     },
     "execution_count": 321,
     "metadata": {},
     "output_type": "execute_result"
    }
   ],
   "source": [
    "model_3=FashionMNISTModelV3(input_shape=1,#Colour channels\n",
    "                            hidden_features=10,\n",
    "                            output_shape=len(classes)).to(device)\n",
    "\n",
    "model_3"
   ]
  },
  {
   "cell_type": "markdown",
   "metadata": {},
   "source": [
    "#### Demo of Conv2d :\n"
   ]
  },
  {
   "cell_type": "code",
   "execution_count": 322,
   "metadata": {},
   "outputs": [
    {
     "name": "stdout",
     "output_type": "stream",
     "text": [
      "torch.Size([32, 3, 64, 64])\n",
      "torch.Size([3, 64, 64])\n",
      "\n",
      "\n",
      " tensor([[[-1.7955,  0.6555,  1.1597,  ...,  0.4398,  0.5811, -1.2189],\n",
      "         [-0.6143,  1.1123, -0.7924,  ..., -1.1712,  1.2513,  0.9562],\n",
      "         [ 0.4200,  1.1014, -1.5735,  ...,  0.0159, -1.2130, -1.0179],\n",
      "         ...,\n",
      "         [ 1.7732, -0.1374, -1.0113,  ...,  1.6482, -0.1863,  1.7761],\n",
      "         [ 0.7253, -1.3532, -0.2159,  ..., -1.5052, -0.2578, -0.0622],\n",
      "         [-0.0599,  1.6784, -0.9217,  ..., -1.0474,  1.4348, -0.5325]],\n",
      "\n",
      "        [[-0.7258, -1.2761,  0.1866,  ..., -1.7937,  1.7385, -0.0069],\n",
      "         [-1.2003, -0.2416,  1.2625,  ...,  0.5476, -0.8019, -0.3010],\n",
      "         [-1.4738,  0.7157,  0.2390,  ...,  0.5028, -0.7331,  1.1599],\n",
      "         ...,\n",
      "         [-0.2857, -1.4501, -1.2094,  ..., -0.5005,  0.3822,  0.3368],\n",
      "         [ 0.5970,  0.6748,  0.0900,  ...,  1.0332, -2.3279,  0.8008],\n",
      "         [-0.6781, -0.0285, -0.3400,  ..., -3.3112,  0.0214, -0.0929]],\n",
      "\n",
      "        [[-0.3915, -2.5962,  0.2501,  ..., -0.1265,  1.5527, -2.6119],\n",
      "         [-0.3579, -1.1609, -0.9916,  ..., -2.0303, -0.7685, -0.0132],\n",
      "         [-0.4006, -0.2768,  0.7492,  ...,  1.3180, -0.7894, -0.1499],\n",
      "         ...,\n",
      "         [-1.0623,  1.4116, -0.1675,  ..., -1.5763,  0.0615, -0.6503],\n",
      "         [-1.5507,  1.3365,  0.2385,  ..., -0.4397,  0.4081,  0.1277],\n",
      "         [ 0.5848,  1.3371, -1.2321,  ...,  0.0867,  0.3201,  1.2334]]])\n"
     ]
    }
   ],
   "source": [
    "images = torch.randn(size=(32,3,64,64))\n",
    "test_image = images[0]\n",
    "\n",
    "print(images.shape)\n",
    "print(test_image.shape)\n",
    "print(\"\\n\\n\",test_image)"
   ]
  },
  {
   "cell_type": "code",
   "execution_count": 323,
   "metadata": {},
   "outputs": [
    {
     "data": {
      "text/plain": [
       "(torch.Size([3, 64, 64]), torch.Size([10, 64, 64]))"
      ]
     },
     "execution_count": 323,
     "metadata": {},
     "output_type": "execute_result"
    }
   ],
   "source": [
    "#Setting up a conv layer -> \n",
    "conv_layer= nn.Conv2d(in_channels=3,\n",
    "                      out_channels=10,\n",
    "                      kernel_size=(3,3),\n",
    "                      stride=1,\n",
    "                      padding=1)\n",
    "#Visualising conv layer ->\n",
    "conv_output = conv_layer(test_image)\n",
    "test_image.shape, conv_output.shape"
   ]
  },
  {
   "cell_type": "code",
   "execution_count": 324,
   "metadata": {},
   "outputs": [
    {
     "name": "stdout",
     "output_type": "stream",
     "text": [
      "Test Image Shape: torch.Size([3, 64, 64])\n",
      "Convolution Output Shape: torch.Size([10, 64, 64])\n",
      "Max Pooled and Convolved Layer Shape: torch.Size([10, 32, 32])\n"
     ]
    }
   ],
   "source": [
    "#Setting up a MaxPool2d -> \n",
    "\n",
    "max_pool_layer = nn.MaxPool2d(kernel_size=2)\n",
    "\n",
    "\n",
    "max_pooled_n_convulated_layer = max_pool_layer(conv_layer(test_image))\n",
    "\n",
    "print(f\"Test Image Shape: {test_image.shape}\\nConvolution Output Shape: {conv_output.shape}\\nMax Pooled and Convolved Layer Shape: {max_pooled_n_convulated_layer.shape}\")"
   ]
  },
  {
   "cell_type": "code",
   "execution_count": 325,
   "metadata": {},
   "outputs": [
    {
     "name": "stdout",
     "output_type": "stream",
     "text": [
      "Dummy Tensor:\n",
      "tensor([[[0.1075, 0.7376, 0.2088, 0.8272],\n",
      "         [0.6871, 0.0161, 0.1696, 0.6496],\n",
      "         [0.2303, 0.7455, 0.0650, 0.7944],\n",
      "         [0.3754, 0.0168, 0.5622, 0.6294]]])\n",
      "Max Pooled Tensor:\n",
      "tensor([[[0.7376, 0.8272],\n",
      "         [0.7455, 0.7944]]])\n",
      "\n",
      "Dummy Tensor Shape: torch.Size([1, 4, 4])\n",
      "Max Pooled Tensor Shape: torch.Size([1, 2, 2])\n"
     ]
    }
   ],
   "source": [
    "#Visualising MaxPool2d -> \n",
    "\n",
    "dummy_tensor = torch.rand(size=(1,4,4))\n",
    "\n",
    "dummy_tensor_maxpooled = max_pool_layer(dummy_tensor)\n",
    "\n",
    "print(f\"Dummy Tensor:\\n{dummy_tensor}\\nMax Pooled Tensor:\\n{dummy_tensor_maxpooled}\\n\")\n",
    "print(f\"Dummy Tensor Shape: {dummy_tensor.shape}\\nMax Pooled Tensor Shape: {dummy_tensor_maxpooled.shape}\")\n"
   ]
  },
  {
   "cell_type": "code",
   "execution_count": 326,
   "metadata": {},
   "outputs": [
    {
     "name": "stdout",
     "output_type": "stream",
     "text": [
      "tensor([[-0.0453,  0.0222, -0.0267, -0.0033, -0.0251,  0.0583, -0.0490, -0.0328,\n",
      "          0.0268, -0.0499]], device='cuda:0', grad_fn=<AddmmBackward0>) \n",
      "\n",
      "tensor([[0.0967, 0.1035, 0.0985, 0.1009, 0.0987, 0.1073, 0.0963, 0.0979, 0.1039,\n",
      "         0.0963]], device='cuda:0', grad_fn=<SoftmaxBackward0>) \n",
      "\n",
      "tensor([5], device='cuda:0')\n"
     ]
    }
   ],
   "source": [
    "#Visualising our model -> \n",
    "random_image = torch.rand(size=(1,28,28)).to(device)\n",
    "random_image.shape\n",
    "\n",
    "random_image_output=model_3(random_image.unsqueeze(dim=0))\n",
    "\n",
    "print(random_image_output,\"\\n\")\n",
    "print(torch.softmax(random_image_output,dim=1),\"\\n\")\n",
    "print(torch.argmax(torch.softmax(random_image_output,dim=1),dim=1))\n"
   ]
  },
  {
   "cell_type": "markdown",
   "metadata": {},
   "source": [
    "### Setting up a loss function and an optimizer -> "
   ]
  },
  {
   "cell_type": "code",
   "execution_count": 327,
   "metadata": {},
   "outputs": [],
   "source": [
    "from helper_functions import accuracy_fn\n",
    " \n",
    "loss_fn=torch.nn.CrossEntropyLoss()\n",
    "\n",
    "optimizer=torch.optim.SGD(params=model_3.parameters(), lr =0.05)\n"
   ]
  },
  {
   "cell_type": "markdown",
   "metadata": {},
   "source": [
    "## Training and Testing our model using functions :)"
   ]
  },
  {
   "cell_type": "code",
   "execution_count": 342,
   "metadata": {},
   "outputs": [
    {
     "name": "stderr",
     "output_type": "stream",
     "text": [
      "  0%|          | 0/5 [00:00<?, ?it/s]"
     ]
    },
    {
     "name": "stdout",
     "output_type": "stream",
     "text": [
      "Epoch: 0\n",
      "-------\n",
      "Train loss: 0.20563 | Train accuracy: 92.41%\n"
     ]
    },
    {
     "name": "stderr",
     "output_type": "stream",
     "text": [
      " 20%|██        | 1/5 [00:16<01:07, 16.93s/it]"
     ]
    },
    {
     "name": "stdout",
     "output_type": "stream",
     "text": [
      "Test loss: 0.18472 | Test accuracy: 93.28%\n",
      "\n",
      "Epoch: 1\n",
      "-------\n",
      "Train loss: 0.20265 | Train accuracy: 92.61%\n"
     ]
    },
    {
     "name": "stderr",
     "output_type": "stream",
     "text": [
      " 40%|████      | 2/5 [00:33<00:49, 16.61s/it]"
     ]
    },
    {
     "name": "stdout",
     "output_type": "stream",
     "text": [
      "Test loss: 0.21278 | Test accuracy: 92.19%\n",
      "\n",
      "Epoch: 2\n",
      "-------\n",
      "Train loss: 0.20094 | Train accuracy: 92.66%\n"
     ]
    },
    {
     "name": "stderr",
     "output_type": "stream",
     "text": [
      " 60%|██████    | 3/5 [00:49<00:32, 16.47s/it]"
     ]
    },
    {
     "name": "stdout",
     "output_type": "stream",
     "text": [
      "Test loss: 0.20037 | Test accuracy: 92.66%\n",
      "\n",
      "Epoch: 3\n",
      "-------\n",
      "Train loss: 0.19956 | Train accuracy: 92.64%\n"
     ]
    },
    {
     "name": "stderr",
     "output_type": "stream",
     "text": [
      " 80%|████████  | 4/5 [01:05<00:16, 16.42s/it]"
     ]
    },
    {
     "name": "stdout",
     "output_type": "stream",
     "text": [
      "Test loss: 0.18656 | Test accuracy: 93.20%\n",
      "\n",
      "Epoch: 4\n",
      "-------\n",
      "Train loss: 0.19812 | Train accuracy: 92.76%\n"
     ]
    },
    {
     "name": "stderr",
     "output_type": "stream",
     "text": [
      "100%|██████████| 5/5 [01:22<00:00, 16.51s/it]"
     ]
    },
    {
     "name": "stdout",
     "output_type": "stream",
     "text": [
      "Test loss: 0.19465 | Test accuracy: 92.81%\n",
      "\n",
      "Train time on cuda: 82.588 seconds\n"
     ]
    },
    {
     "name": "stderr",
     "output_type": "stream",
     "text": [
      "\n"
     ]
    }
   ],
   "source": [
    "torch.manual_seed(42)\n",
    "torch.cuda.manual_seed(42)\n",
    "\n",
    "trainTimeStartonGPU=timer()\n",
    "epochs=5\n",
    "for epoch in tqdm(range(epochs)):\n",
    "    print(f\"Epoch: {epoch}\\n-------\")\n",
    "    train_step(model=model_3, data_loader=train_dataloader, loss_fn=loss_fn, optimizer=optimizer,accuracy_fn=accuracy_fn,device=device)\n",
    "    test_step(model=model_3, data_loader=train_dataloader, loss_fn=loss_fn,accuracy_fn=accuracy_fn,device=device)\n",
    "    \n",
    "trainTimeEndOnGPU=timer()\n",
    "\n",
    "totalTrainingTimeONGPU_model3=print_train_time(trainTimeStartonGPU,trainTimeEndOnGPU,device)"
   ]
  },
  {
   "cell_type": "code",
   "execution_count": 336,
   "metadata": {},
   "outputs": [
    {
     "name": "stdout",
     "output_type": "stream",
     "text": [
      "{'Model Name': 'FashionMNISTModelV3', 'Model Loss': 0.26499617099761963, 'Model Accuracy': 90.57507987220447}\n"
     ]
    }
   ],
   "source": [
    "model_3_results=evaluate_model(model_3,test_dataloader,loss_fn,accuracy_fn)\n",
    "print(model_3_results)"
   ]
  },
  {
   "cell_type": "code",
   "execution_count": 344,
   "metadata": {},
   "outputs": [
    {
     "data": {
      "text/html": [
       "<div>\n",
       "<style scoped>\n",
       "    .dataframe tbody tr th:only-of-type {\n",
       "        vertical-align: middle;\n",
       "    }\n",
       "\n",
       "    .dataframe tbody tr th {\n",
       "        vertical-align: top;\n",
       "    }\n",
       "\n",
       "    .dataframe thead th {\n",
       "        text-align: right;\n",
       "    }\n",
       "</style>\n",
       "<table border=\"1\" class=\"dataframe\">\n",
       "  <thead>\n",
       "    <tr style=\"text-align: right;\">\n",
       "      <th></th>\n",
       "      <th>Model Name</th>\n",
       "      <th>Model Loss</th>\n",
       "      <th>Model Accuracy</th>\n",
       "      <th>Training Time</th>\n",
       "    </tr>\n",
       "  </thead>\n",
       "  <tbody>\n",
       "    <tr>\n",
       "      <th>0</th>\n",
       "      <td>FashionMNISTModelV1</td>\n",
       "      <td>0.467651</td>\n",
       "      <td>83.546326</td>\n",
       "      <td>46.415051</td>\n",
       "    </tr>\n",
       "    <tr>\n",
       "      <th>1</th>\n",
       "      <td>FashionMNISTModelV2</td>\n",
       "      <td>0.477752</td>\n",
       "      <td>83.156949</td>\n",
       "      <td>68.835602</td>\n",
       "    </tr>\n",
       "    <tr>\n",
       "      <th>2</th>\n",
       "      <td>FashionMNISTModelV3</td>\n",
       "      <td>0.264996</td>\n",
       "      <td>90.575080</td>\n",
       "      <td>82.588099</td>\n",
       "    </tr>\n",
       "  </tbody>\n",
       "</table>\n",
       "</div>"
      ],
      "text/plain": [
       "            Model Name  Model Loss  Model Accuracy  Training Time \n",
       "0  FashionMNISTModelV1    0.467651       83.546326       46.415051\n",
       "1  FashionMNISTModelV2    0.477752       83.156949       68.835602\n",
       "2  FashionMNISTModelV3    0.264996       90.575080       82.588099"
      ]
     },
     "execution_count": 344,
     "metadata": {},
     "output_type": "execute_result"
    }
   ],
   "source": [
    "#Comparing all our models -> \n",
    "import pandas as pd\n",
    "compare_results = pd.DataFrame([model_1_results,  #Only Linear \n",
    "                                model_2_results,  #Non Linear \n",
    "                                model_3_results   #CNN\n",
    "                                ])\n",
    "compare_results\n",
    "\n",
    "compare_results[\"Training Time \"] = [totalTrainingTimeOnCPU_model1,totalTrainingTimeOnGPU_model2,totalTrainingTimeONGPU_model3]\n",
    "compare_results"
   ]
  },
  {
   "cell_type": "code",
   "execution_count": 348,
   "metadata": {},
   "outputs": [
    {
     "data": {
      "text/plain": [
       "Text(0, 0.5, 'Model')"
      ]
     },
     "execution_count": 348,
     "metadata": {},
     "output_type": "execute_result"
    },
    {
     "data": {
      "image/png": "[encoded data removed]",
      "text/plain": [
       "<Figure size 640x480 with 1 Axes>"
      ]
     },
     "metadata": {},
     "output_type": "display_data"
    }
   ],
   "source": [
    "#Visualising the model results -> \n",
    "\n",
    "compare_results.set_index(\"Model Name\")[\"Model Accuracy\"].plot(kind=\"barh\")\n",
    "plt.xlabel(\"Accuracy\")\n",
    "plt.ylabel(\"Model\")"
   ]
  },
  {
   "cell_type": "code",
   "execution_count": null,
   "metadata": {},
   "outputs": [],
   "source": []
  }
 ],
 "metadata": {
  "kernelspec": {
   "display_name": "Python 3",
   "language": "python",
   "name": "python3"
  },
  "language_info": {
   "codemirror_mode": {
    "name": "ipython",
    "version": 3
   },
   "file_extension": ".py",
   "mimetype": "text/x-python",
   "name": "python",
   "nbconvert_exporter": "python",
   "pygments_lexer": "ipython3",
   "version": "3.12.5"
  }
 },
 "nbformat": 4,
 "nbformat_minor": 2
}
