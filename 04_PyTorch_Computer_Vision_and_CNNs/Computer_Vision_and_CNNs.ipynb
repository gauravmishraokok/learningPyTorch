{
 "cells": [
  {
   "cell_type": "markdown",
   "metadata": {},
   "source": [
    "# Computer Vision --> \n",
    "\n",
    "| Topic | Contents |\n",
    "|---|---|\n",
    "| 0. Computer vision libraries in PyTorch | PyTorch has a bunch of built-in helpful computer vision libraries, let's check them out. |\n",
    "| 1. Load data | To practice computer vision, we'll start with some images of different pieces of clothing from FashionMNIST. |\n",
    "| 2. Prepare data | We've got some images, let's load them in with a PyTorch DataLoader so we can use them with our training loop. |\n",
    "| 3. Model 0: Building a baseline model | Here we'll create a multi-class classification model to learn patterns in the data, we'll also choose a loss function, optimizer and build a training loop. |\n",
    "| 4. Making predictions and evaluting model 0 | Let's make some predictions with our baseline model and evaluate them. |\n",
    "| 5. Setup device agnostic code for future models | It's best practice to write device-agnostic code, so let's set it up. |\n",
    "| 6. Model 1: Adding non-linearity | Experimenting is a large part of machine learning, let's try and improve upon our baseline model by adding non-linear layers. |\n",
    "| 7. Model 2: Convolutional Neural Network (CNN) | Time to get computer vision specific and introduce the powerful convolutional neural network architecture. |\n",
    "| 8. Comparing our models | We've built three different models, let's compare them. |\n",
    "| 9. Evaluating our best model | Let's make some predictons on random images and evaluate our best model. |\n",
    "| 10. Making a confusion matrix | A confusion matrix is a great way to evaluate a classification model, let's see how we can make one. |\n",
    "| 11. Saving and loading the best performing model | Since we might want to use our model for later, let's save it and make sure it loads back in correctly. |"
   ]
  },
  {
   "cell_type": "code",
   "execution_count": null,
   "metadata": {},
   "outputs": [],
   "source": []
  }
 ],
 "metadata": {
  "kernelspec": {
   "display_name": "Python 3",
   "language": "python",
   "name": "python3"
  },
  "language_info": {
   "codemirror_mode": {
    "name": "ipython",
    "version": 3
   },
   "file_extension": ".py",
   "mimetype": "text/x-python",
   "name": "python",
   "nbconvert_exporter": "python",
   "pygments_lexer": "ipython3",
   "version": "3.12.5"
  }
 },
 "nbformat": 4,
 "nbformat_minor": 2
}
