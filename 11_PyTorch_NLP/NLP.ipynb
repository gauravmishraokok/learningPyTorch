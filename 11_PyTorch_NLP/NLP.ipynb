{
 "cells": [
  {
   "cell_type": "markdown",
   "metadata": {},
   "source": [
    "# **Natural Language Processing (NLP) and Its Importance**\n",
    "\n",
    "Natural Language Processing (NLP) is a field of AI that focuses on the interaction between computers and human language. It enables machines to understand, interpret, and generate human language in a valuable way. NLP is crucial in today's world as it powers many applications we use daily, from voice assistants and chatbots to translation services and content analysis tools, bridging the gap between human communication and computer understanding.\n",
    "\n",
    "### Topics Covered --->\n",
    "\n",
    "1. `Spacy` -> An open-source library for advanced NLP in Python, known for its speed and accuracy in processing and analyzing text.\n",
    "\n",
    "2. `NLTK` -> Natural Language Toolkit, a leading platform for building Python programs to work with human language data, offering easy-to-use interfaces to lexical resources.\n",
    "\n",
    "3. `Tokenization` -> The process of breaking down text into smaller units (tokens) such as words, phrases, or sentences for further processing and analysis.\n",
    "\n",
    "4. `Language Processing` -> Techniques and methods used to analyze and understand human language, including syntax, semantics, and context.\n",
    "\n",
    "5. `Pipelines in spacy` -> A series of processing steps in spaCy that text goes through, including tokenization, part-of-speech tagging, and entity recognition.\n",
    "\n",
    "6. `Stemming` -> The process of reducing words to their root or base form, helping to normalize text for analysis.\n",
    "\n",
    "7. `Lemmatization` -> Similar to stemming, but produces the dictionary form of a word, which is more meaningful and linguistically correct.\n",
    "\n",
    "8. `Part of speech (POS) tagging` -> Assigning grammatical categories (e.g., noun, verb, adjective) to each word in a text.\n",
    "\n",
    "9. `Named Entity Recognition (NER)` -> Identifying and classifying named entities (e.g., person names, organizations, locations) in text.\n",
    "\n",
    "10. `One hot Encoding` -> A method of representing categorical variables as binary vectors, often used in text classification tasks.\n",
    "\n",
    "11. `Text representation using Bag of Words (BOW)` -> A simple way to represent text data as a collection of word counts, disregarding grammar and word order.\n",
    "\n",
    "12. `Spam / Ham classifier using Naive Bayes + BOW` -> A common application of NLP for email filtering, using probabilistic classification and bag-of-words representation.\n",
    "\n",
    "13. `Stop Words in NLP` -> Common words (e.g., \"the\", \"is\", \"at\") often removed from text before processing to focus on more meaningful content.\n",
    "\n",
    "14. `Text representation using Bag of n-grams` -> An extension of BOW that captures sequences of n words, preserving some context and order information.\n",
    "\n",
    "15. `Text representation using TF-IDF` -> Term Frequency-Inverse Document Frequency, a numerical statistic reflecting the importance of a word in a document within a collection.\n",
    "\n",
    "16. `Text representation using Word Embeddings` -> Dense vector representations of words that capture semantic relationships between words.\n",
    "\n",
    "17. `Word vectors in Spacy` -> Pre-trained word embeddings available in spaCy, used for various NLP tasks.\n",
    "\n",
    "18. `News classification using spacy word vectors` -> Categorizing news articles into topics using spaCy's word vector representations.\n",
    "\n",
    "19. `Word vectors in Gensim` -> Another popular library for working with word embeddings and topic modeling.\n",
    "\n",
    "20. `News classification using Gensim word vectors` -> Similar to spaCy-based classification, but using Gensim's implementation of word vectors.\n",
    "\n",
    "21. `fastText` -> A library for efficient learning of word representations and sentence classification, known for handling rare words well."
   ]
  },
  {
   "cell_type": "markdown",
   "metadata": {},
   "source": [
    "# **Basic Implementation of spaCy & NLTK**"
   ]
  },
  {
   "cell_type": "markdown",
   "metadata": {},
   "source": [
    "spaCy -> Newer Library, Already comes tuned with spacy.load(\"en_core_web_sm\")\n",
    "\n",
    "NLTK  -> Older Library, Can be heavily customised but hard to operate with"
   ]
  },
  {
   "cell_type": "code",
   "execution_count": 1,
   "metadata": {},
   "outputs": [],
   "source": [
    "import nltk \n",
    "import spacy\n",
    "\n",
    "nlp = spacy.load(\"en_core_web_sm\")"
   ]
  },
  {
   "cell_type": "code",
   "execution_count": 2,
   "metadata": {},
   "outputs": [
    {
     "name": "stdout",
     "output_type": "stream",
     "text": [
      "I like black cats.\n",
      "Dr. Ramesh likes brown dogs.\n",
      "There are a lot of people that I know of that have multiple pets.\n",
      "For example Koompilala, Dhunnibaba etc. because Having pets is cute.\n"
     ]
    }
   ],
   "source": [
    "doc = nlp(\"I like black cats. Dr. Ramesh likes brown dogs. There are a lot of people that I know of that have multiple pets. For example Koompilala, Dhunnibaba etc. because Having pets is cute.\")\n",
    "for sentence in doc.sents:\n",
    "    print(sentence)\n",
    "    \n",
    "# for sentence in doc.sents:          \n",
    "#     for word in sentence:                   #This prints all words one by one.\n",
    "#         print(word)  "
   ]
  },
  {
   "cell_type": "code",
   "execution_count": 3,
   "metadata": {},
   "outputs": [
    {
     "data": {
      "text/plain": [
       "['I like black cats.',\n",
       " 'Dr. Ramesh likes brown dogs.',\n",
       " 'There are a lot of people that I know of that have multiple pets.',\n",
       " 'For example Koompilala, Dhunnibaba etc.',\n",
       " 'because Having pets is cute.']"
      ]
     },
     "execution_count": 3,
     "metadata": {},
     "output_type": "execute_result"
    }
   ],
   "source": [
    "from nltk.tokenize import sent_tokenize\n",
    "\n",
    "sent_tokenize(\"I like black cats. Dr. Ramesh likes brown dogs. There are a lot of people that I know of that have multiple pets. For example Koompilala, Dhunnibaba etc. because Having pets is cute.\")"
   ]
  },
  {
   "cell_type": "markdown",
   "metadata": {},
   "source": [
    "# **Tokenization in spaCY**"
   ]
  },
  {
   "cell_type": "code",
   "execution_count": 4,
   "metadata": {},
   "outputs": [
    {
     "name": "stdout",
     "output_type": "stream",
     "text": [
      "Let\n",
      "'s\n",
      "go\n",
      "to\n",
      "N.Y\n",
      "!\n"
     ]
    }
   ],
   "source": [
    "#Word Tokenization -> \n",
    "import spacy\n",
    "nlp = spacy.blank('en')\n",
    "\n",
    "doc = nlp(\"Let's go to N.Y!\")\n",
    "\n",
    "for token in doc:\n",
    "    print(token) "
   ]
  },
  {
   "cell_type": "code",
   "execution_count": 5,
   "metadata": {},
   "outputs": [
    {
     "data": {
      "text/plain": [
       "(spacy.lang.en.English,\n",
       " spacy.tokens.doc.Doc,\n",
       " spacy.tokens.token.Token,\n",
       " spacy.tokens.span.Span)"
      ]
     },
     "execution_count": 5,
     "metadata": {},
     "output_type": "execute_result"
    }
   ],
   "source": [
    "span = doc[2:4]\n",
    "type(nlp) , type(doc) , type(token) , type(span)"
   ]
  },
  {
   "cell_type": "code",
   "execution_count": 6,
   "metadata": {},
   "outputs": [
    {
     "data": {
      "text/plain": [
       "(True, True, True, False)"
      ]
     },
     "execution_count": 6,
     "metadata": {},
     "output_type": "execute_result"
    }
   ],
   "source": [
    "doc = nlp (\"I have 2 two ₹ coins in my pocket.\")\n",
    "\n",
    "doc[2].like_num , doc[3].like_num , doc[4].is_currency, doc[5].is_digit"
   ]
  },
  {
   "cell_type": "code",
   "execution_count": 7,
   "metadata": {},
   "outputs": [
    {
     "name": "stdout",
     "output_type": "stream",
     "text": [
      "['john.smith@email.com', 'emily.j@university.edu', 'mchen98@student.org', 'srodriguez@school.net', 'akim2002@college.com']\n"
     ]
    }
   ],
   "source": [
    "student_details = \"\"\"\n",
    "John Smith, 19, john.smith@email.com, 2005-03-15\n",
    "Emily Johnson, 21, emily.j@university.edu, 2003-07-22\n",
    "Michael Chen, 20, mchen98@student.org, 2004-11-30\n",
    "Sophia Rodriguez, 18, srodriguez@school.net, 2006-01-08\n",
    "Alexander Kim, 22, akim2002@college.com, 2002-09-04\n",
    "\"\"\"\n",
    "doc = nlp(student_details)\n",
    "email_array =[]\n",
    "for token in doc:\n",
    "    if token.like_email:\n",
    "        email_array.append(token.text)\n",
    "        \n",
    "        \n",
    "print(email_array)"
   ]
  },
  {
   "cell_type": "code",
   "execution_count": 8,
   "metadata": {},
   "outputs": [
    {
     "name": "stdout",
     "output_type": "stream",
     "text": [
      "[]\n",
      "['sentencizer']\n"
     ]
    }
   ],
   "source": [
    "#This is how we add components to pipelines -> \n",
    "print(nlp.pipe_names)\n",
    "\n",
    "nlp.add_pipe('sentencizer')\n",
    "\n",
    "print(nlp.pipe_names)\n"
   ]
  },
  {
   "cell_type": "code",
   "execution_count": 9,
   "metadata": {},
   "outputs": [
    {
     "name": "stdout",
     "output_type": "stream",
     "text": [
      "http://www.data.gov/\n",
      "http://www.science\n",
      "http://data.gov.uk/.\n",
      "http://www3.norc.org/gss+website/\n",
      "http://www.europeansocialsurvey.org/.\n"
     ]
    }
   ],
   "source": [
    "text='''\n",
    "Look for data to help you address the question. Governments are good\n",
    "sources because data from public research is often freely available. Good\n",
    "places to start include http://www.data.gov/, and http://www.science.\n",
    "gov/, and in the United Kingdom, http://data.gov.uk/.\n",
    "Two of my favorite data sets are the General Social Survey at http://www3.norc.org/gss+website/, \n",
    "and the European Social Survey at http://www.europeansocialsurvey.org/.\n",
    "'''\n",
    "\n",
    "for url in nlp(text): \n",
    "    if url.like_url:\n",
    "        print(url)"
   ]
  },
  {
   "cell_type": "code",
   "execution_count": 10,
   "metadata": {},
   "outputs": [
    {
     "name": "stdout",
     "output_type": "stream",
     "text": [
      "two $\n",
      "500 €\n"
     ]
    }
   ],
   "source": [
    "transactions = \"Tony gave two $ to Peter, Bruce gave 500 € to Steve\"\n",
    "doc = nlp(transactions)\n",
    "\n",
    "for token in doc:\n",
    "    if token.like_num and doc[token.i+1].is_currency:\n",
    "        print(token.text , doc[token.i+1].text)\n"
   ]
  },
  {
   "cell_type": "markdown",
   "metadata": {},
   "source": [
    "# **Language Processing Pipeline in spaCy**"
   ]
  },
  {
   "cell_type": "code",
   "execution_count": 11,
   "metadata": {},
   "outputs": [
    {
     "name": "stdout",
     "output_type": "stream",
     "text": [
      "[]\n",
      "['tok2vec', 'tagger', 'parser', 'attribute_ruler', 'lemmatizer', 'ner']\n"
     ]
    }
   ],
   "source": [
    "import spacy\n",
    "\n",
    "nlp = spacy.blank('en')\n",
    "\n",
    "print(nlp.pipe_names)\n",
    "\n",
    "#Already trained NLP Pipeline -> \n",
    "nlp = spacy.load('en_core_web_sm')\n",
    "\n",
    "print(nlp.pipe_names)\n"
   ]
  },
  {
   "cell_type": "code",
   "execution_count": 12,
   "metadata": {},
   "outputs": [
    {
     "name": "stdout",
     "output_type": "stream",
     "text": [
      "Yesterday       yesterday       NOUN \n",
      ",               ,               PUNCT\n",
      "42              42              NUM  \n",
      "enthusiastic    enthusiastic    ADJ  \n",
      "students        student         NOUN \n",
      "from            from            ADP  \n",
      "our             our             PRON \n",
      "local           local           ADJ  \n",
      "high            high            ADJ  \n",
      "school          school          NOUN \n",
      "eagerly         eagerly         ADV  \n",
      "participated    participate     VERB \n",
      "in              in              ADP  \n",
      "the             the             DET  \n",
      "15th            15th            ADJ  \n",
      "annual          annual          ADJ  \n",
      "science         science         NOUN \n",
      "fair            fair            NOUN \n",
      ",               ,               PUNCT\n",
      "where           where           SCONJ\n",
      "they            they            PRON \n",
      "showcased       showcase        VERB \n",
      "7               7               NUM  \n",
      "innovative      innovative      ADJ  \n",
      "projects        project         NOUN \n",
      ".               .               PUNCT\n"
     ]
    }
   ],
   "source": [
    "complex_sentence = \"Yesterday, 42 enthusiastic students from our local high school eagerly participated in the 15th annual science fair, where they showcased 7 innovative projects.\"\n",
    "doc = nlp(complex_sentence)\n",
    "\n",
    "for token in doc:\n",
    "    \n",
    "    print(f\"{token.text:<15} {token.lemma_:<15} {token.pos_:<5}\")\n"
   ]
  },
  {
   "cell_type": "code",
   "execution_count": 13,
   "metadata": {},
   "outputs": [
    {
     "name": "stdout",
     "output_type": "stream",
     "text": [
      "Real Madrid FC            ORG             Companies, agencies, institutions, etc.\n",
      "last 5                    DATE            Absolute or relative dates or periods\n",
      "3 million $               MONEY           Monetary values, including unit\n"
     ]
    },
    {
     "data": {
      "text/html": [
       "<span class=\"tex2jax_ignore\"><div class=\"entities\" style=\"line-height: 2.5; direction: ltr\">\n",
       "<mark class=\"entity\" style=\"background: #7aecec; padding: 0.45em 0.6em; margin: 0 0.25em; line-height: 1; border-radius: 0.35em;\">\n",
       "    Real Madrid FC\n",
       "    <span style=\"font-size: 0.8em; font-weight: bold; line-height: 1; border-radius: 0.35em; vertical-align: middle; margin-left: 0.5rem\">ORG</span>\n",
       "</mark>\n",
       " has scored many goals in \n",
       "<mark class=\"entity\" style=\"background: #bfe1d9; padding: 0.45em 0.6em; margin: 0 0.25em; line-height: 1; border-radius: 0.35em;\">\n",
       "    last 5\n",
       "    <span style=\"font-size: 0.8em; font-weight: bold; line-height: 1; border-radius: 0.35em; vertical-align: middle; margin-left: 0.5rem\">DATE</span>\n",
       "</mark>\n",
       " games, Increasing their valuation by \n",
       "<mark class=\"entity\" style=\"background: #e4e7d2; padding: 0.45em 0.6em; margin: 0 0.25em; line-height: 1; border-radius: 0.35em;\">\n",
       "    3 million $\n",
       "    <span style=\"font-size: 0.8em; font-weight: bold; line-height: 1; border-radius: 0.35em; vertical-align: middle; margin-left: 0.5rem\">MONEY</span>\n",
       "</mark>\n",
       ".</div></span>"
      ],
      "text/plain": [
       "<IPython.core.display.HTML object>"
      ]
     },
     "metadata": {},
     "output_type": "display_data"
    }
   ],
   "source": [
    "doc = nlp(\"Real Madrid FC has scored many goals in last 5 games, Increasing their valuation by 3 million $.\")\n",
    "\n",
    "for ent in doc.ents:\n",
    "    print(f\"{ent.text:<25} {ent.label_:<15} {spacy.explain(ent.label_)}\")\n",
    "    \n",
    "    \n",
    "from spacy import displacy\n",
    "\n",
    "displacy.render(doc, style =\"ent\")"
   ]
  },
  {
   "cell_type": "code",
   "execution_count": 14,
   "metadata": {},
   "outputs": [
    {
     "data": {
      "text/plain": [
       "['ner']"
      ]
     },
     "execution_count": 14,
     "metadata": {},
     "output_type": "execute_result"
    }
   ],
   "source": [
    "#Code to only create a pipeline with ner rather than all the entities --> \n",
    "\n",
    "source_nlp = spacy.load('en_core_web_sm')\n",
    "\n",
    "nlp = spacy.blank('en')\n",
    "\n",
    "nlp.add_pipe('ner', source=source_nlp)\n",
    "\n",
    "nlp.pipe_names"
   ]
  },
  {
   "cell_type": "markdown",
   "metadata": {},
   "source": [
    "# **Stemming and Lemmatization ->** "
   ]
  },
  {
   "cell_type": "markdown",
   "metadata": {},
   "source": [
    "**Stemming** -> Getting the base word out of a complex word. It just uses simple rules like removing \"able\", \"ing\" etc. Examples -> \n",
    "\n",
    "- Talking -> Talk\n",
    "- Adjustable -> Adjust\n",
    "\n",
    "\n",
    "**Lemmatization** -> Getting the base word by using linguistic knowledge and not just fixed rules. Base word is also called lemma. Examples -> \n",
    "- Ate -> Eat\n",
    "- Ability -> Able"
   ]
  },
  {
   "cell_type": "code",
   "execution_count": 15,
   "metadata": {},
   "outputs": [],
   "source": [
    "import nltk \n",
    "import spacy"
   ]
  },
  {
   "cell_type": "code",
   "execution_count": 16,
   "metadata": {},
   "outputs": [
    {
     "name": "stdout",
     "output_type": "stream",
     "text": [
      "running         run\n",
      "jumps           jump\n",
      "easily          easili\n",
      "dogs            dog\n",
      "cats            cat\n",
      "better          better\n",
      "friendliness    friendli\n",
      "jumping         jump\n",
      "leaves          leav\n",
      "babies          babi\n",
      "ability         abil\n",
      "organization    organ\n",
      "programmer      programm\n"
     ]
    }
   ],
   "source": [
    "from nltk import PorterStemmer\n",
    "stemmer = PorterStemmer()\n",
    "\n",
    "words = [\n",
    "    \"running\", \"jumps\", \"easily\", \"dogs\", \"cats\", \"better\", \"friendliness\", \"jumping\", \"leaves\", \"babies\", \"ability\", \"organization\", \"programmer\"\n",
    "]\n",
    "\n",
    "for word in words : \n",
    "    print(f\"{word:<15} {stemmer.stem(word)}\")"
   ]
  },
  {
   "cell_type": "markdown",
   "metadata": {},
   "source": [
    "Stemming doesn't use language comphrehension and thus its results are not the best."
   ]
  },
  {
   "cell_type": "code",
   "execution_count": 17,
   "metadata": {},
   "outputs": [
    {
     "name": "stdout",
     "output_type": "stream",
     "text": [
      "running         running\n",
      "jumps           jump\n",
      "easily          easily\n",
      "dogs            dog\n",
      "cats            cat\n",
      "better          well\n",
      "friendliness    friendliness\n",
      "jumping         jump\n",
      "leaves          leave\n",
      "babies          baby\n",
      "ability         ability\n",
      "organization    organization\n",
      "programmer      programmer\n"
     ]
    }
   ],
   "source": [
    "nlp = spacy.load(\"en_core_web_sm\")\n",
    "\n",
    "doc = nlp(\"running jumps easily dogs cats better friendliness jumping leaves babies ability organization programmer\")\n",
    "\n",
    "for token in doc:\n",
    "    print(f\"{token.text:<15} {token.lemma_}\")\n"
   ]
  },
  {
   "cell_type": "markdown",
   "metadata": {},
   "source": [
    "# **Part Of Speech POS Tagging ->**"
   ]
  },
  {
   "cell_type": "code",
   "execution_count": 18,
   "metadata": {},
   "outputs": [
    {
     "name": "stdout",
     "output_type": "stream",
     "text": [
      "The          DET        determiner      DT         determiner\n",
      "curious      ADJ        adjective       JJ         adjective (English), other noun-modifier (Chinese)\n",
      "cat          NOUN       noun            NN         noun, singular or mass\n",
      "quickly      ADV        adverb          RB         adverb\n",
      "chased       VERB       verb            VBD        verb, past tense\n",
      "five         NUM        numeral         CD         cardinal number\n",
      "red          ADJ        adjective       JJ         adjective (English), other noun-modifier (Chinese)\n",
      "butterflies  NOUN       noun            NNS        noun, plural\n",
      "across       ADP        adposition      IN         conjunction, subordinating or preposition\n",
      "our          PRON       pronoun         PRP$       pronoun, possessive\n",
      "sunny        ADJ        adjective       JJ         adjective (English), other noun-modifier (Chinese)\n",
      "garden       NOUN       noun            NN         noun, singular or mass\n",
      "yesterday    NOUN       noun            NN         noun, singular or mass\n",
      ".            PUNCT      punctuation     .          punctuation mark, sentence closer\n"
     ]
    }
   ],
   "source": [
    "import spacy\n",
    "nlp = spacy.load('en_core_web_sm')\n",
    "\n",
    "short_sentence = \"The curious cat quickly chased five red butterflies across our sunny garden yesterday.\"\n",
    "\n",
    "doc = nlp(short_sentence)\n",
    "\n",
    "for token in doc:\n",
    "    print(f\"{token.text:<12} {token.pos_:<10} {spacy.explain(token.pos_):<15} {token.tag_:<10} {spacy.explain(token.tag_)}\")"
   ]
  },
  {
   "cell_type": "code",
   "execution_count": 19,
   "metadata": {},
   "outputs": [
    {
     "data": {
      "text/plain": [
       "[Microsoft,\n",
       " Corp.,\n",
       " today,\n",
       " announced,\n",
       " the,\n",
       " following,\n",
       " results,\n",
       " for,\n",
       " the,\n",
       " quarter]"
      ]
     },
     "execution_count": 19,
     "metadata": {},
     "output_type": "execute_result"
    }
   ],
   "source": [
    "earnings_text=\"\"\"Microsoft Corp. today announced the following results for the quarter ended December 31, 2021, as compared to the corresponding period of last fiscal year:\n",
    "\n",
    "·         Revenue was $51.7 billion and increased 20%\n",
    "·         Operating income was $22.2 billion and increased 24%\n",
    "·         Net income was $18.8 billion and increased 21%\n",
    "·         Diluted earnings per share was $2.48 and increased 22%\n",
    "“Digital technology is the most malleable resource at the world’s disposal to overcome constraints and reimagine everyday work and life,” said Satya Nadella, chairman and chief executive officer of Microsoft. “As tech as a percentage of global GDP continues to increase, we are innovating and investing across diverse and growing markets, with a common underlying technology stack and an operating model that reinforces a common strategy, culture, and sense of purpose.”\n",
    "“Solid commercial execution, represented by strong bookings growth driven by long-term Azure commitments, increased Microsoft Cloud revenue to $22.1 billion, up 32% year over year” said Amy Hood, executive vice president and chief financial officer of Microsoft.\"\"\"\n",
    "\n",
    "doc = nlp(earnings_text)\n",
    "\n",
    "filtered_tokens = []\n",
    "\n",
    "for token in doc:\n",
    "    if token.pos_ not in [\"SPACE\", \"PUNCT\", \"X\"]:\n",
    "        filtered_tokens.append(token)\n",
    "        \n",
    "filtered_tokens[:10]"
   ]
  },
  {
   "cell_type": "code",
   "execution_count": 20,
   "metadata": {},
   "outputs": [
    {
     "name": "stdout",
     "output_type": "stream",
     "text": [
      "PROPN | 15\n",
      "NOUN | 45\n",
      "VERB | 23\n",
      "DET | 9\n",
      "ADP | 16\n",
      "NUM | 16\n",
      "PUNCT | 27\n",
      "SCONJ | 1\n",
      "ADJ | 20\n",
      "SPACE | 10\n",
      "AUX | 6\n",
      "SYM | 5\n",
      "CCONJ | 12\n",
      "ADV | 3\n",
      "PART | 3\n",
      "PRON | 2\n"
     ]
    }
   ],
   "source": [
    "count = doc.count_by(spacy.attrs.POS)\n",
    "for k,v in count.items():\n",
    "    print(doc.vocab[k].text, \"|\",v)"
   ]
  },
  {
   "cell_type": "markdown",
   "metadata": {},
   "source": [
    "# **Named Entity Recognition (NER) ->**"
   ]
  },
  {
   "cell_type": "code",
   "execution_count": 21,
   "metadata": {},
   "outputs": [
    {
     "data": {
      "text/plain": [
       "['tok2vec', 'tagger', 'parser', 'attribute_ruler', 'lemmatizer', 'ner']"
      ]
     },
     "execution_count": 21,
     "metadata": {},
     "output_type": "execute_result"
    }
   ],
   "source": [
    "import spacy \n",
    "\n",
    "nlp = spacy.load(\"en_core_web_sm\")\n",
    "\n",
    "nlp.pipe_names"
   ]
  },
  {
   "cell_type": "code",
   "execution_count": 22,
   "metadata": {},
   "outputs": [
    {
     "name": "stdout",
     "output_type": "stream",
     "text": [
      "Apple Inc.           ORG             Companies, agencies, institutions, etc.\n",
      "New York City        GPE             Countries, cities, states\n",
      "next month           DATE            Absolute or relative dates or periods\n",
      "Tim Cook             PERSON          People, including fictional\n",
      "San Francisco        GPE             Countries, cities, states\n",
      "last week            DATE            Absolute or relative dates or periods\n"
     ]
    }
   ],
   "source": [
    "text = \"Apple Inc. is planning to open a new store in New York City next month. CEO Tim Cook announced the plan during a conference in San Francisco last week. Twitter is the most popular social media platform in the world.\"\n",
    "\n",
    "doc = nlp(text)\n",
    "\n",
    "for ent in doc.ents:\n",
    "    print(f\"{ent.text:<20} {ent.label_:<15} {spacy.explain(ent.label_):<20}\")\n",
    "    \n",
    "    \n"
   ]
  },
  {
   "cell_type": "code",
   "execution_count": 23,
   "metadata": {},
   "outputs": [
    {
     "name": "stdout",
     "output_type": "stream",
     "text": [
      "Apple Inc.           ORG             Companies, agencies, institutions, etc.\n",
      "New York City        GPE             Countries, cities, states\n",
      "next month           DATE            Absolute or relative dates or periods\n",
      "Tim Cook             PERSON          People, including fictional\n",
      "San Francisco        GPE             Countries, cities, states\n",
      "last week            DATE            Absolute or relative dates or periods\n",
      "Twitter              ORG             Companies, agencies, institutions, etc.\n"
     ]
    }
   ],
   "source": [
    "#As Twitter is not included in spacy, we can add it manually.\n",
    "\n",
    "from spacy.tokens import Span\n",
    "\n",
    "s1 = Span(doc,31,32,label=\"ORG\")\n",
    "new_ents = list(doc.ents)\n",
    "new_ents.append(s1)\n",
    "doc.ents = new_ents\n",
    "\n",
    "for ent in doc.ents:\n",
    "    print(f\"{ent.text:<20} {ent.label_:<15} {spacy.explain(ent.label_):<20}\")"
   ]
  },
  {
   "cell_type": "markdown",
   "metadata": {},
   "source": [
    "# **One Hot Encoding ->**"
   ]
  },
  {
   "cell_type": "markdown",
   "metadata": {},
   "source": [
    "For A, B, C, D, E, F, The One Hot Encoding can be -> \n",
    "\n",
    "A -> [1, 0, 0, 0, 0, 0]\n",
    "\n",
    "B -> [0, 1, 0, 0, 0, 0]\n",
    "\n",
    "C -> [0, 0, 1, 0, 0, 0]\n",
    "\n",
    "D -> [0, 0, 0, 1, 0, 0]\n",
    "\n",
    "E -> [0, 0, 0, 0, 1, 0]\n",
    "\n",
    "F -> [0, 0, 0, 0, 0, 1]"
   ]
  },
  {
   "cell_type": "markdown",
   "metadata": {},
   "source": [
    "**One Hot Encoding takes a lot of space and causes Out of Vocabulary Problems + It also doesnt have fixed length representation**"
   ]
  },
  {
   "cell_type": "markdown",
   "metadata": {},
   "source": [
    "# **Text Representation Using Bag Of Words (BOW)->**"
   ]
  },
  {
   "cell_type": "markdown",
   "metadata": {},
   "source": [
    "## **Spam Detection using BOW ->**"
   ]
  },
  {
   "cell_type": "code",
   "execution_count": 24,
   "metadata": {},
   "outputs": [],
   "source": [
    "import pandas as pd\n",
    "import numpy as np \n",
    "import matplotlib.pyplot as plt\n",
    "\n",
    "import torch\n",
    "import spacy"
   ]
  },
  {
   "cell_type": "code",
   "execution_count": 25,
   "metadata": {},
   "outputs": [],
   "source": [
    "df = pd.read_csv(\"data/spam_detection.csv\")"
   ]
  },
  {
   "cell_type": "code",
   "execution_count": 26,
   "metadata": {},
   "outputs": [
    {
     "data": {
      "text/html": [
       "<div>\n",
       "<style scoped>\n",
       "    .dataframe tbody tr th:only-of-type {\n",
       "        vertical-align: middle;\n",
       "    }\n",
       "\n",
       "    .dataframe tbody tr th {\n",
       "        vertical-align: top;\n",
       "    }\n",
       "\n",
       "    .dataframe thead th {\n",
       "        text-align: right;\n",
       "    }\n",
       "</style>\n",
       "<table border=\"1\" class=\"dataframe\">\n",
       "  <thead>\n",
       "    <tr style=\"text-align: right;\">\n",
       "      <th></th>\n",
       "      <th>Category</th>\n",
       "      <th>Message</th>\n",
       "    </tr>\n",
       "  </thead>\n",
       "  <tbody>\n",
       "    <tr>\n",
       "      <th>8</th>\n",
       "      <td>spam</td>\n",
       "      <td>WINNER!! As a valued network customer you have...</td>\n",
       "    </tr>\n",
       "    <tr>\n",
       "      <th>9</th>\n",
       "      <td>spam</td>\n",
       "      <td>Had your mobile 11 months or more? U R entitle...</td>\n",
       "    </tr>\n",
       "    <tr>\n",
       "      <th>10</th>\n",
       "      <td>ham</td>\n",
       "      <td>I'm gonna be home soon and i don't want to tal...</td>\n",
       "    </tr>\n",
       "    <tr>\n",
       "      <th>11</th>\n",
       "      <td>spam</td>\n",
       "      <td>SIX chances to win CASH! From 100 to 20,000 po...</td>\n",
       "    </tr>\n",
       "    <tr>\n",
       "      <th>12</th>\n",
       "      <td>spam</td>\n",
       "      <td>URGENT! You have won a 1 week FREE membership ...</td>\n",
       "    </tr>\n",
       "    <tr>\n",
       "      <th>13</th>\n",
       "      <td>ham</td>\n",
       "      <td>I've been searching for the right words to tha...</td>\n",
       "    </tr>\n",
       "  </tbody>\n",
       "</table>\n",
       "</div>"
      ],
      "text/plain": [
       "   Category                                            Message\n",
       "8      spam  WINNER!! As a valued network customer you have...\n",
       "9      spam  Had your mobile 11 months or more? U R entitle...\n",
       "10      ham  I'm gonna be home soon and i don't want to tal...\n",
       "11     spam  SIX chances to win CASH! From 100 to 20,000 po...\n",
       "12     spam  URGENT! You have won a 1 week FREE membership ...\n",
       "13      ham  I've been searching for the right words to tha..."
      ]
     },
     "execution_count": 26,
     "metadata": {},
     "output_type": "execute_result"
    }
   ],
   "source": [
    "df[8:14]"
   ]
  },
  {
   "cell_type": "code",
   "execution_count": 27,
   "metadata": {},
   "outputs": [
    {
     "data": {
      "text/plain": [
       "Category\n",
       "ham     4825\n",
       "spam     747\n",
       "Name: count, dtype: int64"
      ]
     },
     "execution_count": 27,
     "metadata": {},
     "output_type": "execute_result"
    }
   ],
   "source": [
    "df.Category.value_counts()"
   ]
  },
  {
   "cell_type": "code",
   "execution_count": 28,
   "metadata": {},
   "outputs": [
    {
     "data": {
      "text/html": [
       "<div>\n",
       "<style scoped>\n",
       "    .dataframe tbody tr th:only-of-type {\n",
       "        vertical-align: middle;\n",
       "    }\n",
       "\n",
       "    .dataframe tbody tr th {\n",
       "        vertical-align: top;\n",
       "    }\n",
       "\n",
       "    .dataframe thead th {\n",
       "        text-align: right;\n",
       "    }\n",
       "</style>\n",
       "<table border=\"1\" class=\"dataframe\">\n",
       "  <thead>\n",
       "    <tr style=\"text-align: right;\">\n",
       "      <th></th>\n",
       "      <th>Category</th>\n",
       "      <th>Message</th>\n",
       "      <th>Value</th>\n",
       "    </tr>\n",
       "  </thead>\n",
       "  <tbody>\n",
       "    <tr>\n",
       "      <th>0</th>\n",
       "      <td>ham</td>\n",
       "      <td>Go until jurong point, crazy.. Available only ...</td>\n",
       "      <td>0</td>\n",
       "    </tr>\n",
       "    <tr>\n",
       "      <th>1</th>\n",
       "      <td>ham</td>\n",
       "      <td>Ok lar... Joking wif u oni...</td>\n",
       "      <td>0</td>\n",
       "    </tr>\n",
       "    <tr>\n",
       "      <th>2</th>\n",
       "      <td>spam</td>\n",
       "      <td>Free entry in 2 a wkly comp to win FA Cup fina...</td>\n",
       "      <td>1</td>\n",
       "    </tr>\n",
       "    <tr>\n",
       "      <th>3</th>\n",
       "      <td>ham</td>\n",
       "      <td>U dun say so early hor... U c already then say...</td>\n",
       "      <td>0</td>\n",
       "    </tr>\n",
       "    <tr>\n",
       "      <th>4</th>\n",
       "      <td>ham</td>\n",
       "      <td>Nah I don't think he goes to usf, he lives aro...</td>\n",
       "      <td>0</td>\n",
       "    </tr>\n",
       "  </tbody>\n",
       "</table>\n",
       "</div>"
      ],
      "text/plain": [
       "  Category                                            Message  Value\n",
       "0      ham  Go until jurong point, crazy.. Available only ...      0\n",
       "1      ham                      Ok lar... Joking wif u oni...      0\n",
       "2     spam  Free entry in 2 a wkly comp to win FA Cup fina...      1\n",
       "3      ham  U dun say so early hor... U c already then say...      0\n",
       "4      ham  Nah I don't think he goes to usf, he lives aro...      0"
      ]
     },
     "execution_count": 28,
     "metadata": {},
     "output_type": "execute_result"
    }
   ],
   "source": [
    "#Creating a column in the dataframe for spam & ham. Spam -> 1 & Ham -> 0 \n",
    "\n",
    "df[\"Value\"] = df[\"Category\"].apply(lambda x : 1 if x=='spam' else 0 ) \n",
    "\n",
    "    \n",
    "df.head()"
   ]
  },
  {
   "cell_type": "code",
   "execution_count": 29,
   "metadata": {},
   "outputs": [],
   "source": [
    "from sklearn.model_selection import train_test_split\n",
    "\n",
    "X_train, X_test, y_train , y_test = train_test_split(df.Message, df.Value, test_size = 0.2, random_state=42)"
   ]
  },
  {
   "cell_type": "code",
   "execution_count": 30,
   "metadata": {},
   "outputs": [
    {
     "data": {
      "text/plain": [
       "((4457,),\n",
       " (1115,),\n",
       " pandas.core.series.Series,\n",
       " 1978    Reply to win £100 weekly! Where will the 2006 ...\n",
       " 3989    Hello. Sort of out in town already. That . So ...\n",
       " 3935     How come guoyang go n tell her? Then u told her?\n",
       " Name: Message, dtype: object,\n",
       " 1978    1\n",
       " 3989    0\n",
       " 3935    0\n",
       " Name: Value, dtype: int64)"
      ]
     },
     "execution_count": 30,
     "metadata": {},
     "output_type": "execute_result"
    }
   ],
   "source": [
    "X_train.shape , X_test.shape, type(X_train), X_train[:3], y_train[:3]"
   ]
  },
  {
   "cell_type": "markdown",
   "metadata": {},
   "source": [
    "This makes the word count/frequency array -> "
   ]
  },
  {
   "cell_type": "code",
   "execution_count": 31,
   "metadata": {},
   "outputs": [
    {
     "data": {
      "text/plain": [
       "(4457, 7701)"
      ]
     },
     "execution_count": 31,
     "metadata": {},
     "output_type": "execute_result"
    }
   ],
   "source": [
    "from sklearn.feature_extraction.text import CountVectorizer \n",
    "\n",
    "v = CountVectorizer()\n",
    "\n",
    "X_train_cv = v.fit_transform(X_train.values)\n",
    "X_train_cv.shape"
   ]
  },
  {
   "cell_type": "markdown",
   "metadata": {},
   "source": [
    "^ 4457 Emails wit 7824 Total Vocab Size ( BOW )"
   ]
  },
  {
   "cell_type": "code",
   "execution_count": 32,
   "metadata": {},
   "outputs": [
    {
     "data": {
      "text/plain": [
       "(array(['copied', 'copies', 'coping', 'cops', 'copy', 'cornwall',\n",
       "        'corporation', 'corrct', 'correct', 'correction', 'correctly',\n",
       "        'corrupt', 'cos', 'cosign', 'cost', 'costa', 'costing', 'costs',\n",
       "        'costume', 'couch', 'cougar', 'cough', 'could', 'coulda', 'couldn',\n",
       "        'count', 'countin', 'countinlots', 'country', 'counts', 'coupla',\n",
       "        'couple', 'courage', 'courageous', 'course', 'court', 'cover',\n",
       "        'coveragd', 'covers', 'coz', 'cozy', 'cr', 'cr01327bt', 'cr9',\n",
       "        'crab', 'crack', 'craigslist', 'crammed', 'cramps', 'crap'],\n",
       "       dtype=object),\n",
       " (7701,))"
      ]
     },
     "execution_count": 32,
     "metadata": {},
     "output_type": "execute_result"
    }
   ],
   "source": [
    "v.get_feature_names_out()[2000:2050] , v.get_feature_names_out().shape"
   ]
  },
  {
   "cell_type": "code",
   "execution_count": 33,
   "metadata": {},
   "outputs": [
    {
     "data": {
      "text/plain": [
       "array([0, 0, 0, ..., 0, 0, 0], dtype=int64)"
      ]
     },
     "execution_count": 33,
     "metadata": {},
     "output_type": "execute_result"
    }
   ],
   "source": [
    "X_train_np = X_train_cv.toarray()\n",
    "X_train_np[0]"
   ]
  },
  {
   "cell_type": "code",
   "execution_count": 34,
   "metadata": {},
   "outputs": [
    {
     "data": {
      "text/plain": [
       "(array([ 258,  354,  694, 1271, 2106, 2568, 2805, 3364, 5687, 5980, 5999,\n",
       "        6460, 6773, 6888, 7396, 7437, 7471, 7474, 7555], dtype=int64),)"
      ]
     },
     "execution_count": 34,
     "metadata": {},
     "output_type": "execute_result"
    }
   ],
   "source": [
    "np.where(X_train_np[0]!=0)"
   ]
  },
  {
   "cell_type": "code",
   "execution_count": 35,
   "metadata": {},
   "outputs": [
    {
     "data": {
      "text/plain": [
       "'Reply to win £100 weekly! Where will the 2006 FIFA World Cup be held? Send STOP to 87239 to end service'"
      ]
     },
     "execution_count": 35,
     "metadata": {},
     "output_type": "execute_result"
    }
   ],
   "source": [
    "X_train[:4][1978]"
   ]
  },
  {
   "cell_type": "code",
   "execution_count": 36,
   "metadata": {},
   "outputs": [
    {
     "data": {
      "text/plain": [
       "('weekly', 'where', 'world')"
      ]
     },
     "execution_count": 36,
     "metadata": {},
     "output_type": "execute_result"
    }
   ],
   "source": [
    "v.get_feature_names_out()[7396],v.get_feature_names_out()[7437],v.get_feature_names_out()[7555]\n",
    "\n",
    "#First email has the word \"asked\" in it. Similarly it has the other words with the indexes above. So this is how BOW stores the indexes. Suppose the index 2222 has the word \"Venus\" and it is not present in the email 1232's indexes as value 1, Then the word \"Venus\" doesn't come in the email. "
   ]
  },
  {
   "cell_type": "code",
   "execution_count": 37,
   "metadata": {},
   "outputs": [
    {
     "data": {
      "text/html": [
       "<style>#sk-container-id-1 {\n",
       "  /* Definition of color scheme common for light and dark mode */\n",
       "  --sklearn-color-text: black;\n",
       "  --sklearn-color-line: gray;\n",
       "  /* Definition of color scheme for unfitted estimators */\n",
       "  --sklearn-color-unfitted-level-0: #fff5e6;\n",
       "  --sklearn-color-unfitted-level-1: #f6e4d2;\n",
       "  --sklearn-color-unfitted-level-2: #ffe0b3;\n",
       "  --sklearn-color-unfitted-level-3: chocolate;\n",
       "  /* Definition of color scheme for fitted estimators */\n",
       "  --sklearn-color-fitted-level-0: #f0f8ff;\n",
       "  --sklearn-color-fitted-level-1: #d4ebff;\n",
       "  --sklearn-color-fitted-level-2: #b3dbfd;\n",
       "  --sklearn-color-fitted-level-3: cornflowerblue;\n",
       "\n",
       "  /* Specific color for light theme */\n",
       "  --sklearn-color-text-on-default-background: var(--sg-text-color, var(--theme-code-foreground, var(--jp-content-font-color1, black)));\n",
       "  --sklearn-color-background: var(--sg-background-color, var(--theme-background, var(--jp-layout-color0, white)));\n",
       "  --sklearn-color-border-box: var(--sg-text-color, var(--theme-code-foreground, var(--jp-content-font-color1, black)));\n",
       "  --sklearn-color-icon: #696969;\n",
       "\n",
       "  @media (prefers-color-scheme: dark) {\n",
       "    /* Redefinition of color scheme for dark theme */\n",
       "    --sklearn-color-text-on-default-background: var(--sg-text-color, var(--theme-code-foreground, var(--jp-content-font-color1, white)));\n",
       "    --sklearn-color-background: var(--sg-background-color, var(--theme-background, var(--jp-layout-color0, #111)));\n",
       "    --sklearn-color-border-box: var(--sg-text-color, var(--theme-code-foreground, var(--jp-content-font-color1, white)));\n",
       "    --sklearn-color-icon: #878787;\n",
       "  }\n",
       "}\n",
       "\n",
       "#sk-container-id-1 {\n",
       "  color: var(--sklearn-color-text);\n",
       "}\n",
       "\n",
       "#sk-container-id-1 pre {\n",
       "  padding: 0;\n",
       "}\n",
       "\n",
       "#sk-container-id-1 input.sk-hidden--visually {\n",
       "  border: 0;\n",
       "  clip: rect(1px 1px 1px 1px);\n",
       "  clip: rect(1px, 1px, 1px, 1px);\n",
       "  height: 1px;\n",
       "  margin: -1px;\n",
       "  overflow: hidden;\n",
       "  padding: 0;\n",
       "  position: absolute;\n",
       "  width: 1px;\n",
       "}\n",
       "\n",
       "#sk-container-id-1 div.sk-dashed-wrapped {\n",
       "  border: 1px dashed var(--sklearn-color-line);\n",
       "  margin: 0 0.4em 0.5em 0.4em;\n",
       "  box-sizing: border-box;\n",
       "  padding-bottom: 0.4em;\n",
       "  background-color: var(--sklearn-color-background);\n",
       "}\n",
       "\n",
       "#sk-container-id-1 div.sk-container {\n",
       "  /* jupyter's `normalize.less` sets `[hidden] { display: none; }`\n",
       "     but bootstrap.min.css set `[hidden] { display: none !important; }`\n",
       "     so we also need the `!important` here to be able to override the\n",
       "     default hidden behavior on the sphinx rendered scikit-learn.org.\n",
       "     See: https://github.com/scikit-learn/scikit-learn/issues/21755 */\n",
       "  display: inline-block !important;\n",
       "  position: relative;\n",
       "}\n",
       "\n",
       "#sk-container-id-1 div.sk-text-repr-fallback {\n",
       "  display: none;\n",
       "}\n",
       "\n",
       "div.sk-parallel-item,\n",
       "div.sk-serial,\n",
       "div.sk-item {\n",
       "  /* draw centered vertical line to link estimators */\n",
       "  background-image: linear-gradient(var(--sklearn-color-text-on-default-background), var(--sklearn-color-text-on-default-background));\n",
       "  background-size: 2px 100%;\n",
       "  background-repeat: no-repeat;\n",
       "  background-position: center center;\n",
       "}\n",
       "\n",
       "/* Parallel-specific style estimator block */\n",
       "\n",
       "#sk-container-id-1 div.sk-parallel-item::after {\n",
       "  content: \"\";\n",
       "  width: 100%;\n",
       "  border-bottom: 2px solid var(--sklearn-color-text-on-default-background);\n",
       "  flex-grow: 1;\n",
       "}\n",
       "\n",
       "#sk-container-id-1 div.sk-parallel {\n",
       "  display: flex;\n",
       "  align-items: stretch;\n",
       "  justify-content: center;\n",
       "  background-color: var(--sklearn-color-background);\n",
       "  position: relative;\n",
       "}\n",
       "\n",
       "#sk-container-id-1 div.sk-parallel-item {\n",
       "  display: flex;\n",
       "  flex-direction: column;\n",
       "}\n",
       "\n",
       "#sk-container-id-1 div.sk-parallel-item:first-child::after {\n",
       "  align-self: flex-end;\n",
       "  width: 50%;\n",
       "}\n",
       "\n",
       "#sk-container-id-1 div.sk-parallel-item:last-child::after {\n",
       "  align-self: flex-start;\n",
       "  width: 50%;\n",
       "}\n",
       "\n",
       "#sk-container-id-1 div.sk-parallel-item:only-child::after {\n",
       "  width: 0;\n",
       "}\n",
       "\n",
       "/* Serial-specific style estimator block */\n",
       "\n",
       "#sk-container-id-1 div.sk-serial {\n",
       "  display: flex;\n",
       "  flex-direction: column;\n",
       "  align-items: center;\n",
       "  background-color: var(--sklearn-color-background);\n",
       "  padding-right: 1em;\n",
       "  padding-left: 1em;\n",
       "}\n",
       "\n",
       "\n",
       "/* Toggleable style: style used for estimator/Pipeline/ColumnTransformer box that is\n",
       "clickable and can be expanded/collapsed.\n",
       "- Pipeline and ColumnTransformer use this feature and define the default style\n",
       "- Estimators will overwrite some part of the style using the `sk-estimator` class\n",
       "*/\n",
       "\n",
       "/* Pipeline and ColumnTransformer style (default) */\n",
       "\n",
       "#sk-container-id-1 div.sk-toggleable {\n",
       "  /* Default theme specific background. It is overwritten whether we have a\n",
       "  specific estimator or a Pipeline/ColumnTransformer */\n",
       "  background-color: var(--sklearn-color-background);\n",
       "}\n",
       "\n",
       "/* Toggleable label */\n",
       "#sk-container-id-1 label.sk-toggleable__label {\n",
       "  cursor: pointer;\n",
       "  display: block;\n",
       "  width: 100%;\n",
       "  margin-bottom: 0;\n",
       "  padding: 0.5em;\n",
       "  box-sizing: border-box;\n",
       "  text-align: center;\n",
       "}\n",
       "\n",
       "#sk-container-id-1 label.sk-toggleable__label-arrow:before {\n",
       "  /* Arrow on the left of the label */\n",
       "  content: \"▸\";\n",
       "  float: left;\n",
       "  margin-right: 0.25em;\n",
       "  color: var(--sklearn-color-icon);\n",
       "}\n",
       "\n",
       "#sk-container-id-1 label.sk-toggleable__label-arrow:hover:before {\n",
       "  color: var(--sklearn-color-text);\n",
       "}\n",
       "\n",
       "/* Toggleable content - dropdown */\n",
       "\n",
       "#sk-container-id-1 div.sk-toggleable__content {\n",
       "  max-height: 0;\n",
       "  max-width: 0;\n",
       "  overflow: hidden;\n",
       "  text-align: left;\n",
       "  /* unfitted */\n",
       "  background-color: var(--sklearn-color-unfitted-level-0);\n",
       "}\n",
       "\n",
       "#sk-container-id-1 div.sk-toggleable__content.fitted {\n",
       "  /* fitted */\n",
       "  background-color: var(--sklearn-color-fitted-level-0);\n",
       "}\n",
       "\n",
       "#sk-container-id-1 div.sk-toggleable__content pre {\n",
       "  margin: 0.2em;\n",
       "  border-radius: 0.25em;\n",
       "  color: var(--sklearn-color-text);\n",
       "  /* unfitted */\n",
       "  background-color: var(--sklearn-color-unfitted-level-0);\n",
       "}\n",
       "\n",
       "#sk-container-id-1 div.sk-toggleable__content.fitted pre {\n",
       "  /* unfitted */\n",
       "  background-color: var(--sklearn-color-fitted-level-0);\n",
       "}\n",
       "\n",
       "#sk-container-id-1 input.sk-toggleable__control:checked~div.sk-toggleable__content {\n",
       "  /* Expand drop-down */\n",
       "  max-height: 200px;\n",
       "  max-width: 100%;\n",
       "  overflow: auto;\n",
       "}\n",
       "\n",
       "#sk-container-id-1 input.sk-toggleable__control:checked~label.sk-toggleable__label-arrow:before {\n",
       "  content: \"▾\";\n",
       "}\n",
       "\n",
       "/* Pipeline/ColumnTransformer-specific style */\n",
       "\n",
       "#sk-container-id-1 div.sk-label input.sk-toggleable__control:checked~label.sk-toggleable__label {\n",
       "  color: var(--sklearn-color-text);\n",
       "  background-color: var(--sklearn-color-unfitted-level-2);\n",
       "}\n",
       "\n",
       "#sk-container-id-1 div.sk-label.fitted input.sk-toggleable__control:checked~label.sk-toggleable__label {\n",
       "  background-color: var(--sklearn-color-fitted-level-2);\n",
       "}\n",
       "\n",
       "/* Estimator-specific style */\n",
       "\n",
       "/* Colorize estimator box */\n",
       "#sk-container-id-1 div.sk-estimator input.sk-toggleable__control:checked~label.sk-toggleable__label {\n",
       "  /* unfitted */\n",
       "  background-color: var(--sklearn-color-unfitted-level-2);\n",
       "}\n",
       "\n",
       "#sk-container-id-1 div.sk-estimator.fitted input.sk-toggleable__control:checked~label.sk-toggleable__label {\n",
       "  /* fitted */\n",
       "  background-color: var(--sklearn-color-fitted-level-2);\n",
       "}\n",
       "\n",
       "#sk-container-id-1 div.sk-label label.sk-toggleable__label,\n",
       "#sk-container-id-1 div.sk-label label {\n",
       "  /* The background is the default theme color */\n",
       "  color: var(--sklearn-color-text-on-default-background);\n",
       "}\n",
       "\n",
       "/* On hover, darken the color of the background */\n",
       "#sk-container-id-1 div.sk-label:hover label.sk-toggleable__label {\n",
       "  color: var(--sklearn-color-text);\n",
       "  background-color: var(--sklearn-color-unfitted-level-2);\n",
       "}\n",
       "\n",
       "/* Label box, darken color on hover, fitted */\n",
       "#sk-container-id-1 div.sk-label.fitted:hover label.sk-toggleable__label.fitted {\n",
       "  color: var(--sklearn-color-text);\n",
       "  background-color: var(--sklearn-color-fitted-level-2);\n",
       "}\n",
       "\n",
       "/* Estimator label */\n",
       "\n",
       "#sk-container-id-1 div.sk-label label {\n",
       "  font-family: monospace;\n",
       "  font-weight: bold;\n",
       "  display: inline-block;\n",
       "  line-height: 1.2em;\n",
       "}\n",
       "\n",
       "#sk-container-id-1 div.sk-label-container {\n",
       "  text-align: center;\n",
       "}\n",
       "\n",
       "/* Estimator-specific */\n",
       "#sk-container-id-1 div.sk-estimator {\n",
       "  font-family: monospace;\n",
       "  border: 1px dotted var(--sklearn-color-border-box);\n",
       "  border-radius: 0.25em;\n",
       "  box-sizing: border-box;\n",
       "  margin-bottom: 0.5em;\n",
       "  /* unfitted */\n",
       "  background-color: var(--sklearn-color-unfitted-level-0);\n",
       "}\n",
       "\n",
       "#sk-container-id-1 div.sk-estimator.fitted {\n",
       "  /* fitted */\n",
       "  background-color: var(--sklearn-color-fitted-level-0);\n",
       "}\n",
       "\n",
       "/* on hover */\n",
       "#sk-container-id-1 div.sk-estimator:hover {\n",
       "  /* unfitted */\n",
       "  background-color: var(--sklearn-color-unfitted-level-2);\n",
       "}\n",
       "\n",
       "#sk-container-id-1 div.sk-estimator.fitted:hover {\n",
       "  /* fitted */\n",
       "  background-color: var(--sklearn-color-fitted-level-2);\n",
       "}\n",
       "\n",
       "/* Specification for estimator info (e.g. \"i\" and \"?\") */\n",
       "\n",
       "/* Common style for \"i\" and \"?\" */\n",
       "\n",
       ".sk-estimator-doc-link,\n",
       "a:link.sk-estimator-doc-link,\n",
       "a:visited.sk-estimator-doc-link {\n",
       "  float: right;\n",
       "  font-size: smaller;\n",
       "  line-height: 1em;\n",
       "  font-family: monospace;\n",
       "  background-color: var(--sklearn-color-background);\n",
       "  border-radius: 1em;\n",
       "  height: 1em;\n",
       "  width: 1em;\n",
       "  text-decoration: none !important;\n",
       "  margin-left: 1ex;\n",
       "  /* unfitted */\n",
       "  border: var(--sklearn-color-unfitted-level-1) 1pt solid;\n",
       "  color: var(--sklearn-color-unfitted-level-1);\n",
       "}\n",
       "\n",
       ".sk-estimator-doc-link.fitted,\n",
       "a:link.sk-estimator-doc-link.fitted,\n",
       "a:visited.sk-estimator-doc-link.fitted {\n",
       "  /* fitted */\n",
       "  border: var(--sklearn-color-fitted-level-1) 1pt solid;\n",
       "  color: var(--sklearn-color-fitted-level-1);\n",
       "}\n",
       "\n",
       "/* On hover */\n",
       "div.sk-estimator:hover .sk-estimator-doc-link:hover,\n",
       ".sk-estimator-doc-link:hover,\n",
       "div.sk-label-container:hover .sk-estimator-doc-link:hover,\n",
       ".sk-estimator-doc-link:hover {\n",
       "  /* unfitted */\n",
       "  background-color: var(--sklearn-color-unfitted-level-3);\n",
       "  color: var(--sklearn-color-background);\n",
       "  text-decoration: none;\n",
       "}\n",
       "\n",
       "div.sk-estimator.fitted:hover .sk-estimator-doc-link.fitted:hover,\n",
       ".sk-estimator-doc-link.fitted:hover,\n",
       "div.sk-label-container:hover .sk-estimator-doc-link.fitted:hover,\n",
       ".sk-estimator-doc-link.fitted:hover {\n",
       "  /* fitted */\n",
       "  background-color: var(--sklearn-color-fitted-level-3);\n",
       "  color: var(--sklearn-color-background);\n",
       "  text-decoration: none;\n",
       "}\n",
       "\n",
       "/* Span, style for the box shown on hovering the info icon */\n",
       ".sk-estimator-doc-link span {\n",
       "  display: none;\n",
       "  z-index: 9999;\n",
       "  position: relative;\n",
       "  font-weight: normal;\n",
       "  right: .2ex;\n",
       "  padding: .5ex;\n",
       "  margin: .5ex;\n",
       "  width: min-content;\n",
       "  min-width: 20ex;\n",
       "  max-width: 50ex;\n",
       "  color: var(--sklearn-color-text);\n",
       "  box-shadow: 2pt 2pt 4pt #999;\n",
       "  /* unfitted */\n",
       "  background: var(--sklearn-color-unfitted-level-0);\n",
       "  border: .5pt solid var(--sklearn-color-unfitted-level-3);\n",
       "}\n",
       "\n",
       ".sk-estimator-doc-link.fitted span {\n",
       "  /* fitted */\n",
       "  background: var(--sklearn-color-fitted-level-0);\n",
       "  border: var(--sklearn-color-fitted-level-3);\n",
       "}\n",
       "\n",
       ".sk-estimator-doc-link:hover span {\n",
       "  display: block;\n",
       "}\n",
       "\n",
       "/* \"?\"-specific style due to the `<a>` HTML tag */\n",
       "\n",
       "#sk-container-id-1 a.estimator_doc_link {\n",
       "  float: right;\n",
       "  font-size: 1rem;\n",
       "  line-height: 1em;\n",
       "  font-family: monospace;\n",
       "  background-color: var(--sklearn-color-background);\n",
       "  border-radius: 1rem;\n",
       "  height: 1rem;\n",
       "  width: 1rem;\n",
       "  text-decoration: none;\n",
       "  /* unfitted */\n",
       "  color: var(--sklearn-color-unfitted-level-1);\n",
       "  border: var(--sklearn-color-unfitted-level-1) 1pt solid;\n",
       "}\n",
       "\n",
       "#sk-container-id-1 a.estimator_doc_link.fitted {\n",
       "  /* fitted */\n",
       "  border: var(--sklearn-color-fitted-level-1) 1pt solid;\n",
       "  color: var(--sklearn-color-fitted-level-1);\n",
       "}\n",
       "\n",
       "/* On hover */\n",
       "#sk-container-id-1 a.estimator_doc_link:hover {\n",
       "  /* unfitted */\n",
       "  background-color: var(--sklearn-color-unfitted-level-3);\n",
       "  color: var(--sklearn-color-background);\n",
       "  text-decoration: none;\n",
       "}\n",
       "\n",
       "#sk-container-id-1 a.estimator_doc_link.fitted:hover {\n",
       "  /* fitted */\n",
       "  background-color: var(--sklearn-color-fitted-level-3);\n",
       "}\n",
       "</style><div id=\"sk-container-id-1\" class=\"sk-top-container\"><div class=\"sk-text-repr-fallback\"><pre>MultinomialNB()</pre><b>In a Jupyter environment, please rerun this cell to show the HTML representation or trust the notebook. <br />On GitHub, the HTML representation is unable to render, please try loading this page with nbviewer.org.</b></div><div class=\"sk-container\" hidden><div class=\"sk-item\"><div class=\"sk-estimator fitted sk-toggleable\"><input class=\"sk-toggleable__control sk-hidden--visually\" id=\"sk-estimator-id-1\" type=\"checkbox\" checked><label for=\"sk-estimator-id-1\" class=\"sk-toggleable__label fitted sk-toggleable__label-arrow fitted\">&nbsp;&nbsp;MultinomialNB<a class=\"sk-estimator-doc-link fitted\" rel=\"noreferrer\" target=\"_blank\" href=\"https://scikit-learn.org/1.5/modules/generated/sklearn.naive_bayes.MultinomialNB.html\">?<span>Documentation for MultinomialNB</span></a><span class=\"sk-estimator-doc-link fitted\">i<span>Fitted</span></span></label><div class=\"sk-toggleable__content fitted\"><pre>MultinomialNB()</pre></div> </div></div></div></div>"
      ],
      "text/plain": [
       "MultinomialNB()"
      ]
     },
     "execution_count": 37,
     "metadata": {},
     "output_type": "execute_result"
    }
   ],
   "source": [
    "from sklearn.naive_bayes import MultinomialNB\n",
    "\n",
    "model = MultinomialNB()\n",
    "\n",
    "model.fit(X_train_cv , y_train)"
   ]
  },
  {
   "cell_type": "code",
   "execution_count": 38,
   "metadata": {},
   "outputs": [],
   "source": [
    "X_test_cv = v.transform(X_test.values)"
   ]
  },
  {
   "cell_type": "code",
   "execution_count": 39,
   "metadata": {},
   "outputs": [
    {
     "name": "stdout",
     "output_type": "stream",
     "text": [
      "              precision    recall  f1-score   support\n",
      "\n",
      "           0       0.99      1.00      1.00       966\n",
      "           1       1.00      0.94      0.97       149\n",
      "\n",
      "    accuracy                           0.99      1115\n",
      "   macro avg       1.00      0.97      0.98      1115\n",
      "weighted avg       0.99      0.99      0.99      1115\n",
      "\n"
     ]
    }
   ],
   "source": [
    "from sklearn.metrics import classification_report\n",
    "\n",
    "y_test_pred = model.predict(X_test_cv)\n",
    "\n",
    "print(classification_report(y_true=y_test, y_pred=y_test_pred))"
   ]
  },
  {
   "cell_type": "code",
   "execution_count": 40,
   "metadata": {},
   "outputs": [
    {
     "name": "stdout",
     "output_type": "stream",
     "text": [
      "Your input -> \n",
      "Join course about marketing for only 24.99$ per hour\n",
      "Classification: Spam \n",
      "\n",
      "Your input -> \n",
      "Watch these paid for free movies from our platform abc.tv for more rewards!\n",
      "Classification: Not Spam/Ham \n",
      "\n",
      "Your input -> \n",
      "Win 50000$ worth bitcoin by clicking on this link\n",
      "Classification: Spam \n",
      "\n",
      "Your input -> \n",
      "Dear Friend, How are you doing?\n",
      "Classification: Not Spam/Ham \n",
      "\n"
     ]
    }
   ],
   "source": [
    "sample_emails = []\n",
    "email=\"\"\n",
    "while email!=\"quit\":\n",
    "    email = (input(\"Enter the email that you want to classify. Type quit to stop. \"))\n",
    "    sample_emails.append(email)\n",
    "    \n",
    "sample_emails.pop() #Removing the \"quit\"\n",
    "\n",
    "#Writing code to transform this email array and then pass it through the model to predict using model.predict and then printing the results.\n",
    "emails = v.transform(sample_emails)\n",
    "pred = model.predict(emails)\n",
    "\n",
    "for email, prediction in zip(sample_emails, pred):\n",
    "    print(\"Your input -> \")\n",
    "    print(email)\n",
    "    print(\"Classification:\", \"Spam\" if prediction == 1 else \"Not Spam/Ham\", \"\\n\")\n"
   ]
  },
  {
   "cell_type": "markdown",
   "metadata": {},
   "source": [
    "## **Easier Way of Implementing the same logic ->**"
   ]
  },
  {
   "cell_type": "code",
   "execution_count": 41,
   "metadata": {},
   "outputs": [
    {
     "data": {
      "text/html": [
       "<style>#sk-container-id-2 {\n",
       "  /* Definition of color scheme common for light and dark mode */\n",
       "  --sklearn-color-text: black;\n",
       "  --sklearn-color-line: gray;\n",
       "  /* Definition of color scheme for unfitted estimators */\n",
       "  --sklearn-color-unfitted-level-0: #fff5e6;\n",
       "  --sklearn-color-unfitted-level-1: #f6e4d2;\n",
       "  --sklearn-color-unfitted-level-2: #ffe0b3;\n",
       "  --sklearn-color-unfitted-level-3: chocolate;\n",
       "  /* Definition of color scheme for fitted estimators */\n",
       "  --sklearn-color-fitted-level-0: #f0f8ff;\n",
       "  --sklearn-color-fitted-level-1: #d4ebff;\n",
       "  --sklearn-color-fitted-level-2: #b3dbfd;\n",
       "  --sklearn-color-fitted-level-3: cornflowerblue;\n",
       "\n",
       "  /* Specific color for light theme */\n",
       "  --sklearn-color-text-on-default-background: var(--sg-text-color, var(--theme-code-foreground, var(--jp-content-font-color1, black)));\n",
       "  --sklearn-color-background: var(--sg-background-color, var(--theme-background, var(--jp-layout-color0, white)));\n",
       "  --sklearn-color-border-box: var(--sg-text-color, var(--theme-code-foreground, var(--jp-content-font-color1, black)));\n",
       "  --sklearn-color-icon: #696969;\n",
       "\n",
       "  @media (prefers-color-scheme: dark) {\n",
       "    /* Redefinition of color scheme for dark theme */\n",
       "    --sklearn-color-text-on-default-background: var(--sg-text-color, var(--theme-code-foreground, var(--jp-content-font-color1, white)));\n",
       "    --sklearn-color-background: var(--sg-background-color, var(--theme-background, var(--jp-layout-color0, #111)));\n",
       "    --sklearn-color-border-box: var(--sg-text-color, var(--theme-code-foreground, var(--jp-content-font-color1, white)));\n",
       "    --sklearn-color-icon: #878787;\n",
       "  }\n",
       "}\n",
       "\n",
       "#sk-container-id-2 {\n",
       "  color: var(--sklearn-color-text);\n",
       "}\n",
       "\n",
       "#sk-container-id-2 pre {\n",
       "  padding: 0;\n",
       "}\n",
       "\n",
       "#sk-container-id-2 input.sk-hidden--visually {\n",
       "  border: 0;\n",
       "  clip: rect(1px 1px 1px 1px);\n",
       "  clip: rect(1px, 1px, 1px, 1px);\n",
       "  height: 1px;\n",
       "  margin: -1px;\n",
       "  overflow: hidden;\n",
       "  padding: 0;\n",
       "  position: absolute;\n",
       "  width: 1px;\n",
       "}\n",
       "\n",
       "#sk-container-id-2 div.sk-dashed-wrapped {\n",
       "  border: 1px dashed var(--sklearn-color-line);\n",
       "  margin: 0 0.4em 0.5em 0.4em;\n",
       "  box-sizing: border-box;\n",
       "  padding-bottom: 0.4em;\n",
       "  background-color: var(--sklearn-color-background);\n",
       "}\n",
       "\n",
       "#sk-container-id-2 div.sk-container {\n",
       "  /* jupyter's `normalize.less` sets `[hidden] { display: none; }`\n",
       "     but bootstrap.min.css set `[hidden] { display: none !important; }`\n",
       "     so we also need the `!important` here to be able to override the\n",
       "     default hidden behavior on the sphinx rendered scikit-learn.org.\n",
       "     See: https://github.com/scikit-learn/scikit-learn/issues/21755 */\n",
       "  display: inline-block !important;\n",
       "  position: relative;\n",
       "}\n",
       "\n",
       "#sk-container-id-2 div.sk-text-repr-fallback {\n",
       "  display: none;\n",
       "}\n",
       "\n",
       "div.sk-parallel-item,\n",
       "div.sk-serial,\n",
       "div.sk-item {\n",
       "  /* draw centered vertical line to link estimators */\n",
       "  background-image: linear-gradient(var(--sklearn-color-text-on-default-background), var(--sklearn-color-text-on-default-background));\n",
       "  background-size: 2px 100%;\n",
       "  background-repeat: no-repeat;\n",
       "  background-position: center center;\n",
       "}\n",
       "\n",
       "/* Parallel-specific style estimator block */\n",
       "\n",
       "#sk-container-id-2 div.sk-parallel-item::after {\n",
       "  content: \"\";\n",
       "  width: 100%;\n",
       "  border-bottom: 2px solid var(--sklearn-color-text-on-default-background);\n",
       "  flex-grow: 1;\n",
       "}\n",
       "\n",
       "#sk-container-id-2 div.sk-parallel {\n",
       "  display: flex;\n",
       "  align-items: stretch;\n",
       "  justify-content: center;\n",
       "  background-color: var(--sklearn-color-background);\n",
       "  position: relative;\n",
       "}\n",
       "\n",
       "#sk-container-id-2 div.sk-parallel-item {\n",
       "  display: flex;\n",
       "  flex-direction: column;\n",
       "}\n",
       "\n",
       "#sk-container-id-2 div.sk-parallel-item:first-child::after {\n",
       "  align-self: flex-end;\n",
       "  width: 50%;\n",
       "}\n",
       "\n",
       "#sk-container-id-2 div.sk-parallel-item:last-child::after {\n",
       "  align-self: flex-start;\n",
       "  width: 50%;\n",
       "}\n",
       "\n",
       "#sk-container-id-2 div.sk-parallel-item:only-child::after {\n",
       "  width: 0;\n",
       "}\n",
       "\n",
       "/* Serial-specific style estimator block */\n",
       "\n",
       "#sk-container-id-2 div.sk-serial {\n",
       "  display: flex;\n",
       "  flex-direction: column;\n",
       "  align-items: center;\n",
       "  background-color: var(--sklearn-color-background);\n",
       "  padding-right: 1em;\n",
       "  padding-left: 1em;\n",
       "}\n",
       "\n",
       "\n",
       "/* Toggleable style: style used for estimator/Pipeline/ColumnTransformer box that is\n",
       "clickable and can be expanded/collapsed.\n",
       "- Pipeline and ColumnTransformer use this feature and define the default style\n",
       "- Estimators will overwrite some part of the style using the `sk-estimator` class\n",
       "*/\n",
       "\n",
       "/* Pipeline and ColumnTransformer style (default) */\n",
       "\n",
       "#sk-container-id-2 div.sk-toggleable {\n",
       "  /* Default theme specific background. It is overwritten whether we have a\n",
       "  specific estimator or a Pipeline/ColumnTransformer */\n",
       "  background-color: var(--sklearn-color-background);\n",
       "}\n",
       "\n",
       "/* Toggleable label */\n",
       "#sk-container-id-2 label.sk-toggleable__label {\n",
       "  cursor: pointer;\n",
       "  display: block;\n",
       "  width: 100%;\n",
       "  margin-bottom: 0;\n",
       "  padding: 0.5em;\n",
       "  box-sizing: border-box;\n",
       "  text-align: center;\n",
       "}\n",
       "\n",
       "#sk-container-id-2 label.sk-toggleable__label-arrow:before {\n",
       "  /* Arrow on the left of the label */\n",
       "  content: \"▸\";\n",
       "  float: left;\n",
       "  margin-right: 0.25em;\n",
       "  color: var(--sklearn-color-icon);\n",
       "}\n",
       "\n",
       "#sk-container-id-2 label.sk-toggleable__label-arrow:hover:before {\n",
       "  color: var(--sklearn-color-text);\n",
       "}\n",
       "\n",
       "/* Toggleable content - dropdown */\n",
       "\n",
       "#sk-container-id-2 div.sk-toggleable__content {\n",
       "  max-height: 0;\n",
       "  max-width: 0;\n",
       "  overflow: hidden;\n",
       "  text-align: left;\n",
       "  /* unfitted */\n",
       "  background-color: var(--sklearn-color-unfitted-level-0);\n",
       "}\n",
       "\n",
       "#sk-container-id-2 div.sk-toggleable__content.fitted {\n",
       "  /* fitted */\n",
       "  background-color: var(--sklearn-color-fitted-level-0);\n",
       "}\n",
       "\n",
       "#sk-container-id-2 div.sk-toggleable__content pre {\n",
       "  margin: 0.2em;\n",
       "  border-radius: 0.25em;\n",
       "  color: var(--sklearn-color-text);\n",
       "  /* unfitted */\n",
       "  background-color: var(--sklearn-color-unfitted-level-0);\n",
       "}\n",
       "\n",
       "#sk-container-id-2 div.sk-toggleable__content.fitted pre {\n",
       "  /* unfitted */\n",
       "  background-color: var(--sklearn-color-fitted-level-0);\n",
       "}\n",
       "\n",
       "#sk-container-id-2 input.sk-toggleable__control:checked~div.sk-toggleable__content {\n",
       "  /* Expand drop-down */\n",
       "  max-height: 200px;\n",
       "  max-width: 100%;\n",
       "  overflow: auto;\n",
       "}\n",
       "\n",
       "#sk-container-id-2 input.sk-toggleable__control:checked~label.sk-toggleable__label-arrow:before {\n",
       "  content: \"▾\";\n",
       "}\n",
       "\n",
       "/* Pipeline/ColumnTransformer-specific style */\n",
       "\n",
       "#sk-container-id-2 div.sk-label input.sk-toggleable__control:checked~label.sk-toggleable__label {\n",
       "  color: var(--sklearn-color-text);\n",
       "  background-color: var(--sklearn-color-unfitted-level-2);\n",
       "}\n",
       "\n",
       "#sk-container-id-2 div.sk-label.fitted input.sk-toggleable__control:checked~label.sk-toggleable__label {\n",
       "  background-color: var(--sklearn-color-fitted-level-2);\n",
       "}\n",
       "\n",
       "/* Estimator-specific style */\n",
       "\n",
       "/* Colorize estimator box */\n",
       "#sk-container-id-2 div.sk-estimator input.sk-toggleable__control:checked~label.sk-toggleable__label {\n",
       "  /* unfitted */\n",
       "  background-color: var(--sklearn-color-unfitted-level-2);\n",
       "}\n",
       "\n",
       "#sk-container-id-2 div.sk-estimator.fitted input.sk-toggleable__control:checked~label.sk-toggleable__label {\n",
       "  /* fitted */\n",
       "  background-color: var(--sklearn-color-fitted-level-2);\n",
       "}\n",
       "\n",
       "#sk-container-id-2 div.sk-label label.sk-toggleable__label,\n",
       "#sk-container-id-2 div.sk-label label {\n",
       "  /* The background is the default theme color */\n",
       "  color: var(--sklearn-color-text-on-default-background);\n",
       "}\n",
       "\n",
       "/* On hover, darken the color of the background */\n",
       "#sk-container-id-2 div.sk-label:hover label.sk-toggleable__label {\n",
       "  color: var(--sklearn-color-text);\n",
       "  background-color: var(--sklearn-color-unfitted-level-2);\n",
       "}\n",
       "\n",
       "/* Label box, darken color on hover, fitted */\n",
       "#sk-container-id-2 div.sk-label.fitted:hover label.sk-toggleable__label.fitted {\n",
       "  color: var(--sklearn-color-text);\n",
       "  background-color: var(--sklearn-color-fitted-level-2);\n",
       "}\n",
       "\n",
       "/* Estimator label */\n",
       "\n",
       "#sk-container-id-2 div.sk-label label {\n",
       "  font-family: monospace;\n",
       "  font-weight: bold;\n",
       "  display: inline-block;\n",
       "  line-height: 1.2em;\n",
       "}\n",
       "\n",
       "#sk-container-id-2 div.sk-label-container {\n",
       "  text-align: center;\n",
       "}\n",
       "\n",
       "/* Estimator-specific */\n",
       "#sk-container-id-2 div.sk-estimator {\n",
       "  font-family: monospace;\n",
       "  border: 1px dotted var(--sklearn-color-border-box);\n",
       "  border-radius: 0.25em;\n",
       "  box-sizing: border-box;\n",
       "  margin-bottom: 0.5em;\n",
       "  /* unfitted */\n",
       "  background-color: var(--sklearn-color-unfitted-level-0);\n",
       "}\n",
       "\n",
       "#sk-container-id-2 div.sk-estimator.fitted {\n",
       "  /* fitted */\n",
       "  background-color: var(--sklearn-color-fitted-level-0);\n",
       "}\n",
       "\n",
       "/* on hover */\n",
       "#sk-container-id-2 div.sk-estimator:hover {\n",
       "  /* unfitted */\n",
       "  background-color: var(--sklearn-color-unfitted-level-2);\n",
       "}\n",
       "\n",
       "#sk-container-id-2 div.sk-estimator.fitted:hover {\n",
       "  /* fitted */\n",
       "  background-color: var(--sklearn-color-fitted-level-2);\n",
       "}\n",
       "\n",
       "/* Specification for estimator info (e.g. \"i\" and \"?\") */\n",
       "\n",
       "/* Common style for \"i\" and \"?\" */\n",
       "\n",
       ".sk-estimator-doc-link,\n",
       "a:link.sk-estimator-doc-link,\n",
       "a:visited.sk-estimator-doc-link {\n",
       "  float: right;\n",
       "  font-size: smaller;\n",
       "  line-height: 1em;\n",
       "  font-family: monospace;\n",
       "  background-color: var(--sklearn-color-background);\n",
       "  border-radius: 1em;\n",
       "  height: 1em;\n",
       "  width: 1em;\n",
       "  text-decoration: none !important;\n",
       "  margin-left: 1ex;\n",
       "  /* unfitted */\n",
       "  border: var(--sklearn-color-unfitted-level-1) 1pt solid;\n",
       "  color: var(--sklearn-color-unfitted-level-1);\n",
       "}\n",
       "\n",
       ".sk-estimator-doc-link.fitted,\n",
       "a:link.sk-estimator-doc-link.fitted,\n",
       "a:visited.sk-estimator-doc-link.fitted {\n",
       "  /* fitted */\n",
       "  border: var(--sklearn-color-fitted-level-1) 1pt solid;\n",
       "  color: var(--sklearn-color-fitted-level-1);\n",
       "}\n",
       "\n",
       "/* On hover */\n",
       "div.sk-estimator:hover .sk-estimator-doc-link:hover,\n",
       ".sk-estimator-doc-link:hover,\n",
       "div.sk-label-container:hover .sk-estimator-doc-link:hover,\n",
       ".sk-estimator-doc-link:hover {\n",
       "  /* unfitted */\n",
       "  background-color: var(--sklearn-color-unfitted-level-3);\n",
       "  color: var(--sklearn-color-background);\n",
       "  text-decoration: none;\n",
       "}\n",
       "\n",
       "div.sk-estimator.fitted:hover .sk-estimator-doc-link.fitted:hover,\n",
       ".sk-estimator-doc-link.fitted:hover,\n",
       "div.sk-label-container:hover .sk-estimator-doc-link.fitted:hover,\n",
       ".sk-estimator-doc-link.fitted:hover {\n",
       "  /* fitted */\n",
       "  background-color: var(--sklearn-color-fitted-level-3);\n",
       "  color: var(--sklearn-color-background);\n",
       "  text-decoration: none;\n",
       "}\n",
       "\n",
       "/* Span, style for the box shown on hovering the info icon */\n",
       ".sk-estimator-doc-link span {\n",
       "  display: none;\n",
       "  z-index: 9999;\n",
       "  position: relative;\n",
       "  font-weight: normal;\n",
       "  right: .2ex;\n",
       "  padding: .5ex;\n",
       "  margin: .5ex;\n",
       "  width: min-content;\n",
       "  min-width: 20ex;\n",
       "  max-width: 50ex;\n",
       "  color: var(--sklearn-color-text);\n",
       "  box-shadow: 2pt 2pt 4pt #999;\n",
       "  /* unfitted */\n",
       "  background: var(--sklearn-color-unfitted-level-0);\n",
       "  border: .5pt solid var(--sklearn-color-unfitted-level-3);\n",
       "}\n",
       "\n",
       ".sk-estimator-doc-link.fitted span {\n",
       "  /* fitted */\n",
       "  background: var(--sklearn-color-fitted-level-0);\n",
       "  border: var(--sklearn-color-fitted-level-3);\n",
       "}\n",
       "\n",
       ".sk-estimator-doc-link:hover span {\n",
       "  display: block;\n",
       "}\n",
       "\n",
       "/* \"?\"-specific style due to the `<a>` HTML tag */\n",
       "\n",
       "#sk-container-id-2 a.estimator_doc_link {\n",
       "  float: right;\n",
       "  font-size: 1rem;\n",
       "  line-height: 1em;\n",
       "  font-family: monospace;\n",
       "  background-color: var(--sklearn-color-background);\n",
       "  border-radius: 1rem;\n",
       "  height: 1rem;\n",
       "  width: 1rem;\n",
       "  text-decoration: none;\n",
       "  /* unfitted */\n",
       "  color: var(--sklearn-color-unfitted-level-1);\n",
       "  border: var(--sklearn-color-unfitted-level-1) 1pt solid;\n",
       "}\n",
       "\n",
       "#sk-container-id-2 a.estimator_doc_link.fitted {\n",
       "  /* fitted */\n",
       "  border: var(--sklearn-color-fitted-level-1) 1pt solid;\n",
       "  color: var(--sklearn-color-fitted-level-1);\n",
       "}\n",
       "\n",
       "/* On hover */\n",
       "#sk-container-id-2 a.estimator_doc_link:hover {\n",
       "  /* unfitted */\n",
       "  background-color: var(--sklearn-color-unfitted-level-3);\n",
       "  color: var(--sklearn-color-background);\n",
       "  text-decoration: none;\n",
       "}\n",
       "\n",
       "#sk-container-id-2 a.estimator_doc_link.fitted:hover {\n",
       "  /* fitted */\n",
       "  background-color: var(--sklearn-color-fitted-level-3);\n",
       "}\n",
       "</style><div id=\"sk-container-id-2\" class=\"sk-top-container\"><div class=\"sk-text-repr-fallback\"><pre>Pipeline(steps=[(&#x27;vectorizer&#x27;, CountVectorizer()), (&#x27;nb&#x27;, MultinomialNB())])</pre><b>In a Jupyter environment, please rerun this cell to show the HTML representation or trust the notebook. <br />On GitHub, the HTML representation is unable to render, please try loading this page with nbviewer.org.</b></div><div class=\"sk-container\" hidden><div class=\"sk-item sk-dashed-wrapped\"><div class=\"sk-label-container\"><div class=\"sk-label fitted sk-toggleable\"><input class=\"sk-toggleable__control sk-hidden--visually\" id=\"sk-estimator-id-2\" type=\"checkbox\" ><label for=\"sk-estimator-id-2\" class=\"sk-toggleable__label fitted sk-toggleable__label-arrow fitted\">&nbsp;&nbsp;Pipeline<a class=\"sk-estimator-doc-link fitted\" rel=\"noreferrer\" target=\"_blank\" href=\"https://scikit-learn.org/1.5/modules/generated/sklearn.pipeline.Pipeline.html\">?<span>Documentation for Pipeline</span></a><span class=\"sk-estimator-doc-link fitted\">i<span>Fitted</span></span></label><div class=\"sk-toggleable__content fitted\"><pre>Pipeline(steps=[(&#x27;vectorizer&#x27;, CountVectorizer()), (&#x27;nb&#x27;, MultinomialNB())])</pre></div> </div></div><div class=\"sk-serial\"><div class=\"sk-item\"><div class=\"sk-estimator fitted sk-toggleable\"><input class=\"sk-toggleable__control sk-hidden--visually\" id=\"sk-estimator-id-3\" type=\"checkbox\" ><label for=\"sk-estimator-id-3\" class=\"sk-toggleable__label fitted sk-toggleable__label-arrow fitted\">&nbsp;CountVectorizer<a class=\"sk-estimator-doc-link fitted\" rel=\"noreferrer\" target=\"_blank\" href=\"https://scikit-learn.org/1.5/modules/generated/sklearn.feature_extraction.text.CountVectorizer.html\">?<span>Documentation for CountVectorizer</span></a></label><div class=\"sk-toggleable__content fitted\"><pre>CountVectorizer()</pre></div> </div></div><div class=\"sk-item\"><div class=\"sk-estimator fitted sk-toggleable\"><input class=\"sk-toggleable__control sk-hidden--visually\" id=\"sk-estimator-id-4\" type=\"checkbox\" ><label for=\"sk-estimator-id-4\" class=\"sk-toggleable__label fitted sk-toggleable__label-arrow fitted\">&nbsp;MultinomialNB<a class=\"sk-estimator-doc-link fitted\" rel=\"noreferrer\" target=\"_blank\" href=\"https://scikit-learn.org/1.5/modules/generated/sklearn.naive_bayes.MultinomialNB.html\">?<span>Documentation for MultinomialNB</span></a></label><div class=\"sk-toggleable__content fitted\"><pre>MultinomialNB()</pre></div> </div></div></div></div></div></div>"
      ],
      "text/plain": [
       "Pipeline(steps=[('vectorizer', CountVectorizer()), ('nb', MultinomialNB())])"
      ]
     },
     "execution_count": 41,
     "metadata": {},
     "output_type": "execute_result"
    }
   ],
   "source": [
    "from sklearn.pipeline import Pipeline\n",
    "\n",
    "clf = Pipeline([\n",
    "    ('vectorizer', CountVectorizer()),\n",
    "    ('nb', MultinomialNB())\n",
    "])\n",
    "\n",
    "\n",
    "clf.fit(X_train, y_train)\n"
   ]
  },
  {
   "cell_type": "code",
   "execution_count": 42,
   "metadata": {},
   "outputs": [
    {
     "name": "stdout",
     "output_type": "stream",
     "text": [
      "              precision    recall  f1-score   support\n",
      "\n",
      "           0       0.99      1.00      1.00       966\n",
      "           1       1.00      0.94      0.97       149\n",
      "\n",
      "    accuracy                           0.99      1115\n",
      "   macro avg       1.00      0.97      0.98      1115\n",
      "weighted avg       0.99      0.99      0.99      1115\n",
      "\n"
     ]
    }
   ],
   "source": [
    "pred = clf.predict(X_test)\n",
    "print(classification_report(y_true=y_test, y_pred=pred))"
   ]
  },
  {
   "cell_type": "markdown",
   "metadata": {},
   "source": [
    "# **Stop Words in NLP ->**"
   ]
  },
  {
   "cell_type": "markdown",
   "metadata": {},
   "source": [
    "Stop words are the most common words in English. They are usually not useful in NLP. They are often used for filtering out irrelevant words.\n",
    "\n",
    "Example of stop words -> I, me, my, mine, this, that, not etc.\n",
    "\n",
    "Example of Usage of Stop Words -> This is a good movie / This is not a good movie -> Good Movie\n",
    "\n",
    "Stop words are useful in many tasks as they make the working efficient, But they are not useful in tasks like **Machine Translation , Sentiment Classification , ChatBot** etc."
   ]
  },
  {
   "cell_type": "code",
   "execution_count": 43,
   "metadata": {},
   "outputs": [
    {
     "data": {
      "text/plain": [
       "(['had',\n",
       "  'whether',\n",
       "  'you',\n",
       "  'are',\n",
       "  'alone',\n",
       "  'might',\n",
       "  'could',\n",
       "  'amount',\n",
       "  '’ve',\n",
       "  'whatever',\n",
       "  'these'],\n",
       " 326)"
      ]
     },
     "execution_count": 43,
     "metadata": {},
     "output_type": "execute_result"
    }
   ],
   "source": [
    "import spacy\n",
    "from spacy.lang.en.stop_words import STOP_WORDS\n",
    "\n",
    "list(STOP_WORDS)[10:21] , len(STOP_WORDS)"
   ]
  },
  {
   "cell_type": "code",
   "execution_count": 44,
   "metadata": {},
   "outputs": [
    {
     "name": "stdout",
     "output_type": "stream",
     "text": [
      "We\n",
      "just\n",
      "our\n",
      "The\n",
      "part\n",
      "is\n"
     ]
    }
   ],
   "source": [
    "nlp = spacy.load('en_core_web_sm')\n",
    "\n",
    "doc = nlp(\"We just opened our wings, The flying part is coming soon!\")\n",
    "\n",
    "for token in doc:\n",
    "    if token.is_stop:\n",
    "        print(token)"
   ]
  },
  {
   "cell_type": "code",
   "execution_count": 45,
   "metadata": {},
   "outputs": [],
   "source": [
    "def preprocess(text):\n",
    "    \n",
    "    doc = nlp(text)\n",
    "    \n",
    "    no_stop_words = [token.text for token in doc if not token.is_stop and not token.is_punct]\n",
    "    \n",
    "    return \" \".join(no_stop_words)\n",
    "            \n",
    "    "
   ]
  },
  {
   "cell_type": "code",
   "execution_count": 46,
   "metadata": {},
   "outputs": [
    {
     "data": {
      "text/plain": [
       "'divine brother'"
      ]
     },
     "execution_count": 46,
     "metadata": {},
     "output_type": "execute_result"
    }
   ],
   "source": [
    "preprocess(\"The other is not other and not the same but your divine brother\")"
   ]
  },
  {
   "cell_type": "code",
   "execution_count": 47,
   "metadata": {},
   "outputs": [],
   "source": [
    "import pandas as pd\n",
    "df = pd.read_json(\"data/departmentOfJusticePressRelease.json\", lines  = True)\n"
   ]
  },
  {
   "cell_type": "code",
   "execution_count": 48,
   "metadata": {},
   "outputs": [
    {
     "data": {
      "text/html": [
       "<div>\n",
       "<style scoped>\n",
       "    .dataframe tbody tr th:only-of-type {\n",
       "        vertical-align: middle;\n",
       "    }\n",
       "\n",
       "    .dataframe tbody tr th {\n",
       "        vertical-align: top;\n",
       "    }\n",
       "\n",
       "    .dataframe thead th {\n",
       "        text-align: right;\n",
       "    }\n",
       "</style>\n",
       "<table border=\"1\" class=\"dataframe\">\n",
       "  <thead>\n",
       "    <tr style=\"text-align: right;\">\n",
       "      <th></th>\n",
       "      <th>id</th>\n",
       "      <th>title</th>\n",
       "      <th>contents</th>\n",
       "      <th>date</th>\n",
       "      <th>topics</th>\n",
       "      <th>components</th>\n",
       "    </tr>\n",
       "  </thead>\n",
       "  <tbody>\n",
       "    <tr>\n",
       "      <th>0</th>\n",
       "      <td>None</td>\n",
       "      <td>Convicted Bomb Plotter Sentenced to 30 Years</td>\n",
       "      <td>PORTLAND, Oregon. – Mohamed Osman Mohamud, 23,...</td>\n",
       "      <td>2014-10-01T00:00:00-04:00</td>\n",
       "      <td>[]</td>\n",
       "      <td>[National Security Division (NSD)]</td>\n",
       "    </tr>\n",
       "    <tr>\n",
       "      <th>1</th>\n",
       "      <td>12-919</td>\n",
       "      <td>$1 Million in Restitution Payments Announced t...</td>\n",
       "      <td>WASHINGTON – North Carolina’s Waccamaw River...</td>\n",
       "      <td>2012-07-25T00:00:00-04:00</td>\n",
       "      <td>[]</td>\n",
       "      <td>[Environment and Natural Resources Division]</td>\n",
       "    </tr>\n",
       "    <tr>\n",
       "      <th>2</th>\n",
       "      <td>11-1002</td>\n",
       "      <td>$1 Million Settlement Reached for Natural Reso...</td>\n",
       "      <td>BOSTON– A $1-million settlement has been...</td>\n",
       "      <td>2011-08-03T00:00:00-04:00</td>\n",
       "      <td>[]</td>\n",
       "      <td>[Environment and Natural Resources Division]</td>\n",
       "    </tr>\n",
       "    <tr>\n",
       "      <th>3</th>\n",
       "      <td>10-015</td>\n",
       "      <td>10 Las Vegas Men Indicted \\r\\nfor Falsifying V...</td>\n",
       "      <td>WASHINGTON—A federal grand jury in Las Vegas...</td>\n",
       "      <td>2010-01-08T00:00:00-05:00</td>\n",
       "      <td>[]</td>\n",
       "      <td>[Environment and Natural Resources Division]</td>\n",
       "    </tr>\n",
       "    <tr>\n",
       "      <th>4</th>\n",
       "      <td>18-898</td>\n",
       "      <td>$100 Million Settlement Will Speed Cleanup Wor...</td>\n",
       "      <td>The U.S. Department of Justice, the U.S. Envir...</td>\n",
       "      <td>2018-07-09T00:00:00-04:00</td>\n",
       "      <td>[Environment]</td>\n",
       "      <td>[Environment and Natural Resources Division]</td>\n",
       "    </tr>\n",
       "  </tbody>\n",
       "</table>\n",
       "</div>"
      ],
      "text/plain": [
       "        id                                              title  \\\n",
       "0     None       Convicted Bomb Plotter Sentenced to 30 Years   \n",
       "1  12-919   $1 Million in Restitution Payments Announced t...   \n",
       "2  11-1002  $1 Million Settlement Reached for Natural Reso...   \n",
       "3   10-015  10 Las Vegas Men Indicted \\r\\nfor Falsifying V...   \n",
       "4   18-898  $100 Million Settlement Will Speed Cleanup Wor...   \n",
       "\n",
       "                                            contents  \\\n",
       "0  PORTLAND, Oregon. – Mohamed Osman Mohamud, 23,...   \n",
       "1    WASHINGTON – North Carolina’s Waccamaw River...   \n",
       "2        BOSTON– A $1-million settlement has been...   \n",
       "3    WASHINGTON—A federal grand jury in Las Vegas...   \n",
       "4  The U.S. Department of Justice, the U.S. Envir...   \n",
       "\n",
       "                        date         topics  \\\n",
       "0  2014-10-01T00:00:00-04:00             []   \n",
       "1  2012-07-25T00:00:00-04:00             []   \n",
       "2  2011-08-03T00:00:00-04:00             []   \n",
       "3  2010-01-08T00:00:00-05:00             []   \n",
       "4  2018-07-09T00:00:00-04:00  [Environment]   \n",
       "\n",
       "                                     components  \n",
       "0            [National Security Division (NSD)]  \n",
       "1  [Environment and Natural Resources Division]  \n",
       "2  [Environment and Natural Resources Division]  \n",
       "3  [Environment and Natural Resources Division]  \n",
       "4  [Environment and Natural Resources Division]  "
      ]
     },
     "execution_count": 48,
     "metadata": {},
     "output_type": "execute_result"
    }
   ],
   "source": [
    "df.head()"
   ]
  },
  {
   "cell_type": "code",
   "execution_count": 49,
   "metadata": {},
   "outputs": [
    {
     "data": {
      "text/plain": [
       "(13087, 6)"
      ]
     },
     "execution_count": 49,
     "metadata": {},
     "output_type": "execute_result"
    }
   ],
   "source": [
    "df.shape"
   ]
  },
  {
   "cell_type": "code",
   "execution_count": 50,
   "metadata": {},
   "outputs": [
    {
     "data": {
      "text/html": [
       "<div>\n",
       "<style scoped>\n",
       "    .dataframe tbody tr th:only-of-type {\n",
       "        vertical-align: middle;\n",
       "    }\n",
       "\n",
       "    .dataframe tbody tr th {\n",
       "        vertical-align: top;\n",
       "    }\n",
       "\n",
       "    .dataframe thead th {\n",
       "        text-align: right;\n",
       "    }\n",
       "</style>\n",
       "<table border=\"1\" class=\"dataframe\">\n",
       "  <thead>\n",
       "    <tr style=\"text-align: right;\">\n",
       "      <th></th>\n",
       "      <th>id</th>\n",
       "      <th>title</th>\n",
       "      <th>contents</th>\n",
       "      <th>date</th>\n",
       "      <th>topics</th>\n",
       "      <th>components</th>\n",
       "    </tr>\n",
       "  </thead>\n",
       "  <tbody>\n",
       "    <tr>\n",
       "      <th>4</th>\n",
       "      <td>18-898</td>\n",
       "      <td>$100 Million Settlement Will Speed Cleanup Wor...</td>\n",
       "      <td>The U.S. Department of Justice, the U.S. Envir...</td>\n",
       "      <td>2018-07-09T00:00:00-04:00</td>\n",
       "      <td>[Environment]</td>\n",
       "      <td>[Environment and Natural Resources Division]</td>\n",
       "    </tr>\n",
       "    <tr>\n",
       "      <th>7</th>\n",
       "      <td>14-1412</td>\n",
       "      <td>14 Indicted in Connection with New England Com...</td>\n",
       "      <td>A 131-count criminal indictment was unsealed t...</td>\n",
       "      <td>2014-12-17T00:00:00-05:00</td>\n",
       "      <td>[Consumer Protection]</td>\n",
       "      <td>[Civil Division]</td>\n",
       "    </tr>\n",
       "    <tr>\n",
       "      <th>19</th>\n",
       "      <td>17-1419</td>\n",
       "      <td>2017 Southeast Regional Animal Cruelty Prosecu...</td>\n",
       "      <td>The United States Attorney’s Office for the Mi...</td>\n",
       "      <td>2017-12-14T00:00:00-05:00</td>\n",
       "      <td>[Environment]</td>\n",
       "      <td>[Environment and Natural Resources Division, U...</td>\n",
       "    </tr>\n",
       "    <tr>\n",
       "      <th>22</th>\n",
       "      <td>15-1562</td>\n",
       "      <td>21st Century Oncology to Pay $19.75 Million to...</td>\n",
       "      <td>21st Century Oncology LLC, has agreed to pay $...</td>\n",
       "      <td>2015-12-18T00:00:00-05:00</td>\n",
       "      <td>[False Claims Act, Health Care Fraud]</td>\n",
       "      <td>[Civil Division]</td>\n",
       "    </tr>\n",
       "    <tr>\n",
       "      <th>23</th>\n",
       "      <td>17-1404</td>\n",
       "      <td>21st Century Oncology to Pay $26 Million to Se...</td>\n",
       "      <td>21st Century Oncology Inc. and certain of its ...</td>\n",
       "      <td>2017-12-12T00:00:00-05:00</td>\n",
       "      <td>[Health Care Fraud, False Claims Act]</td>\n",
       "      <td>[Civil Division, USAO - Florida, Middle]</td>\n",
       "    </tr>\n",
       "  </tbody>\n",
       "</table>\n",
       "</div>"
      ],
      "text/plain": [
       "         id                                              title  \\\n",
       "4    18-898  $100 Million Settlement Will Speed Cleanup Wor...   \n",
       "7   14-1412  14 Indicted in Connection with New England Com...   \n",
       "19  17-1419  2017 Southeast Regional Animal Cruelty Prosecu...   \n",
       "22  15-1562  21st Century Oncology to Pay $19.75 Million to...   \n",
       "23  17-1404  21st Century Oncology to Pay $26 Million to Se...   \n",
       "\n",
       "                                             contents  \\\n",
       "4   The U.S. Department of Justice, the U.S. Envir...   \n",
       "7   A 131-count criminal indictment was unsealed t...   \n",
       "19  The United States Attorney’s Office for the Mi...   \n",
       "22  21st Century Oncology LLC, has agreed to pay $...   \n",
       "23  21st Century Oncology Inc. and certain of its ...   \n",
       "\n",
       "                         date                                 topics  \\\n",
       "4   2018-07-09T00:00:00-04:00                          [Environment]   \n",
       "7   2014-12-17T00:00:00-05:00                  [Consumer Protection]   \n",
       "19  2017-12-14T00:00:00-05:00                          [Environment]   \n",
       "22  2015-12-18T00:00:00-05:00  [False Claims Act, Health Care Fraud]   \n",
       "23  2017-12-12T00:00:00-05:00  [Health Care Fraud, False Claims Act]   \n",
       "\n",
       "                                           components  \n",
       "4        [Environment and Natural Resources Division]  \n",
       "7                                    [Civil Division]  \n",
       "19  [Environment and Natural Resources Division, U...  \n",
       "22                                   [Civil Division]  \n",
       "23           [Civil Division, USAO - Florida, Middle]  "
      ]
     },
     "execution_count": 50,
     "metadata": {},
     "output_type": "execute_result"
    }
   ],
   "source": [
    "df = df[df[\"topics\"].str.len()!=0]\n",
    "df.head()"
   ]
  },
  {
   "cell_type": "code",
   "execution_count": 51,
   "metadata": {},
   "outputs": [
    {
     "data": {
      "text/plain": [
       "(100, 6)"
      ]
     },
     "execution_count": 51,
     "metadata": {},
     "output_type": "execute_result"
    }
   ],
   "source": [
    "df = df.head(100)\n",
    "\n",
    "df.shape"
   ]
  },
  {
   "cell_type": "code",
   "execution_count": 52,
   "metadata": {},
   "outputs": [
    {
     "data": {
      "text/plain": [
       "5504"
      ]
     },
     "execution_count": 52,
     "metadata": {},
     "output_type": "execute_result"
    }
   ],
   "source": [
    "len(df[\"contents\"].iloc[4])"
   ]
  },
  {
   "cell_type": "code",
   "execution_count": 53,
   "metadata": {},
   "outputs": [],
   "source": [
    "df[\"new_contents\"] = df[\"contents\"].apply(preprocess)"
   ]
  },
  {
   "cell_type": "code",
   "execution_count": 54,
   "metadata": {},
   "outputs": [
    {
     "data": {
      "text/plain": [
       "4217"
      ]
     },
     "execution_count": 54,
     "metadata": {},
     "output_type": "execute_result"
    }
   ],
   "source": [
    "len(df[\"new_contents\"].iloc[4])"
   ]
  },
  {
   "cell_type": "code",
   "execution_count": 55,
   "metadata": {},
   "outputs": [
    {
     "name": "stdout",
     "output_type": "stream",
     "text": [
      "Federal agents have arrested 17 members and associates of the Nine Trey Gangster Bloods criminal street gang on charges of RICO conspiracy and related charges stemming from an indictment returned by a federal grand jury in the Northern District of Georgia on Oct. 12, which was unsealed yesterday.  A\n"
     ]
    }
   ],
   "source": [
    "print(df[\"contents\"].iloc[7][:300])"
   ]
  },
  {
   "cell_type": "code",
   "execution_count": 56,
   "metadata": {},
   "outputs": [
    {
     "name": "stdout",
     "output_type": "stream",
     "text": [
      "Federal agents arrested 17 members associates Trey Gangster Bloods criminal street gang charges RICO conspiracy related charges stemming indictment returned federal grand jury Northern District Georgia Oct. 12 unsealed yesterday    total 30 gang members associates indicted Acting Assistant Attorney \n"
     ]
    }
   ],
   "source": [
    "print(df[\"new_contents\"].iloc[7][:300])"
   ]
  },
  {
   "cell_type": "markdown",
   "metadata": {},
   "source": [
    "# **Text Representation Using Bag Of n-grams ->**"
   ]
  },
  {
   "cell_type": "markdown",
   "metadata": {},
   "source": [
    "Base Sentence -> I sat on a sofa and ate icecream\n",
    "\n",
    "Our previous approaches do not capture the semantic relationships between words. The sentence, I sat on a icecream and ate sofa also has the exact same representation as the previous sentence.\n",
    "\n",
    "Thus we use **Bag of n-grams** -> A representation that captures the relationships between words in a sentence.\n",
    "\n",
    "Example of Bi-gram for the base sentence -> \n",
    "- **I sat**.....**sat on**.....**on a**.....**a sofa**.....**sofa and**.....**and ate**.....**ate icecream**.....**icecream.**\n",
    "\n",
    "Example of Tri-gram for the base sentence -> \n",
    "- **I sat on**.....**on a sofa**.....**sofa and**.....**and ate icecream**.....**icecream.**\n",
    "\n",
    "Similarly, we can create n-grams for any sentence."
   ]
  },
  {
   "cell_type": "code",
   "execution_count": 57,
   "metadata": {},
   "outputs": [
    {
     "data": {
      "text/plain": [
       "{'sat on': 3, 'on sofa': 2, 'sofa and': 4, 'and ate': 0, 'ate icecream': 1}"
      ]
     },
     "execution_count": 57,
     "metadata": {},
     "output_type": "execute_result"
    }
   ],
   "source": [
    "from sklearn.feature_extraction.text import CountVectorizer\n",
    "\n",
    "v = CountVectorizer(ngram_range=(2,2)) #Bigram \n",
    "\n",
    "v.fit([\"I sat on a sofa and ate icecream\"])\n",
    "v.vocabulary_"
   ]
  },
  {
   "cell_type": "code",
   "execution_count": 58,
   "metadata": {},
   "outputs": [],
   "source": [
    "import spacy\n",
    "\n",
    "nlp = spacy.load(\"en_core_web_sm\")\n",
    "\n",
    "def preprocess(text):\n",
    "    \n",
    "    doc = nlp(text)\n",
    "    \n",
    "    no_stop_words = [token.lemma_ for token in doc if not token.is_stop and not token.is_punct]\n",
    "    \n",
    "    return \" \".join(no_stop_words)"
   ]
  },
  {
   "cell_type": "code",
   "execution_count": 59,
   "metadata": {},
   "outputs": [
    {
     "data": {
      "text/plain": [
       "'Loki eat icecream'"
      ]
     },
     "execution_count": 59,
     "metadata": {},
     "output_type": "execute_result"
    }
   ],
   "source": [
    "preprocess(\"Loki is eating icecream\")"
   ]
  },
  {
   "cell_type": "code",
   "execution_count": 60,
   "metadata": {},
   "outputs": [],
   "source": [
    "corpus = [\n",
    "    \"I sat on a sofa and ate icecream\",\n",
    "    \"Lot of people that I know of that have multiple pets. Like Koompilala, because having pets is cute.\",\n",
    "    \"I like chocolate icecream\"\n",
    "]"
   ]
  },
  {
   "cell_type": "code",
   "execution_count": 61,
   "metadata": {},
   "outputs": [
    {
     "data": {
      "text/plain": [
       "['sit sofa eat icecream',\n",
       " 'lot people know multiple pet like Koompilala have pet cute',\n",
       " 'like chocolate icecream']"
      ]
     },
     "execution_count": 61,
     "metadata": {},
     "output_type": "execute_result"
    }
   ],
   "source": [
    "processed_corpus = []\n",
    "\n",
    "for text in corpus:\n",
    "    processed_corpus.append(preprocess(text))\n",
    "    \n",
    "processed_corpus"
   ]
  },
  {
   "cell_type": "code",
   "execution_count": 62,
   "metadata": {},
   "outputs": [
    {
     "data": {
      "text/plain": [
       "{'sit': 24,\n",
       " 'sofa': 26,\n",
       " 'eat': 3,\n",
       " 'icecream': 7,\n",
       " 'sit sofa': 25,\n",
       " 'sofa eat': 27,\n",
       " 'eat icecream': 4,\n",
       " 'lot': 15,\n",
       " 'people': 19,\n",
       " 'know': 8,\n",
       " 'multiple': 17,\n",
       " 'pet': 21,\n",
       " 'like': 12,\n",
       " 'koompilala': 10,\n",
       " 'have': 5,\n",
       " 'cute': 2,\n",
       " 'lot people': 16,\n",
       " 'people know': 20,\n",
       " 'know multiple': 9,\n",
       " 'multiple pet': 18,\n",
       " 'pet like': 23,\n",
       " 'like koompilala': 14,\n",
       " 'koompilala have': 11,\n",
       " 'have pet': 6,\n",
       " 'pet cute': 22,\n",
       " 'chocolate': 0,\n",
       " 'like chocolate': 13,\n",
       " 'chocolate icecream': 1}"
      ]
     },
     "execution_count": 62,
     "metadata": {},
     "output_type": "execute_result"
    }
   ],
   "source": [
    "v = CountVectorizer(ngram_range=(1,2))\n",
    "\n",
    "v.fit(processed_corpus)\n",
    "\n",
    "v.vocabulary_"
   ]
  },
  {
   "cell_type": "code",
   "execution_count": 63,
   "metadata": {},
   "outputs": [
    {
     "data": {
      "text/plain": [
       "array([[1, 1, 0, 1, 0, 0, 0, 3, 0, 0, 3, 0, 0, 0, 0, 0, 0, 0, 0, 0, 0, 0,\n",
       "        0, 0, 0, 0, 0, 0]], dtype=int64)"
      ]
     },
     "execution_count": 63,
     "metadata": {},
     "output_type": "execute_result"
    }
   ],
   "source": [
    "v.transform([\"koompilala eats icecream. koompilala likes icecream. koompilala doesnt eat chocolate icecream.\"]).toarray()"
   ]
  },
  {
   "cell_type": "code",
   "execution_count": 64,
   "metadata": {},
   "outputs": [
    {
     "data": {
      "text/html": [
       "<div>\n",
       "<style scoped>\n",
       "    .dataframe tbody tr th:only-of-type {\n",
       "        vertical-align: middle;\n",
       "    }\n",
       "\n",
       "    .dataframe tbody tr th {\n",
       "        vertical-align: top;\n",
       "    }\n",
       "\n",
       "    .dataframe thead th {\n",
       "        text-align: right;\n",
       "    }\n",
       "</style>\n",
       "<table border=\"1\" class=\"dataframe\">\n",
       "  <thead>\n",
       "    <tr style=\"text-align: right;\">\n",
       "      <th></th>\n",
       "      <th>text</th>\n",
       "      <th>category</th>\n",
       "    </tr>\n",
       "  </thead>\n",
       "  <tbody>\n",
       "    <tr>\n",
       "      <th>0</th>\n",
       "      <td>Watching Schrödinger's Cat Die University of C...</td>\n",
       "      <td>SCIENCE</td>\n",
       "    </tr>\n",
       "    <tr>\n",
       "      <th>1</th>\n",
       "      <td>WATCH: Freaky Vortex Opens Up In Flooded Lake</td>\n",
       "      <td>SCIENCE</td>\n",
       "    </tr>\n",
       "    <tr>\n",
       "      <th>2</th>\n",
       "      <td>Entrepreneurs Today Don't Need a Big Budget to...</td>\n",
       "      <td>BUSINESS</td>\n",
       "    </tr>\n",
       "  </tbody>\n",
       "</table>\n",
       "</div>"
      ],
      "text/plain": [
       "                                                text  category\n",
       "0  Watching Schrödinger's Cat Die University of C...   SCIENCE\n",
       "1     WATCH: Freaky Vortex Opens Up In Flooded Lake    SCIENCE\n",
       "2  Entrepreneurs Today Don't Need a Big Budget to...  BUSINESS"
      ]
     },
     "execution_count": 64,
     "metadata": {},
     "output_type": "execute_result"
    }
   ],
   "source": [
    "#News category classifier using Bag of n-grams -> \n",
    "\n",
    "df = pd.read_json(\"data/news_dataset.json\") #This kaggle dataset has 4 categories.\n",
    "\n",
    "df.head(3)"
   ]
  },
  {
   "cell_type": "code",
   "execution_count": 65,
   "metadata": {},
   "outputs": [
    {
     "data": {
      "text/plain": [
       "category\n",
       "BUSINESS    4254\n",
       "SPORTS      4167\n",
       "CRIME       2893\n",
       "SCIENCE     1381\n",
       "Name: count, dtype: int64"
      ]
     },
     "execution_count": 65,
     "metadata": {},
     "output_type": "execute_result"
    }
   ],
   "source": [
    "df.category.value_counts()"
   ]
  },
  {
   "cell_type": "code",
   "execution_count": 66,
   "metadata": {},
   "outputs": [],
   "source": [
    "#Undersampling as unbalanced dataset -> \n",
    "\n",
    "min_samples = 1381\n",
    "\n",
    "df_business = df[df[\"category\"]==\"BUSINESS\"].sample(min_samples , random_state=8888)\n",
    "\n",
    "df_science = df[df[\"category\"]==\"SCIENCE\"].sample(min_samples , random_state=8888)\n",
    "\n",
    "df_crime = df[df[\"category\"]==\"CRIME\"].sample(min_samples , random_state=8888)\n",
    "\n",
    "df_sports = df[df[\"category\"]==\"SPORTS\"].sample(min_samples , random_state=8888)"
   ]
  },
  {
   "cell_type": "code",
   "execution_count": 67,
   "metadata": {},
   "outputs": [
    {
     "data": {
      "text/plain": [
       "category\n",
       "BUSINESS    1381\n",
       "SCIENCE     1381\n",
       "CRIME       1381\n",
       "SPORTS      1381\n",
       "Name: count, dtype: int64"
      ]
     },
     "execution_count": 67,
     "metadata": {},
     "output_type": "execute_result"
    }
   ],
   "source": [
    "df_undersampled_balanced = pd.concat([df_business, df_science, df_crime, df_sports] , axis = 0)\n",
    "\n",
    "df_undersampled_balanced.category.value_counts()"
   ]
  },
  {
   "cell_type": "code",
   "execution_count": 68,
   "metadata": {},
   "outputs": [
    {
     "data": {
      "text/html": [
       "<div>\n",
       "<style scoped>\n",
       "    .dataframe tbody tr th:only-of-type {\n",
       "        vertical-align: middle;\n",
       "    }\n",
       "\n",
       "    .dataframe tbody tr th {\n",
       "        vertical-align: top;\n",
       "    }\n",
       "\n",
       "    .dataframe thead th {\n",
       "        text-align: right;\n",
       "    }\n",
       "</style>\n",
       "<table border=\"1\" class=\"dataframe\">\n",
       "  <thead>\n",
       "    <tr style=\"text-align: right;\">\n",
       "      <th></th>\n",
       "      <th>text</th>\n",
       "      <th>category</th>\n",
       "      <th>category_number</th>\n",
       "    </tr>\n",
       "  </thead>\n",
       "  <tbody>\n",
       "    <tr>\n",
       "      <th>6670</th>\n",
       "      <td>Matching Organizational Capabilities to Design...</td>\n",
       "      <td>BUSINESS</td>\n",
       "      <td>0</td>\n",
       "    </tr>\n",
       "    <tr>\n",
       "      <th>3799</th>\n",
       "      <td>Walmart Is Always Watching Its Workers Walmart...</td>\n",
       "      <td>BUSINESS</td>\n",
       "      <td>0</td>\n",
       "    </tr>\n",
       "    <tr>\n",
       "      <th>9271</th>\n",
       "      <td>JPMorgan Hackers Didn't Steal Any Money: Report</td>\n",
       "      <td>BUSINESS</td>\n",
       "      <td>0</td>\n",
       "    </tr>\n",
       "    <tr>\n",
       "      <th>2793</th>\n",
       "      <td>Elite Daily's 25-Year-Old CEO: How He Got Zero...</td>\n",
       "      <td>BUSINESS</td>\n",
       "      <td>0</td>\n",
       "    </tr>\n",
       "    <tr>\n",
       "      <th>9259</th>\n",
       "      <td>How Americans Get Duped Into Buying Endangered...</td>\n",
       "      <td>BUSINESS</td>\n",
       "      <td>0</td>\n",
       "    </tr>\n",
       "    <tr>\n",
       "      <th>...</th>\n",
       "      <td>...</td>\n",
       "      <td>...</td>\n",
       "      <td>...</td>\n",
       "    </tr>\n",
       "    <tr>\n",
       "      <th>1382</th>\n",
       "      <td>TMZ: Lamar Odom Spent $75,000 At Nevada Brothe...</td>\n",
       "      <td>SPORTS</td>\n",
       "      <td>3</td>\n",
       "    </tr>\n",
       "    <tr>\n",
       "      <th>3046</th>\n",
       "      <td>'Kaep'tain America: This Is What A Patriot Loo...</td>\n",
       "      <td>SPORTS</td>\n",
       "      <td>3</td>\n",
       "    </tr>\n",
       "    <tr>\n",
       "      <th>12272</th>\n",
       "      <td>Curt Schilling Says Trump Eyeing A 10-Year-Old...</td>\n",
       "      <td>SPORTS</td>\n",
       "      <td>3</td>\n",
       "    </tr>\n",
       "    <tr>\n",
       "      <th>9095</th>\n",
       "      <td>Hey, Here's Roger Goodell Laughing At A Concus...</td>\n",
       "      <td>SPORTS</td>\n",
       "      <td>3</td>\n",
       "    </tr>\n",
       "    <tr>\n",
       "      <th>10774</th>\n",
       "      <td>Joseph Schooling Wins Singapore's First Olympi...</td>\n",
       "      <td>SPORTS</td>\n",
       "      <td>3</td>\n",
       "    </tr>\n",
       "  </tbody>\n",
       "</table>\n",
       "<p>5524 rows × 3 columns</p>\n",
       "</div>"
      ],
      "text/plain": [
       "                                                    text  category  \\\n",
       "6670   Matching Organizational Capabilities to Design...  BUSINESS   \n",
       "3799   Walmart Is Always Watching Its Workers Walmart...  BUSINESS   \n",
       "9271    JPMorgan Hackers Didn't Steal Any Money: Report   BUSINESS   \n",
       "2793   Elite Daily's 25-Year-Old CEO: How He Got Zero...  BUSINESS   \n",
       "9259   How Americans Get Duped Into Buying Endangered...  BUSINESS   \n",
       "...                                                  ...       ...   \n",
       "1382   TMZ: Lamar Odom Spent $75,000 At Nevada Brothe...    SPORTS   \n",
       "3046   'Kaep'tain America: This Is What A Patriot Loo...    SPORTS   \n",
       "12272  Curt Schilling Says Trump Eyeing A 10-Year-Old...    SPORTS   \n",
       "9095   Hey, Here's Roger Goodell Laughing At A Concus...    SPORTS   \n",
       "10774  Joseph Schooling Wins Singapore's First Olympi...    SPORTS   \n",
       "\n",
       "       category_number  \n",
       "6670                 0  \n",
       "3799                 0  \n",
       "9271                 0  \n",
       "2793                 0  \n",
       "9259                 0  \n",
       "...                ...  \n",
       "1382                 3  \n",
       "3046                 3  \n",
       "12272                3  \n",
       "9095                 3  \n",
       "10774                3  \n",
       "\n",
       "[5524 rows x 3 columns]"
      ]
     },
     "execution_count": 68,
     "metadata": {},
     "output_type": "execute_result"
    }
   ],
   "source": [
    "\n",
    "\n",
    "df_undersampled_balanced[\"category_number\"] = df_undersampled_balanced.category.map(\n",
    "    {\"BUSINESS\":0, \"SCIENCE\":1, \"CRIME\":2, \"SPORTS\":3}\n",
    "    )\n",
    "\n",
    "df_undersampled_balanced"
   ]
  },
  {
   "cell_type": "code",
   "execution_count": 69,
   "metadata": {},
   "outputs": [
    {
     "data": {
      "text/plain": [
       "(4143, 4143, 1381, 1381)"
      ]
     },
     "execution_count": 69,
     "metadata": {},
     "output_type": "execute_result"
    }
   ],
   "source": [
    "from sklearn.model_selection import train_test_split\n",
    "\n",
    "X_train , X_test, y_train, y_test = train_test_split(df_undersampled_balanced.text,\n",
    "                                                     df_undersampled_balanced.category_number,\n",
    "                                                     test_size=0.25, \n",
    "                                                     random_state=8888,\n",
    "                                                     stratify=df_undersampled_balanced.category_number)\n",
    "\n",
    "#Stratify ensures equal or similar to equal split\n",
    "len(X_train), len(y_train) , len(X_test), len(y_test)"
   ]
  },
  {
   "cell_type": "code",
   "execution_count": 70,
   "metadata": {},
   "outputs": [
    {
     "data": {
      "text/plain": [
       "category_number\n",
       "2    1036\n",
       "1    1036\n",
       "0    1036\n",
       "3    1035\n",
       "Name: count, dtype: int64"
      ]
     },
     "execution_count": 70,
     "metadata": {},
     "output_type": "execute_result"
    }
   ],
   "source": [
    "y_train.value_counts()"
   ]
  },
  {
   "cell_type": "markdown",
   "metadata": {},
   "source": [
    "Without n-gram -> "
   ]
  },
  {
   "cell_type": "code",
   "execution_count": 71,
   "metadata": {},
   "outputs": [
    {
     "name": "stdout",
     "output_type": "stream",
     "text": [
      "              precision    recall  f1-score   support\n",
      "\n",
      "           0       0.79      0.89      0.84       345\n",
      "           1       0.89      0.81      0.85       345\n",
      "           2       0.89      0.89      0.89       345\n",
      "           3       0.89      0.84      0.87       346\n",
      "\n",
      "    accuracy                           0.86      1381\n",
      "   macro avg       0.86      0.86      0.86      1381\n",
      "weighted avg       0.86      0.86      0.86      1381\n",
      "\n"
     ]
    }
   ],
   "source": [
    "from sklearn.naive_bayes import MultinomialNB\n",
    "from sklearn.pipeline import Pipeline\n",
    "from sklearn.metrics import classification_report\n",
    "\n",
    "clf = Pipeline(\n",
    "    [\n",
    "        ('vectorizer_bow', CountVectorizer()),\n",
    "        ('Multi Naive Bayes', MultinomialNB())\n",
    "    ]\n",
    ")\n",
    "\n",
    "clf.fit(X_train, y_train)\n",
    "\n",
    "y_pred = clf.predict(X_test)\n",
    "\n",
    "y_pred\n",
    "\n",
    "print(classification_report(y_true=y_test, y_pred=y_pred))\n"
   ]
  },
  {
   "cell_type": "markdown",
   "metadata": {},
   "source": [
    "Bigram -> "
   ]
  },
  {
   "cell_type": "code",
   "execution_count": 72,
   "metadata": {},
   "outputs": [
    {
     "name": "stdout",
     "output_type": "stream",
     "text": [
      "              precision    recall  f1-score   support\n",
      "\n",
      "           0       0.71      0.92      0.80       345\n",
      "           1       0.92      0.76      0.83       345\n",
      "           2       0.89      0.89      0.89       345\n",
      "           3       0.92      0.81      0.86       346\n",
      "\n",
      "    accuracy                           0.84      1381\n",
      "   macro avg       0.86      0.84      0.85      1381\n",
      "weighted avg       0.86      0.84      0.85      1381\n",
      "\n"
     ]
    }
   ],
   "source": [
    "from sklearn.naive_bayes import MultinomialNB\n",
    "from sklearn.pipeline import Pipeline\n",
    "from sklearn.metrics import classification_report\n",
    "\n",
    "clf = Pipeline(\n",
    "    [\n",
    "        ('vectorizer_bow', CountVectorizer(ngram_range=(1,2))),\n",
    "        ('Multi Naive Bayes', MultinomialNB())\n",
    "    ]\n",
    ")\n",
    "\n",
    "clf.fit(X_train, y_train)\n",
    "\n",
    "y_pred = clf.predict(X_test)\n",
    "\n",
    "y_pred\n",
    "\n",
    "print(classification_report(y_true=y_test, y_pred=y_pred))\n"
   ]
  },
  {
   "cell_type": "code",
   "execution_count": 73,
   "metadata": {},
   "outputs": [
    {
     "data": {
      "text/plain": [
       "11164    Women in Business Q&A: Alexandra Voris and Mag...\n",
       "3797     Were Dinosaurs Cold-Blooded Or Warm-Blooded? O...\n",
       "11809    Comcast In Talks To Buy DreamWorks Animation F...\n",
       "9325     Michael Jordan Watched UNC Lose The NCAA Title...\n",
       "7486     Shootout With Hit And Run Suspect Leaves Utah ...\n",
       "Name: text, dtype: object"
      ]
     },
     "execution_count": 73,
     "metadata": {},
     "output_type": "execute_result"
    }
   ],
   "source": [
    "X_test[20:25]"
   ]
  },
  {
   "cell_type": "code",
   "execution_count": 74,
   "metadata": {},
   "outputs": [
    {
     "data": {
      "text/plain": [
       "11164    0\n",
       "3797     1\n",
       "11809    0\n",
       "9325     3\n",
       "7486     2\n",
       "Name: category_number, dtype: int64"
      ]
     },
     "execution_count": 74,
     "metadata": {},
     "output_type": "execute_result"
    }
   ],
   "source": [
    "y_test[20:25]"
   ]
  },
  {
   "cell_type": "code",
   "execution_count": 75,
   "metadata": {},
   "outputs": [
    {
     "data": {
      "text/plain": [
       "array([0, 1, 0, 3, 2], dtype=int64)"
      ]
     },
     "execution_count": 75,
     "metadata": {},
     "output_type": "execute_result"
    }
   ],
   "source": [
    "y_pred[20:25]"
   ]
  },
  {
   "cell_type": "markdown",
   "metadata": {},
   "source": [
    "#### Creating a preprocessed column and then training the model on it -> "
   ]
  },
  {
   "cell_type": "code",
   "execution_count": 76,
   "metadata": {},
   "outputs": [],
   "source": [
    "\n",
    "df_undersampled_balanced['preprocessed_text'] = df_undersampled_balanced.text.apply(preprocess)"
   ]
  },
  {
   "cell_type": "code",
   "execution_count": 77,
   "metadata": {},
   "outputs": [
    {
     "data": {
      "text/html": [
       "<div>\n",
       "<style scoped>\n",
       "    .dataframe tbody tr th:only-of-type {\n",
       "        vertical-align: middle;\n",
       "    }\n",
       "\n",
       "    .dataframe tbody tr th {\n",
       "        vertical-align: top;\n",
       "    }\n",
       "\n",
       "    .dataframe thead th {\n",
       "        text-align: right;\n",
       "    }\n",
       "</style>\n",
       "<table border=\"1\" class=\"dataframe\">\n",
       "  <thead>\n",
       "    <tr style=\"text-align: right;\">\n",
       "      <th></th>\n",
       "      <th>text</th>\n",
       "      <th>category</th>\n",
       "      <th>category_number</th>\n",
       "      <th>preprocessed_text</th>\n",
       "    </tr>\n",
       "  </thead>\n",
       "  <tbody>\n",
       "    <tr>\n",
       "      <th>6670</th>\n",
       "      <td>Matching Organizational Capabilities to Design...</td>\n",
       "      <td>BUSINESS</td>\n",
       "      <td>0</td>\n",
       "      <td>Matching Organizational Capabilities Design Ex...</td>\n",
       "    </tr>\n",
       "    <tr>\n",
       "      <th>3799</th>\n",
       "      <td>Walmart Is Always Watching Its Workers Walmart...</td>\n",
       "      <td>BUSINESS</td>\n",
       "      <td>0</td>\n",
       "      <td>Walmart watch worker Walmart consider   Organi...</td>\n",
       "    </tr>\n",
       "    <tr>\n",
       "      <th>9271</th>\n",
       "      <td>JPMorgan Hackers Didn't Steal Any Money: Report</td>\n",
       "      <td>BUSINESS</td>\n",
       "      <td>0</td>\n",
       "      <td>JPMorgan Hackers steal money report</td>\n",
       "    </tr>\n",
       "    <tr>\n",
       "      <th>2793</th>\n",
       "      <td>Elite Daily's 25-Year-Old CEO: How He Got Zero...</td>\n",
       "      <td>BUSINESS</td>\n",
       "      <td>0</td>\n",
       "      <td>Elite Daily 25 year Old CEO get Zero 40 millio...</td>\n",
       "    </tr>\n",
       "    <tr>\n",
       "      <th>9259</th>\n",
       "      <td>How Americans Get Duped Into Buying Endangered...</td>\n",
       "      <td>BUSINESS</td>\n",
       "      <td>0</td>\n",
       "      <td>Americans dupe buy Endangered Animal Items com...</td>\n",
       "    </tr>\n",
       "  </tbody>\n",
       "</table>\n",
       "</div>"
      ],
      "text/plain": [
       "                                                   text  category  \\\n",
       "6670  Matching Organizational Capabilities to Design...  BUSINESS   \n",
       "3799  Walmart Is Always Watching Its Workers Walmart...  BUSINESS   \n",
       "9271   JPMorgan Hackers Didn't Steal Any Money: Report   BUSINESS   \n",
       "2793  Elite Daily's 25-Year-Old CEO: How He Got Zero...  BUSINESS   \n",
       "9259  How Americans Get Duped Into Buying Endangered...  BUSINESS   \n",
       "\n",
       "      category_number                                  preprocessed_text  \n",
       "6670                0  Matching Organizational Capabilities Design Ex...  \n",
       "3799                0  Walmart watch worker Walmart consider   Organi...  \n",
       "9271                0                JPMorgan Hackers steal money report  \n",
       "2793                0  Elite Daily 25 year Old CEO get Zero 40 millio...  \n",
       "9259                0  Americans dupe buy Endangered Animal Items com...  "
      ]
     },
     "execution_count": 77,
     "metadata": {},
     "output_type": "execute_result"
    }
   ],
   "source": [
    "df_undersampled_balanced.head()"
   ]
  },
  {
   "cell_type": "code",
   "execution_count": 78,
   "metadata": {},
   "outputs": [],
   "source": [
    "X_train, X_test, y_train, y_test = train_test_split(df_undersampled_balanced.preprocessed_text,\n",
    "                                                     df_undersampled_balanced.category_number,\n",
    "                                                     test_size=0.25, \n",
    "                                                     random_state=8888,\n",
    "                                                     stratify=df_undersampled_balanced.category_number)\n",
    "\n"
   ]
  },
  {
   "cell_type": "markdown",
   "metadata": {},
   "source": [
    "Without n-gram -> \n"
   ]
  },
  {
   "cell_type": "code",
   "execution_count": 79,
   "metadata": {},
   "outputs": [
    {
     "name": "stdout",
     "output_type": "stream",
     "text": [
      "              precision    recall  f1-score   support\n",
      "\n",
      "           0       0.84      0.88      0.86       345\n",
      "           1       0.89      0.80      0.84       345\n",
      "           2       0.84      0.93      0.88       345\n",
      "           3       0.91      0.86      0.89       346\n",
      "\n",
      "    accuracy                           0.87      1381\n",
      "   macro avg       0.87      0.87      0.87      1381\n",
      "weighted avg       0.87      0.87      0.87      1381\n",
      "\n"
     ]
    }
   ],
   "source": [
    "from sklearn.naive_bayes import MultinomialNB\n",
    "from sklearn.pipeline import Pipeline\n",
    "from sklearn.metrics import classification_report\n",
    "\n",
    "clf = Pipeline(\n",
    "    [\n",
    "        ('vectorizer_bow', CountVectorizer()),\n",
    "        ('Multi Naive Bayes', MultinomialNB())\n",
    "    ]\n",
    ")\n",
    "\n",
    "clf.fit(X_train, y_train)\n",
    "\n",
    "y_pred = clf.predict(X_test)\n",
    "\n",
    "y_pred\n",
    "\n",
    "print(classification_report(y_true=y_test, y_pred=y_pred))\n"
   ]
  },
  {
   "cell_type": "markdown",
   "metadata": {},
   "source": [
    "Bigram -> "
   ]
  },
  {
   "cell_type": "code",
   "execution_count": 80,
   "metadata": {},
   "outputs": [
    {
     "name": "stdout",
     "output_type": "stream",
     "text": [
      "              precision    recall  f1-score   support\n",
      "\n",
      "           0       0.83      0.89      0.86       345\n",
      "           1       0.92      0.80      0.86       345\n",
      "           2       0.84      0.94      0.89       345\n",
      "           3       0.92      0.87      0.89       346\n",
      "\n",
      "    accuracy                           0.87      1381\n",
      "   macro avg       0.88      0.87      0.87      1381\n",
      "weighted avg       0.88      0.87      0.87      1381\n",
      "\n"
     ]
    }
   ],
   "source": [
    "from sklearn.naive_bayes import MultinomialNB\n",
    "from sklearn.pipeline import Pipeline\n",
    "from sklearn.metrics import classification_report\n",
    "\n",
    "clf = Pipeline(\n",
    "    [\n",
    "        ('vectorizer_bow', CountVectorizer(ngram_range=(1,2))),\n",
    "        ('Multi Naive Bayes', MultinomialNB())\n",
    "    ]\n",
    ")\n",
    "\n",
    "clf.fit(X_train, y_train)\n",
    "\n",
    "y_pred = clf.predict(X_test)\n",
    "\n",
    "y_pred\n",
    "\n",
    "print(classification_report(y_true=y_test, y_pred=y_pred))\n"
   ]
  },
  {
   "cell_type": "markdown",
   "metadata": {},
   "source": [
    "# **Text Representation Using TF-IDF ->**"
   ]
  },
  {
   "cell_type": "markdown",
   "metadata": {},
   "source": [
    "TF-IDF -> Term Frequency - Inverse Document Frequency"
   ]
  },
  {
   "cell_type": "markdown",
   "metadata": {},
   "source": [
    "<img src=\"https://miro.medium.com/v2/resize:fit:1400/0*5eNLy2lQuaG14yke.png\" style=\"display: block; margin: 0 auto; width: 80%;\" alt=\"Image\">\n"
   ]
  },
  {
   "cell_type": "code",
   "execution_count": 100,
   "metadata": {},
   "outputs": [
    {
     "name": "stdout",
     "output_type": "stream",
     "text": [
      "{'apple': 0, 'orange': 5, 'banana': 1, 'grape': 2, 'kiwi': 3, 'mango': 4}\n"
     ]
    }
   ],
   "source": [
    "#Creating a corpus array with random strings for TF-IDF Vectorizer\n",
    "\n",
    "corpus = [\n",
    "    \"apple apple orange orange orange apple banana orange\",\n",
    "    \"banana orange orange banana apple orange orange orange orange grape orange\",\n",
    "    \"grape orange banana orange orange orange\",\n",
    "    \"kiwi mango orange orange apple\"\n",
    "]\n",
    "\n",
    "from sklearn.feature_extraction.text import TfidfVectorizer\n",
    "\n",
    "v = TfidfVectorizer()\n",
    "\n",
    "transformed_output = v.fit_transform(corpus)\n",
    "\n",
    "print(v.vocabulary_)"
   ]
  },
  {
   "cell_type": "code",
   "execution_count": 101,
   "metadata": {},
   "outputs": [
    {
     "name": "stdout",
     "output_type": "stream",
     "text": [
      "apple           -> 1.2231435513142097\n",
      "banana          -> 1.2231435513142097\n",
      "grape           -> 1.5108256237659907\n",
      "kiwi            -> 1.916290731874155\n",
      "mango           -> 1.916290731874155\n",
      "orange          -> 1.0\n"
     ]
    }
   ],
   "source": [
    "all_feature_names = v.get_feature_names_out()\n",
    "\n",
    "for word in all_feature_names:\n",
    "    \n",
    "    index = v.vocabulary_.get(word)\n",
    "    \n",
    "    print(f\"{word:<15} -> {v.idf_[index]}\")\n",
    "    \n",
    "    #Lower -> More frequency as it is Inverse Document Frequency\n",
    "    #As Orange appears the most, It has the least TFIDF Value.\n",
    "    "
   ]
  },
  {
   "cell_type": "code",
   "execution_count": 102,
   "metadata": {},
   "outputs": [
    {
     "name": "stdout",
     "output_type": "stream",
     "text": [
      "['apple apple orange orange orange apple banana orange', 'banana orange orange banana apple orange orange orange orange grape orange']\n",
      "[[0.65946627 0.21982209 0.         0.         0.         0.71887585]\n",
      " [0.15956053 0.31912106 0.197089   0.         0.         0.91315832]]\n"
     ]
    }
   ],
   "source": [
    "print(corpus[:2])\n",
    "\n",
    "print(transformed_output.toarray()[:2])"
   ]
  },
  {
   "cell_type": "code",
   "execution_count": 104,
   "metadata": {},
   "outputs": [
    {
     "data": {
      "text/html": [
       "<div>\n",
       "<style scoped>\n",
       "    .dataframe tbody tr th:only-of-type {\n",
       "        vertical-align: middle;\n",
       "    }\n",
       "\n",
       "    .dataframe tbody tr th {\n",
       "        vertical-align: top;\n",
       "    }\n",
       "\n",
       "    .dataframe thead th {\n",
       "        text-align: right;\n",
       "    }\n",
       "</style>\n",
       "<table border=\"1\" class=\"dataframe\">\n",
       "  <thead>\n",
       "    <tr style=\"text-align: right;\">\n",
       "      <th></th>\n",
       "      <th>Text</th>\n",
       "      <th>label</th>\n",
       "    </tr>\n",
       "  </thead>\n",
       "  <tbody>\n",
       "    <tr>\n",
       "      <th>0</th>\n",
       "      <td>Urban Ladder Eisner Low Back Study-Office Comp...</td>\n",
       "      <td>Household</td>\n",
       "    </tr>\n",
       "    <tr>\n",
       "      <th>1</th>\n",
       "      <td>Contrast living Wooden Decorative Box,Painted ...</td>\n",
       "      <td>Household</td>\n",
       "    </tr>\n",
       "    <tr>\n",
       "      <th>2</th>\n",
       "      <td>IO Crest SY-PCI40010 PCI RAID Host Controller ...</td>\n",
       "      <td>Electronics</td>\n",
       "    </tr>\n",
       "    <tr>\n",
       "      <th>3</th>\n",
       "      <td>ISAKAA Baby Socks from Just Born to 8 Years- P...</td>\n",
       "      <td>Clothing &amp; Accessories</td>\n",
       "    </tr>\n",
       "    <tr>\n",
       "      <th>4</th>\n",
       "      <td>Indira Designer Women's Art Mysore Silk Saree ...</td>\n",
       "      <td>Clothing &amp; Accessories</td>\n",
       "    </tr>\n",
       "    <tr>\n",
       "      <th>...</th>\n",
       "      <td>...</td>\n",
       "      <td>...</td>\n",
       "    </tr>\n",
       "    <tr>\n",
       "      <th>23995</th>\n",
       "      <td>Marvel Physics MCQ's for MHT - CET</td>\n",
       "      <td>Books</td>\n",
       "    </tr>\n",
       "    <tr>\n",
       "      <th>23996</th>\n",
       "      <td>Internet Download Manager | Lifetime License |...</td>\n",
       "      <td>Books</td>\n",
       "    </tr>\n",
       "    <tr>\n",
       "      <th>23997</th>\n",
       "      <td>Sadhubela's Handcrafted Iron Degchi Handi Pot ...</td>\n",
       "      <td>Household</td>\n",
       "    </tr>\n",
       "    <tr>\n",
       "      <th>23998</th>\n",
       "      <td>Audio-Technica AT-LP60 Automatic Belt Driven D...</td>\n",
       "      <td>Electronics</td>\n",
       "    </tr>\n",
       "    <tr>\n",
       "      <th>23999</th>\n",
       "      <td>LG GH24NSB0 DVD Writer 24X SATA Internal OEM P...</td>\n",
       "      <td>Electronics</td>\n",
       "    </tr>\n",
       "  </tbody>\n",
       "</table>\n",
       "<p>24000 rows × 2 columns</p>\n",
       "</div>"
      ],
      "text/plain": [
       "                                                    Text  \\\n",
       "0      Urban Ladder Eisner Low Back Study-Office Comp...   \n",
       "1      Contrast living Wooden Decorative Box,Painted ...   \n",
       "2      IO Crest SY-PCI40010 PCI RAID Host Controller ...   \n",
       "3      ISAKAA Baby Socks from Just Born to 8 Years- P...   \n",
       "4      Indira Designer Women's Art Mysore Silk Saree ...   \n",
       "...                                                  ...   \n",
       "23995                 Marvel Physics MCQ's for MHT - CET   \n",
       "23996  Internet Download Manager | Lifetime License |...   \n",
       "23997  Sadhubela's Handcrafted Iron Degchi Handi Pot ...   \n",
       "23998  Audio-Technica AT-LP60 Automatic Belt Driven D...   \n",
       "23999  LG GH24NSB0 DVD Writer 24X SATA Internal OEM P...   \n",
       "\n",
       "                        label  \n",
       "0                   Household  \n",
       "1                   Household  \n",
       "2                 Electronics  \n",
       "3      Clothing & Accessories  \n",
       "4      Clothing & Accessories  \n",
       "...                       ...  \n",
       "23995                   Books  \n",
       "23996                   Books  \n",
       "23997               Household  \n",
       "23998             Electronics  \n",
       "23999             Electronics  \n",
       "\n",
       "[24000 rows x 2 columns]"
      ]
     },
     "execution_count": 104,
     "metadata": {},
     "output_type": "execute_result"
    }
   ],
   "source": [
    "import pandas as pd\n",
    "\n",
    "df = pd.read_csv('data/ecommerce_data.csv')\n",
    "\n",
    "df"
   ]
  },
  {
   "cell_type": "code",
   "execution_count": 105,
   "metadata": {},
   "outputs": [
    {
     "data": {
      "text/plain": [
       "label\n",
       "Household                 6000\n",
       "Electronics               6000\n",
       "Clothing & Accessories    6000\n",
       "Books                     6000\n",
       "Name: count, dtype: int64"
      ]
     },
     "execution_count": 105,
     "metadata": {},
     "output_type": "execute_result"
    }
   ],
   "source": [
    "df.label.value_counts()"
   ]
  },
  {
   "cell_type": "code",
   "execution_count": 107,
   "metadata": {},
   "outputs": [],
   "source": [
    "df['label_number'] = df.label.map(\n",
    "    {\n",
    "        'Household' : 0,\n",
    "        'Electronics' : 1,\n",
    "        'Clothing & Accessories' : 2,\n",
    "        'Books' : 3\n",
    "    }\n",
    ")"
   ]
  },
  {
   "cell_type": "code",
   "execution_count": 113,
   "metadata": {},
   "outputs": [
    {
     "data": {
      "text/html": [
       "<div>\n",
       "<style scoped>\n",
       "    .dataframe tbody tr th:only-of-type {\n",
       "        vertical-align: middle;\n",
       "    }\n",
       "\n",
       "    .dataframe tbody tr th {\n",
       "        vertical-align: top;\n",
       "    }\n",
       "\n",
       "    .dataframe thead th {\n",
       "        text-align: right;\n",
       "    }\n",
       "</style>\n",
       "<table border=\"1\" class=\"dataframe\">\n",
       "  <thead>\n",
       "    <tr style=\"text-align: right;\">\n",
       "      <th></th>\n",
       "      <th>Text</th>\n",
       "      <th>label</th>\n",
       "      <th>label_number</th>\n",
       "    </tr>\n",
       "  </thead>\n",
       "  <tbody>\n",
       "    <tr>\n",
       "      <th>0</th>\n",
       "      <td>Urban Ladder Eisner Low Back Study-Office Comp...</td>\n",
       "      <td>Household</td>\n",
       "      <td>0</td>\n",
       "    </tr>\n",
       "    <tr>\n",
       "      <th>1</th>\n",
       "      <td>Contrast living Wooden Decorative Box,Painted ...</td>\n",
       "      <td>Household</td>\n",
       "      <td>0</td>\n",
       "    </tr>\n",
       "    <tr>\n",
       "      <th>2</th>\n",
       "      <td>IO Crest SY-PCI40010 PCI RAID Host Controller ...</td>\n",
       "      <td>Electronics</td>\n",
       "      <td>1</td>\n",
       "    </tr>\n",
       "    <tr>\n",
       "      <th>3</th>\n",
       "      <td>ISAKAA Baby Socks from Just Born to 8 Years- P...</td>\n",
       "      <td>Clothing &amp; Accessories</td>\n",
       "      <td>2</td>\n",
       "    </tr>\n",
       "    <tr>\n",
       "      <th>4</th>\n",
       "      <td>Indira Designer Women's Art Mysore Silk Saree ...</td>\n",
       "      <td>Clothing &amp; Accessories</td>\n",
       "      <td>2</td>\n",
       "    </tr>\n",
       "  </tbody>\n",
       "</table>\n",
       "</div>"
      ],
      "text/plain": [
       "                                                Text                   label  \\\n",
       "0  Urban Ladder Eisner Low Back Study-Office Comp...               Household   \n",
       "1  Contrast living Wooden Decorative Box,Painted ...               Household   \n",
       "2  IO Crest SY-PCI40010 PCI RAID Host Controller ...             Electronics   \n",
       "3  ISAKAA Baby Socks from Just Born to 8 Years- P...  Clothing & Accessories   \n",
       "4  Indira Designer Women's Art Mysore Silk Saree ...  Clothing & Accessories   \n",
       "\n",
       "   label_number  \n",
       "0             0  \n",
       "1             0  \n",
       "2             1  \n",
       "3             2  \n",
       "4             2  "
      ]
     },
     "execution_count": 113,
     "metadata": {},
     "output_type": "execute_result"
    }
   ],
   "source": [
    "df.head() "
   ]
  },
  {
   "cell_type": "code",
   "execution_count": 114,
   "metadata": {},
   "outputs": [
    {
     "data": {
      "text/plain": [
       "(19200, 4800)"
      ]
     },
     "execution_count": 114,
     "metadata": {},
     "output_type": "execute_result"
    }
   ],
   "source": [
    "from sklearn.model_selection import train_test_split\n",
    "\n",
    "X_train, X_test, y_train , y_test = train_test_split(\n",
    "    \n",
    "    df.Text, df.label_number, test_size=0.2, random_state=8888, stratify=df.label_number\n",
    ")\n",
    "\n",
    "len(X_train) , len(y_test)"
   ]
  },
  {
   "cell_type": "code",
   "execution_count": 119,
   "metadata": {},
   "outputs": [
    {
     "data": {
      "text/plain": [
       "(label_number\n",
       " 3    4800\n",
       " 1    4800\n",
       " 2    4800\n",
       " 0    4800\n",
       " Name: count, dtype: int64,\n",
       " label_number\n",
       " 2    1200\n",
       " 1    1200\n",
       " 3    1200\n",
       " 0    1200\n",
       " Name: count, dtype: int64)"
      ]
     },
     "execution_count": 119,
     "metadata": {},
     "output_type": "execute_result"
    }
   ],
   "source": [
    "y_train.value_counts() , y_test.value_counts()"
   ]
  },
  {
   "cell_type": "code",
   "execution_count": 120,
   "metadata": {},
   "outputs": [
    {
     "name": "stdout",
     "output_type": "stream",
     "text": [
      "              precision    recall  f1-score   support\n",
      "\n",
      "           0       0.94      0.96      0.95      1200\n",
      "           1       0.97      0.97      0.97      1200\n",
      "           2       0.98      0.98      0.98      1200\n",
      "           3       0.96      0.94      0.95      1200\n",
      "\n",
      "    accuracy                           0.96      4800\n",
      "   macro avg       0.96      0.96      0.96      4800\n",
      "weighted avg       0.96      0.96      0.96      4800\n",
      "\n"
     ]
    }
   ],
   "source": [
    "from sklearn.neighbors import KNeighborsClassifier\n",
    "from sklearn.pipeline import Pipeline\n",
    "from sklearn.metrics import classification_report\n",
    "\n",
    "clf = Pipeline(\n",
    "    [\n",
    "        ('vectorizer_tfidf', TfidfVectorizer()),\n",
    "        ('KNN' , KNeighborsClassifier())\n",
    "        \n",
    "    ]\n",
    ")\n",
    "\n",
    "clf.fit(X_train, y_train)\n",
    "\n",
    "y_test_pred = clf.predict(X_test)\n",
    "\n",
    "\n",
    "print(classification_report(y_true=y_test, y_pred=y_test_pred))"
   ]
  },
  {
   "cell_type": "code",
   "execution_count": 123,
   "metadata": {},
   "outputs": [
    {
     "data": {
      "text/plain": [
       "(23574    0\n",
       " 10342    0\n",
       " 3158     0\n",
       " 5866     3\n",
       " 3944     2\n",
       " Name: label_number, dtype: int64,\n",
       " array([0, 0, 0, 3, 2], dtype=int64))"
      ]
     },
     "execution_count": 123,
     "metadata": {},
     "output_type": "execute_result"
    }
   ],
   "source": [
    "y_test[15:20] , y_test_pred[15:20]\n",
    "\n",
    "#Nice accuracy :))"
   ]
  },
  {
   "cell_type": "code",
   "execution_count": 124,
   "metadata": {},
   "outputs": [
    {
     "name": "stdout",
     "output_type": "stream",
     "text": [
      "              precision    recall  f1-score   support\n",
      "\n",
      "           0       0.91      0.98      0.94      1200\n",
      "           1       0.97      0.96      0.96      1200\n",
      "           2       0.98      0.99      0.98      1200\n",
      "           3       0.98      0.92      0.95      1200\n",
      "\n",
      "    accuracy                           0.96      4800\n",
      "   macro avg       0.96      0.96      0.96      4800\n",
      "weighted avg       0.96      0.96      0.96      4800\n",
      "\n"
     ]
    }
   ],
   "source": [
    "#Checking performance with multinomial -> \n",
    "from sklearn.naive_bayes import MultinomialNB\n",
    "\n",
    "\n",
    "clf = Pipeline(\n",
    "    [\n",
    "        ('vectorizer_tfidf', TfidfVectorizer()),\n",
    "        ('MNB' , MultinomialNB())\n",
    "        \n",
    "    ]\n",
    ")\n",
    "\n",
    "clf.fit(X_train, y_train)\n",
    "\n",
    "y_test_pred = clf.predict(X_test)\n",
    "\n",
    "\n",
    "print(classification_report(y_true=y_test, y_pred=y_test_pred))"
   ]
  },
  {
   "cell_type": "code",
   "execution_count": 126,
   "metadata": {},
   "outputs": [
    {
     "name": "stdout",
     "output_type": "stream",
     "text": [
      "              precision    recall  f1-score   support\n",
      "\n",
      "           0       0.95      0.97      0.96      1200\n",
      "           1       0.98      0.97      0.97      1200\n",
      "           2       0.98      0.98      0.98      1200\n",
      "           3       0.97      0.97      0.97      1200\n",
      "\n",
      "    accuracy                           0.97      4800\n",
      "   macro avg       0.97      0.97      0.97      4800\n",
      "weighted avg       0.97      0.97      0.97      4800\n",
      "\n"
     ]
    }
   ],
   "source": [
    "#Trying with random forest classifier -> \n",
    "from sklearn.ensemble import RandomForestClassifier\n",
    "\n",
    "clf = Pipeline(\n",
    "    [\n",
    "        ('vectorizer_tfidf', TfidfVectorizer()),\n",
    "        ('random_forest_classifer' ,RandomForestClassifier())\n",
    "        \n",
    "    ]\n",
    ")\n",
    "\n",
    "clf.fit(X_train, y_train)\n",
    "\n",
    "y_test_pred = clf.predict(X_test)\n",
    "\n",
    "\n",
    "print(classification_report(y_true=y_test, y_pred=y_test_pred))"
   ]
  },
  {
   "cell_type": "markdown",
   "metadata": {},
   "source": [
    "Random forest classifier gives the best performance for this task. Usually this comes by trial and error. "
   ]
  },
  {
   "cell_type": "code",
   "execution_count": 146,
   "metadata": {},
   "outputs": [],
   "source": [
    "#Defining a preprocessing function -> \n",
    "\n",
    "import spacy\n",
    "\n",
    "\n",
    "nlp = spacy.load('en_core_web_sm')\n",
    "\n",
    "def preprocess(text):\n",
    "    doc = nlp(text)    \n",
    "    preprocessed_text = [token.lemma_ for token in doc if not token.is_punct and not token.is_stop]\n",
    "    \n",
    "    return \" \".join(preprocessed_text)\n",
    "    "
   ]
  },
  {
   "cell_type": "code",
   "execution_count": 147,
   "metadata": {},
   "outputs": [
    {
     "data": {
      "text/plain": [
       "'random forest classifier give good performance task'"
      ]
     },
     "execution_count": 147,
     "metadata": {},
     "output_type": "execute_result"
    }
   ],
   "source": [
    "preprocess(\"Random forest classifier gives the best performance for this task\")"
   ]
  },
  {
   "cell_type": "code",
   "execution_count": 148,
   "metadata": {},
   "outputs": [
    {
     "data": {
      "text/html": [
       "<div>\n",
       "<style scoped>\n",
       "    .dataframe tbody tr th:only-of-type {\n",
       "        vertical-align: middle;\n",
       "    }\n",
       "\n",
       "    .dataframe tbody tr th {\n",
       "        vertical-align: top;\n",
       "    }\n",
       "\n",
       "    .dataframe thead th {\n",
       "        text-align: right;\n",
       "    }\n",
       "</style>\n",
       "<table border=\"1\" class=\"dataframe\">\n",
       "  <thead>\n",
       "    <tr style=\"text-align: right;\">\n",
       "      <th></th>\n",
       "      <th>Text</th>\n",
       "      <th>label</th>\n",
       "      <th>label_number</th>\n",
       "      <th>preprocessed_text</th>\n",
       "    </tr>\n",
       "  </thead>\n",
       "  <tbody>\n",
       "    <tr>\n",
       "      <th>0</th>\n",
       "      <td>Urban Ladder Eisner Low Back Study-Office Comp...</td>\n",
       "      <td>Household</td>\n",
       "      <td>0</td>\n",
       "      <td>Urban Ladder Eisner Low Study Office Computer ...</td>\n",
       "    </tr>\n",
       "    <tr>\n",
       "      <th>1</th>\n",
       "      <td>Contrast living Wooden Decorative Box,Painted ...</td>\n",
       "      <td>Household</td>\n",
       "      <td>0</td>\n",
       "      <td>contrast live Wooden Decorative Box Painted Bo...</td>\n",
       "    </tr>\n",
       "    <tr>\n",
       "      <th>2</th>\n",
       "      <td>IO Crest SY-PCI40010 PCI RAID Host Controller ...</td>\n",
       "      <td>Electronics</td>\n",
       "      <td>1</td>\n",
       "      <td>IO Crest SY PCI40010 PCI RAID Host Controller ...</td>\n",
       "    </tr>\n",
       "    <tr>\n",
       "      <th>3</th>\n",
       "      <td>ISAKAA Baby Socks from Just Born to 8 Years- P...</td>\n",
       "      <td>Clothing &amp; Accessories</td>\n",
       "      <td>2</td>\n",
       "      <td>ISAKAA Baby Socks bear 8 Years- Pack 4 6 8 12 ...</td>\n",
       "    </tr>\n",
       "    <tr>\n",
       "      <th>4</th>\n",
       "      <td>Indira Designer Women's Art Mysore Silk Saree ...</td>\n",
       "      <td>Clothing &amp; Accessories</td>\n",
       "      <td>2</td>\n",
       "      <td>Indira Designer woman Art Mysore Silk Saree Bl...</td>\n",
       "    </tr>\n",
       "  </tbody>\n",
       "</table>\n",
       "</div>"
      ],
      "text/plain": [
       "                                                Text                   label  \\\n",
       "0  Urban Ladder Eisner Low Back Study-Office Comp...               Household   \n",
       "1  Contrast living Wooden Decorative Box,Painted ...               Household   \n",
       "2  IO Crest SY-PCI40010 PCI RAID Host Controller ...             Electronics   \n",
       "3  ISAKAA Baby Socks from Just Born to 8 Years- P...  Clothing & Accessories   \n",
       "4  Indira Designer Women's Art Mysore Silk Saree ...  Clothing & Accessories   \n",
       "\n",
       "   label_number                                  preprocessed_text  \n",
       "0             0  Urban Ladder Eisner Low Study Office Computer ...  \n",
       "1             0  contrast live Wooden Decorative Box Painted Bo...  \n",
       "2             1  IO Crest SY PCI40010 PCI RAID Host Controller ...  \n",
       "3             2  ISAKAA Baby Socks bear 8 Years- Pack 4 6 8 12 ...  \n",
       "4             2  Indira Designer woman Art Mysore Silk Saree Bl...  "
      ]
     },
     "execution_count": 148,
     "metadata": {},
     "output_type": "execute_result"
    }
   ],
   "source": [
    "df['preprocessed_text'] = df['Text'].apply(preprocess)\n",
    "\n",
    "df.head()"
   ]
  },
  {
   "cell_type": "code",
   "execution_count": 149,
   "metadata": {},
   "outputs": [
    {
     "data": {
      "text/plain": [
       "(19200, 4800)"
      ]
     },
     "execution_count": 149,
     "metadata": {},
     "output_type": "execute_result"
    }
   ],
   "source": [
    "X_train_preprocessed, X_test_preprocessed, y_train , y_test = train_test_split(\n",
    "    \n",
    "    df.preprocessed_text, df.label_number, test_size=0.2, random_state=8888, stratify=df.label_number\n",
    ")\n",
    "\n",
    "len(X_train_preprocessed) , len(y_test)"
   ]
  },
  {
   "cell_type": "code",
   "execution_count": 151,
   "metadata": {},
   "outputs": [
    {
     "name": "stdout",
     "output_type": "stream",
     "text": [
      "              precision    recall  f1-score   support\n",
      "\n",
      "           0       0.96      0.97      0.97      1200\n",
      "           1       0.98      0.97      0.98      1200\n",
      "           2       0.98      0.99      0.98      1200\n",
      "           3       0.98      0.97      0.97      1200\n",
      "\n",
      "    accuracy                           0.98      4800\n",
      "   macro avg       0.98      0.98      0.98      4800\n",
      "weighted avg       0.98      0.98      0.98      4800\n",
      "\n"
     ]
    }
   ],
   "source": [
    "from sklearn.ensemble import RandomForestClassifier\n",
    "clf = Pipeline(\n",
    "    [\n",
    "        ('vectorizer_tfidf', TfidfVectorizer()),\n",
    "        ('random_forest_classifier' , RandomForestClassifier())\n",
    "        \n",
    "    ]\n",
    ")\n",
    "\n",
    "clf.fit(X_train_preprocessed, y_train)\n",
    "\n",
    "y_test_pred = clf.predict(X_test_preprocessed)\n",
    "\n",
    "\n",
    "print(classification_report(y_true=y_test, y_pred=y_test_pred))"
   ]
  },
  {
   "cell_type": "markdown",
   "metadata": {},
   "source": [
    "The best scores with Preprocessing + Random Forest Classifier."
   ]
  },
  {
   "cell_type": "markdown",
   "metadata": {},
   "source": [
    "# **Text Representation Using Word Embeddings ->**"
   ]
  },
  {
   "cell_type": "markdown",
   "metadata": {},
   "source": [
    "Theory about word embeddings already exists in the Transformer from Scratch + 3B1B Video."
   ]
  },
  {
   "cell_type": "markdown",
   "metadata": {},
   "source": [
    "## **Word vectors in Spacy ->**"
   ]
  },
  {
   "cell_type": "code",
   "execution_count": 152,
   "metadata": {},
   "outputs": [],
   "source": [
    "import spacy\n",
    "\n",
    "#en_core_web_sm doesn't have word embeddings as the size is very small. We have to use either en_core_web_md or en_core_web_lg for it.\n",
    "\n",
    "nlp = spacy.load('en_core_web_lg')"
   ]
  },
  {
   "cell_type": "code",
   "execution_count": 154,
   "metadata": {},
   "outputs": [
    {
     "name": "stdout",
     "output_type": "stream",
     "text": [
      "Token -> ice\n",
      "Is Vector -> True\n",
      "Is Out of Vocabulary -> False\n",
      "\n",
      "\n",
      "Token -> cream\n",
      "Is Vector -> True\n",
      "Is Out of Vocabulary -> False\n",
      "\n",
      "\n",
      "Token -> icecream\n",
      "Is Vector -> True\n",
      "Is Out of Vocabulary -> False\n",
      "\n",
      "\n",
      "Token -> koompilala\n",
      "Is Vector -> False\n",
      "Is Out of Vocabulary -> True\n",
      "\n",
      "\n"
     ]
    }
   ],
   "source": [
    "doc = nlp(\"ice cream icecream koompilala\")\n",
    "\n",
    "for token in doc:\n",
    "    \n",
    "    print(f\"Token -> {token.text}\\nIs Vector -> {token.has_vector}\\nIs Out of Vocabulary -> {token.is_oov}\\n\\n\" )"
   ]
  },
  {
   "cell_type": "code",
   "execution_count": 157,
   "metadata": {},
   "outputs": [
    {
     "data": {
      "text/plain": [
       "(array([ 4.1746e-01, -4.3085e-01,  4.2969e-02, -1.6576e-01,  5.0018e-01,\n",
       "         3.6708e-01, -2.5552e-04,  1.5764e-01,  1.6711e-01,  1.8393e+00,\n",
       "        -3.4910e-01, -2.2504e-01, -5.3077e-01,  6.0676e-01,  4.8401e-02,\n",
       "        -2.1489e-01, -2.3774e-01,  1.3750e+00, -4.5353e-01, -6.0898e-02,\n",
       "         9.5007e-01, -5.3369e-01,  1.9720e-01,  6.6538e-01, -1.2461e-01,\n",
       "        -3.5566e-01, -7.5116e-02, -9.5728e-02,  8.2336e-02, -8.9412e-01,\n",
       "        -4.1495e-01, -3.4567e-02, -3.2611e-01,  1.3591e-02,  3.0065e-01,\n",
       "         2.0169e-01,  2.2861e-01, -1.9953e-01,  3.3676e-01,  4.6839e-01,\n",
       "        -1.5439e-01,  4.3548e-01, -1.4746e-01,  1.7491e-01,  2.7431e-01,\n",
       "         5.5184e-01, -1.9260e-01,  1.2644e-01, -1.4429e-01, -7.9206e-02,\n",
       "         7.1559e-01,  2.6609e-01, -7.2920e-02, -2.1762e-01, -3.9789e-01,\n",
       "        -6.3483e-01, -6.2268e-01, -1.6140e-01, -5.8972e-02,  3.2004e-01,\n",
       "        -4.0484e-01,  3.1269e-01,  4.2299e-01,  1.2927e+00, -5.2837e-01,\n",
       "         2.0853e-01,  1.7200e-02,  5.5035e-03, -6.9817e-02, -2.4316e-03,\n",
       "        -3.3321e-01,  5.0028e-01, -1.3324e-01, -5.5162e-01, -6.1751e-01,\n",
       "         4.5683e-01,  3.8035e-02, -6.3753e-02,  9.1072e-02, -2.4283e-01,\n",
       "         1.7419e-01, -1.9921e-01, -2.4125e-01,  3.1019e-01,  7.9866e-02,\n",
       "        -5.2365e-01,  7.9378e-01,  1.1848e+00, -1.0543e+00,  4.0231e-01,\n",
       "         3.2203e-01,  7.5619e-02, -2.1768e-01, -1.8721e-01, -3.7413e-01,\n",
       "        -5.7481e-01, -3.0241e-01, -5.7859e-01,  1.8684e-01, -5.0146e-02,\n",
       "         3.0594e-01, -2.1836e-01, -3.0846e-01,  1.2257e-01, -3.7490e-01,\n",
       "        -6.3937e-01,  7.8091e-01, -1.6273e-01,  7.3791e-02, -5.1172e-01,\n",
       "         4.8755e-02, -7.1289e-01, -4.3253e-01, -4.7315e-01, -4.3712e-02,\n",
       "         2.0323e-01, -2.8381e-01, -8.0829e-02, -5.6407e-01,  4.3274e-01,\n",
       "        -1.0419e-01,  2.1685e-01, -4.9686e-01, -4.4208e-02, -1.6274e-01,\n",
       "        -4.2904e-02, -1.3121e-01,  2.3935e-01,  4.5349e-01,  5.8714e-01,\n",
       "         3.0431e-01, -2.8164e-01,  4.8012e-01,  2.0755e-01,  1.7055e-01,\n",
       "         4.9855e-01, -6.6591e-01, -6.8875e-02,  1.5933e-01, -5.5804e-01,\n",
       "        -2.3546e+00,  4.8076e-02,  8.4813e-01,  3.5383e-01,  2.7893e-02,\n",
       "         3.5670e-05, -1.7577e-01, -1.2948e-01,  4.0216e-01, -1.4549e-01,\n",
       "         5.2277e-02, -5.6564e-02,  2.7681e-01,  6.2763e-01, -7.9180e-01,\n",
       "        -3.4887e-01, -5.0205e-02,  1.0078e+00, -1.8472e-01,  3.3382e-01,\n",
       "         2.1912e-01,  5.2018e-01, -1.7102e-01, -1.3967e-01,  2.2489e-01,\n",
       "         5.0179e-01, -2.0615e-01,  2.0821e-02,  6.6855e-02,  2.3560e-01,\n",
       "        -2.1031e-01, -2.8954e-01, -5.0155e-01, -3.7782e-01, -2.3356e-01,\n",
       "        -5.2422e-01,  9.3931e-01, -6.6857e-01, -9.0707e-02, -5.9138e-01,\n",
       "         2.4406e-01, -1.1823e-01,  3.5493e-02, -1.8702e-01, -3.6891e-01,\n",
       "        -3.1113e-01,  2.7184e-01,  1.1301e-01, -6.6742e-02, -2.9845e-01,\n",
       "        -6.0400e-01, -1.9114e-01,  2.5645e-01, -1.9652e-01, -3.7830e-01,\n",
       "         6.5438e-01,  8.8527e-01,  5.7390e-02, -2.4032e-01,  5.4775e-01,\n",
       "        -8.0373e-02, -4.2012e-01, -3.1775e-02,  1.6947e-01, -3.9540e-01,\n",
       "        -5.2747e-03,  1.1720e-01,  1.1821e+00,  4.8177e-01, -1.5410e-01,\n",
       "        -6.6924e-02, -6.4107e-02,  2.2649e-01, -4.1707e-01, -1.5356e-02,\n",
       "        -1.8741e-01, -5.3190e-01, -6.0610e-01,  3.9078e-01, -5.9802e-02,\n",
       "         1.6064e-01,  7.3302e-01,  1.2491e-01, -1.7599e-01, -1.3130e-01,\n",
       "        -1.6646e-01, -2.0792e-02, -3.3266e-01, -4.9775e-01,  7.2777e-01,\n",
       "        -1.8910e-01, -8.3256e-02,  4.6455e-01, -2.9262e-01,  3.0181e-01,\n",
       "        -1.5858e-01,  4.6854e-01, -1.3778e-01,  1.8934e-01, -6.4107e-01,\n",
       "         9.3366e-02,  6.3704e-01, -4.1795e-01, -3.9194e-01,  3.6223e-01,\n",
       "        -1.0850e-01, -2.0875e-01, -1.3431e-01, -8.5750e-01,  2.3272e-01,\n",
       "        -3.8219e-01, -1.3151e-01, -1.3703e-01,  4.1386e-01,  2.2298e-02,\n",
       "         3.3072e-01, -7.8770e-01, -1.5444e-01, -7.3181e-02, -1.8352e-01,\n",
       "         2.4475e-01,  1.0006e-01,  2.1432e-01, -3.1753e-01, -5.0512e-01,\n",
       "         2.9622e-01, -1.6940e-01,  9.7497e-01, -4.4016e-01, -7.4525e-02,\n",
       "        -1.7661e-01,  4.9940e-01,  2.3128e-01, -4.4754e-03, -6.9924e-02,\n",
       "         2.6903e-01, -1.3045e-01,  1.7793e-01, -3.3516e-02,  2.0375e-01,\n",
       "         1.9164e-01, -9.7586e-02, -5.2969e-01,  1.7802e-01,  1.6629e-01,\n",
       "        -6.9745e-02,  5.8034e-02, -3.5802e-01, -5.5052e-01,  2.3705e-01,\n",
       "         1.2701e-01,  2.3684e-01,  5.5364e-01, -6.0180e-01, -7.3626e-02,\n",
       "         1.4990e-01, -8.2579e-02, -2.5620e-01, -3.6531e-01, -1.0322e-01],\n",
       "       dtype=float32),\n",
       " (300,))"
      ]
     },
     "execution_count": 157,
     "metadata": {},
     "output_type": "execute_result"
    }
   ],
   "source": [
    "doc[0].vector , doc[0].vector.shape\n",
    "#By default the spacy word tokens are 300 dimensional vectors"
   ]
  },
  {
   "cell_type": "code",
   "execution_count": 211,
   "metadata": {},
   "outputs": [
    {
     "name": "stdout",
     "output_type": "stream",
     "text": [
      "Similarity between Red Car - Red + Blue & Blue Car -> 0.9574458599090576\n",
      "\n",
      "\n",
      "Similarity between Croissant & Blue Car -> 0.02112550288438797\n"
     ]
    }
   ],
   "source": [
    "import numpy as np\n",
    "from sklearn.metrics.pairwise import cosine_similarity\n",
    "\n",
    "base_token1 = nlp(\"Red Car\").vector\n",
    "base_token2 = nlp(\"Blue Car\").vector\n",
    "base_token3 = nlp(\"Red\").vector\n",
    "base_token4 = nlp(\"Blue\").vector\n",
    "base_token5 = nlp(\"Croissant\").vector\n",
    "\n",
    "#Analogy to show how the vectors are related to each other -> Red Car - Red + Blue = Blue Car\n",
    "\n",
    "blue_car = base_token1 - base_token3 + base_token4 \n",
    "\n",
    "print(f\"Similarity between Red Car - Red + Blue & Blue Car -> {cosine_similarity(base_token2.reshape(1,-1), blue_car.reshape(1,-1)).item()}\") \n",
    "print(f\"\\n\\nSimilarity between Croissant & Blue Car -> {cosine_similarity(base_token5.reshape(1,-1), blue_car.reshape(1,-1)).item()}\") \n",
    "\n"
   ]
  },
  {
   "cell_type": "markdown",
   "metadata": {},
   "source": [
    "## **News classification using Spacy word vectors ->**"
   ]
  },
  {
   "cell_type": "code",
   "execution_count": 212,
   "metadata": {},
   "outputs": [
    {
     "data": {
      "text/html": [
       "<div>\n",
       "<style scoped>\n",
       "    .dataframe tbody tr th:only-of-type {\n",
       "        vertical-align: middle;\n",
       "    }\n",
       "\n",
       "    .dataframe tbody tr th {\n",
       "        vertical-align: top;\n",
       "    }\n",
       "\n",
       "    .dataframe thead th {\n",
       "        text-align: right;\n",
       "    }\n",
       "</style>\n",
       "<table border=\"1\" class=\"dataframe\">\n",
       "  <thead>\n",
       "    <tr style=\"text-align: right;\">\n",
       "      <th></th>\n",
       "      <th>Text</th>\n",
       "      <th>label</th>\n",
       "    </tr>\n",
       "  </thead>\n",
       "  <tbody>\n",
       "    <tr>\n",
       "      <th>0</th>\n",
       "      <td>Top Trump Surrogate BRUTALLY Stabs Him In The...</td>\n",
       "      <td>Fake</td>\n",
       "    </tr>\n",
       "    <tr>\n",
       "      <th>1</th>\n",
       "      <td>U.S. conservative leader optimistic of common ...</td>\n",
       "      <td>Real</td>\n",
       "    </tr>\n",
       "    <tr>\n",
       "      <th>2</th>\n",
       "      <td>Trump proposes U.S. tax overhaul, stirs concer...</td>\n",
       "      <td>Real</td>\n",
       "    </tr>\n",
       "    <tr>\n",
       "      <th>3</th>\n",
       "      <td>Court Forces Ohio To Allow Millions Of Illega...</td>\n",
       "      <td>Fake</td>\n",
       "    </tr>\n",
       "    <tr>\n",
       "      <th>4</th>\n",
       "      <td>Democrats say Trump agrees to work on immigrat...</td>\n",
       "      <td>Real</td>\n",
       "    </tr>\n",
       "  </tbody>\n",
       "</table>\n",
       "</div>"
      ],
      "text/plain": [
       "                                                Text label\n",
       "0   Top Trump Surrogate BRUTALLY Stabs Him In The...  Fake\n",
       "1  U.S. conservative leader optimistic of common ...  Real\n",
       "2  Trump proposes U.S. tax overhaul, stirs concer...  Real\n",
       "3   Court Forces Ohio To Allow Millions Of Illega...  Fake\n",
       "4  Democrats say Trump agrees to work on immigrat...  Real"
      ]
     },
     "execution_count": 212,
     "metadata": {},
     "output_type": "execute_result"
    }
   ],
   "source": [
    "import pandas as pd\n",
    "\n",
    "df = pd.read_csv(\"data/Fake_Real_Data.csv\")\n",
    "\n",
    "df.head()"
   ]
  },
  {
   "cell_type": "code",
   "execution_count": 214,
   "metadata": {},
   "outputs": [
    {
     "data": {
      "text/plain": [
       "label\n",
       "Fake    5000\n",
       "Real    4900\n",
       "Name: count, dtype: int64"
      ]
     },
     "execution_count": 214,
     "metadata": {},
     "output_type": "execute_result"
    }
   ],
   "source": [
    "df.label.value_counts()"
   ]
  },
  {
   "cell_type": "markdown",
   "metadata": {},
   "source": [
    "^ Almost balanced dataset"
   ]
  },
  {
   "cell_type": "code",
   "execution_count": 215,
   "metadata": {},
   "outputs": [],
   "source": [
    "df['label_number'] = df.label.map({\n",
    "    \n",
    "    \"Real\" : 1, \"Fake\" : 0\n",
    "})"
   ]
  },
  {
   "cell_type": "code",
   "execution_count": 216,
   "metadata": {},
   "outputs": [
    {
     "data": {
      "text/html": [
       "<div>\n",
       "<style scoped>\n",
       "    .dataframe tbody tr th:only-of-type {\n",
       "        vertical-align: middle;\n",
       "    }\n",
       "\n",
       "    .dataframe tbody tr th {\n",
       "        vertical-align: top;\n",
       "    }\n",
       "\n",
       "    .dataframe thead th {\n",
       "        text-align: right;\n",
       "    }\n",
       "</style>\n",
       "<table border=\"1\" class=\"dataframe\">\n",
       "  <thead>\n",
       "    <tr style=\"text-align: right;\">\n",
       "      <th></th>\n",
       "      <th>Text</th>\n",
       "      <th>label</th>\n",
       "      <th>label_number</th>\n",
       "    </tr>\n",
       "  </thead>\n",
       "  <tbody>\n",
       "    <tr>\n",
       "      <th>0</th>\n",
       "      <td>Top Trump Surrogate BRUTALLY Stabs Him In The...</td>\n",
       "      <td>Fake</td>\n",
       "      <td>0</td>\n",
       "    </tr>\n",
       "    <tr>\n",
       "      <th>1</th>\n",
       "      <td>U.S. conservative leader optimistic of common ...</td>\n",
       "      <td>Real</td>\n",
       "      <td>1</td>\n",
       "    </tr>\n",
       "    <tr>\n",
       "      <th>2</th>\n",
       "      <td>Trump proposes U.S. tax overhaul, stirs concer...</td>\n",
       "      <td>Real</td>\n",
       "      <td>1</td>\n",
       "    </tr>\n",
       "    <tr>\n",
       "      <th>3</th>\n",
       "      <td>Court Forces Ohio To Allow Millions Of Illega...</td>\n",
       "      <td>Fake</td>\n",
       "      <td>0</td>\n",
       "    </tr>\n",
       "    <tr>\n",
       "      <th>4</th>\n",
       "      <td>Democrats say Trump agrees to work on immigrat...</td>\n",
       "      <td>Real</td>\n",
       "      <td>1</td>\n",
       "    </tr>\n",
       "  </tbody>\n",
       "</table>\n",
       "</div>"
      ],
      "text/plain": [
       "                                                Text label  label_number\n",
       "0   Top Trump Surrogate BRUTALLY Stabs Him In The...  Fake             0\n",
       "1  U.S. conservative leader optimistic of common ...  Real             1\n",
       "2  Trump proposes U.S. tax overhaul, stirs concer...  Real             1\n",
       "3   Court Forces Ohio To Allow Millions Of Illega...  Fake             0\n",
       "4  Democrats say Trump agrees to work on immigrat...  Real             1"
      ]
     },
     "execution_count": 216,
     "metadata": {},
     "output_type": "execute_result"
    }
   ],
   "source": [
    "df.head()"
   ]
  },
  {
   "cell_type": "code",
   "execution_count": 217,
   "metadata": {},
   "outputs": [],
   "source": [
    "import spacy\n",
    "\n",
    "nlp = spacy.load('en_core_web_lg')"
   ]
  },
  {
   "cell_type": "code",
   "execution_count": 219,
   "metadata": {},
   "outputs": [],
   "source": [
    "\n",
    "df['text_vector'] = df.Text.apply(lambda x : nlp(x).vector)"
   ]
  },
  {
   "cell_type": "code",
   "execution_count": 220,
   "metadata": {},
   "outputs": [
    {
     "data": {
      "text/html": [
       "<div>\n",
       "<style scoped>\n",
       "    .dataframe tbody tr th:only-of-type {\n",
       "        vertical-align: middle;\n",
       "    }\n",
       "\n",
       "    .dataframe tbody tr th {\n",
       "        vertical-align: top;\n",
       "    }\n",
       "\n",
       "    .dataframe thead th {\n",
       "        text-align: right;\n",
       "    }\n",
       "</style>\n",
       "<table border=\"1\" class=\"dataframe\">\n",
       "  <thead>\n",
       "    <tr style=\"text-align: right;\">\n",
       "      <th></th>\n",
       "      <th>Text</th>\n",
       "      <th>label</th>\n",
       "      <th>label_number</th>\n",
       "      <th>text_vector</th>\n",
       "    </tr>\n",
       "  </thead>\n",
       "  <tbody>\n",
       "    <tr>\n",
       "      <th>0</th>\n",
       "      <td>Top Trump Surrogate BRUTALLY Stabs Him In The...</td>\n",
       "      <td>Fake</td>\n",
       "      <td>0</td>\n",
       "      <td>[-0.103623025, 0.17802684, -0.11873861, -0.034...</td>\n",
       "    </tr>\n",
       "    <tr>\n",
       "      <th>1</th>\n",
       "      <td>U.S. conservative leader optimistic of common ...</td>\n",
       "      <td>Real</td>\n",
       "      <td>1</td>\n",
       "      <td>[-0.0063406364, 0.16712041, -0.06661373, 0.017...</td>\n",
       "    </tr>\n",
       "    <tr>\n",
       "      <th>2</th>\n",
       "      <td>Trump proposes U.S. tax overhaul, stirs concer...</td>\n",
       "      <td>Real</td>\n",
       "      <td>1</td>\n",
       "      <td>[-0.122753024, 0.17192385, -0.024732638, -0.06...</td>\n",
       "    </tr>\n",
       "    <tr>\n",
       "      <th>3</th>\n",
       "      <td>Court Forces Ohio To Allow Millions Of Illega...</td>\n",
       "      <td>Fake</td>\n",
       "      <td>0</td>\n",
       "      <td>[-0.027337318, 0.12501417, -0.0073965387, -0.0...</td>\n",
       "    </tr>\n",
       "    <tr>\n",
       "      <th>4</th>\n",
       "      <td>Democrats say Trump agrees to work on immigrat...</td>\n",
       "      <td>Real</td>\n",
       "      <td>1</td>\n",
       "      <td>[-0.032708026, 0.093958504, -0.03287002, -0.00...</td>\n",
       "    </tr>\n",
       "  </tbody>\n",
       "</table>\n",
       "</div>"
      ],
      "text/plain": [
       "                                                Text label  label_number  \\\n",
       "0   Top Trump Surrogate BRUTALLY Stabs Him In The...  Fake             0   \n",
       "1  U.S. conservative leader optimistic of common ...  Real             1   \n",
       "2  Trump proposes U.S. tax overhaul, stirs concer...  Real             1   \n",
       "3   Court Forces Ohio To Allow Millions Of Illega...  Fake             0   \n",
       "4  Democrats say Trump agrees to work on immigrat...  Real             1   \n",
       "\n",
       "                                         text_vector  \n",
       "0  [-0.103623025, 0.17802684, -0.11873861, -0.034...  \n",
       "1  [-0.0063406364, 0.16712041, -0.06661373, 0.017...  \n",
       "2  [-0.122753024, 0.17192385, -0.024732638, -0.06...  \n",
       "3  [-0.027337318, 0.12501417, -0.0073965387, -0.0...  \n",
       "4  [-0.032708026, 0.093958504, -0.03287002, -0.00...  "
      ]
     },
     "execution_count": 220,
     "metadata": {},
     "output_type": "execute_result"
    }
   ],
   "source": [
    "df.head()"
   ]
  },
  {
   "cell_type": "code",
   "execution_count": 223,
   "metadata": {},
   "outputs": [
    {
     "data": {
      "text/plain": [
       "(7920, 1980)"
      ]
     },
     "execution_count": 223,
     "metadata": {},
     "output_type": "execute_result"
    }
   ],
   "source": [
    "from sklearn.model_selection import train_test_split\n",
    "\n",
    "X_train , X_test, y_train, y_test = train_test_split(\n",
    "    df.text_vector.values , df.label_number , test_size = 0.2 , random_state = 8888 , stratify = df.label_number\n",
    ")\n",
    "\n",
    "len(X_train) , len(y_test)"
   ]
  },
  {
   "cell_type": "code",
   "execution_count": 227,
   "metadata": {},
   "outputs": [
    {
     "data": {
      "text/plain": [
       "(array([array([-1.05659939e-01,  1.91267386e-01, -1.01366125e-01, -4.10028920e-02,\n",
       "                7.02278018e-02,  1.28665026e-02,  3.52875926e-02, -1.01126991e-01,\n",
       "               -3.97020280e-02,  1.92928255e+00, -1.59306556e-01,  3.93896066e-02,\n",
       "                7.01588169e-02, -7.49223679e-02, -1.19074754e-01, -8.40078574e-03,\n",
       "               -1.04384549e-01,  9.48745608e-01, -1.70093164e-01,  3.59270051e-02,\n",
       "               -2.31098733e-03, -1.68278385e-02, -6.68838993e-03, -4.41042371e-02,\n",
       "                3.09418552e-02,  4.90659252e-02, -1.09852917e-01, -4.51742411e-02,\n",
       "                3.91390957e-02, -6.77893609e-02, -1.99695751e-02,  8.91568512e-02,\n",
       "               -3.99808660e-02,  5.20413965e-02,  5.45807369e-02, -1.75197534e-02,\n",
       "               -1.31705152e-02,  5.60996942e-02, -6.75287023e-02, -8.96003004e-03,\n",
       "               -2.11634915e-02,  4.17205282e-02,  6.07028194e-02,  9.30339843e-03,\n",
       "                6.90629022e-05,  2.97353440e-03, -1.00034721e-01,  4.30865921e-02,\n",
       "                2.11642534e-02,  2.24618968e-02, -5.11403196e-02,  8.91014412e-02,\n",
       "               -5.96606955e-02, -6.72795847e-02,  3.32414247e-02,  4.72942926e-02,\n",
       "               -3.80021101e-03, -8.54025967e-03,  1.45687526e-02, -5.35751767e-02,\n",
       "               -6.20760098e-02, -1.78162064e-02, -1.45652890e-02,  1.51050881e-01,\n",
       "                4.57124785e-02, -5.09667583e-02, -2.30419380e-03,  1.06416317e-02,\n",
       "                1.34335160e-02,  1.07532799e-01,  4.18347642e-02,  4.07914184e-02,\n",
       "                1.30441129e-01, -1.12771057e-02,  1.22508042e-01,  6.08151890e-02,\n",
       "                6.19147867e-02, -4.23839912e-02,  5.57781337e-03,  1.73959509e-01,\n",
       "               -8.50065611e-03,  3.72346006e-02, -1.26623183e-01,  1.39547838e-03,\n",
       "                1.24765281e-02, -1.64929181e-01,  4.91142944e-02, -2.66448915e-01,\n",
       "                2.23955005e-01,  2.77048722e-02, -5.66203743e-02,  2.50344863e-03,\n",
       "               -3.01575474e-02, -2.38996092e-02,  1.03763193e-01, -8.42229500e-02,\n",
       "               -8.73969719e-02, -2.36179586e-02,  2.18033418e-02, -2.56127026e-02,\n",
       "               -1.97991617e-02,  5.14845699e-02, -9.68704447e-02, -3.86831425e-02,\n",
       "                3.19238566e-02, -3.42268258e-01,  1.02935731e-01, -4.29390073e-02,\n",
       "                2.73470450e-02,  8.59815776e-02,  2.35832147e-02, -1.20536506e-01,\n",
       "                4.84650284e-02, -6.51174635e-02, -2.40684929e-03, -2.75664311e-02,\n",
       "                1.14986589e-02, -7.58034065e-02, -4.47771214e-02, -7.63184726e-02,\n",
       "                3.40825059e-02,  8.37236457e-03,  1.46006355e-02, -2.16062833e-02,\n",
       "               -3.16047519e-02,  2.69569159e-02,  6.08198904e-03, -4.38288786e-02,\n",
       "                9.44022648e-03, -3.75149176e-02,  7.33498931e-02, -1.75593141e-02,\n",
       "               -8.36192146e-02, -1.69964209e-02,  2.26962399e-02,  2.71094553e-02,\n",
       "               -8.43166094e-03, -4.84050019e-03,  3.49718370e-02, -1.85743477e-02,\n",
       "               -1.00022018e+00,  3.91961187e-02,  1.50504529e-01,  2.21051415e-03,\n",
       "               -2.16730703e-02, -3.89599316e-02, -2.11664233e-02,  4.57428992e-02,\n",
       "               -1.99757237e-02, -4.22516949e-02, -3.06229480e-02,  2.72007044e-02,\n",
       "                5.25095463e-02, -1.17806168e-02, -3.63688841e-02,  2.58624535e-02,\n",
       "               -6.95798025e-02, -4.92538363e-02, -3.01973578e-02, -9.82868578e-03,\n",
       "                2.26030685e-02,  2.15358529e-02, -3.83778736e-02, -5.41395508e-02,\n",
       "               -1.19847648e-01, -9.28160623e-02,  6.05075248e-02, -8.90420079e-02,\n",
       "                7.52993748e-02,  2.75881924e-02, -1.50946602e-02, -2.87722517e-03,\n",
       "                3.16707790e-02, -6.33227378e-02, -3.94191407e-02,  5.36669195e-02,\n",
       "                4.04040376e-03, -1.05701238e-02,  2.76515242e-02, -7.34810077e-04,\n",
       "                2.84860376e-02, -3.92384827e-02, -6.39119223e-02, -8.54584947e-02,\n",
       "               -5.22549376e-02,  7.43438117e-03, -3.47776562e-02,  6.78685829e-02,\n",
       "                3.56670618e-02,  3.00980610e-04, -7.03122607e-03, -4.08819970e-03,\n",
       "               -2.33582631e-02,  1.59281474e-02,  2.64593661e-02,  8.98210406e-02,\n",
       "               -6.15605749e-02, -6.85602799e-02,  1.59023292e-02,  1.80250153e-01,\n",
       "                1.72350295e-02, -8.11151564e-02, -7.92874210e-03, -6.71261037e-03,\n",
       "                1.49698883e-01, -5.18409163e-02,  2.15686224e-02,  2.29626000e-02,\n",
       "               -1.07767771e-03, -2.27320474e-02, -3.29819322e-02, -7.81944245e-02,\n",
       "                2.43147574e-02, -5.86981066e-02,  8.90787095e-02,  1.12205163e-01,\n",
       "               -3.48470733e-02,  1.12385843e-02, -2.41310924e-01,  4.45253104e-02,\n",
       "               -2.22345106e-02,  1.81262940e-02, -7.95937926e-02,  4.66548391e-02,\n",
       "                4.98204306e-02, -2.76384167e-02,  2.77205221e-02,  6.28797561e-02,\n",
       "                1.75294988e-02,  1.51574323e-02, -3.97392735e-02, -6.18548552e-03,\n",
       "                6.42610267e-02,  3.92167717e-02, -7.78935030e-02, -4.02573720e-02,\n",
       "               -4.46448214e-02, -1.20680906e-01, -4.41324562e-02,  1.03213668e-01,\n",
       "                1.02469884e-03, -5.37111238e-03,  2.40534004e-02,  4.15295288e-02,\n",
       "                3.50989588e-02, -1.63736731e-01, -8.41095671e-02, -1.03206456e-01,\n",
       "               -1.39230803e-01,  6.34047687e-02,  6.93682358e-02,  1.19556850e-02,\n",
       "               -8.49428624e-02, -9.26111937e-02,  2.43874528e-02,  1.79268703e-01,\n",
       "                4.09801044e-02, -8.41333270e-02, -4.69807796e-02,  1.96614508e-02,\n",
       "                1.00081883e-01,  1.46324649e-01, -8.64797831e-03,  1.02672838e-01,\n",
       "                3.57418619e-02, -8.70846808e-02, -1.77923068e-02,  2.60578864e-03,\n",
       "                3.07032228e-01, -7.93194806e-04,  8.18967447e-03,  1.09578120e-02,\n",
       "               -9.18390080e-02, -5.12860864e-02, -5.19884489e-02, -1.38799949e-02,\n",
       "                4.09308588e-03,  3.24114300e-02, -8.91833846e-03,  1.69196784e-01,\n",
       "                1.54261157e-01,  4.73351311e-03,  2.33658589e-02, -2.73463633e-02,\n",
       "               -1.31298881e-02, -5.20459786e-02,  8.25858787e-02, -4.39464524e-02,\n",
       "                1.11979663e-01,  8.15590657e-03, -1.27180561e-01,  1.32153481e-02,\n",
       "               -2.90389340e-02, -2.90951971e-02,  2.23669484e-02,  1.46381967e-02,\n",
       "               -3.52592021e-02, -7.11740032e-02,  4.81808977e-03,  6.34303093e-02],\n",
       "              dtype=float32)                                                       ,\n",
       "        array([-6.46969005e-02,  1.31550029e-01, -1.01894602e-01, -4.09936719e-02,\n",
       "                7.65798539e-02,  3.91502492e-02,  3.68924886e-02, -9.10069197e-02,\n",
       "               -1.08523732e-02,  1.91358852e+00, -1.00945152e-01, -1.93047877e-02,\n",
       "                7.33147413e-02, -8.32017511e-02, -1.24219730e-01, -5.38812950e-02,\n",
       "               -6.02416620e-02,  8.17476153e-01, -1.69941545e-01, -4.39885110e-02,\n",
       "               -8.64035171e-03, -3.91263142e-02, -3.87494564e-02, -7.05579743e-02,\n",
       "                3.82091813e-02,  6.01099897e-03, -4.98230346e-02, -3.23597267e-02,\n",
       "                5.21794744e-02, -1.67207830e-02,  4.30663436e-04,  6.92313015e-02,\n",
       "               -7.23444968e-02,  9.31724161e-02,  9.52851623e-02, -5.63781634e-02,\n",
       "               -4.24671965e-03,  3.56686041e-02, -8.10972229e-02, -3.58033217e-02,\n",
       "               -4.73058335e-02,  4.39088568e-02, -9.37601924e-03, -3.46537530e-02,\n",
       "                1.94169078e-02,  6.57499209e-02, -1.04493804e-01, -2.63557192e-02,\n",
       "               -8.88746697e-03,  2.77709831e-02, -1.87696163e-02,  7.07221329e-02,\n",
       "               -3.73252518e-02, -1.19100772e-02, -1.83763225e-02,  2.03400366e-02,\n",
       "                3.78485769e-03, -5.42866550e-02,  3.30282636e-02, -6.97074756e-02,\n",
       "               -3.02162394e-02,  3.55386958e-02, -5.39085083e-02,  1.58207476e-01,\n",
       "                3.69538888e-02, -7.89320618e-02, -6.95751142e-03,  1.43895661e-02,\n",
       "                1.50171565e-02,  8.71554539e-02,  2.38748565e-02,  2.76519265e-02,\n",
       "                1.33454844e-01, -2.22825296e-02,  1.48272542e-02, -3.31040635e-03,\n",
       "                1.88076235e-02, -3.91192995e-02, -7.57221924e-03,  1.36598647e-01,\n",
       "               -3.40855010e-02,  5.12512177e-02, -1.15724556e-01,  1.85285416e-02,\n",
       "                2.27353033e-02, -2.19158635e-01,  5.77037875e-03, -1.55100092e-01,\n",
       "                1.51105866e-01, -1.17821191e-02, -1.22890882e-01,  2.62909103e-02,\n",
       "               -3.20859887e-02,  5.13634980e-02,  1.35916069e-01, -5.32317087e-02,\n",
       "               -2.77643036e-02, -6.31591082e-02, -1.59227382e-02, -8.26684684e-02,\n",
       "               -1.45555642e-02,  7.45312124e-02, -7.02438876e-02, -4.07758690e-02,\n",
       "                7.15837702e-02, -5.35494328e-01,  3.28170955e-02,  5.02249366e-03,\n",
       "                5.33724949e-02, -8.07713903e-03,  2.64846236e-02, -8.26567039e-02,\n",
       "                2.57202443e-02, -8.25624466e-02, -7.20828120e-03, -1.72308851e-02,\n",
       "                1.60824656e-02,  3.70232649e-02, -8.90667364e-03, -5.02706207e-02,\n",
       "                6.09607659e-02, -2.80995592e-02, -2.63059661e-02,  2.68199090e-02,\n",
       "               -4.37759012e-02,  8.63358825e-02,  1.74311511e-02, -5.81454225e-02,\n",
       "                2.02318560e-02, -2.74414271e-02, -3.01863570e-02, -3.28128748e-02,\n",
       "                2.45628934e-02, -8.32996145e-03,  3.98626626e-02,  6.71164468e-02,\n",
       "               -4.31097075e-02,  1.29792346e-02, -1.34189241e-02, -2.74681710e-02,\n",
       "               -1.18733537e+00,  7.99029246e-02,  1.01364225e-01,  1.78420395e-02,\n",
       "                9.31415893e-03, -1.58211235e-02,  1.30110290e-02, -1.55462939e-02,\n",
       "                1.19732441e-02, -3.35083269e-02, -1.34815294e-02, -1.67788360e-02,\n",
       "                1.17462225e-01, -8.40798765e-03, -1.44739235e-02, -1.57181844e-02,\n",
       "               -6.22886233e-02, -3.93526666e-02, -6.10329472e-02, -6.08154163e-02,\n",
       "               -3.73731367e-02,  2.18436848e-02, -2.69705951e-02,  1.05354823e-02,\n",
       "               -7.28917345e-02, -1.42421037e-01,  3.59314419e-02, -5.35003562e-03,\n",
       "                1.03310488e-01,  2.51429044e-02, -3.46097387e-02,  1.80990100e-02,\n",
       "                5.88873141e-02, -4.23583165e-02, -7.62528852e-02,  5.27062491e-02,\n",
       "                1.68387603e-03, -1.73861161e-02,  2.61522848e-02, -7.46353567e-02,\n",
       "                1.89442281e-02, -5.43266162e-02, -3.62448432e-02, -5.48584908e-02,\n",
       "                2.24426631e-02,  1.09634567e-02, -1.91435106e-02, -6.72922982e-03,\n",
       "                1.86455697e-02,  1.24188373e-03, -1.86751224e-02,  1.41728353e-02,\n",
       "               -6.96180388e-02,  3.52838375e-02, -1.83208771e-02,  7.85401911e-02,\n",
       "               -4.21833917e-02, -7.20424503e-02, -5.09990938e-02,  1.41682819e-01,\n",
       "               -2.92612147e-02, -3.87875363e-02, -5.67563102e-02, -2.72284579e-02,\n",
       "                1.55001327e-01, -3.62940915e-02,  5.66696301e-02, -6.22753985e-03,\n",
       "               -7.19826808e-03,  1.24209458e-02, -1.18857369e-01,  5.88107097e-04,\n",
       "               -2.54104510e-02, -1.45808890e-01,  3.58145274e-02,  1.18939348e-01,\n",
       "               -3.79489437e-02,  5.26304282e-02, -1.15557507e-01, -2.09973175e-02,\n",
       "                2.14807298e-02,  2.29546241e-02, -8.51544067e-02,  5.65256141e-02,\n",
       "                1.05799101e-02, -1.19706290e-02, -8.07359256e-03,  1.12488605e-01,\n",
       "                2.24395990e-02,  1.34858238e-02, -8.88505429e-02,  4.01208848e-02,\n",
       "                7.35116005e-02,  5.92358001e-02, -1.23498484e-01, -5.89899383e-02,\n",
       "               -2.77728611e-03, -4.17027958e-02, -6.41479194e-02,  7.75287747e-02,\n",
       "                1.87898129e-02,  5.01153134e-02, -2.05750708e-02, -1.87250711e-02,\n",
       "                9.93998423e-02, -9.95400548e-02, -8.03583264e-02, -9.18481201e-02,\n",
       "               -8.01052302e-02,  5.01765087e-02,  2.61219963e-02, -5.37377335e-02,\n",
       "               -2.70241499e-02, -4.70134392e-02,  2.31465735e-02,  1.22566871e-01,\n",
       "                5.85630201e-02, -7.08983187e-03, -2.63012275e-02,  4.13243137e-02,\n",
       "                8.27619731e-02,  7.47698471e-02, -3.05821430e-02,  6.48897067e-02,\n",
       "                5.88917099e-02, -4.47688289e-02, -1.96363800e-03,  9.57735628e-03,\n",
       "                2.88092375e-01,  5.17372712e-02, -3.35691422e-02, -5.51097542e-02,\n",
       "               -8.12786222e-02, -9.25558805e-02, -6.03659898e-02,  1.81696117e-02,\n",
       "                2.86016688e-02,  4.28620651e-02,  2.75817830e-02,  1.55523241e-01,\n",
       "                2.38051280e-01,  4.69927154e-02,  2.08284166e-02, -6.15716353e-02,\n",
       "               -3.82885039e-02, -3.50608081e-02,  9.47881863e-02, -6.63897097e-02,\n",
       "                9.06752795e-02, -6.20794855e-02, -1.29737392e-01,  2.56661195e-02,\n",
       "               -5.90752400e-02, -5.72309457e-02,  3.66151445e-02,  3.96154262e-02,\n",
       "                2.47085514e-03, -6.26879707e-02, -1.12999612e-02,  5.22517040e-02],\n",
       "              dtype=float32)                                                       ,\n",
       "        array([-5.72105311e-02,  1.61252365e-01, -6.18431605e-02, -3.27388979e-02,\n",
       "                6.06355332e-02, -4.25988175e-02,  3.44816074e-02, -1.44305170e-01,\n",
       "               -3.34012508e-02,  2.24622011e+00, -2.21471876e-01,  2.24008337e-02,\n",
       "                4.93385866e-02, -8.41955617e-02, -1.31121576e-01, -4.26827371e-02,\n",
       "               -2.34864745e-02,  8.00927341e-01, -1.15024038e-01,  8.06409307e-03,\n",
       "               -1.66928805e-02,  9.31391679e-03, -1.88536122e-02, -1.98580921e-02,\n",
       "                2.97332797e-02, -1.04077421e-02, -7.45087862e-02, -8.97860806e-03,\n",
       "                1.44606724e-03, -4.59229685e-02, -1.62201412e-02,  5.03011793e-02,\n",
       "               -1.59916573e-03,  6.53350726e-02,  3.95307839e-02, -6.83446005e-02,\n",
       "               -1.60322245e-02, -5.91253266e-02, -5.36443442e-02, -6.27137274e-02,\n",
       "                5.83088771e-02,  3.45594324e-02,  6.23856895e-02, -7.99308494e-02,\n",
       "                2.13760827e-02,  1.27625102e-02, -7.89161175e-02, -5.40641882e-02,\n",
       "                2.54710820e-02, -2.92111170e-02, -9.94808823e-02,  5.24599031e-02,\n",
       "               -4.01990302e-02, -7.35905627e-03,  4.97945361e-02,  3.13923247e-02,\n",
       "               -1.05071468e-02, -4.86800373e-02,  1.95814017e-02, -4.97323833e-02,\n",
       "               -5.56297004e-02, -2.66829357e-02,  9.88710299e-03,  9.41159651e-02,\n",
       "                4.64123823e-02, -3.29521336e-02, -4.87937666e-02,  5.67641780e-02,\n",
       "                2.16344986e-02,  9.87914205e-02, -1.89923383e-02,  3.15588079e-02,\n",
       "                4.69436198e-02, -3.72650996e-02,  6.56488240e-02, -8.91488418e-03,\n",
       "                2.26153210e-02, -4.53106835e-02, -3.41284238e-02,  1.35908052e-01,\n",
       "               -3.02739106e-02,  5.54695502e-02, -1.49817035e-01, -1.61252934e-02,\n",
       "               -2.04351563e-02, -2.03471646e-01, -7.47526065e-02, -2.07654402e-01,\n",
       "                1.06619492e-01,  5.03210500e-02, -4.65034246e-02, -3.18762250e-02,\n",
       "               -5.80768697e-02, -8.95667821e-03,  9.04204547e-02, -9.85434800e-02,\n",
       "               -9.46172886e-03, -5.26582114e-02,  1.81917306e-02, -6.27547503e-02,\n",
       "               -1.21490229e-02,  1.07337572e-01, -2.55351700e-02, -6.98876977e-02,\n",
       "                5.72640076e-02, -7.00743079e-01,  3.13350521e-02,  9.59002320e-03,\n",
       "                2.43865196e-02,  3.65863480e-02, -1.33628920e-02, -3.06645520e-02,\n",
       "                4.09416370e-02, -2.11120285e-02,  4.96822502e-03, -3.21872383e-02,\n",
       "                6.11112313e-03,  2.86582508e-04,  2.07477808e-02, -3.97440232e-02,\n",
       "                7.24439276e-03,  6.70072287e-02,  2.09227540e-02, -2.75449771e-02,\n",
       "               -1.01877761e-03,  9.76291746e-02,  2.28990000e-02, -7.91001320e-02,\n",
       "                7.75373075e-03,  3.28004882e-02, -3.90699916e-02, -5.11432849e-02,\n",
       "               -4.39715832e-02, -7.56560192e-02,  3.08140498e-02,  1.21537689e-02,\n",
       "               -9.30925179e-03,  3.68551873e-02,  8.29971861e-03,  1.12810405e-03,\n",
       "               -9.36803579e-01, -7.90187716e-03,  8.07079151e-02, -1.44802583e-02,\n",
       "                1.08221490e-02,  1.56106073e-02, -2.35749800e-02,  2.36947220e-02,\n",
       "               -7.17781186e-02, -6.37146235e-02, -5.09527735e-02,  2.36963928e-02,\n",
       "                6.09266721e-02, -2.41517811e-03, -5.63632473e-02, -1.15914755e-02,\n",
       "               -8.43878090e-02, -1.18997553e-02, -4.13699038e-02, -3.86225544e-02,\n",
       "                1.06015531e-02, -2.15931479e-02, -5.76217994e-02, -1.90037005e-02,\n",
       "               -1.14687935e-01, -6.10594489e-02,  6.61209822e-02, -5.60999364e-02,\n",
       "                1.12988986e-01,  2.76610050e-02, -3.41442035e-04, -1.40527086e-02,\n",
       "                2.57879607e-02, -8.43742304e-03, -8.42816979e-02,  2.38689557e-02,\n",
       "                1.30651789e-02,  1.02252299e-02,  1.80574376e-02, -3.61334831e-02,\n",
       "               -4.01005596e-02, -4.30254489e-02, -6.97436556e-02, -7.59759843e-02,\n",
       "               -1.20090153e-02,  2.98994724e-02, -4.01247703e-02,  4.44013663e-02,\n",
       "                4.84559424e-02, -1.94604453e-02, -5.50726391e-02, -1.11283399e-02,\n",
       "               -4.46127579e-02,  2.91442163e-02,  2.77753249e-02,  1.32402807e-01,\n",
       "                1.01719229e-02, -5.76079562e-02, -3.32629755e-02,  8.22529867e-02,\n",
       "               -1.78051088e-02, -6.01880252e-03, -4.37510982e-02,  1.41205853e-02,\n",
       "                1.85181916e-01, -1.92073546e-02,  4.72183712e-02,  2.86476745e-04,\n",
       "                2.31728377e-03,  3.82824913e-02, -1.81387812e-02, -2.66705025e-02,\n",
       "               -2.65254155e-02, -8.88456702e-02,  6.20777048e-02,  8.15688744e-02,\n",
       "               -6.02824874e-02, -1.74657106e-02, -1.28934756e-01,  7.34824874e-03,\n",
       "               -3.24466228e-02,  5.29561471e-03, -8.73188674e-02,  3.79439108e-02,\n",
       "               -3.59401889e-02, -1.40272919e-02,  1.05059287e-02,  7.18155876e-02,\n",
       "                3.35825272e-02,  5.00051677e-02, -7.45336339e-02,  6.27577752e-02,\n",
       "                5.85907884e-02, -2.01105345e-02, -1.19276427e-01, -6.10185191e-02,\n",
       "               -3.16147879e-02, -2.91040055e-02, -8.45886488e-03,  8.93848687e-02,\n",
       "               -1.53806405e-02,  4.15181322e-03,  6.81783929e-02,  1.80364326e-02,\n",
       "                1.33283585e-01, -7.90098161e-02,  7.89831392e-03, -1.09040797e-01,\n",
       "               -1.55779481e-01, -3.14474329e-02,  3.57255265e-02,  4.25967760e-03,\n",
       "               -1.68025792e-02, -2.94450950e-02,  6.98298141e-02,  1.52245894e-01,\n",
       "                3.77317220e-02, -5.55424094e-02, -3.32217589e-02, -2.60064472e-02,\n",
       "                9.69926566e-02,  1.04028627e-01, -7.78719559e-02,  1.60025403e-01,\n",
       "               -6.51986711e-03, -1.13121845e-01, -2.10667681e-02, -2.09835507e-02,\n",
       "                2.33091176e-01, -4.25862707e-02,  9.30615067e-02, -2.68607941e-02,\n",
       "               -8.52380767e-02, -2.05608569e-02, -2.47445256e-02,  3.81655321e-02,\n",
       "                1.21668139e-02,  6.36728108e-02,  2.49899849e-02,  1.91602737e-01,\n",
       "                1.33398280e-01,  5.33471815e-02,  2.81096362e-02, -1.32652251e-02,\n",
       "               -6.08544722e-02, -3.68803628e-02,  1.81674622e-02, -1.14105269e-02,\n",
       "                6.00287430e-02,  2.71942820e-02, -6.87086135e-02,  3.55034955e-02,\n",
       "                4.18000929e-02, -2.49445718e-02,  2.10677497e-02, -6.63149878e-02,\n",
       "               -1.06531801e-02, -1.20579377e-02, -2.36629937e-02,  1.04682580e-01],\n",
       "              dtype=float32)                                                       ,\n",
       "        ...,\n",
       "        array([-4.49612401e-02,  1.28076077e-01,  2.83952133e-04,  1.31666847e-02,\n",
       "                5.24388626e-02, -3.31502743e-02, -4.38475460e-02, -6.61154911e-02,\n",
       "               -3.70812155e-02,  2.31835413e+00, -2.48139426e-01, -2.03090534e-02,\n",
       "                8.92805383e-02, -7.74085298e-02, -1.46214545e-01, -7.77848884e-02,\n",
       "               -5.53628802e-02,  9.34071362e-01, -1.32646352e-01, -1.99416354e-02,\n",
       "                4.62565087e-02,  6.73797354e-02,  4.64747427e-03, -3.28216180e-02,\n",
       "               -4.29304019e-02,  4.32677427e-03, -1.27882421e-01, -4.98024337e-02,\n",
       "               -2.44975388e-02,  2.82414793e-03,  1.43087320e-02,  3.36932018e-02,\n",
       "               -2.99074128e-02,  5.25544174e-02,  6.51221648e-02, -7.10776001e-02,\n",
       "               -1.13886166e-02,  2.01275274e-02, -5.15573323e-02, -2.78120711e-02,\n",
       "               -3.90018672e-02,  4.41632904e-02,  5.49627878e-02, -8.03320333e-02,\n",
       "                2.22491380e-02,  1.06323613e-02, -6.26705140e-02, -3.76688801e-02,\n",
       "               -2.45110616e-02, -1.43445954e-02, -3.44015881e-02,  6.38746321e-02,\n",
       "               -8.33294690e-02,  4.36575636e-02, -1.77855641e-02,  2.88120266e-02,\n",
       "               -5.09797297e-02, -2.69236732e-02,  2.51656380e-02, -9.02240574e-02,\n",
       "               -5.24536781e-02,  3.94866988e-02, -7.98888784e-03,  1.33675352e-01,\n",
       "                1.07557587e-01, -1.03144078e-02, -4.73182015e-02,  1.00430444e-01,\n",
       "                1.16272382e-02,  5.48465475e-02,  4.38484475e-02,  3.57868969e-02,\n",
       "                7.35143796e-02, -1.13631096e-02,  6.47429749e-02, -2.99235880e-02,\n",
       "                2.14900468e-02, -5.60228713e-02,  4.67302743e-03,  1.07106522e-01,\n",
       "               -9.99322347e-03,  4.03747819e-02, -1.39130056e-01,  6.01127138e-03,\n",
       "               -1.58399697e-02, -1.45592138e-01, -7.90188313e-02, -1.06531255e-01,\n",
       "                2.22311631e-01,  5.18487282e-02, -2.81674415e-02, -4.34248298e-02,\n",
       "               -5.66872861e-03, -2.86987908e-02,  7.53071308e-02, -7.07676485e-02,\n",
       "               -3.33432853e-02, -7.42021501e-02,  5.14547713e-02, -3.94100919e-02,\n",
       "                3.27905342e-02,  6.26649112e-02, -8.00704062e-02,  2.71336059e-04,\n",
       "                3.93856131e-02, -8.27027977e-01,  5.64722084e-02,  1.15320124e-02,\n",
       "               -1.70714520e-02,  1.39645766e-02, -1.94786396e-02, -4.64801863e-02,\n",
       "                5.16212895e-04, -4.58642514e-03,  3.76429483e-02, -9.08579677e-03,\n",
       "                6.31456301e-02, -6.02689236e-02, -5.96868154e-03, -2.00684555e-02,\n",
       "                4.28116508e-02,  7.66347647e-02, -3.78310792e-02, -1.70274526e-02,\n",
       "               -6.01545833e-02,  6.92137554e-02,  3.52370627e-02,  3.21493205e-03,\n",
       "               -1.04221911e-03,  3.82113755e-02, -2.87611615e-02, -4.25443016e-02,\n",
       "               -3.42194885e-02, -2.39818078e-02,  4.30426531e-04,  1.44997593e-02,\n",
       "                2.94206827e-03,  2.34164693e-03,  2.94137374e-02, -5.99894300e-02,\n",
       "               -7.99433947e-01, -9.94264148e-03,  8.85352716e-02, -5.83200306e-02,\n",
       "                5.67992330e-02, -3.93115962e-03,  3.27885300e-02,  3.60411406e-02,\n",
       "               -6.86325878e-02, -3.12374271e-02, -5.38988784e-02,  1.60025414e-02,\n",
       "                4.77811545e-02,  1.91764664e-02, -6.79637119e-03, -1.67019237e-02,\n",
       "               -3.58141065e-02,  2.38914862e-02, -8.03695843e-02,  4.57115732e-02,\n",
       "                1.71381626e-02,  4.69357036e-02, -1.11547314e-01, -1.00217387e-02,\n",
       "               -1.25040650e-01, -9.79607478e-02,  7.19785467e-02, -7.62775093e-02,\n",
       "                1.83413893e-01,  1.52420662e-02,  1.14011783e-02,  2.97350157e-02,\n",
       "                2.74754446e-02,  6.59954827e-03, -4.98508066e-02,  8.38601496e-03,\n",
       "               -7.24221626e-03,  3.30608003e-02,  5.07100560e-02,  3.99782434e-02,\n",
       "               -3.04465815e-02, -3.35085504e-02, -6.24594465e-02, -7.01514184e-02,\n",
       "               -1.23878457e-02,  1.32818669e-02,  2.40484010e-02, -4.32901122e-02,\n",
       "               -2.53882296e-02,  2.88153216e-02,  3.56834717e-02, -1.17267147e-02,\n",
       "               -5.71744740e-02,  2.18069600e-03,  1.42164910e-02,  1.14589341e-01,\n",
       "               -6.79567317e-03, -4.50571217e-02, -3.00351642e-02,  1.20011687e-01,\n",
       "                7.15996474e-02,  3.27380523e-02,  2.34406930e-03, -6.87604444e-03,\n",
       "                2.42348343e-01, -3.14081125e-02,  3.80811468e-02,  9.88413114e-03,\n",
       "                4.21312079e-02,  1.18968505e-02, -2.79773306e-02, -4.49803285e-02,\n",
       "               -1.16475427e-03, -3.95944081e-02,  8.56489092e-02,  1.33202791e-01,\n",
       "               -1.39207512e-01,  6.18899101e-03, -1.50678843e-01,  5.96221127e-02,\n",
       "               -2.51529869e-02, -2.90374295e-03, -8.50536600e-02,  2.13941429e-02,\n",
       "               -2.06046943e-02,  2.77827680e-02, -3.16885561e-02,  8.58376846e-02,\n",
       "                1.99707150e-02,  6.93517104e-02, -5.12367077e-02,  6.31765127e-02,\n",
       "                6.28528297e-02,  3.74032967e-02, -1.09470405e-01, -9.07430202e-02,\n",
       "               -2.82790903e-02, -6.17339611e-02,  3.72534133e-02,  8.15969482e-02,\n",
       "                6.15416132e-02, -3.64000723e-02,  7.83620551e-02,  1.88175123e-02,\n",
       "                6.48307875e-02, -1.35799631e-01, -5.58476187e-02, -8.94086584e-02,\n",
       "               -1.12454847e-01, -4.03145663e-02, -9.77298617e-03,  2.46512014e-02,\n",
       "                1.35751627e-03, -6.21484220e-02,  5.55674173e-02,  2.21526712e-01,\n",
       "               -5.83035825e-03, -4.35060002e-02, -8.08951855e-02, -1.45757906e-02,\n",
       "                6.95719868e-02,  1.16689757e-01, -4.74223197e-02,  1.10576414e-01,\n",
       "                1.32286234e-03, -1.98994547e-01, -1.03184888e-02, -2.98047252e-02,\n",
       "                2.82039881e-01, -2.34538764e-02,  1.32791087e-01, -1.08342264e-02,\n",
       "               -3.45849618e-02, -7.45793208e-02,  8.51200148e-03,  1.73872858e-02,\n",
       "                2.14704871e-02,  1.11463495e-01,  3.37965190e-02,  1.19860329e-01,\n",
       "                1.49072140e-01, -2.13961676e-02,  2.69170478e-02,  7.93830305e-02,\n",
       "               -7.15528950e-02, -1.94113404e-02,  5.65108992e-02, -2.38871649e-02,\n",
       "                6.00074530e-02,  2.73838197e-03, -1.30605489e-01,  6.01287857e-02,\n",
       "                8.82452577e-02, -2.11328343e-02, -2.33411901e-02, -2.20984053e-02,\n",
       "                8.61499738e-03, -3.63787338e-02, -1.62138790e-02,  9.37868133e-02],\n",
       "              dtype=float32)                                                       ,\n",
       "        array([-7.81319961e-02,  1.13241926e-01, -2.76418235e-02, -2.04376206e-02,\n",
       "                8.11982006e-02, -5.21798395e-02, -1.64425038e-02, -4.88262363e-02,\n",
       "               -1.86811946e-02,  2.11925077e+00, -2.26236299e-01, -5.67806810e-02,\n",
       "                5.38744554e-02, -7.04891980e-02, -1.05482988e-01, -7.50907212e-02,\n",
       "               -1.01478197e-01,  8.52805853e-01, -1.64433092e-01,  1.98527123e-03,\n",
       "                4.20374535e-02, -3.10596731e-02, -1.07066203e-02, -6.05831593e-02,\n",
       "                4.88511063e-02,  1.17766811e-02, -8.21564421e-02,  1.76050980e-02,\n",
       "               -1.43229775e-02,  7.71864923e-03, -1.69884395e-02,  4.85713519e-02,\n",
       "                2.24116463e-02,  6.79860711e-02,  1.11716330e-01, -5.73717393e-02,\n",
       "               -1.77958347e-02, -1.93030648e-02, -5.62041961e-02, -5.15959375e-02,\n",
       "                3.36355530e-02,  8.29381272e-02,  2.17441414e-02, -8.32783878e-02,\n",
       "                3.62469442e-02,  3.00685205e-02, -7.18467161e-02, -2.38405932e-02,\n",
       "               -2.48084962e-02,  2.70943753e-02, -2.37656087e-02,  4.65500280e-02,\n",
       "               -4.80386838e-02, -4.09761220e-02, -1.33100827e-03,  3.15700024e-02,\n",
       "               -2.15936955e-02, -3.03029940e-02,  3.28020938e-02, -7.98541084e-02,\n",
       "               -4.93428148e-02,  3.22663113e-02, -3.92759070e-02,  9.49906036e-02,\n",
       "                7.52883554e-02, -2.94338036e-02, -3.50996964e-02,  9.95163545e-02,\n",
       "               -7.52757164e-03,  5.46249337e-02, -2.38913782e-02,  5.16089499e-02,\n",
       "                1.08560875e-01,  2.90906280e-02,  2.53920984e-02, -2.89884005e-02,\n",
       "               -1.08532254e-02, -7.17577338e-02, -2.07265206e-02,  1.74275562e-01,\n",
       "               -4.66801338e-02,  4.71055731e-02, -1.01325057e-01,  4.53918092e-02,\n",
       "                1.89491808e-02, -1.82163045e-01, -2.73515340e-02, -1.27008259e-01,\n",
       "                1.62710875e-01, -5.09190373e-02, -6.44343421e-02,  2.16372199e-02,\n",
       "               -4.72238101e-02,  1.27915516e-02,  1.13194108e-01, -3.75427753e-02,\n",
       "               -3.62012046e-03, -7.97536224e-02, -1.85806714e-02, -4.20719162e-02,\n",
       "                1.68292150e-02,  9.77095813e-02, -3.53348926e-02, -1.29555743e-02,\n",
       "                4.96480167e-02, -8.21607232e-01,  8.49487484e-02, -1.06339098e-03,\n",
       "                2.40045507e-03, -2.22796574e-02,  1.75896529e-02, -4.22499292e-02,\n",
       "                1.04850661e-02, -9.39100236e-02, -1.56755722e-03,  5.72032575e-03,\n",
       "                5.01942560e-02,  6.72551570e-04, -1.76924537e-03, -2.26971470e-02,\n",
       "                1.85808968e-02,  5.70186563e-02, -1.16974888e-02,  4.16287966e-02,\n",
       "               -6.95537701e-02,  9.83473584e-02,  1.69589836e-02, -7.26212338e-02,\n",
       "                5.81356836e-03, -5.08446358e-02, -7.09370598e-02, -2.74854153e-02,\n",
       "               -4.51461039e-02, -3.64282839e-02,  3.35350074e-02,  1.02600353e-02,\n",
       "               -1.83068439e-02,  2.62107737e-02, -1.20885912e-02, -5.27763963e-02,\n",
       "               -1.01087737e+00,  3.17121558e-02,  8.24909061e-02,  1.32142957e-02,\n",
       "                3.34166884e-02, -7.30041740e-03,  1.15895309e-02,  3.87244448e-02,\n",
       "               -1.37804160e-02, -1.40354820e-02, -4.13245372e-02, -2.85335816e-02,\n",
       "                4.79387790e-02, -1.13887712e-02, -1.31915398e-02,  2.79122312e-02,\n",
       "               -7.44804069e-02,  5.05424924e-02, -4.85162511e-02, -2.90444470e-03,\n",
       "                6.19483329e-02,  4.37869243e-02, -7.35926703e-02,  3.08762621e-02,\n",
       "               -9.14890915e-02, -1.48815483e-01,  6.02949858e-02, -8.77384543e-02,\n",
       "                1.53523326e-01, -5.44306124e-03, -5.55271320e-02,  1.63409598e-02,\n",
       "                6.65124059e-02,  5.59887674e-04, -2.37767808e-02,  1.87179670e-02,\n",
       "               -1.45130605e-02,  3.94759886e-02,  2.71482877e-02, -2.82003842e-02,\n",
       "                1.05339698e-02, -1.70993712e-02, -7.10967332e-02, -1.05089337e-01,\n",
       "               -3.82785276e-02,  5.68160899e-02, -9.14247800e-03, -6.85556978e-02,\n",
       "               -3.96025591e-02,  8.65591317e-03, -3.58148739e-02, -4.51388545e-02,\n",
       "               -5.28957210e-02,  4.33113687e-02,  1.39230415e-02,  1.09841123e-01,\n",
       "                7.56801339e-03, -4.52052839e-02, -1.01666932e-03,  1.14245623e-01,\n",
       "                1.52709670e-02, -1.35967257e-02, -6.17659613e-02, -4.49032634e-02,\n",
       "                1.92201883e-01, -6.40633982e-03,  7.81149790e-02,  2.03781705e-02,\n",
       "                1.32462252e-02, -2.67680641e-02, -1.38049155e-01, -1.82529911e-02,\n",
       "               -1.66517459e-02, -9.24138948e-02,  5.45731522e-02,  1.44768253e-01,\n",
       "               -9.55436155e-02, -1.20989410e-02, -1.57101706e-01,  1.31835500e-02,\n",
       "               -2.36812234e-02,  2.73899231e-02, -3.82169858e-02,  2.99067013e-02,\n",
       "               -3.00544836e-02,  5.08564478e-03,  1.73812062e-02,  1.22818023e-01,\n",
       "                3.00465506e-02,  1.11074142e-01, -1.12630814e-01,  4.65010852e-02,\n",
       "                2.26353314e-02,  9.30637401e-03, -1.20632783e-01, -9.33157727e-02,\n",
       "               -1.52519178e-02, -5.08756302e-02, -4.23722900e-02,  4.74922061e-02,\n",
       "                7.58203864e-02,  1.35317678e-02,  3.96665558e-02,  3.62378284e-02,\n",
       "                1.03196763e-01, -1.48450807e-01, -4.69938852e-02, -6.12698011e-02,\n",
       "               -7.69557655e-02, -1.92824584e-02,  7.87586942e-02,  7.91759510e-03,\n",
       "               -2.01877318e-02, -4.42369133e-02,  7.42328614e-02,  1.75062001e-01,\n",
       "                2.69590635e-02, -2.77532153e-02, -7.91342854e-02, -5.67096286e-03,\n",
       "                1.08971648e-01,  1.46458074e-01, -6.63685277e-02,  1.23293579e-01,\n",
       "                8.35555047e-02, -1.10665157e-01, -3.01857144e-02, -1.44945793e-02,\n",
       "                2.34373838e-01,  2.72810142e-02,  6.97190613e-02,  8.39827862e-03,\n",
       "               -4.95288596e-02, -4.03588153e-02, -2.29973090e-03, -6.95693586e-03,\n",
       "                3.92185338e-02,  8.33260641e-02,  3.96265537e-02,  8.84957910e-02,\n",
       "                1.61481574e-01,  4.92118299e-02,  3.62016377e-03,  2.46684514e-02,\n",
       "               -3.56090143e-02, -1.29026817e-02,  5.25380336e-02, -3.19916755e-02,\n",
       "                7.70965666e-02, -5.15924059e-02, -1.44939065e-01,  3.44686992e-02,\n",
       "                9.52255912e-03, -6.52886704e-02,  4.75711077e-02,  6.85196929e-03,\n",
       "                1.31783576e-03, -5.22241518e-02, -1.66592468e-02,  9.50866342e-02],\n",
       "              dtype=float32)                                                       ,\n",
       "        array([-8.76764134e-02,  1.84259713e-01, -1.08493879e-01,  6.70478388e-04,\n",
       "                4.15603928e-02,  4.44697030e-03,  1.53404428e-03, -1.32042110e-01,\n",
       "                1.52057512e-02,  2.09171224e+00, -1.46880582e-01, -2.36406438e-02,\n",
       "                9.30228457e-03, -4.96062934e-02, -1.75308645e-01, -2.04962771e-02,\n",
       "               -5.00836894e-02,  7.09208310e-01, -1.39434054e-01, -5.07270778e-03,\n",
       "                2.04253662e-02,  1.95919443e-02, -3.08654085e-02, -7.44154975e-02,\n",
       "                6.05853684e-02, -4.20783693e-03, -1.00676417e-01, -1.72458608e-02,\n",
       "               -1.72630791e-02, -7.81500563e-02, -5.59635051e-02,  6.58554062e-02,\n",
       "               -1.97801702e-02,  3.02002486e-02,  6.95969686e-02, -6.27416819e-02,\n",
       "               -5.98347522e-02,  4.44416925e-02, -7.97758847e-02, -5.31556159e-02,\n",
       "               -9.22265369e-03,  2.60657668e-02,  1.28330616e-02, -6.24691285e-02,\n",
       "               -2.36957278e-02,  7.19153881e-02, -9.43749398e-02, -3.55670638e-02,\n",
       "                1.24024665e-02,  2.70216563e-03, -6.51170015e-02,  2.93600969e-02,\n",
       "               -1.94393434e-02, -3.66304931e-03, -1.11760804e-02,  1.71775632e-02,\n",
       "               -4.80563790e-02, -1.25611518e-02,  4.13622633e-02, -1.03805102e-01,\n",
       "               -7.39006400e-02,  4.57950355e-03, -5.32604344e-02,  1.19513646e-01,\n",
       "                9.15879160e-02, -4.03299034e-02, -6.10022545e-02,  5.58517724e-02,\n",
       "                3.66807058e-02,  3.41752991e-02,  1.13097550e-02,  6.58750013e-02,\n",
       "                1.53732613e-01, -4.04484011e-02, -1.10250600e-02, -5.91769665e-02,\n",
       "                6.92410767e-02, -6.76517412e-02, -1.33564686e-02,  1.68649599e-01,\n",
       "               -4.59994338e-02,  5.29737659e-02, -7.00048730e-02,  1.46317044e-02,\n",
       "                2.94207614e-02, -1.17931522e-01,  1.56459928e-01, -2.27703437e-01,\n",
       "                1.92519218e-01, -1.77556947e-02, -7.16786459e-02,  2.15107910e-02,\n",
       "               -5.99454194e-02, -1.05463807e-02,  1.42777249e-01, -7.09519833e-02,\n",
       "               -1.74541213e-02, -3.23163904e-02, -9.64534096e-03, -4.77294549e-02,\n",
       "                1.78585984e-02,  5.75711019e-02, -4.94134240e-02, -6.33344576e-02,\n",
       "                3.15070227e-02, -6.84963167e-01,  1.00918792e-01,  2.42210422e-02,\n",
       "               -2.68443115e-02,  6.88647851e-03,  5.49512655e-02, -4.41108458e-02,\n",
       "                7.23621249e-02, -4.84840386e-02,  3.81103121e-02,  1.19722346e-02,\n",
       "                7.48148710e-02, -3.23982909e-02,  4.65560667e-02, -2.73526534e-02,\n",
       "                5.95358051e-02,  6.43099248e-02, -6.63055526e-03,  3.86464447e-02,\n",
       "               -5.78305572e-02,  2.97494344e-02, -5.77840470e-02, -6.46845102e-02,\n",
       "               -2.59375870e-02, -4.05536853e-02, -5.54410964e-02, -1.24048013e-02,\n",
       "               -3.65330316e-02, -4.96699549e-02,  3.06820218e-02,  1.11520020e-02,\n",
       "               -7.97036570e-03,  1.33865755e-02, -1.37815401e-02, -9.05392542e-02,\n",
       "               -1.14986169e+00,  3.68025564e-02,  1.32868275e-01,  2.21985746e-02,\n",
       "               -1.00980420e-02, -2.74850074e-02, -8.97982623e-03,  2.85535702e-03,\n",
       "                1.73220981e-03, -4.22955491e-02,  4.29267250e-02, -2.68195700e-02,\n",
       "                7.62875527e-02,  4.06272449e-02, -2.05716956e-02, -3.09412256e-02,\n",
       "               -6.91431686e-02,  1.52594158e-02, -1.01689743e-02, -5.60472207e-03,\n",
       "               -1.32992454e-02,  1.78996995e-02, -2.03568209e-02, -1.91131700e-02,\n",
       "               -8.52624625e-02, -1.16434522e-01,  1.03572384e-02, -3.64045389e-02,\n",
       "                1.31122530e-01, -5.79276169e-03, -5.90526015e-02,  1.03823198e-02,\n",
       "                3.01407315e-02, -2.25907899e-02, -4.34768759e-02,  2.75601819e-02,\n",
       "                6.76693693e-02, -3.45651922e-03, -2.02494347e-03,  1.02184461e-02,\n",
       "               -5.79796825e-03, -5.54921217e-02, -2.12571044e-02, -5.61911203e-02,\n",
       "                7.91426562e-03,  6.09876886e-02,  5.50044188e-03,  3.04853562e-02,\n",
       "                5.07853692e-03,  2.26459820e-02, -8.60286783e-03, -7.77455571e-04,\n",
       "               -8.70338455e-02,  4.83623259e-02,  3.75997871e-02,  1.14717625e-01,\n",
       "               -1.47844320e-02, -4.10853550e-02,  1.13357510e-02,  1.26322225e-01,\n",
       "               -1.69196688e-02, -9.51632038e-02, -6.19195402e-02, -2.44109780e-02,\n",
       "                1.42988384e-01, -3.26492041e-02,  1.43973464e-02, -1.04120346e-02,\n",
       "                6.30273763e-03,  1.06178047e-02, -7.25314617e-02,  1.46326357e-02,\n",
       "               -8.93636886e-03, -9.15206689e-03,  1.14045247e-01,  1.38908088e-01,\n",
       "               -3.78216356e-02,  1.93019826e-02, -1.35918707e-01,  2.13199165e-02,\n",
       "               -1.78944319e-02,  5.79811707e-02, -1.04830287e-01,  4.89887260e-02,\n",
       "               -3.15350890e-02, -1.29002128e-02, -4.48941626e-02,  1.00581452e-01,\n",
       "                3.84875610e-02,  7.60623738e-02, -6.72850460e-02,  1.36674773e-02,\n",
       "                9.21592638e-02,  2.34634411e-02, -1.19130284e-01, -1.17976829e-01,\n",
       "                2.23831534e-02, -2.85074301e-02, -4.44544293e-02,  8.04365724e-02,\n",
       "                3.79658416e-02,  2.17568455e-03,  8.74248520e-03,  4.00158688e-02,\n",
       "                1.08923554e-01, -1.02966331e-01,  4.70878882e-03, -7.14257807e-02,\n",
       "               -1.28045782e-01,  4.28445563e-02,  5.24778552e-02, -3.58027741e-02,\n",
       "               -4.36079353e-02, -5.46221510e-02,  5.97014800e-02,  9.44208279e-02,\n",
       "                2.36530905e-03, -7.72164091e-02, -3.38365920e-02,  3.31153423e-02,\n",
       "                7.45122507e-02,  1.80536941e-01, -8.32212623e-03,  5.99798150e-02,\n",
       "                1.13951989e-01, -4.97979783e-02, -2.86619700e-02, -1.13510424e-02,\n",
       "                2.05957860e-01, -1.79772377e-02,  5.47354296e-02,  6.68864325e-03,\n",
       "               -1.62959062e-02, -3.54999080e-02,  5.32470969e-03,  5.80822490e-03,\n",
       "                3.86509974e-03,  3.36401351e-02,  2.12921984e-02,  1.29468843e-01,\n",
       "                1.55889660e-01,  2.66168006e-02, -1.97998229e-02,  6.15357757e-02,\n",
       "               -7.78163597e-02, -1.83590315e-02,  4.68075089e-02, -4.15967442e-02,\n",
       "                5.39664179e-02,  1.12060679e-03, -9.20899138e-02,  1.91360041e-02,\n",
       "               -9.91240051e-03, -3.24684866e-02,  7.92271048e-02, -1.73660442e-02,\n",
       "               -4.34720814e-02, -6.09454587e-02,  1.45492870e-02,  4.77006286e-02],\n",
       "              dtype=float32)                                                       ],\n",
       "       dtype=object),\n",
       " (7920,))"
      ]
     },
     "execution_count": 227,
     "metadata": {},
     "output_type": "execute_result"
    }
   ],
   "source": [
    "X_train, X_train.shape"
   ]
  },
  {
   "cell_type": "code",
   "execution_count": 228,
   "metadata": {},
   "outputs": [],
   "source": [
    "#X_train , X_test is an array of which all elements are also arrays which is hard to work with for training and testing, Thus changing it to 2d array \n",
    "\n",
    "import numpy as np\n",
    "\n",
    "X_train_2d = np.stack(X_train)\n",
    "X_test_2d = np.stack(X_test)\n",
    "\n"
   ]
  },
  {
   "cell_type": "code",
   "execution_count": 231,
   "metadata": {},
   "outputs": [
    {
     "data": {
      "text/plain": [
       "(array([[-0.10565994,  0.19126739, -0.10136613, ..., -0.071174  ,\n",
       "          0.00481809,  0.06343031],\n",
       "        [-0.0646969 ,  0.13155003, -0.1018946 , ..., -0.06268797,\n",
       "         -0.01129996,  0.0522517 ],\n",
       "        [-0.05721053,  0.16125236, -0.06184316, ..., -0.01205794,\n",
       "         -0.02366299,  0.10468258],\n",
       "        ...,\n",
       "        [-0.04496124,  0.12807608,  0.00028395, ..., -0.03637873,\n",
       "         -0.01621388,  0.09378681],\n",
       "        [-0.078132  ,  0.11324193, -0.02764182, ..., -0.05222415,\n",
       "         -0.01665925,  0.09508663],\n",
       "        [-0.08767641,  0.18425971, -0.10849388, ..., -0.06094546,\n",
       "          0.01454929,  0.04770063]], dtype=float32),\n",
       " (7920, 300))"
      ]
     },
     "execution_count": 231,
     "metadata": {},
     "output_type": "execute_result"
    }
   ],
   "source": [
    "X_train_2d , X_train_2d.shape"
   ]
  },
  {
   "cell_type": "code",
   "execution_count": 232,
   "metadata": {},
   "outputs": [
    {
     "data": {
      "text/html": [
       "<style>#sk-container-id-3 {\n",
       "  /* Definition of color scheme common for light and dark mode */\n",
       "  --sklearn-color-text: black;\n",
       "  --sklearn-color-line: gray;\n",
       "  /* Definition of color scheme for unfitted estimators */\n",
       "  --sklearn-color-unfitted-level-0: #fff5e6;\n",
       "  --sklearn-color-unfitted-level-1: #f6e4d2;\n",
       "  --sklearn-color-unfitted-level-2: #ffe0b3;\n",
       "  --sklearn-color-unfitted-level-3: chocolate;\n",
       "  /* Definition of color scheme for fitted estimators */\n",
       "  --sklearn-color-fitted-level-0: #f0f8ff;\n",
       "  --sklearn-color-fitted-level-1: #d4ebff;\n",
       "  --sklearn-color-fitted-level-2: #b3dbfd;\n",
       "  --sklearn-color-fitted-level-3: cornflowerblue;\n",
       "\n",
       "  /* Specific color for light theme */\n",
       "  --sklearn-color-text-on-default-background: var(--sg-text-color, var(--theme-code-foreground, var(--jp-content-font-color1, black)));\n",
       "  --sklearn-color-background: var(--sg-background-color, var(--theme-background, var(--jp-layout-color0, white)));\n",
       "  --sklearn-color-border-box: var(--sg-text-color, var(--theme-code-foreground, var(--jp-content-font-color1, black)));\n",
       "  --sklearn-color-icon: #696969;\n",
       "\n",
       "  @media (prefers-color-scheme: dark) {\n",
       "    /* Redefinition of color scheme for dark theme */\n",
       "    --sklearn-color-text-on-default-background: var(--sg-text-color, var(--theme-code-foreground, var(--jp-content-font-color1, white)));\n",
       "    --sklearn-color-background: var(--sg-background-color, var(--theme-background, var(--jp-layout-color0, #111)));\n",
       "    --sklearn-color-border-box: var(--sg-text-color, var(--theme-code-foreground, var(--jp-content-font-color1, white)));\n",
       "    --sklearn-color-icon: #878787;\n",
       "  }\n",
       "}\n",
       "\n",
       "#sk-container-id-3 {\n",
       "  color: var(--sklearn-color-text);\n",
       "}\n",
       "\n",
       "#sk-container-id-3 pre {\n",
       "  padding: 0;\n",
       "}\n",
       "\n",
       "#sk-container-id-3 input.sk-hidden--visually {\n",
       "  border: 0;\n",
       "  clip: rect(1px 1px 1px 1px);\n",
       "  clip: rect(1px, 1px, 1px, 1px);\n",
       "  height: 1px;\n",
       "  margin: -1px;\n",
       "  overflow: hidden;\n",
       "  padding: 0;\n",
       "  position: absolute;\n",
       "  width: 1px;\n",
       "}\n",
       "\n",
       "#sk-container-id-3 div.sk-dashed-wrapped {\n",
       "  border: 1px dashed var(--sklearn-color-line);\n",
       "  margin: 0 0.4em 0.5em 0.4em;\n",
       "  box-sizing: border-box;\n",
       "  padding-bottom: 0.4em;\n",
       "  background-color: var(--sklearn-color-background);\n",
       "}\n",
       "\n",
       "#sk-container-id-3 div.sk-container {\n",
       "  /* jupyter's `normalize.less` sets `[hidden] { display: none; }`\n",
       "     but bootstrap.min.css set `[hidden] { display: none !important; }`\n",
       "     so we also need the `!important` here to be able to override the\n",
       "     default hidden behavior on the sphinx rendered scikit-learn.org.\n",
       "     See: https://github.com/scikit-learn/scikit-learn/issues/21755 */\n",
       "  display: inline-block !important;\n",
       "  position: relative;\n",
       "}\n",
       "\n",
       "#sk-container-id-3 div.sk-text-repr-fallback {\n",
       "  display: none;\n",
       "}\n",
       "\n",
       "div.sk-parallel-item,\n",
       "div.sk-serial,\n",
       "div.sk-item {\n",
       "  /* draw centered vertical line to link estimators */\n",
       "  background-image: linear-gradient(var(--sklearn-color-text-on-default-background), var(--sklearn-color-text-on-default-background));\n",
       "  background-size: 2px 100%;\n",
       "  background-repeat: no-repeat;\n",
       "  background-position: center center;\n",
       "}\n",
       "\n",
       "/* Parallel-specific style estimator block */\n",
       "\n",
       "#sk-container-id-3 div.sk-parallel-item::after {\n",
       "  content: \"\";\n",
       "  width: 100%;\n",
       "  border-bottom: 2px solid var(--sklearn-color-text-on-default-background);\n",
       "  flex-grow: 1;\n",
       "}\n",
       "\n",
       "#sk-container-id-3 div.sk-parallel {\n",
       "  display: flex;\n",
       "  align-items: stretch;\n",
       "  justify-content: center;\n",
       "  background-color: var(--sklearn-color-background);\n",
       "  position: relative;\n",
       "}\n",
       "\n",
       "#sk-container-id-3 div.sk-parallel-item {\n",
       "  display: flex;\n",
       "  flex-direction: column;\n",
       "}\n",
       "\n",
       "#sk-container-id-3 div.sk-parallel-item:first-child::after {\n",
       "  align-self: flex-end;\n",
       "  width: 50%;\n",
       "}\n",
       "\n",
       "#sk-container-id-3 div.sk-parallel-item:last-child::after {\n",
       "  align-self: flex-start;\n",
       "  width: 50%;\n",
       "}\n",
       "\n",
       "#sk-container-id-3 div.sk-parallel-item:only-child::after {\n",
       "  width: 0;\n",
       "}\n",
       "\n",
       "/* Serial-specific style estimator block */\n",
       "\n",
       "#sk-container-id-3 div.sk-serial {\n",
       "  display: flex;\n",
       "  flex-direction: column;\n",
       "  align-items: center;\n",
       "  background-color: var(--sklearn-color-background);\n",
       "  padding-right: 1em;\n",
       "  padding-left: 1em;\n",
       "}\n",
       "\n",
       "\n",
       "/* Toggleable style: style used for estimator/Pipeline/ColumnTransformer box that is\n",
       "clickable and can be expanded/collapsed.\n",
       "- Pipeline and ColumnTransformer use this feature and define the default style\n",
       "- Estimators will overwrite some part of the style using the `sk-estimator` class\n",
       "*/\n",
       "\n",
       "/* Pipeline and ColumnTransformer style (default) */\n",
       "\n",
       "#sk-container-id-3 div.sk-toggleable {\n",
       "  /* Default theme specific background. It is overwritten whether we have a\n",
       "  specific estimator or a Pipeline/ColumnTransformer */\n",
       "  background-color: var(--sklearn-color-background);\n",
       "}\n",
       "\n",
       "/* Toggleable label */\n",
       "#sk-container-id-3 label.sk-toggleable__label {\n",
       "  cursor: pointer;\n",
       "  display: block;\n",
       "  width: 100%;\n",
       "  margin-bottom: 0;\n",
       "  padding: 0.5em;\n",
       "  box-sizing: border-box;\n",
       "  text-align: center;\n",
       "}\n",
       "\n",
       "#sk-container-id-3 label.sk-toggleable__label-arrow:before {\n",
       "  /* Arrow on the left of the label */\n",
       "  content: \"▸\";\n",
       "  float: left;\n",
       "  margin-right: 0.25em;\n",
       "  color: var(--sklearn-color-icon);\n",
       "}\n",
       "\n",
       "#sk-container-id-3 label.sk-toggleable__label-arrow:hover:before {\n",
       "  color: var(--sklearn-color-text);\n",
       "}\n",
       "\n",
       "/* Toggleable content - dropdown */\n",
       "\n",
       "#sk-container-id-3 div.sk-toggleable__content {\n",
       "  max-height: 0;\n",
       "  max-width: 0;\n",
       "  overflow: hidden;\n",
       "  text-align: left;\n",
       "  /* unfitted */\n",
       "  background-color: var(--sklearn-color-unfitted-level-0);\n",
       "}\n",
       "\n",
       "#sk-container-id-3 div.sk-toggleable__content.fitted {\n",
       "  /* fitted */\n",
       "  background-color: var(--sklearn-color-fitted-level-0);\n",
       "}\n",
       "\n",
       "#sk-container-id-3 div.sk-toggleable__content pre {\n",
       "  margin: 0.2em;\n",
       "  border-radius: 0.25em;\n",
       "  color: var(--sklearn-color-text);\n",
       "  /* unfitted */\n",
       "  background-color: var(--sklearn-color-unfitted-level-0);\n",
       "}\n",
       "\n",
       "#sk-container-id-3 div.sk-toggleable__content.fitted pre {\n",
       "  /* unfitted */\n",
       "  background-color: var(--sklearn-color-fitted-level-0);\n",
       "}\n",
       "\n",
       "#sk-container-id-3 input.sk-toggleable__control:checked~div.sk-toggleable__content {\n",
       "  /* Expand drop-down */\n",
       "  max-height: 200px;\n",
       "  max-width: 100%;\n",
       "  overflow: auto;\n",
       "}\n",
       "\n",
       "#sk-container-id-3 input.sk-toggleable__control:checked~label.sk-toggleable__label-arrow:before {\n",
       "  content: \"▾\";\n",
       "}\n",
       "\n",
       "/* Pipeline/ColumnTransformer-specific style */\n",
       "\n",
       "#sk-container-id-3 div.sk-label input.sk-toggleable__control:checked~label.sk-toggleable__label {\n",
       "  color: var(--sklearn-color-text);\n",
       "  background-color: var(--sklearn-color-unfitted-level-2);\n",
       "}\n",
       "\n",
       "#sk-container-id-3 div.sk-label.fitted input.sk-toggleable__control:checked~label.sk-toggleable__label {\n",
       "  background-color: var(--sklearn-color-fitted-level-2);\n",
       "}\n",
       "\n",
       "/* Estimator-specific style */\n",
       "\n",
       "/* Colorize estimator box */\n",
       "#sk-container-id-3 div.sk-estimator input.sk-toggleable__control:checked~label.sk-toggleable__label {\n",
       "  /* unfitted */\n",
       "  background-color: var(--sklearn-color-unfitted-level-2);\n",
       "}\n",
       "\n",
       "#sk-container-id-3 div.sk-estimator.fitted input.sk-toggleable__control:checked~label.sk-toggleable__label {\n",
       "  /* fitted */\n",
       "  background-color: var(--sklearn-color-fitted-level-2);\n",
       "}\n",
       "\n",
       "#sk-container-id-3 div.sk-label label.sk-toggleable__label,\n",
       "#sk-container-id-3 div.sk-label label {\n",
       "  /* The background is the default theme color */\n",
       "  color: var(--sklearn-color-text-on-default-background);\n",
       "}\n",
       "\n",
       "/* On hover, darken the color of the background */\n",
       "#sk-container-id-3 div.sk-label:hover label.sk-toggleable__label {\n",
       "  color: var(--sklearn-color-text);\n",
       "  background-color: var(--sklearn-color-unfitted-level-2);\n",
       "}\n",
       "\n",
       "/* Label box, darken color on hover, fitted */\n",
       "#sk-container-id-3 div.sk-label.fitted:hover label.sk-toggleable__label.fitted {\n",
       "  color: var(--sklearn-color-text);\n",
       "  background-color: var(--sklearn-color-fitted-level-2);\n",
       "}\n",
       "\n",
       "/* Estimator label */\n",
       "\n",
       "#sk-container-id-3 div.sk-label label {\n",
       "  font-family: monospace;\n",
       "  font-weight: bold;\n",
       "  display: inline-block;\n",
       "  line-height: 1.2em;\n",
       "}\n",
       "\n",
       "#sk-container-id-3 div.sk-label-container {\n",
       "  text-align: center;\n",
       "}\n",
       "\n",
       "/* Estimator-specific */\n",
       "#sk-container-id-3 div.sk-estimator {\n",
       "  font-family: monospace;\n",
       "  border: 1px dotted var(--sklearn-color-border-box);\n",
       "  border-radius: 0.25em;\n",
       "  box-sizing: border-box;\n",
       "  margin-bottom: 0.5em;\n",
       "  /* unfitted */\n",
       "  background-color: var(--sklearn-color-unfitted-level-0);\n",
       "}\n",
       "\n",
       "#sk-container-id-3 div.sk-estimator.fitted {\n",
       "  /* fitted */\n",
       "  background-color: var(--sklearn-color-fitted-level-0);\n",
       "}\n",
       "\n",
       "/* on hover */\n",
       "#sk-container-id-3 div.sk-estimator:hover {\n",
       "  /* unfitted */\n",
       "  background-color: var(--sklearn-color-unfitted-level-2);\n",
       "}\n",
       "\n",
       "#sk-container-id-3 div.sk-estimator.fitted:hover {\n",
       "  /* fitted */\n",
       "  background-color: var(--sklearn-color-fitted-level-2);\n",
       "}\n",
       "\n",
       "/* Specification for estimator info (e.g. \"i\" and \"?\") */\n",
       "\n",
       "/* Common style for \"i\" and \"?\" */\n",
       "\n",
       ".sk-estimator-doc-link,\n",
       "a:link.sk-estimator-doc-link,\n",
       "a:visited.sk-estimator-doc-link {\n",
       "  float: right;\n",
       "  font-size: smaller;\n",
       "  line-height: 1em;\n",
       "  font-family: monospace;\n",
       "  background-color: var(--sklearn-color-background);\n",
       "  border-radius: 1em;\n",
       "  height: 1em;\n",
       "  width: 1em;\n",
       "  text-decoration: none !important;\n",
       "  margin-left: 1ex;\n",
       "  /* unfitted */\n",
       "  border: var(--sklearn-color-unfitted-level-1) 1pt solid;\n",
       "  color: var(--sklearn-color-unfitted-level-1);\n",
       "}\n",
       "\n",
       ".sk-estimator-doc-link.fitted,\n",
       "a:link.sk-estimator-doc-link.fitted,\n",
       "a:visited.sk-estimator-doc-link.fitted {\n",
       "  /* fitted */\n",
       "  border: var(--sklearn-color-fitted-level-1) 1pt solid;\n",
       "  color: var(--sklearn-color-fitted-level-1);\n",
       "}\n",
       "\n",
       "/* On hover */\n",
       "div.sk-estimator:hover .sk-estimator-doc-link:hover,\n",
       ".sk-estimator-doc-link:hover,\n",
       "div.sk-label-container:hover .sk-estimator-doc-link:hover,\n",
       ".sk-estimator-doc-link:hover {\n",
       "  /* unfitted */\n",
       "  background-color: var(--sklearn-color-unfitted-level-3);\n",
       "  color: var(--sklearn-color-background);\n",
       "  text-decoration: none;\n",
       "}\n",
       "\n",
       "div.sk-estimator.fitted:hover .sk-estimator-doc-link.fitted:hover,\n",
       ".sk-estimator-doc-link.fitted:hover,\n",
       "div.sk-label-container:hover .sk-estimator-doc-link.fitted:hover,\n",
       ".sk-estimator-doc-link.fitted:hover {\n",
       "  /* fitted */\n",
       "  background-color: var(--sklearn-color-fitted-level-3);\n",
       "  color: var(--sklearn-color-background);\n",
       "  text-decoration: none;\n",
       "}\n",
       "\n",
       "/* Span, style for the box shown on hovering the info icon */\n",
       ".sk-estimator-doc-link span {\n",
       "  display: none;\n",
       "  z-index: 9999;\n",
       "  position: relative;\n",
       "  font-weight: normal;\n",
       "  right: .2ex;\n",
       "  padding: .5ex;\n",
       "  margin: .5ex;\n",
       "  width: min-content;\n",
       "  min-width: 20ex;\n",
       "  max-width: 50ex;\n",
       "  color: var(--sklearn-color-text);\n",
       "  box-shadow: 2pt 2pt 4pt #999;\n",
       "  /* unfitted */\n",
       "  background: var(--sklearn-color-unfitted-level-0);\n",
       "  border: .5pt solid var(--sklearn-color-unfitted-level-3);\n",
       "}\n",
       "\n",
       ".sk-estimator-doc-link.fitted span {\n",
       "  /* fitted */\n",
       "  background: var(--sklearn-color-fitted-level-0);\n",
       "  border: var(--sklearn-color-fitted-level-3);\n",
       "}\n",
       "\n",
       ".sk-estimator-doc-link:hover span {\n",
       "  display: block;\n",
       "}\n",
       "\n",
       "/* \"?\"-specific style due to the `<a>` HTML tag */\n",
       "\n",
       "#sk-container-id-3 a.estimator_doc_link {\n",
       "  float: right;\n",
       "  font-size: 1rem;\n",
       "  line-height: 1em;\n",
       "  font-family: monospace;\n",
       "  background-color: var(--sklearn-color-background);\n",
       "  border-radius: 1rem;\n",
       "  height: 1rem;\n",
       "  width: 1rem;\n",
       "  text-decoration: none;\n",
       "  /* unfitted */\n",
       "  color: var(--sklearn-color-unfitted-level-1);\n",
       "  border: var(--sklearn-color-unfitted-level-1) 1pt solid;\n",
       "}\n",
       "\n",
       "#sk-container-id-3 a.estimator_doc_link.fitted {\n",
       "  /* fitted */\n",
       "  border: var(--sklearn-color-fitted-level-1) 1pt solid;\n",
       "  color: var(--sklearn-color-fitted-level-1);\n",
       "}\n",
       "\n",
       "/* On hover */\n",
       "#sk-container-id-3 a.estimator_doc_link:hover {\n",
       "  /* unfitted */\n",
       "  background-color: var(--sklearn-color-unfitted-level-3);\n",
       "  color: var(--sklearn-color-background);\n",
       "  text-decoration: none;\n",
       "}\n",
       "\n",
       "#sk-container-id-3 a.estimator_doc_link.fitted:hover {\n",
       "  /* fitted */\n",
       "  background-color: var(--sklearn-color-fitted-level-3);\n",
       "}\n",
       "</style><div id=\"sk-container-id-3\" class=\"sk-top-container\"><div class=\"sk-text-repr-fallback\"><pre>MultinomialNB()</pre><b>In a Jupyter environment, please rerun this cell to show the HTML representation or trust the notebook. <br />On GitHub, the HTML representation is unable to render, please try loading this page with nbviewer.org.</b></div><div class=\"sk-container\" hidden><div class=\"sk-item\"><div class=\"sk-estimator fitted sk-toggleable\"><input class=\"sk-toggleable__control sk-hidden--visually\" id=\"sk-estimator-id-5\" type=\"checkbox\" checked><label for=\"sk-estimator-id-5\" class=\"sk-toggleable__label fitted sk-toggleable__label-arrow fitted\">&nbsp;&nbsp;MultinomialNB<a class=\"sk-estimator-doc-link fitted\" rel=\"noreferrer\" target=\"_blank\" href=\"https://scikit-learn.org/1.5/modules/generated/sklearn.naive_bayes.MultinomialNB.html\">?<span>Documentation for MultinomialNB</span></a><span class=\"sk-estimator-doc-link fitted\">i<span>Fitted</span></span></label><div class=\"sk-toggleable__content fitted\"><pre>MultinomialNB()</pre></div> </div></div></div></div>"
      ],
      "text/plain": [
       "MultinomialNB()"
      ]
     },
     "execution_count": 232,
     "metadata": {},
     "output_type": "execute_result"
    }
   ],
   "source": [
    "from sklearn.naive_bayes import MultinomialNB\n",
    "from sklearn.preprocessing import MinMaxScaler\n",
    "\n",
    "scaler = MinMaxScaler()\n",
    "\n",
    "X_train_scaled = scaler.fit_transform(X_train_2d)\n",
    "X_test_scaled = scaler.transform(X_test_2d)\n",
    "\n",
    "clf = MultinomialNB()\n",
    "\n",
    "clf.fit(X_train_scaled , y_train)\n",
    "\n"
   ]
  },
  {
   "cell_type": "code",
   "execution_count": 234,
   "metadata": {},
   "outputs": [
    {
     "name": "stdout",
     "output_type": "stream",
     "text": [
      "              precision    recall  f1-score   support\n",
      "\n",
      "           0       0.94      0.95      0.94      1000\n",
      "           1       0.95      0.93      0.94       980\n",
      "\n",
      "    accuracy                           0.94      1980\n",
      "   macro avg       0.94      0.94      0.94      1980\n",
      "weighted avg       0.94      0.94      0.94      1980\n",
      "\n"
     ]
    }
   ],
   "source": [
    "y_test_pred = clf.predict(X_test_scaled)\n",
    "\n",
    "print(classification_report(y_true=y_test, y_pred=y_test_pred))"
   ]
  },
  {
   "cell_type": "code",
   "execution_count": 236,
   "metadata": {},
   "outputs": [
    {
     "name": "stdout",
     "output_type": "stream",
     "text": [
      "              precision    recall  f1-score   support\n",
      "\n",
      "           0       0.99      0.97      0.98      1000\n",
      "           1       0.97      0.99      0.98       980\n",
      "\n",
      "    accuracy                           0.98      1980\n",
      "   macro avg       0.98      0.98      0.98      1980\n",
      "weighted avg       0.98      0.98      0.98      1980\n",
      "\n"
     ]
    }
   ],
   "source": [
    "#Using KNN\n",
    "from sklearn.neighbors import KNeighborsClassifier\n",
    "from sklearn.preprocessing import MinMaxScaler\n",
    "\n",
    "scaler = MinMaxScaler()\n",
    "\n",
    "X_train_scaled = scaler.fit_transform(X_train_2d)\n",
    "X_test_scaled = scaler.transform(X_test_2d)\n",
    "\n",
    "clf = KNeighborsClassifier()\n",
    "\n",
    "clf.fit(X_train_scaled , y_train)\n",
    "\n",
    "y_test_pred = clf.predict(X_test_scaled)\n",
    "\n",
    "print(classification_report(y_true=y_test, y_pred=y_test_pred))"
   ]
  },
  {
   "cell_type": "code",
   "execution_count": 237,
   "metadata": {},
   "outputs": [
    {
     "name": "stdout",
     "output_type": "stream",
     "text": [
      "              precision    recall  f1-score   support\n",
      "\n",
      "           0       0.98      0.96      0.97      1000\n",
      "           1       0.96      0.98      0.97       980\n",
      "\n",
      "    accuracy                           0.97      1980\n",
      "   macro avg       0.97      0.97      0.97      1980\n",
      "weighted avg       0.97      0.97      0.97      1980\n",
      "\n"
     ]
    }
   ],
   "source": [
    "#Using Random Forest \n",
    "from sklearn.ensemble import RandomForestClassifier\n",
    "from sklearn.preprocessing import MinMaxScaler\n",
    "\n",
    "scaler = MinMaxScaler()\n",
    "\n",
    "X_train_scaled = scaler.fit_transform(X_train_2d)\n",
    "X_test_scaled = scaler.transform(X_test_2d)\n",
    "\n",
    "clf = RandomForestClassifier()\n",
    "\n",
    "clf.fit(X_train_scaled , y_train)\n",
    "\n",
    "y_test_pred = clf.predict(X_test_scaled)\n",
    "\n",
    "print(classification_report(y_true=y_test, y_pred=y_test_pred))"
   ]
  },
  {
   "cell_type": "markdown",
   "metadata": {},
   "source": [
    "KNN works the best in this case."
   ]
  },
  {
   "cell_type": "markdown",
   "metadata": {},
   "source": [
    "### **Word vectors in Gensim overview ->**"
   ]
  },
  {
   "cell_type": "code",
   "execution_count": 239,
   "metadata": {},
   "outputs": [
    {
     "name": "stdout",
     "output_type": "stream",
     "text": [
      "[==================================================] 100.0% 1662.8/1662.8MB downloaded\n"
     ]
    }
   ],
   "source": [
    "import gensim.downloader as api\n",
    "\n",
    "wv = api.load(\"word2vec-google-news-300\")"
   ]
  },
  {
   "cell_type": "code",
   "execution_count": 262,
   "metadata": {},
   "outputs": [
    {
     "data": {
      "text/plain": [
       "0.7190051"
      ]
     },
     "execution_count": 262,
     "metadata": {},
     "output_type": "execute_result"
    }
   ],
   "source": [
    "#Here Similarity does not mean Synonyms from English language, The second most similar word to good is bad, Which is the antonym of it in the general sense. \n",
    "\n",
    "#Here the Similarity means the frequency in which 2 words appear in the same context when the model is trained on the google news articles. So words like, Profit <-> Loss even though opposites would be similar.\n",
    "\n",
    "\n",
    "wv.similarity(\"bad\" , \"good\")"
   ]
  },
  {
   "cell_type": "code",
   "execution_count": 257,
   "metadata": {},
   "outputs": [
    {
     "data": {
      "text/plain": [
       "[('great', 0.7291510105133057),\n",
       " ('bad', 0.7190051078796387),\n",
       " ('terrific', 0.6889115571975708),\n",
       " ('decent', 0.6837348341941833),\n",
       " ('nice', 0.6836092472076416),\n",
       " ('excellent', 0.644292950630188),\n",
       " ('fantastic', 0.6407778263092041),\n",
       " ('better', 0.6120728850364685),\n",
       " ('solid', 0.5806034803390503),\n",
       " ('lousy', 0.576420247554779)]"
      ]
     },
     "execution_count": 257,
     "metadata": {},
     "output_type": "execute_result"
    }
   ],
   "source": [
    "wv.most_similar(\"good\")"
   ]
  },
  {
   "cell_type": "code",
   "execution_count": 265,
   "metadata": {},
   "outputs": [
    {
     "data": {
      "text/plain": [
       "[('queen', 0.7118193507194519),\n",
       " ('monarch', 0.6189674139022827),\n",
       " ('princess', 0.5902431011199951)]"
      ]
     },
     "execution_count": 265,
     "metadata": {},
     "output_type": "execute_result"
    }
   ],
   "source": [
    "#Doing the analogy of King - Man + Woman = Queen\n",
    "\n",
    "wv.most_similar(positive = [\"woman\" , \"king\"] , negative = [\"man\"], topn=3)"
   ]
  },
  {
   "cell_type": "code",
   "execution_count": 277,
   "metadata": {},
   "outputs": [
    {
     "data": {
      "text/plain": [
       "('apple', 'coconut')"
      ]
     },
     "execution_count": 277,
     "metadata": {},
     "output_type": "execute_result"
    }
   ],
   "source": [
    "wv.doesnt_match([\"car\" , \"bike\" , \"apple\" , \"truck\"]), wv.doesnt_match([\"coconut\" , \"Tesla\" , \"Microsoft\" , \"Apple\"])"
   ]
  },
  {
   "cell_type": "code",
   "execution_count": 278,
   "metadata": {},
   "outputs": [
    {
     "name": "stdout",
     "output_type": "stream",
     "text": [
      "[==================================================] 100.0% 104.8/104.8MB downloaded\n"
     ]
    }
   ],
   "source": [
    "#Another model -> glove trained on twitter data\n",
    "\n",
    "glv = api.load(\"glove-twitter-25\")"
   ]
  },
  {
   "cell_type": "code",
   "execution_count": 279,
   "metadata": {},
   "outputs": [
    {
     "data": {
      "text/plain": [
       "0.91478705"
      ]
     },
     "execution_count": 279,
     "metadata": {},
     "output_type": "execute_result"
    }
   ],
   "source": [
    "glv.similarity(\"bad\" , \"good\")"
   ]
  },
  {
   "cell_type": "code",
   "execution_count": 282,
   "metadata": {},
   "outputs": [
    {
     "data": {
      "text/plain": [
       "[('too', 0.9648017287254333),\n",
       " ('day', 0.9533665180206299),\n",
       " ('well', 0.9503170847892761),\n",
       " ('nice', 0.9438973665237427),\n",
       " ('better', 0.9425962567329407),\n",
       " ('fun', 0.9418926239013672),\n",
       " ('much', 0.9413353800773621),\n",
       " ('this', 0.9387555122375488),\n",
       " ('hope', 0.9383506774902344),\n",
       " ('great', 0.9378516674041748)]"
      ]
     },
     "execution_count": 282,
     "metadata": {},
     "output_type": "execute_result"
    }
   ],
   "source": [
    "glv.most_similar(\"good\")"
   ]
  },
  {
   "cell_type": "code",
   "execution_count": 283,
   "metadata": {},
   "outputs": [
    {
     "data": {
      "text/plain": [
       "('apple', 'coconut')"
      ]
     },
     "execution_count": 283,
     "metadata": {},
     "output_type": "execute_result"
    }
   ],
   "source": [
    "glv.doesnt_match([\"car\" , \"bike\" , \"apple\" , \"truck\"]), glv.doesnt_match([\"coconut\" , \"Tesla\" , \"Microsoft\" , \"Apple\"])"
   ]
  },
  {
   "cell_type": "markdown",
   "metadata": {},
   "source": [
    "## **News classification using Gensim word vectors ->**"
   ]
  },
  {
   "cell_type": "markdown",
   "metadata": {},
   "source": [
    "Using the same dataset that was used earlier."
   ]
  },
  {
   "cell_type": "code",
   "execution_count": 284,
   "metadata": {},
   "outputs": [],
   "source": [
    "wv = api.load(\"word2vec-google-news-300\")\n"
   ]
  },
  {
   "cell_type": "code",
   "execution_count": 285,
   "metadata": {},
   "outputs": [
    {
     "data": {
      "text/html": [
       "<div>\n",
       "<style scoped>\n",
       "    .dataframe tbody tr th:only-of-type {\n",
       "        vertical-align: middle;\n",
       "    }\n",
       "\n",
       "    .dataframe tbody tr th {\n",
       "        vertical-align: top;\n",
       "    }\n",
       "\n",
       "    .dataframe thead th {\n",
       "        text-align: right;\n",
       "    }\n",
       "</style>\n",
       "<table border=\"1\" class=\"dataframe\">\n",
       "  <thead>\n",
       "    <tr style=\"text-align: right;\">\n",
       "      <th></th>\n",
       "      <th>Text</th>\n",
       "      <th>label</th>\n",
       "      <th>label_number</th>\n",
       "      <th>text_vector</th>\n",
       "    </tr>\n",
       "  </thead>\n",
       "  <tbody>\n",
       "    <tr>\n",
       "      <th>0</th>\n",
       "      <td>Top Trump Surrogate BRUTALLY Stabs Him In The...</td>\n",
       "      <td>Fake</td>\n",
       "      <td>0</td>\n",
       "      <td>[-0.103623025, 0.17802684, -0.11873861, -0.034...</td>\n",
       "    </tr>\n",
       "    <tr>\n",
       "      <th>1</th>\n",
       "      <td>U.S. conservative leader optimistic of common ...</td>\n",
       "      <td>Real</td>\n",
       "      <td>1</td>\n",
       "      <td>[-0.0063406364, 0.16712041, -0.06661373, 0.017...</td>\n",
       "    </tr>\n",
       "    <tr>\n",
       "      <th>2</th>\n",
       "      <td>Trump proposes U.S. tax overhaul, stirs concer...</td>\n",
       "      <td>Real</td>\n",
       "      <td>1</td>\n",
       "      <td>[-0.122753024, 0.17192385, -0.024732638, -0.06...</td>\n",
       "    </tr>\n",
       "  </tbody>\n",
       "</table>\n",
       "</div>"
      ],
      "text/plain": [
       "                                                Text label  label_number  \\\n",
       "0   Top Trump Surrogate BRUTALLY Stabs Him In The...  Fake             0   \n",
       "1  U.S. conservative leader optimistic of common ...  Real             1   \n",
       "2  Trump proposes U.S. tax overhaul, stirs concer...  Real             1   \n",
       "\n",
       "                                         text_vector  \n",
       "0  [-0.103623025, 0.17802684, -0.11873861, -0.034...  \n",
       "1  [-0.0063406364, 0.16712041, -0.06661373, 0.017...  \n",
       "2  [-0.122753024, 0.17192385, -0.024732638, -0.06...  "
      ]
     },
     "execution_count": 285,
     "metadata": {},
     "output_type": "execute_result"
    }
   ],
   "source": [
    "#Reusing the dataframe from the previous cells.\n",
    "df.head(3)"
   ]
  },
  {
   "cell_type": "code",
   "execution_count": 286,
   "metadata": {},
   "outputs": [],
   "source": [
    "import spacy\n",
    "nlp = spacy.load(\"en_core_web_lg\")\n",
    "\n",
    "def preprocess_and_vectorize(text):\n",
    "    \n",
    "    doc = nlp(text)\n",
    "    \n",
    "    filtered_tokens = []\n",
    "    for token in doc: \n",
    "        if token.is_punct or token.is_stop:\n",
    "            continue\n",
    "        else:\n",
    "            filtered_tokens.append(token.lemma_)\n",
    "            \n",
    "    return wv.get_mean_vector(filtered_tokens)    #This normalizes the tokens and takes the mean of all the words in the sentences in place, So the shape remains 300 but each individual token is a result of avg of that place token in all the words in the sentence.\n",
    "    "
   ]
  },
  {
   "cell_type": "code",
   "execution_count": 288,
   "metadata": {},
   "outputs": [
    {
     "data": {
      "text/plain": [
       "array([ 2.94832513e-04,  4.90293372e-04, -4.56496477e-02, -1.22061260e-02,\n",
       "        6.44393563e-02, -5.43304309e-02, -4.94738780e-02,  1.82772595e-02,\n",
       "        1.04514197e-01, -1.02182627e-01, -1.82314850e-02,  1.03094548e-01,\n",
       "       -7.62729789e-04, -1.10014044e-02,  2.10671388e-02, -8.23516697e-02,\n",
       "        5.46433032e-03,  3.66742872e-02, -8.96389633e-02, -2.67910957e-02,\n",
       "        1.15908999e-02, -9.09466967e-02, -2.33612582e-03, -1.07576951e-01,\n",
       "        6.67451918e-02,  1.33215100e-01, -1.59403563e-01,  3.90968733e-02,\n",
       "        5.54791018e-02,  1.87283978e-02,  8.78838226e-02,  6.63226936e-03,\n",
       "       -7.28880614e-02, -2.25710068e-02,  8.37985333e-03,  5.22024818e-02,\n",
       "        3.14629227e-02,  1.04485378e-02,  3.50404494e-02, -2.64296271e-02,\n",
       "        1.01737129e-02, -5.81589043e-02,  1.90736838e-02, -6.51494265e-02,\n",
       "       -3.37531939e-02, -6.19272962e-02, -4.77060564e-02, -1.26177296e-01,\n",
       "        2.25618295e-03,  2.44250856e-02,  3.05722319e-02,  3.40965018e-02,\n",
       "       -4.50646654e-02, -4.72131148e-02,  1.58233598e-01,  5.80986962e-02,\n",
       "       -3.69008742e-02, -6.18927628e-02, -4.39934954e-02, -1.77340172e-02,\n",
       "       -1.41183157e-02,  4.81228940e-02, -7.13047832e-02,  2.51069944e-02,\n",
       "       -1.26672350e-03,  1.91103257e-02,  4.62604910e-02,  2.42831036e-02,\n",
       "       -3.52423894e-03,  1.76195763e-02,  3.41683254e-02, -6.49814308e-02,\n",
       "        6.06869068e-03,  2.35246830e-02,  2.81555504e-02, -3.90609913e-03,\n",
       "        1.15005327e-02,  2.96343639e-02, -2.90064737e-02, -2.71907821e-03,\n",
       "       -7.96330869e-02, -7.44193047e-02, -4.79208305e-02, -4.83511835e-02,\n",
       "       -5.03756478e-03, -1.14640355e-01, -9.60312635e-02, -6.98292702e-02,\n",
       "        7.88845420e-02,  3.02690603e-02, -8.63523781e-02,  1.04122655e-02,\n",
       "       -5.54661751e-02,  5.31466585e-03,  2.22770758e-02,  5.74361533e-02,\n",
       "        1.16799682e-01,  1.55766252e-02, -4.07455750e-02, -3.69737088e-03,\n",
       "        4.29517068e-02, -7.55204558e-02, -5.08762896e-02, -4.40680310e-02,\n",
       "       -2.46487875e-02, -5.18483222e-02, -1.62392333e-02, -7.37999752e-02,\n",
       "       -3.40631232e-02, -8.06656629e-02, -5.53303622e-02,  5.01490459e-02,\n",
       "        7.06425458e-02,  4.07844186e-02,  3.49277630e-02, -3.86099778e-02,\n",
       "        1.63264107e-03,  1.77079756e-02,  4.11887914e-02,  9.61772203e-02,\n",
       "        9.14551131e-03,  8.84516314e-02, -1.05530890e-02, -4.57672104e-02,\n",
       "        7.27402465e-03, -1.29522840e-02, -7.59250820e-02,  1.00840226e-01,\n",
       "        1.41032962e-02,  5.86836189e-02, -5.90104945e-02, -3.01561691e-03,\n",
       "       -1.25558019e-01,  1.20017312e-01, -4.13133875e-02, -1.01476582e-02,\n",
       "       -3.53943408e-02,  6.62783673e-03,  7.65265822e-02,  2.83199940e-02,\n",
       "        5.60941249e-02, -5.49242198e-02,  4.86068465e-02, -4.49250229e-02,\n",
       "       -2.46099085e-02, -1.17654502e-02,  4.97515351e-02, -5.03662005e-02,\n",
       "       -2.85448581e-02, -8.60827137e-03,  2.59982683e-02,  1.82650741e-02,\n",
       "        6.05633855e-02,  4.04832736e-02,  3.03282216e-03,  1.94910318e-02,\n",
       "        1.95746124e-02, -1.01089597e-01, -3.38389426e-02, -4.53484468e-02,\n",
       "       -1.21908123e-02, -3.27444598e-02,  4.79553044e-02,  3.48219424e-02,\n",
       "       -2.87224464e-02, -1.04729280e-01, -1.02599822e-02,  1.38567947e-02,\n",
       "        2.61282315e-04,  9.73303765e-02, -3.27250808e-02,  5.20078503e-02,\n",
       "       -5.47005162e-02, -3.88534204e-03, -4.12833132e-02,  3.63602191e-02,\n",
       "        3.13530341e-02, -1.02018997e-01, -8.09551403e-03, -2.55511608e-03,\n",
       "        5.17906714e-03, -2.65127681e-02,  6.97130859e-02, -9.74012911e-03,\n",
       "        2.07439680e-02, -1.11138567e-01,  6.32610172e-02, -1.32288653e-02,\n",
       "       -2.41304077e-02,  3.60181108e-02, -3.13142836e-02,  2.01641209e-02,\n",
       "        2.76779532e-02, -4.07608747e-02, -1.99729688e-02, -1.35987275e-03,\n",
       "        4.76423139e-03, -6.02709875e-02, -3.65377367e-02,  3.41696329e-02,\n",
       "        4.94093634e-02,  6.15941361e-03,  3.83023396e-02,  8.38438049e-02,\n",
       "        1.12885207e-01,  5.14602987e-03,  6.80785924e-02, -1.62953995e-02,\n",
       "       -3.12562957e-02, -4.10682298e-02, -1.15824677e-02,  8.58016834e-02,\n",
       "        9.54976156e-02,  2.95459144e-02, -3.46703529e-02,  3.04560717e-02,\n",
       "        6.68397993e-02, -2.91096456e-02,  1.89042836e-03, -9.46462080e-02,\n",
       "       -6.96445107e-02,  6.08946607e-02, -5.51862977e-02,  2.11862177e-02,\n",
       "       -2.25174986e-02,  4.81050909e-02, -3.17842104e-02,  8.03901255e-02,\n",
       "        6.78833388e-03,  5.37154078e-02,  3.97005081e-02, -4.51808870e-02,\n",
       "        2.08324287e-02,  3.16152535e-02, -3.00055444e-02,  5.92950806e-02,\n",
       "       -3.46243158e-02, -4.74131629e-02,  2.87630577e-02, -2.09127739e-02,\n",
       "       -1.06549710e-02, -2.32446454e-02,  1.95711106e-03, -8.05021599e-02,\n",
       "       -9.99500975e-03, -7.04223104e-03,  6.79925382e-02, -5.10127284e-03,\n",
       "        1.13481479e-02, -2.89309584e-02, -6.58849180e-02,  3.81887406e-02,\n",
       "        4.02919874e-02,  1.08196095e-01,  2.31108703e-02,  2.08653975e-03,\n",
       "       -9.92400944e-02, -3.47941220e-02,  5.70705310e-02,  4.99899462e-02,\n",
       "        1.52108772e-02, -4.07896005e-05, -2.29753666e-02,  7.11308327e-03,\n",
       "       -1.17313378e-02, -1.94694865e-02, -9.05335248e-02,  9.38715637e-02,\n",
       "        3.26326713e-02,  4.64391634e-02,  7.59825855e-03,  2.59612990e-03,\n",
       "       -8.47348273e-02,  2.42486000e-02,  7.24302232e-02, -8.66043381e-03,\n",
       "       -1.90361962e-02, -1.04006469e-01, -7.05563650e-02, -3.07300724e-02,\n",
       "        5.78189455e-02, -6.41830917e-03,  1.98757518e-02,  1.70807564e-03,\n",
       "       -9.56351981e-02, -2.00293884e-02, -8.41486175e-03,  1.73347946e-02,\n",
       "       -4.35375348e-02, -9.67454612e-02,  2.34432835e-02, -6.77131265e-02,\n",
       "       -8.15217495e-02,  2.77545396e-02, -3.55105028e-02, -7.84026682e-02,\n",
       "        1.88520495e-02, -3.42865288e-02,  1.47991534e-03, -3.49899679e-02],\n",
       "      dtype=float32)"
      ]
     },
     "execution_count": 288,
     "metadata": {},
     "output_type": "execute_result"
    }
   ],
   "source": [
    "preprocess_and_vectorize(\"Black White\")"
   ]
  },
  {
   "cell_type": "code",
   "execution_count": 289,
   "metadata": {},
   "outputs": [
    {
     "name": "stdout",
     "output_type": "stream",
     "text": [
      "              precision    recall  f1-score   support\n",
      "\n",
      "           0       0.99      0.98      0.99      1000\n",
      "           1       0.98      0.99      0.99       980\n",
      "\n",
      "    accuracy                           0.99      1980\n",
      "   macro avg       0.99      0.99      0.99      1980\n",
      "weighted avg       0.99      0.99      0.99      1980\n",
      "\n"
     ]
    }
   ],
   "source": [
    "#Reusing X_train_2d and X_test_2d from the previous cells.\n",
    "\n",
    "from sklearn.ensemble import GradientBoostingClassifier\n",
    "from sklearn.metrics import classification_report\n",
    "\n",
    "clf = GradientBoostingClassifier()\n",
    "\n",
    "clf.fit(X_train_2d, y_train)\n",
    "\n",
    "y_test_pred = clf.predict(X_test_2d)\n",
    "\n",
    "print(classification_report(y_true=y_test, y_pred=y_test_pred))"
   ]
  },
  {
   "cell_type": "code",
   "execution_count": 296,
   "metadata": {},
   "outputs": [
    {
     "data": {
      "text/plain": [
       "Text(33.22222222222222, 0.5, 'Truth')"
      ]
     },
     "execution_count": 296,
     "metadata": {},
     "output_type": "execute_result"
    },
    {
     "data": {
      "image/png": "[encoded data removed]",
      "text/plain": [
       "<Figure size 500x400 with 2 Axes>"
      ]
     },
     "metadata": {},
     "output_type": "display_data"
    }
   ],
   "source": [
    "#Plotting the confusion matrix\n",
    "\n",
    "from sklearn.metrics import confusion_matrix\n",
    "cm = confusion_matrix(y_test, y_test_pred)\n",
    "\n",
    "from matplotlib import pyplot as plt\n",
    "import seaborn as sn\n",
    "plt.figure(figsize=(5,4))\n",
    "sn.heatmap(cm, annot=True, fmt='d', cmap='Blues')\n",
    "\n",
    "plt.xlabel('Prediction')\n",
    "plt.ylabel('Truth')"
   ]
  }
 ],
 "metadata": {
  "kernelspec": {
   "display_name": "Python 3",
   "language": "python",
   "name": "python3"
  },
  "language_info": {
   "codemirror_mode": {
    "name": "ipython",
    "version": 3
   },
   "file_extension": ".py",
   "mimetype": "text/x-python",
   "name": "python",
   "nbconvert_exporter": "python",
   "pygments_lexer": "ipython3",
   "version": "3.12.5"
  }
 },
 "nbformat": 4,
 "nbformat_minor": 2
}
