{
 "cells": [
  {
   "cell_type": "markdown",
   "metadata": {},
   "source": [
    "## **Basic Implementation of spaCY & NLTK**"
   ]
  },
  {
   "cell_type": "markdown",
   "metadata": {},
   "source": [
    "Spacy -> Newer Library, Already comes tuned with spacy.load(\"en_core_web_sm\")\n",
    "\n",
    "NLTK  -> Older Library, Can be heavily customised but hard to operate with"
   ]
  },
  {
   "cell_type": "code",
   "execution_count": 2,
   "metadata": {},
   "outputs": [],
   "source": [
    "import nltk \n",
    "import spacy\n",
    "\n",
    "nlp = spacy.load(\"en_core_web_sm\")"
   ]
  },
  {
   "cell_type": "code",
   "execution_count": 19,
   "metadata": {},
   "outputs": [
    {
     "name": "stdout",
     "output_type": "stream",
     "text": [
      "I like black cats.\n",
      "Dr. Ramesh likes brown dogs.\n",
      "There are a lot of people that I know of that have multiple pets.\n",
      "For example Koompilala, Dhunnibaba etc. because Having pets is cute.\n"
     ]
    }
   ],
   "source": [
    "doc = nlp(\"I like black cats. Dr. Ramesh likes brown dogs. There are a lot of people that I know of that have multiple pets. For example Koompilala, Dhunnibaba etc. because Having pets is cute.\")\n",
    "for sentence in doc.sents:\n",
    "    print(sentence)\n",
    "    \n",
    "# for sentence in doc.sents:          \n",
    "#     for word in sentence:                   #This prints all words one by one.\n",
    "#         print(word)  "
   ]
  },
  {
   "cell_type": "code",
   "execution_count": 22,
   "metadata": {},
   "outputs": [
    {
     "data": {
      "text/plain": [
       "['I like black cats.',\n",
       " 'Dr. Ramesh likes brown dogs.',\n",
       " 'There are a lot of people that I know of that have multiple pets.',\n",
       " 'For example Koompilala, Dhunnibaba etc.',\n",
       " 'because Having pets is cute.']"
      ]
     },
     "execution_count": 22,
     "metadata": {},
     "output_type": "execute_result"
    }
   ],
   "source": [
    "from nltk.tokenize import sent_tokenize\n",
    "\n",
    "sent_tokenize(\"I like black cats. Dr. Ramesh likes brown dogs. There are a lot of people that I know of that have multiple pets. For example Koompilala, Dhunnibaba etc. because Having pets is cute.\")"
   ]
  }
 ],
 "metadata": {
  "kernelspec": {
   "display_name": "Python 3",
   "language": "python",
   "name": "python3"
  },
  "language_info": {
   "codemirror_mode": {
    "name": "ipython",
    "version": 3
   },
   "file_extension": ".py",
   "mimetype": "text/x-python",
   "name": "python",
   "nbconvert_exporter": "python",
   "pygments_lexer": "ipython3",
   "version": "3.12.5"
  }
 },
 "nbformat": 4,
 "nbformat_minor": 2
}
