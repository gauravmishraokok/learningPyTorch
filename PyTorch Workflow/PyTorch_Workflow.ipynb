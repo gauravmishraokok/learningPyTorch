{
 "cells": [
  {
   "cell_type": "markdown",
   "metadata": {},
   "source": [
    "# PyTorch Workflow -->\n",
    "\n",
    "##### What are we going to practice in this? \n",
    "- Preparing and Loading the Data\n",
    "- Building the model\n",
    "- Training the model\n",
    "- Evaluating the model \n",
    "- Save and Load the model\n",
    "- All of it together :)\n"
   ]
  },
  {
   "cell_type": "code",
   "execution_count": 666,
   "metadata": {},
   "outputs": [
    {
     "name": "stdout",
     "output_type": "stream",
     "text": [
      "Imported all!\n"
     ]
    }
   ],
   "source": [
    "try:\n",
    "    import torch\n",
    "    from torch import nn\n",
    "    import matplotlib.pyplot as plt\n",
    "    import math\n",
    "    import numpy as np\n",
    "    print(\"Imported all!\")\n",
    "except:\n",
    "    print(\"Error in importing\")"
   ]
  },
  {
   "cell_type": "markdown",
   "metadata": {},
   "source": [
    "## Preparing and Loading Data -> \n",
    "\n",
    "##### The data can be of multiple types -> \n",
    "- Excel\n",
    "- Image\n",
    "- Text\n",
    "- DNA \n",
    "- Videos \n",
    "- Audio\n",
    "- CSV\n",
    "\n",
    "We first represent the data in numerical patterns and then train a model to recognise those patterns."
   ]
  },
  {
   "cell_type": "markdown",
   "metadata": {},
   "source": [
    "#### Linear Regression -> "
   ]
  },
  {
   "cell_type": "code",
   "execution_count": 667,
   "metadata": {},
   "outputs": [
    {
     "name": "stdout",
     "output_type": "stream",
     "text": [
      "tensor([[0.0000],\n",
      "        [0.0100],\n",
      "        [0.0200],\n",
      "        [0.0300],\n",
      "        [0.0400],\n",
      "        [0.0500],\n",
      "        [0.0600],\n",
      "        [0.0700],\n",
      "        [0.0800],\n",
      "        [0.0900]])\n",
      "tensor([[0.2000],\n",
      "        [0.2080],\n",
      "        [0.2160],\n",
      "        [0.2240],\n",
      "        [0.2320],\n",
      "        [0.2400],\n",
      "        [0.2480],\n",
      "        [0.2560],\n",
      "        [0.2640],\n",
      "        [0.2720]])\n"
     ]
    }
   ],
   "source": [
    "#Creating known parameters\n",
    "weight = 0.8\n",
    "bias = 0.2\n",
    "\n",
    "#Creating input\n",
    "start,end,step=0,1,0.01\n",
    "\n",
    "X=torch.arange(start,end,step).unsqueeze(dim=1)\n",
    "y= weight*X + bias\n",
    "\n",
    "print(X[:10])\n",
    "print(y[:10])"
   ]
  },
  {
   "cell_type": "markdown",
   "metadata": {},
   "source": []
  },
  {
   "cell_type": "markdown",
   "metadata": {},
   "source": [
    "#### Splitting our input to Training and Test data\n",
    "\n",
    "Generalisation is the ability of a ML model to perform well on a data set that it has never seen before.\n"
   ]
  },
  {
   "cell_type": "code",
   "execution_count": 668,
   "metadata": {},
   "outputs": [
    {
     "name": "stdout",
     "output_type": "stream",
     "text": [
      "80\n"
     ]
    },
    {
     "data": {
      "text/plain": [
       "(80, 20, 80, 20)"
      ]
     },
     "execution_count": 668,
     "metadata": {},
     "output_type": "execute_result"
    }
   ],
   "source": [
    "train_split=int(0.8*len(X))\n",
    "print(train_split)\n",
    "\n",
    "X_train,y_train=X[:train_split],y[:train_split]\n",
    "X_test,y_test=X[train_split:],y[train_split:]\n",
    "\n",
    "#Here another better way to split is Scikitlearn's split which induces randomness.\n",
    "\n",
    "len(X_train), len(X_test) , len(y_train), len(y_test) "
   ]
  },
  {
   "cell_type": "markdown",
   "metadata": {},
   "source": [
    "##### Visualisation of our data -> "
   ]
  },
  {
   "cell_type": "code",
   "execution_count": 669,
   "metadata": {},
   "outputs": [],
   "source": [
    "def plot_predictions(\n",
    "    train_data=X_train, \n",
    "    train_labels=y_train,\n",
    "    test_data=X_test,\n",
    "    test_labels=y_test,\n",
    "    predictions=None):\n",
    "    print(2)\n",
    "    #Plots training, test data and compares with predictions\n",
    "    plt.figure(figsize=(6,6))\n",
    "    \n",
    "    #Plot training data in Blue -> \n",
    "    plt.scatter(train_data,train_labels,c=\"b\",s=4,label=\"Training Data\")\n",
    "    \n",
    "    #Plot testing data in red -> \n",
    "    plt.scatter(test_data,test_labels,c=\"r\",s=4,label=\"Testing Data\")\n",
    "    \n",
    "    if predictions is not None:\n",
    "        plt.scatter(test_data, predictions,c=\"g\",s=4,label=\"Prediction Data\")\n",
    "        \n",
    "    plt.legend(prop={\"size\":10})"
   ]
  },
  {
   "cell_type": "code",
   "execution_count": 670,
   "metadata": {},
   "outputs": [
    {
     "name": "stdout",
     "output_type": "stream",
     "text": [
      "2\n"
     ]
    },
    {
     "data": {
      "image/png": "[encoded data removed]",
      "text/plain": [
       "<Figure size 600x600 with 1 Axes>"
      ]
     },
     "metadata": {},
     "output_type": "display_data"
    }
   ],
   "source": [
    "plot_predictions()"
   ]
  },
  {
   "cell_type": "markdown",
   "metadata": {},
   "source": [
    "### Building the Model -> \n",
    "- Uses OOP concepts, Revise if needed.\n",
    "\n",
    "#### What our model does ->\n",
    "- Starts with random weights and biases\n",
    "- Looks at the training data, Changes the W and B to closer to the actual values we used to create the data earlier.\n",
    "\n",
    "#### How is our model doing this -> \n",
    "- Backpropagation\n",
    "- Gradient Descent\n",
    "\n"
   ]
  },
  {
   "cell_type": "code",
   "execution_count": 671,
   "metadata": {},
   "outputs": [],
   "source": [
    "#Creating the model class\n",
    "\n",
    "class LinearRegressionModel(nn.Module):\n",
    "    def __init__(self):\n",
    "        super().__init__()\n",
    "        self.weights= nn.Parameter(torch.randn(1,requires_grad=True,dtype=torch.float))\n",
    "        \n",
    "        self.bias= nn.Parameter(torch.randn(1,requires_grad=True,dtype=torch.float))\n",
    "        #requires_grad=True means it can be changed by Gradient Descent in naive language.\n",
    "        \n",
    "        \n",
    "    #Forward Method for Computation -> \n",
    "    def forward(self,x:torch.Tensor) -> torch.Tensor: #This syntax just means this takes x input of type tt and returns a value of type tt.\n",
    "        return self.weights*x + self.bias # <- Linear regression\n",
    "                \n",
    "        \n",
    "        \n",
    "        "
   ]
  },
  {
   "cell_type": "markdown",
   "metadata": {},
   "source": [
    "#### PyTorch Model Building Essentials -> \n",
    "- torch.nn -> Neural Network related classes and functions\n",
    "- torch.nn.Parameter -> Helps in setting up parameters.\n",
    "- torch.nn.Module -> forward()\n",
    "- torch.optim -> Optimizers help with gradient descent\n"
   ]
  },
  {
   "cell_type": "code",
   "execution_count": 672,
   "metadata": {},
   "outputs": [
    {
     "data": {
      "text/plain": [
       "OrderedDict([('weights', tensor([0.3367])), ('bias', tensor([0.1288]))])"
      ]
     },
     "execution_count": 672,
     "metadata": {},
     "output_type": "execute_result"
    }
   ],
   "source": [
    "torch.manual_seed(42)\n",
    "model_0=LinearRegressionModel()\n",
    "\n",
    "list(model_0.parameters())\n",
    "model_0.state_dict()\n",
    "#We know ideal values are 0.8,0.2"
   ]
  },
  {
   "cell_type": "markdown",
   "metadata": {},
   "source": [
    "#### Make predictions using `torch.inference_mode()`\n",
    "We will pass x_test through our model's forward() and compare with y_test"
   ]
  },
  {
   "cell_type": "code",
   "execution_count": 673,
   "metadata": {},
   "outputs": [
    {
     "data": {
      "text/plain": [
       "(tensor([[0.3982],\n",
       "         [0.4015],\n",
       "         [0.4049],\n",
       "         [0.4083],\n",
       "         [0.4116],\n",
       "         [0.4150],\n",
       "         [0.4184],\n",
       "         [0.4217],\n",
       "         [0.4251],\n",
       "         [0.4285],\n",
       "         [0.4318],\n",
       "         [0.4352],\n",
       "         [0.4386],\n",
       "         [0.4419],\n",
       "         [0.4453],\n",
       "         [0.4487],\n",
       "         [0.4520],\n",
       "         [0.4554],\n",
       "         [0.4588],\n",
       "         [0.4621]]),\n",
       " tensor([[0.8400],\n",
       "         [0.8480],\n",
       "         [0.8560],\n",
       "         [0.8640],\n",
       "         [0.8720],\n",
       "         [0.8800],\n",
       "         [0.8880],\n",
       "         [0.8960],\n",
       "         [0.9040],\n",
       "         [0.9120],\n",
       "         [0.9200],\n",
       "         [0.9280],\n",
       "         [0.9360],\n",
       "         [0.9440],\n",
       "         [0.9520],\n",
       "         [0.9600],\n",
       "         [0.9680],\n",
       "         [0.9760],\n",
       "         [0.9840],\n",
       "         [0.9920]]))"
      ]
     },
     "execution_count": 673,
     "metadata": {},
     "output_type": "execute_result"
    }
   ],
   "source": [
    "with torch.inference_mode():\n",
    "    y_preds=model_0(X_test)\n",
    "    \n",
    "\n",
    "y_preds,y_test\n",
    "#Inference mode makes the code much faster than just doing y=model(x)"
   ]
  },
  {
   "cell_type": "code",
   "execution_count": 674,
   "metadata": {},
   "outputs": [
    {
     "name": "stdout",
     "output_type": "stream",
     "text": [
      "2\n"
     ]
    },
    {
     "data": {
      "image/png": "[encoded data removed]",
      "text/plain": [
       "<Figure size 600x600 with 1 Axes>"
      ]
     },
     "metadata": {},
     "output_type": "display_data"
    }
   ],
   "source": [
    "plot_predictions(predictions=y_preds)"
   ]
  },
  {
   "cell_type": "markdown",
   "metadata": {},
   "source": [
    "## Training the Model -->\n",
    "- Goal -> Moving the values of parameters from random towards actual\n",
    "- Way to go -> Loss functions \n",
    "- Loss functions measures the extent of wrongness of your model's outputs\n",
    "- Loss functions aka Cost functions, When minimised give the best output.\n",
    "- Optimiser looks at the loss function output and adjusts the weights and biases(i.e. Parameters). It usually takes input of all parameters and a learning rate, lr is directly proportional to change/-precision\n",
    "- All model training requires atleast 1 Training and 1 Testing loops."
   ]
  },
  {
   "cell_type": "markdown",
   "metadata": {},
   "source": [
    "` Note - There are multiple loss functions and optimisers and their usage is situation based. Generally loss functions for Regression Models and Classfication Models are very different. `"
   ]
  },
  {
   "cell_type": "markdown",
   "metadata": {},
   "source": [
    "#### Setting up Loss Function, Optimizer and Learning Rate -> "
   ]
  },
  {
   "cell_type": "code",
   "execution_count": 675,
   "metadata": {},
   "outputs": [],
   "source": [
    "#Setting up a loss function -> \n",
    "loss_fn= nn.L1Loss()\n",
    "\n",
    "#Setting up an Optimizer -> (Stochastic Gradient Descent )\n",
    "optimizer = torch.optim.SGD(params=model_0.parameters(),lr=0.01) #lr-> Learning rate, VVIMP HyperParameter\n",
    "\n",
    "#Check out learning rate scheduling."
   ]
  },
  {
   "cell_type": "markdown",
   "metadata": {},
   "source": [
    "##### Setting up a Training Loop -> \n",
    "1. Looping Through Data\n",
    "2. Forward Propagation/Pass (using forward()) ---> Gives a Prediction Value\n",
    "3. Calculate the loss on the Prediction value using Loss Function \n",
    "4. Optimiser 0 grad\n",
    "5. Backward Propagation -> Moves backward in the network to calculate the gradient of each of the parameters of our models, with respect to the loss. \n",
    "6. Gradient Descent / Optimiser Step -> Using the optimiser we adjust model's parameters to reduce the loss."
   ]
  },
  {
   "cell_type": "code",
   "execution_count": 676,
   "metadata": {},
   "outputs": [
    {
     "name": "stdout",
     "output_type": "stream",
     "text": [
      "Epoch : 0  | Loss : 0.254197895526886  |  Test Loss : 0.4723174571990967 \n",
      "OrderedDict({'weights': tensor([0.3406]), 'bias': tensor([0.1388])}) \n",
      "\n",
      "Epoch : 50  | Loss : 0.06287221610546112  |  Test Loss : 0.15212944149971008 \n",
      "OrderedDict({'weights': tensor([0.4878]), 'bias': tensor([0.3273])}) \n",
      "\n",
      "Epoch : 100  | Loss : 0.04561980813741684  |  Test Loss : 0.1070159450173378 \n",
      "OrderedDict({'weights': tensor([0.5745]), 'bias': tensor([0.2948])}) \n",
      "\n",
      "Epoch : 150  | Loss : 0.028491560369729996  |  Test Loss : 0.0663699358701706 \n",
      "OrderedDict({'weights': tensor([0.6599]), 'bias': tensor([0.2591])}) \n",
      "\n",
      "Epoch : 200  | Loss : 0.011362330988049507  |  Test Loss : 0.0260679479688406 \n",
      "OrderedDict({'weights': tensor([0.7451]), 'bias': tensor([0.2231])}) \n",
      "\n",
      "Epoch : 250  | Loss : 0.007003051694482565  |  Test Loss : 0.0032892257440835238 \n",
      "OrderedDict({'weights': tensor([0.7975]), 'bias': tensor([0.2056])}) \n",
      "\n",
      "Epoch : 300  | Loss : 0.007003051694482565  |  Test Loss : 0.0032892257440835238 \n",
      "OrderedDict({'weights': tensor([0.7975]), 'bias': tensor([0.2056])}) \n",
      "\n"
     ]
    }
   ],
   "source": [
    "#NOTE -> We are writing this for code understanding, Best approach would be wrapping it all in a function\n",
    "\n",
    "#Foor tracking data \n",
    "test_loss_values=[]\n",
    "loss_values=[]\n",
    "epoch_count=[]\n",
    "\n",
    "\n",
    "#Epoch -> 1 Complete Loop through the data\n",
    "epochs=301\n",
    "\n",
    "#Looping through the data\n",
    "\n",
    "for epoch in range(epochs):\n",
    "    \n",
    "    model_0.train()    # <- Sets the model to training mode. TM sets all parameters that require gradients to requires_grad=True\n",
    "    \n",
    "    #Forward Propagation -> \n",
    "    y_pred=model_0(X_train)\n",
    "    \n",
    "    #Loss function -> \n",
    "    loss= loss_fn(y_pred,y_train)\n",
    "    # print(f\"Loss {epoch} : {loss}\")\n",
    "    \n",
    "    #Optimizer zero grad \n",
    "    optimizer.zero_grad()   #<-Optimizer values accumulate through the loop, So we reset it every iteration.\n",
    "    \n",
    "    #Backpropagation -> On the loss wrt parameters\n",
    "    loss.backward()\n",
    "    \n",
    "    #Optimizing -> Performs gradient descent\n",
    "    optimizer.step()\n",
    "    \n",
    "        \n",
    "    #Testing the model!\n",
    "\n",
    "    model_0.eval() #<- Turns off some settings that arent needed when testing like gradient tracking.\n",
    "    with torch.inference_mode(): #This is equivalent to with torch.no_grad() which is older, slower syntax\n",
    "\n",
    "        #Forward Pass\n",
    "        test_preds=model_0(X_test)\n",
    "        \n",
    "        #Loss -> \n",
    "        test_loss = loss_fn(test_preds,y_test)\n",
    "        if(epoch%50==0):\n",
    "            print(f\"Epoch : {epoch}  | Loss : {loss}  |  Test Loss : {test_loss} \")\n",
    "            print(model_0.state_dict(),\"\\n\" )\n",
    "        \n",
    "        test_loss_values.append(test_loss)\n",
    "        loss_values.append(loss)\n",
    "        epoch_count.append(epoch)\n",
    "\n",
    "        "
   ]
  },
  {
   "cell_type": "code",
   "execution_count": 677,
   "metadata": {},
   "outputs": [
    {
     "data": {
      "text/plain": [
       "OrderedDict([('weights', tensor([0.7975])), ('bias', tensor([0.2056]))])"
      ]
     },
     "execution_count": 677,
     "metadata": {},
     "output_type": "execute_result"
    }
   ],
   "source": [
    "model_0.state_dict()\n",
    "#These are the values after running the epoch 100 times :)\n",
    "#+100 cuz I ran it twice."
   ]
  },
  {
   "cell_type": "code",
   "execution_count": 678,
   "metadata": {},
   "outputs": [
    {
     "name": "stdout",
     "output_type": "stream",
     "text": [
      "2\n"
     ]
    },
    {
     "data": {
      "image/png": "[encoded data removed]",
      "text/plain": [
       "<Figure size 600x600 with 1 Axes>"
      ]
     },
     "metadata": {},
     "output_type": "display_data"
    }
   ],
   "source": [
    "plot_predictions(predictions=y_preds)"
   ]
  },
  {
   "cell_type": "code",
   "execution_count": 679,
   "metadata": {},
   "outputs": [
    {
     "name": "stdout",
     "output_type": "stream",
     "text": [
      "2\n"
     ]
    },
    {
     "data": {
      "image/png": "[encoded data removed]",
      "text/plain": [
       "<Figure size 600x600 with 1 Axes>"
      ]
     },
     "metadata": {},
     "output_type": "display_data"
    }
   ],
   "source": [
    "with torch.inference_mode():\n",
    "    y_preds_new=model_0(X_test)\n",
    "\n",
    "plot_predictions(predictions=y_preds_new)"
   ]
  },
  {
   "cell_type": "markdown",
   "metadata": {},
   "source": [
    "- Random values for W and B when used to predict compared to Actual data is the first graph.\n",
    "- Values after being updated by running 300 epochs and then predicting to compare is second graph."
   ]
  },
  {
   "cell_type": "markdown",
   "metadata": {},
   "source": [
    "#### Visualising Test and Training Losses over the epoch count -> "
   ]
  },
  {
   "cell_type": "code",
   "execution_count": 680,
   "metadata": {},
   "outputs": [
    {
     "data": {
      "image/png": "[encoded data removed]",
      "text/plain": [
       "<Figure size 640x480 with 1 Axes>"
      ]
     },
     "metadata": {},
     "output_type": "display_data"
    }
   ],
   "source": [
    "#Here the code failed normally, Saying  Can't call numpy() on Tensor that requires grad.\n",
    "#Thus for turning off the grad we can do torch  inference mode\n",
    "#Or as they are tensors with grad we can turn them into numpy arrays first too.\n",
    "\n",
    "\n",
    "with torch.inference_mode():\n",
    "    plt.plot(epoch_count,loss_values,label=\"Training Loss Values\")\n",
    "    plt.plot(epoch_count,test_loss_values,label=\"Testing Loss Values\")\n",
    "    plt.title(\"Training and Testing Loss Curve -->\")\n",
    "    plt.ylabel(\"Loss\")\n",
    "    plt.xlabel(\"Epoch count\")\n",
    "    plt.legend()"
   ]
  },
  {
   "cell_type": "markdown",
   "metadata": {},
   "source": [
    "### Saving a Model in PyTorch -> \n",
    "Main 3 ways to save and load a model -> \n",
    "1. torch.save() -> Allows us to save a PyTorch object in Python's pickle format.\n",
    "2. torch.load() -> Allows us to load a saved PyTorch object.\n",
    "3. torch.nn.Module.load_state_dict() -> This allows to load a model's saved dictionary."
   ]
  },
  {
   "cell_type": "code",
   "execution_count": 681,
   "metadata": {},
   "outputs": [
    {
     "data": {
      "text/plain": [
       "OrderedDict([('weights', tensor([0.7975])), ('bias', tensor([0.2056]))])"
      ]
     },
     "execution_count": 681,
     "metadata": {},
     "output_type": "execute_result"
    }
   ],
   "source": [
    "model_0.state_dict()"
   ]
  },
  {
   "cell_type": "markdown",
   "metadata": {},
   "source": [
    "Two ways to save -> \n",
    "- Saving and Loading the state_dict()\n",
    "- Saving and Loading the entire model."
   ]
  },
  {
   "cell_type": "code",
   "execution_count": 682,
   "metadata": {},
   "outputs": [
    {
     "name": "stdout",
     "output_type": "stream",
     "text": [
      "Save successful!\n"
     ]
    }
   ],
   "source": [
    "#Saving the model -> \n",
    "from pathlib import Path\n",
    "\n",
    "#Creating models directory -> \n",
    "MODEL_PATH = Path(\"Models\")\n",
    "MODEL_PATH.mkdir(parents=True, exist_ok=True)\n",
    "\n",
    "#Creating model save path\n",
    "MODEL_NAME = \"PyTorch_Workflow_Model.pth\"\n",
    "MODEL_SAVE_PATH= MODEL_PATH/MODEL_NAME\n",
    "\n",
    "#Saving the state_dict\n",
    "torch.save(model_0.state_dict(), MODEL_SAVE_PATH)\n",
    "print(\"Save successful!\")"
   ]
  },
  {
   "cell_type": "code",
   "execution_count": 683,
   "metadata": {},
   "outputs": [
    {
     "name": "stdout",
     "output_type": "stream",
     "text": [
      "Save successful!\n"
     ]
    }
   ],
   "source": [
    "#Alternative method to save -> \n",
    "\n",
    "torch.save(model_0.state_dict(),\"F:/AI/PyTorch/PyTorch Workflow/Models/PyTorch_Workflow_Model2.pth\")\n",
    "print(\"Save successful!\")"
   ]
  },
  {
   "cell_type": "markdown",
   "metadata": {},
   "source": [
    "##### Loading the PyTorch Model \n",
    "\n",
    "Since we have only saved model's `state_dict()` rather than the *entire model*, We will create a new instance of the model class, Then use the saved `state_dict()`"
   ]
  },
  {
   "cell_type": "code",
   "execution_count": 684,
   "metadata": {},
   "outputs": [],
   "source": [
    "#To load a saved state_dict() we have to instantiate a new instance of our already created model class i.e. LinearRegressionModel first -> \n",
    "\n",
    "loaded_model_0= LinearRegressionModel()"
   ]
  },
  {
   "cell_type": "code",
   "execution_count": 685,
   "metadata": {},
   "outputs": [
    {
     "name": "stdout",
     "output_type": "stream",
     "text": [
      "OrderedDict({'weights': tensor([0.2345]), 'bias': tensor([0.2303])})\n",
      "Loading successful!\n"
     ]
    },
    {
     "name": "stderr",
     "output_type": "stream",
     "text": [
      "C:\\Users\\gaura\\AppData\\Local\\Temp\\ipykernel_26336\\4090946309.py:5: FutureWarning: You are using `torch.load` with `weights_only=False` (the current default value), which uses the default pickle module implicitly. It is possible to construct malicious pickle data which will execute arbitrary code during unpickling (See https://github.com/pytorch/pytorch/blob/main/SECURITY.md#untrusted-models for more details). In a future release, the default value for `weights_only` will be flipped to `True`. This limits the functions that could be executed during unpickling. Arbitrary objects will no longer be allowed to be loaded via this mode unless they are explicitly allowlisted by the user via `torch.serialization.add_safe_globals`. We recommend you start setting `weights_only=True` for any use case where you don't have full control of the loaded file. Please open an issue on GitHub for any issues related to this experimental feature.\n",
      "  loaded_model_0.load_state_dict(torch.load(f=MODEL_SAVE_PATH))\n"
     ]
    },
    {
     "data": {
      "text/plain": [
       "OrderedDict([('weights', tensor([0.7975])), ('bias', tensor([0.2056]))])"
      ]
     },
     "execution_count": 685,
     "metadata": {},
     "output_type": "execute_result"
    }
   ],
   "source": [
    "#Checking state_dict() initially(Would have random numbers)\n",
    "print(loaded_model_0.state_dict())\n",
    "\n",
    "#Loading the saved state_dict()\n",
    "loaded_model_0.load_state_dict(torch.load(f=MODEL_SAVE_PATH))\n",
    "print(\"Loading successful!\")\n",
    "\n",
    "#Checking state_dict() after loading\n",
    "loaded_model_0.state_dict()"
   ]
  },
  {
   "cell_type": "code",
   "execution_count": 686,
   "metadata": {},
   "outputs": [
    {
     "data": {
      "text/plain": [
       "tensor([[True],\n",
       "        [True],\n",
       "        [True],\n",
       "        [True],\n",
       "        [True],\n",
       "        [True],\n",
       "        [True],\n",
       "        [True],\n",
       "        [True],\n",
       "        [True],\n",
       "        [True],\n",
       "        [True],\n",
       "        [True],\n",
       "        [True],\n",
       "        [True],\n",
       "        [True],\n",
       "        [True],\n",
       "        [True],\n",
       "        [True],\n",
       "        [True]])"
      ]
     },
     "execution_count": 686,
     "metadata": {},
     "output_type": "execute_result"
    }
   ],
   "source": [
    "#We know model has same parameters from up, Testing to show the outputs would be same too.\n",
    "loaded_model_0.eval()\n",
    "with torch.inference_mode():\n",
    "    \n",
    "    loaded_pred=loaded_model_0(X_test)\n",
    "\n",
    "loaded_pred==y_preds_new"
   ]
  },
  {
   "cell_type": "markdown",
   "metadata": {},
   "source": [
    "# Everything together -> \n"
   ]
  },
  {
   "cell_type": "markdown",
   "metadata": {},
   "source": [
    "### Data"
   ]
  },
  {
   "cell_type": "code",
   "execution_count": 687,
   "metadata": {},
   "outputs": [],
   "source": [
    "#Importing everything  \n",
    "import torch\n",
    "import torch.nn as nn\n",
    "import matplotlib.pyplot as plt\n",
    "import numpy as np\n"
   ]
  },
  {
   "cell_type": "markdown",
   "metadata": {},
   "source": [
    "#### We will write device agnostic code now -> \n",
    "- If GPU is available use it."
   ]
  },
  {
   "cell_type": "code",
   "execution_count": 688,
   "metadata": {},
   "outputs": [
    {
     "data": {
      "text/plain": [
       "'cuda'"
      ]
     },
     "execution_count": 688,
     "metadata": {},
     "output_type": "execute_result"
    }
   ],
   "source": [
    "device =\"cuda\" if torch.cuda.is_available() else \"cpu\"\n",
    "device"
   ]
  },
  {
   "cell_type": "code",
   "execution_count": 689,
   "metadata": {},
   "outputs": [
    {
     "data": {
      "text/plain": [
       "(tensor([[0.0000],\n",
       "         [0.0500],\n",
       "         [0.1000],\n",
       "         [0.1500],\n",
       "         [0.2000],\n",
       "         [0.2500],\n",
       "         [0.3000],\n",
       "         [0.3500],\n",
       "         [0.4000],\n",
       "         [0.4500],\n",
       "         [0.5000],\n",
       "         [0.5500],\n",
       "         [0.6000],\n",
       "         [0.6500],\n",
       "         [0.7000],\n",
       "         [0.7500],\n",
       "         [0.8000],\n",
       "         [0.8500],\n",
       "         [0.9000],\n",
       "         [0.9500],\n",
       "         [1.0000],\n",
       "         [1.0500],\n",
       "         [1.1000],\n",
       "         [1.1500],\n",
       "         [1.2000],\n",
       "         [1.2500],\n",
       "         [1.3000],\n",
       "         [1.3500],\n",
       "         [1.4000],\n",
       "         [1.4500],\n",
       "         [1.5000],\n",
       "         [1.5500],\n",
       "         [1.6000],\n",
       "         [1.6500],\n",
       "         [1.7000],\n",
       "         [1.7500],\n",
       "         [1.8000],\n",
       "         [1.8500],\n",
       "         [1.9000],\n",
       "         [1.9500]]),\n",
       " tensor([[0.5000],\n",
       "         [0.5250],\n",
       "         [0.5500],\n",
       "         [0.5750],\n",
       "         [0.6000],\n",
       "         [0.6250],\n",
       "         [0.6500],\n",
       "         [0.6750],\n",
       "         [0.7000],\n",
       "         [0.7250],\n",
       "         [0.7500],\n",
       "         [0.7750],\n",
       "         [0.8000],\n",
       "         [0.8250],\n",
       "         [0.8500],\n",
       "         [0.8750],\n",
       "         [0.9000],\n",
       "         [0.9250],\n",
       "         [0.9500],\n",
       "         [0.9750],\n",
       "         [1.0000],\n",
       "         [1.0250],\n",
       "         [1.0500],\n",
       "         [1.0750],\n",
       "         [1.1000],\n",
       "         [1.1250],\n",
       "         [1.1500],\n",
       "         [1.1750],\n",
       "         [1.2000],\n",
       "         [1.2250],\n",
       "         [1.2500],\n",
       "         [1.2750],\n",
       "         [1.3000],\n",
       "         [1.3250],\n",
       "         [1.3500],\n",
       "         [1.3750],\n",
       "         [1.4000],\n",
       "         [1.4250],\n",
       "         [1.4500],\n",
       "         [1.4750]]))"
      ]
     },
     "execution_count": 689,
     "metadata": {},
     "output_type": "execute_result"
    }
   ],
   "source": [
    "# Create weight and bias\n",
    "weight = 0.5\n",
    "bias = 0.5\n",
    "\n",
    "# Create range values\n",
    "start = 0\n",
    "end = 2\n",
    "step = 0.05\n",
    "\n",
    "# Create X and y (features and labels)\n",
    "X = torch.arange(start, end, step).unsqueeze(dim=1) # without unsqueeze, errors will happen later on (shapes within linear layers)\n",
    "y = weight * X + bias \n",
    "X,y"
   ]
  },
  {
   "cell_type": "code",
   "execution_count": 690,
   "metadata": {},
   "outputs": [],
   "source": [
    "#Splitting the data into Train and Test sets -> \n",
    "# Split data\n",
    "train_split = int(0.8 * len(X))\n",
    "X_train, y_train = X[:train_split], y[:train_split]\n",
    "X_test, y_test = X[train_split:], y[train_split:]\n",
    "\n",
    "len(X_train), len(y_train), len(X_test), len(y_test)\n",
    "X_train = X_train.to(device)\n",
    "X_test = X_test.to(device)\n",
    "y_train = y_train.to(device)\n",
    "y_test = y_test.to(device)\n",
    "\n"
   ]
  },
  {
   "cell_type": "code",
   "execution_count": 691,
   "metadata": {},
   "outputs": [],
   "source": [
    "#Visualising our data\n",
    "def plot_predictions(train_data=X_train,\n",
    "                     train_labels=y_train,\n",
    "                     test_data=X_test,\n",
    "                     test_labels=y_test,\n",
    "                     Predictions=None):\n",
    "    plt.figure(figsize=(10,10))\n",
    "    \n",
    "    train_data = train_data.cpu() if hasattr(train_data, 'cpu') else train_data\n",
    "    train_labels = train_labels.cpu() if hasattr(train_labels, 'cpu') else train_labels\n",
    "    test_data = test_data.cpu() if hasattr(test_data, 'cpu') else test_data\n",
    "    test_labels = test_labels.cpu() if hasattr(test_labels, 'cpu') else test_labels\n",
    "    Predictions = Predictions.cpu() if hasattr(Predictions, 'cpu') else Predictions\n",
    "\n",
    "    # Convert to numpy arrays\n",
    "    train_data = train_data.numpy() if hasattr(train_data, 'numpy') else train_data\n",
    "    train_labels = train_labels.numpy() if hasattr(train_labels, 'numpy') else train_labels\n",
    "    test_data = test_data.numpy() if hasattr(test_data, 'numpy') else test_data\n",
    "    test_labels = test_labels.numpy() if hasattr(test_labels, 'numpy') else test_labels\n",
    "    Predictions = Predictions.numpy() if hasattr(Predictions, 'numpy') else Predictions\n",
    "    plt.scatter(train_data,train_labels,c=\"r\",s=4,label=\"Training Data\")\n",
    "    plt.scatter(test_data,test_labels,c=\"g\",s=4,label=\"Testing Data\")\n",
    "    \n",
    "    if Predictions is not None:\n",
    "        plt.scatter(test_data,Predictions,c=\"b\",s=4,label=\"Prediction Data\")\n",
    "        \n",
    "    plt.legend(prop={\"size\":10})"
   ]
  },
  {
   "cell_type": "markdown",
   "metadata": {},
   "source": [
    "### Different way of defining model class using nn.Linear"
   ]
  },
  {
   "cell_type": "code",
   "execution_count": 692,
   "metadata": {},
   "outputs": [
    {
     "data": {
      "text/plain": [
       "(LRModel(\n",
       "   (linear_layer): Linear(in_features=1, out_features=1, bias=True)\n",
       " ),\n",
       " OrderedDict([('linear_layer.weight', tensor([[0.7645]])),\n",
       "              ('linear_layer.bias', tensor([0.8300]))]))"
      ]
     },
     "execution_count": 692,
     "metadata": {},
     "output_type": "execute_result"
    }
   ],
   "source": [
    "# Subclass nn.Module to make our model\n",
    "class LRModel(nn.Module):\n",
    "    def __init__(self):\n",
    "        super().__init__()\n",
    "        # Use nn.Linear() for creating the model parameters\n",
    "        self.linear_layer = nn.Linear(in_features=1, \n",
    "                                      out_features=1)\n",
    "    \n",
    "    # Define the forward computation (input data x flows through nn.Linear())\n",
    "    def forward(self, x: torch.Tensor) -> torch.Tensor:\n",
    "        return self.linear_layer(x)\n",
    "\n",
    "# Set the manual seed when creating the model (this isn't always need but is used for demonstrative purposes, try commenting it out and seeing what happens)\n",
    "torch.manual_seed(42)\n",
    "myModel = LRModel()\n",
    "myModel, myModel.state_dict()"
   ]
  },
  {
   "cell_type": "code",
   "execution_count": 693,
   "metadata": {},
   "outputs": [
    {
     "data": {
      "text/plain": [
       "OrderedDict([('linear_layer.weight', tensor([[0.5153]], device='cuda:0')),\n",
       "             ('linear_layer.bias', tensor([-0.4414], device='cuda:0'))])"
      ]
     },
     "execution_count": 693,
     "metadata": {},
     "output_type": "execute_result"
    }
   ],
   "source": [
    "#Creating a seed for our testing -> \n",
    "\n",
    "torch.manual_seed(1)\n",
    "\n",
    "myModel=LRModel()\n",
    "myModel.to(device)\n",
    "myModel.state_dict()\n"
   ]
  },
  {
   "cell_type": "code",
   "execution_count": 694,
   "metadata": {},
   "outputs": [],
   "source": [
    "loss_fn = nn.L1Loss()\n",
    "optimizer=torch.optim.SGD(params=myModel.parameters(),lr=0.01)\n",
    "\n",
    "\n"
   ]
  },
  {
   "cell_type": "code",
   "execution_count": 695,
   "metadata": {},
   "outputs": [
    {
     "name": "stdout",
     "output_type": "stream",
     "text": [
      "Epoch: 0 | Train loss: 0.9295492172241211 | Test loss: 0.8905298709869385\n",
      "Epoch: 100 | Train loss: 0.13339972496032715 | Test loss: 0.26044443249702454\n",
      "Epoch: 200 | Train loss: 0.04124192148447037 | Test loss: 0.07959742844104767\n",
      "Epoch: 300 | Train loss: 0.011163411661982536 | Test loss: 0.00286237895488739\n",
      "Epoch: 400 | Train loss: 0.011163411661982536 | Test loss: 0.00286237895488739\n",
      "Epoch: 500 | Train loss: 0.011163411661982536 | Test loss: 0.00286237895488739\n",
      "Epoch: 600 | Train loss: 0.011163411661982536 | Test loss: 0.00286237895488739\n",
      "Epoch: 700 | Train loss: 0.011163411661982536 | Test loss: 0.00286237895488739\n",
      "Epoch: 800 | Train loss: 0.011163411661982536 | Test loss: 0.00286237895488739\n",
      "Epoch: 900 | Train loss: 0.011163411661982536 | Test loss: 0.00286237895488739\n"
     ]
    }
   ],
   "source": [
    "epochs = 1000\n",
    "epochList=[]\n",
    "lossList=[]\n",
    "test_lossList=[]\n",
    "\n",
    "for epoch in range(epochs):\n",
    "    \n",
    "    myModel.train()\n",
    "\n",
    "    # 1. Forward pass\n",
    "    y_prediction = myModel(X_train)\n",
    "\n",
    "    # 2. Calculate loss\n",
    "    loss = loss_fn(y_prediction, y_train)\n",
    "\n",
    "    # 3. Zero grad optimizer\n",
    "    optimizer.zero_grad()\n",
    "\n",
    "    # 4. Loss backward\n",
    "    loss.backward()\n",
    "\n",
    "    # 5. Step the optimizer\n",
    "    optimizer.step()\n",
    "\n",
    "    ### Testing\n",
    "    myModel.eval() # put the model in evaluation mode for testing (inference)\n",
    "    # 1. Forward pass\n",
    "    with torch.inference_mode():\n",
    "        test_pred = myModel(X_test)\n",
    "    \n",
    "        # 2. Calculate the loss\n",
    "        test_loss = loss_fn(test_pred, y_test)\n",
    "\n",
    "    if epoch % 100 == 0:\n",
    "        print(f\"Epoch: {epoch} | Train loss: {loss} | Test loss: {test_loss}\")\n",
    "    "
   ]
  },
  {
   "cell_type": "code",
   "execution_count": 696,
   "metadata": {},
   "outputs": [
    {
     "data": {
      "text/plain": [
       "OrderedDict([('linear_layer.weight', tensor([[0.5097]], device='cuda:0')),\n",
       "             ('linear_layer.bias', tensor([0.5036], device='cuda:0'))])"
      ]
     },
     "execution_count": 696,
     "metadata": {},
     "output_type": "execute_result"
    }
   ],
   "source": [
    "myModel.state_dict()"
   ]
  },
  {
   "cell_type": "code",
   "execution_count": 697,
   "metadata": {},
   "outputs": [
    {
     "data": {
      "image/png": "[encoded data removed]",
      "text/plain": [
       "<Figure size 1000x1000 with 1 Axes>"
      ]
     },
     "metadata": {},
     "output_type": "display_data"
    }
   ],
   "source": [
    "myModel.eval()\n",
    "with torch.inference_mode():\n",
    "    y_prediction_final=myModel(X_test)\n",
    "    y_prediction_final_cpu = y_prediction_final.cpu()  # Move predictions to CPU for plotting\n",
    "\n",
    "plot_predictions(Predictions=y_prediction_final_cpu)"
   ]
  },
  {
   "cell_type": "code",
   "execution_count": 698,
   "metadata": {},
   "outputs": [
    {
     "name": "stdout",
     "output_type": "stream",
     "text": [
      "Saved successfully!\n"
     ]
    }
   ],
   "source": [
    "#Saving the model -> \n",
    "torch.save(myModel.state_dict(),MODEL_PATH/\"myModel.pth\")  \n",
    "print(\"Saved successfully!\")     "
   ]
  },
  {
   "cell_type": "code",
   "execution_count": 700,
   "metadata": {},
   "outputs": [
    {
     "name": "stdout",
     "output_type": "stream",
     "text": [
      "Loaded successfully!\n"
     ]
    },
    {
     "name": "stderr",
     "output_type": "stream",
     "text": [
      "C:\\Users\\gaura\\AppData\\Local\\Temp\\ipykernel_26336\\246000785.py:5: FutureWarning: You are using `torch.load` with `weights_only=False` (the current default value), which uses the default pickle module implicitly. It is possible to construct malicious pickle data which will execute arbitrary code during unpickling (See https://github.com/pytorch/pytorch/blob/main/SECURITY.md#untrusted-models for more details). In a future release, the default value for `weights_only` will be flipped to `True`. This limits the functions that could be executed during unpickling. Arbitrary objects will no longer be allowed to be loaded via this mode unless they are explicitly allowlisted by the user via `torch.serialization.add_safe_globals`. We recommend you start setting `weights_only=True` for any use case where you don't have full control of the loaded file. Please open an issue on GitHub for any issues related to this experimental feature.\n",
      "  loaded_myModel.load_state_dict(torch.load(\"Models/myModel.pth\"))\n"
     ]
    }
   ],
   "source": [
    "#Loading\n",
    "\n",
    "loaded_myModel = LRModel()\n",
    "\n",
    "loaded_myModel.load_state_dict(torch.load(\"Models/myModel.pth\"))\n",
    "print(\"Loaded successfully!\")"
   ]
  },
  {
   "cell_type": "markdown",
   "metadata": {},
   "source": [
    "# End of PyTorch WorkFlow\n",
    "\n",
    "Some other things tried/to try -> \n",
    "- Playing around with the Parameters and Hyperparameters -> \n",
    "    1. Loss functions\n",
    "    2. Optimisers\n",
    "    3. Learning Rate\n",
    "    4. Input Size\n",
    "\n",
    "- Things untouched ->  \n",
    "    1. Activation functions\n",
    "    2. Creating Chunks of Data\n",
    "    3. Other Neural Network related stuff, Covered in the next part :) "
   ]
  }
 ],
 "metadata": {
  "kernelspec": {
   "display_name": "Python 3",
   "language": "python",
   "name": "python3"
  },
  "language_info": {
   "codemirror_mode": {
    "name": "ipython",
    "version": 3
   },
   "file_extension": ".py",
   "mimetype": "text/x-python",
   "name": "python",
   "nbconvert_exporter": "python",
   "pygments_lexer": "ipython3",
   "version": "3.12.5"
  }
 },
 "nbformat": 4,
 "nbformat_minor": 2
}
