{
 "cells": [
  {
   "cell_type": "markdown",
   "metadata": {},
   "source": [
    "Fine Tuning LLMs -> "
   ]
  },
  {
   "cell_type": "markdown",
   "metadata": {},
   "source": [
    "### **Installing All Required Packages ->**"
   ]
  },
  {
   "cell_type": "code",
   "execution_count": 1,
   "metadata": {},
   "outputs": [
    {
     "name": "stdout",
     "output_type": "stream",
     "text": [
      "Requirement already satisfied: accelerate in c:\\users\\gaura\\appdata\\local\\programs\\python\\python312\\lib\\site-packages (1.0.0)\n",
      "Requirement already satisfied: peft in c:\\users\\gaura\\appdata\\local\\programs\\python\\python312\\lib\\site-packages (0.13.1)\n",
      "Requirement already satisfied: bitsandbytes in c:\\users\\gaura\\appdata\\local\\programs\\python\\python312\\lib\\site-packages (0.44.1)\n",
      "Requirement already satisfied: transformers in c:\\users\\gaura\\appdata\\local\\programs\\python\\python312\\lib\\site-packages (4.45.1)\n",
      "Requirement already satisfied: trl in c:\\users\\gaura\\appdata\\local\\programs\\python\\python312\\lib\\site-packages (0.11.2)\n",
      "Requirement already satisfied: numpy<3.0.0,>=1.17 in c:\\users\\gaura\\appdata\\local\\programs\\python\\python312\\lib\\site-packages (from accelerate) (1.26.4)\n",
      "Requirement already satisfied: packaging>=20.0 in c:\\users\\gaura\\appdata\\roaming\\python\\python312\\site-packages (from accelerate) (24.1)\n",
      "Requirement already satisfied: psutil in c:\\users\\gaura\\appdata\\roaming\\python\\python312\\site-packages (from accelerate) (6.0.0)\n",
      "Requirement already satisfied: pyyaml in c:\\users\\gaura\\appdata\\local\\programs\\python\\python312\\lib\\site-packages (from accelerate) (6.0.2)\n",
      "Requirement already satisfied: torch>=1.10.0 in c:\\users\\gaura\\appdata\\local\\programs\\python\\python312\\lib\\site-packages (from accelerate) (2.4.0+cu124)\n",
      "Requirement already satisfied: huggingface-hub>=0.21.0 in c:\\users\\gaura\\appdata\\local\\programs\\python\\python312\\lib\\site-packages (from accelerate) (0.25.0)\n",
      "Requirement already satisfied: safetensors>=0.4.3 in c:\\users\\gaura\\appdata\\local\\programs\\python\\python312\\lib\\site-packages (from accelerate) (0.4.5)\n",
      "Requirement already satisfied: tqdm in c:\\users\\gaura\\appdata\\local\\programs\\python\\python312\\lib\\site-packages (from peft) (4.66.5)\n",
      "Requirement already satisfied: filelock in c:\\users\\gaura\\appdata\\local\\programs\\python\\python312\\lib\\site-packages (from transformers) (3.13.1)\n",
      "Requirement already satisfied: regex!=2019.12.17 in c:\\users\\gaura\\appdata\\local\\programs\\python\\python312\\lib\\site-packages (from transformers) (2024.9.11)\n",
      "Requirement already satisfied: requests in c:\\users\\gaura\\appdata\\local\\programs\\python\\python312\\lib\\site-packages (from transformers) (2.32.3)\n",
      "Requirement already satisfied: tokenizers<0.21,>=0.20 in c:\\users\\gaura\\appdata\\local\\programs\\python\\python312\\lib\\site-packages (from transformers) (0.20.0)\n",
      "Requirement already satisfied: datasets in c:\\users\\gaura\\appdata\\local\\programs\\python\\python312\\lib\\site-packages (from trl) (3.0.0)\n",
      "Requirement already satisfied: tyro>=0.5.11 in c:\\users\\gaura\\appdata\\local\\programs\\python\\python312\\lib\\site-packages (from trl) (0.8.11)\n",
      "Requirement already satisfied: fsspec>=2023.5.0 in c:\\users\\gaura\\appdata\\local\\programs\\python\\python312\\lib\\site-packages (from huggingface-hub>=0.21.0->accelerate) (2024.2.0)\n",
      "Requirement already satisfied: typing-extensions>=3.7.4.3 in c:\\users\\gaura\\appdata\\local\\programs\\python\\python312\\lib\\site-packages (from huggingface-hub>=0.21.0->accelerate) (4.12.2)\n",
      "Requirement already satisfied: sympy in c:\\users\\gaura\\appdata\\local\\programs\\python\\python312\\lib\\site-packages (from torch>=1.10.0->accelerate) (1.12)\n",
      "Requirement already satisfied: networkx in c:\\users\\gaura\\appdata\\local\\programs\\python\\python312\\lib\\site-packages (from torch>=1.10.0->accelerate) (3.2.1)\n",
      "Requirement already satisfied: jinja2 in c:\\users\\gaura\\appdata\\local\\programs\\python\\python312\\lib\\site-packages (from torch>=1.10.0->accelerate) (3.1.3)\n",
      "Requirement already satisfied: setuptools in c:\\users\\gaura\\appdata\\local\\programs\\python\\python312\\lib\\site-packages (from torch>=1.10.0->accelerate) (70.0.0)\n",
      "Requirement already satisfied: colorama in c:\\users\\gaura\\appdata\\roaming\\python\\python312\\site-packages (from tqdm->peft) (0.4.6)\n",
      "Requirement already satisfied: docstring-parser>=0.16 in c:\\users\\gaura\\appdata\\local\\programs\\python\\python312\\lib\\site-packages (from tyro>=0.5.11->trl) (0.16)\n",
      "Requirement already satisfied: rich>=11.1.0 in c:\\users\\gaura\\appdata\\local\\programs\\python\\python312\\lib\\site-packages (from tyro>=0.5.11->trl) (13.8.0)\n",
      "Requirement already satisfied: shtab>=1.5.6 in c:\\users\\gaura\\appdata\\local\\programs\\python\\python312\\lib\\site-packages (from tyro>=0.5.11->trl) (1.7.1)\n",
      "Requirement already satisfied: pyarrow>=15.0.0 in c:\\users\\gaura\\appdata\\local\\programs\\python\\python312\\lib\\site-packages (from datasets->trl) (17.0.0)\n",
      "Requirement already satisfied: dill<0.3.9,>=0.3.0 in c:\\users\\gaura\\appdata\\local\\programs\\python\\python312\\lib\\site-packages (from datasets->trl) (0.3.8)\n",
      "Requirement already satisfied: pandas in c:\\users\\gaura\\appdata\\local\\programs\\python\\python312\\lib\\site-packages (from datasets->trl) (2.2.2)\n",
      "Requirement already satisfied: xxhash in c:\\users\\gaura\\appdata\\local\\programs\\python\\python312\\lib\\site-packages (from datasets->trl) (3.5.0)\n",
      "Requirement already satisfied: multiprocess in c:\\users\\gaura\\appdata\\local\\programs\\python\\python312\\lib\\site-packages (from datasets->trl) (0.70.16)\n",
      "Requirement already satisfied: aiohttp in c:\\users\\gaura\\appdata\\local\\programs\\python\\python312\\lib\\site-packages (from datasets->trl) (3.10.5)\n",
      "Requirement already satisfied: charset-normalizer<4,>=2 in c:\\users\\gaura\\appdata\\local\\programs\\python\\python312\\lib\\site-packages (from requests->transformers) (3.3.2)\n",
      "Requirement already satisfied: idna<4,>=2.5 in c:\\users\\gaura\\appdata\\local\\programs\\python\\python312\\lib\\site-packages (from requests->transformers) (3.8)\n",
      "Requirement already satisfied: urllib3<3,>=1.21.1 in c:\\users\\gaura\\appdata\\local\\programs\\python\\python312\\lib\\site-packages (from requests->transformers) (2.2.2)\n",
      "Requirement already satisfied: certifi>=2017.4.17 in c:\\users\\gaura\\appdata\\local\\programs\\python\\python312\\lib\\site-packages (from requests->transformers) (2024.7.4)\n",
      "Requirement already satisfied: aiohappyeyeballs>=2.3.0 in c:\\users\\gaura\\appdata\\local\\programs\\python\\python312\\lib\\site-packages (from aiohttp->datasets->trl) (2.4.0)\n",
      "Requirement already satisfied: aiosignal>=1.1.2 in c:\\users\\gaura\\appdata\\local\\programs\\python\\python312\\lib\\site-packages (from aiohttp->datasets->trl) (1.3.1)\n",
      "Requirement already satisfied: attrs>=17.3.0 in c:\\users\\gaura\\appdata\\local\\programs\\python\\python312\\lib\\site-packages (from aiohttp->datasets->trl) (24.2.0)\n",
      "Requirement already satisfied: frozenlist>=1.1.1 in c:\\users\\gaura\\appdata\\local\\programs\\python\\python312\\lib\\site-packages (from aiohttp->datasets->trl) (1.4.1)\n",
      "Requirement already satisfied: multidict<7.0,>=4.5 in c:\\users\\gaura\\appdata\\local\\programs\\python\\python312\\lib\\site-packages (from aiohttp->datasets->trl) (6.1.0)\n",
      "Requirement already satisfied: yarl<2.0,>=1.0 in c:\\users\\gaura\\appdata\\local\\programs\\python\\python312\\lib\\site-packages (from aiohttp->datasets->trl) (1.11.1)\n",
      "Requirement already satisfied: markdown-it-py>=2.2.0 in c:\\users\\gaura\\appdata\\local\\programs\\python\\python312\\lib\\site-packages (from rich>=11.1.0->tyro>=0.5.11->trl) (3.0.0)\n",
      "Requirement already satisfied: pygments<3.0.0,>=2.13.0 in c:\\users\\gaura\\appdata\\roaming\\python\\python312\\site-packages (from rich>=11.1.0->tyro>=0.5.11->trl) (2.18.0)\n",
      "Requirement already satisfied: MarkupSafe>=2.0 in c:\\users\\gaura\\appdata\\local\\programs\\python\\python312\\lib\\site-packages (from jinja2->torch>=1.10.0->accelerate) (2.1.5)\n",
      "Requirement already satisfied: python-dateutil>=2.8.2 in c:\\users\\gaura\\appdata\\roaming\\python\\python312\\site-packages (from pandas->datasets->trl) (2.9.0.post0)\n",
      "Requirement already satisfied: pytz>=2020.1 in c:\\users\\gaura\\appdata\\local\\programs\\python\\python312\\lib\\site-packages (from pandas->datasets->trl) (2024.1)\n",
      "Requirement already satisfied: tzdata>=2022.7 in c:\\users\\gaura\\appdata\\local\\programs\\python\\python312\\lib\\site-packages (from pandas->datasets->trl) (2024.1)\n",
      "Requirement already satisfied: mpmath>=0.19 in c:\\users\\gaura\\appdata\\local\\programs\\python\\python312\\lib\\site-packages (from sympy->torch>=1.10.0->accelerate) (1.3.0)\n",
      "Requirement already satisfied: mdurl~=0.1 in c:\\users\\gaura\\appdata\\local\\programs\\python\\python312\\lib\\site-packages (from markdown-it-py>=2.2.0->rich>=11.1.0->tyro>=0.5.11->trl) (0.1.2)\n",
      "Requirement already satisfied: six>=1.5 in c:\\users\\gaura\\appdata\\roaming\\python\\python312\\site-packages (from python-dateutil>=2.8.2->pandas->datasets->trl) (1.16.0)\n",
      "Note: you may need to restart the kernel to use updated packages.\n"
     ]
    }
   ],
   "source": [
    "%pip install accelerate peft bitsandbytes transformers trl "
   ]
  },
  {
   "cell_type": "markdown",
   "metadata": {},
   "source": [
    "### **Importing Required Libraries ->**"
   ]
  },
  {
   "cell_type": "code",
   "execution_count": 3,
   "metadata": {},
   "outputs": [],
   "source": [
    "import os\n",
    "import torch\n",
    "from datasets import load_dataset\n",
    "\n",
    "from transformers import (\n",
    "    AutoModelForCausalLM,\n",
    "    AutoTokenizer,\n",
    "    BitsAndBytesConfig,\n",
    "    HfArgumentParser,\n",
    "    TrainingArguments,\n",
    "    pipeline,\n",
    "    logging\n",
    ")\n",
    "\n",
    "from peft import LoraConfig\n",
    "\n",
    "from trl import SFTTrainer"
   ]
  },
  {
   "cell_type": "markdown",
   "metadata": {},
   "source": [
    "### **Creating the Datasets ->**"
   ]
  },
  {
   "cell_type": "markdown",
   "metadata": {},
   "source": [
    "[Original Dataset](https://huggingface.co/datasets/timdettmers/openassistant-guanaco)\n",
    "\n",
    "Original Dataset has a pattern of \n",
    "\n",
    "``` ### Human: Question Prompt with Details### Assistant: Answer to the Prompt. ```"
   ]
  },
  {
   "cell_type": "markdown",
   "metadata": {},
   "source": [
    "Prompt Template used for Chat Models is ->\n",
    "\n",
    "```python\n",
    " <s>[INST] <<SYS>> System Prompt <</SYS>> User Prompt [/INST] Model Answer </s>\n",
    " ```\n"
   ]
  },
  {
   "cell_type": "markdown",
   "metadata": {},
   "source": [
    "Original Dataset can be reformated to the required format as below\n",
    "\n",
    "```python\n",
    "dataset = load_dataset(\"timdettmers/openassistant-guanaco\")\n",
    "\n",
    "def transform_conversation(example):\n",
    "    conversation_text = example['text']\n",
    "    segments = conversation_text.split('###')\n",
    "\n",
    "    reformatted_segments = []\n",
    "\n",
    "    # Iterate over pairs of segments\n",
    "    for i in range(1, len(segments) - 1, 2):\n",
    "        human_text = segments[i].strip().replace('Human:', '').strip()\n",
    "\n",
    "        # Check if there is a corresponding assistant segment before processing\n",
    "        if i + 1 < len(segments):\n",
    "            assistant_text = segments[i+1].strip().replace('Assistant:', '').strip()\n",
    "\n",
    "            # Apply the new template\n",
    "            reformatted_segments.append(f'<s>[INST] {human_text} [/INST] {assistant_text} </s>')\n",
    "        else:\n",
    "            # Handle the case where there is no corresponding assistant segment\n",
    "            reformatted_segments.append(f'<s>[INST] {human_text} [/INST] </s>')\n",
    "\n",
    "    return {'text': ''.join(reformatted_segments)}\n",
    "\n",
    "\n",
    "# Apply the transformation\n",
    "transformed_dataset = dataset.map(transform_conversation)\n",
    "```"
   ]
  },
  {
   "cell_type": "markdown",
   "metadata": {},
   "source": [
    "This can be manually done in this notebook after loading the original dataset, But that would take a long time, Thankfully there is a dataset available in the Hugging Face Hub that already has this format."
   ]
  },
  {
   "cell_type": "markdown",
   "metadata": {},
   "source": [
    "[New Dataset](https://huggingface.co/datasets/mlabonne/guanaco-llama2-1k)"
   ]
  },
  {
   "cell_type": "markdown",
   "metadata": {},
   "source": [
    "New Dataset has the required format of ```<s>[INST] <<SYS>> System Prompt <</SYS>> User Prompt [/INST] Model Answer </s>```"
   ]
  },
  {
   "cell_type": "markdown",
   "metadata": {},
   "source": [
    "Also the complete model training i.e. Finetuning all the weights of the model, Requires a lot of GPU Resources as Llama 2 has 7 billion parameters. \n",
    "\n",
    "So we would be using PEFT using LoRA/QLoRA to finetune the model."
   ]
  },
  {
   "cell_type": "markdown",
   "metadata": {},
   "source": [
    "### **Parameter Efficient Fine Tuning - PEFT ->**"
   ]
  },
  {
   "cell_type": "markdown",
   "metadata": {},
   "source": [
    "PEFT is a technique to finetune a model, In this technique, Only a fraction of the parameters/weights are changed according to the task/use-case and the rest of the parameters/weights are frozen.\n",
    "\n",
    "**LoRA -> Low Rank Adaptation & QLoRA -> Quantized Low Rank Adaptation** are two techniques to perform Parameter Efficient Fine Tuning."
   ]
  },
  {
   "cell_type": "code",
   "execution_count": null,
   "metadata": {},
   "outputs": [],
   "source": [
    "#Loading the model -> \n",
    "\n",
    "model_name = \"meta-llama/Llama-2-7b-chat-hf\"  #Llama 2 from HuggingFace\n",
    "\n",
    "dataset_name = \"mlabonne/guanaco-llama2-1k\"   #The new reformatted dataset\n",
    "\n",
    "finetuned_model_name = \"Llama-2-7b-chat-finetuned\"\n",
    "\n",
    "\n",
    "\n",
    "#QLoRA Parameters -> \n",
    "\n",
    "\n",
    "lora_r = 64                   #Rank\n",
    "\n",
    "lora_alpha = 16               #Scaling parameter -> [0-1599] Quantize -> [0,99] -> alpha = 16\n",
    "\n",
    "lora_dropout = 0.01\n",
    "\n",
    "\n",
    "\n",
    "#BitsAndBytes Parameters -> \n",
    "\n",
    "\n",
    "use_4bit = True               #Activates the 4 bit precision model loading\n",
    "\n",
    "bnb_4bit_compute_dtype = \"float16\"\n",
    "\n",
    "bnb_4bit_quant_type = \"nf4\"   #fp4 / nf4 -> Converts all weights to 4 bits having std dev = 1 , mean = 0\n",
    "\n",
    "use_nested_quant = False    #Double Quant -> False\n",
    "\n",
    "\n",
    "\n",
    "#Output Directory -> \n"
   ]
  }
 ],
 "metadata": {
  "kernelspec": {
   "display_name": "Python 3",
   "language": "python",
   "name": "python3"
  },
  "language_info": {
   "codemirror_mode": {
    "name": "ipython",
    "version": 3
   },
   "file_extension": ".py",
   "mimetype": "text/x-python",
   "name": "python",
   "nbconvert_exporter": "python",
   "pygments_lexer": "ipython3",
   "version": "3.12.5"
  }
 },
 "nbformat": 4,
 "nbformat_minor": 2
}
